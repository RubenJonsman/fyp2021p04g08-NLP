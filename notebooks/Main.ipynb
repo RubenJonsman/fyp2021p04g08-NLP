{
 "cells": [
  {
   "cell_type": "markdown",
   "metadata": {},
   "source": [
    "# Project 4: Natural Language Processing - First Year Project 2021 \n",
    "## Working with natural language data  \n",
    "---\n",
    "### Group 8: Ida Maria Zachariassen, Magnus Sverdrup, Rasmus Bondo Hansen, Ruben Oliver Jonsman and Sabrina Fonseca Pereira"
   ]
  },
  {
   "cell_type": "markdown",
   "metadata": {},
   "source": [
    "This notebook contains all the code developed in the Project 4 - Natural Language Processing\n",
    "\n",
    "Contact/Group: \n",
    "- Ida Maria Zachariassen(idza@itu.dk)\n",
    "- Magnus Sverdrup(magsv@itu.dk)\n",
    "- Rasmus Bondo Hansen(rabh@itu.dk)\n",
    "- Ruben Jonsman(rubj@itu.dk)\n",
    "- Sabrina Fonseca Pereira(sabf@itu.dk)"
   ]
  },
  {
   "cell_type": "markdown",
   "metadata": {},
   "source": [
    "# Introduction"
   ]
  },
  {
   "cell_type": "markdown",
   "metadata": {},
   "source": [
    "The project presented in this notebook was developed with the purpose of predicting the intention or state of mind (pragmatics) of social media data from Twitter.\n",
    "\n",
    "The data was provided from the [TweetEval](https://github.com/cardiffnlp/tweeteval/) corpus, a collection of 7 datasets for different classification tasks. Each task had test, train and validation datafiles consisting of one tweet per line with corresponding labelling in a separate file. Given a tweet we were to predict a label, based on a model trained on tokens of our data.\n",
    "\n",
    "More precisely this project aims to predict the label of the binary classification task **Irony** and the multi class classification task **Stance**, specifically **Atheism**.\n",
    "The **Irony** tweets to either be labelled as <code>0 - non_irony</code> or <code>1 - irony</code> and the **Atheism** tweets to either be labelled as <code>0 - none</code>, <code>1 - against</code> or <code>2 - favor</code>.\n",
    "For further testing the possibility of predicting stance, all topics in the *Stance* task were gathered to see if it was possible to detect both topic and stance, getting a total of 15 labels.\n",
    "\n",
    "---"
   ]
  },
  {
   "cell_type": "markdown",
   "metadata": {},
   "source": [
    "# Required Libraries"
   ]
  },
  {
   "cell_type": "code",
   "execution_count": 1,
   "metadata": {},
   "outputs": [],
   "source": [
    "import re\n",
    "import numpy as np\n",
    "import pandas as pd\n",
    "import collections as cl\n",
    "from collections import Counter\n",
    "import difflib as dl\n",
    "import seaborn as sns\n",
    "import pickle\n",
    "import matplotlib.pyplot as plt\n",
    "import statsmodels.api as sm\n",
    "from scipy.stats.stats import pearsonr\n",
    "#import missingno as msno\n",
    "\n",
    "import nltk\n",
    "import nltk.tokenize\n",
    "from nltk.metrics.agreement import AnnotationTask\n",
    "from nltk.tokenize import TweetTokenizer\n",
    "from nltk.util import everygrams\n",
    "from nltk.lm.preprocessing import flatten, padded_everygram_pipeline, pad_both_ends\n",
    "from nltk.lm import MLE\n",
    "from nltk.util import ngrams\n",
    "from nltk.probability import FreqDist\n",
    "\n",
    "from sklearn.decomposition import PCA\n",
    "from sklearn.neighbors import LocalOutlierFactor, KNeighborsClassifier\n",
    "from sklearn.model_selection import train_test_split, cross_val_score, cross_val_predict, GridSearchCV\n",
    "from sklearn.tree import DecisionTreeClassifier\n",
    "from sklearn.svm import SVR, SVC\n",
    "from sklearn.neural_network import MLPClassifier\n",
    "from sklearn import linear_model\n",
    "from sklearn.ensemble import RandomForestClassifier, GradientBoostingClassifier\n",
    "from sklearn.naive_bayes import GaussianNB, MultinomialNB\n",
    "from sklearn.discriminant_analysis import LinearDiscriminantAnalysis\n",
    "from sklearn.metrics import confusion_matrix, make_scorer, accuracy_score, classification_report, roc_auc_score, roc_curve, recall_score, precision_score, f1_score\n",
    "from sklearn.linear_model import SGDClassifier\n",
    "from sklearn.feature_extraction.text import CountVectorizer, TfidfTransformer\n",
    "from sklearn.pipeline import Pipeline\n",
    "\n",
    "#import warnings\n",
    "#warnings.filterwarnings('ignore')"
   ]
  },
  {
   "cell_type": "code",
   "execution_count": 2,
   "metadata": {},
   "outputs": [
    {
     "name": "stderr",
     "output_type": "stream",
     "text": [
      "C:\\Users\\ruben\\anaconda3\\lib\\site-packages\\gensim\\similarities\\__init__.py:15: UserWarning: The gensim.similarities.levenshtein submodule is disabled, because the optional Levenshtein package <https://pypi.org/project/python-Levenshtein/> is unavailable. Install Levenhstein (e.g. `pip install python-Levenshtein`) to suppress this warning.\n",
      "  warnings.warn(msg)\n"
     ]
    }
   ],
   "source": [
    "from gensim.models import Word2Vec\n",
    "from gensim.models.phrases import Phraser, Phrases"
   ]
  },
  {
   "cell_type": "code",
   "execution_count": 3,
   "metadata": {},
   "outputs": [],
   "source": [
    "# setting theme for all plots\n",
    "sns.set_theme(style=\"darkgrid\")"
   ]
  },
  {
   "cell_type": "markdown",
   "metadata": {},
   "source": [
    "# Consistent variables"
   ]
  },
  {
   "cell_type": "markdown",
   "metadata": {},
   "source": [
    "## Paths to the data"
   ]
  },
  {
   "cell_type": "code",
   "execution_count": 4,
   "metadata": {},
   "outputs": [],
   "source": [
    "PATHS = {}\n",
    "\n",
    "#Path to the irony datasets\n",
    "PATHS[\"irony\"] = \"../datasets/irony/{}.txt\"\n",
    "\n",
    "#Path to the stance datasets\n",
    "PATHS[\"stance\"] = \"../datasets/stance/{}.txt\"\n",
    "\n",
    "#Path to the combined stance dataset\n",
    "PATHS[\"combined_stance\"] = \"../processed/stance/{}\"\n",
    "\n",
    "#Path to our manual annotation answers\n",
    "PATHS[\"MAA\"] = \"../processed/{}.csv\""
   ]
  },
  {
   "cell_type": "markdown",
   "metadata": {},
   "source": [
    "# Dataframes"
   ]
  },
  {
   "cell_type": "markdown",
   "metadata": {},
   "source": [
    "## Irony"
   ]
  },
  {
   "cell_type": "code",
   "execution_count": 5,
   "metadata": {},
   "outputs": [],
   "source": [
    "labels_irony = pd.read_csv(PATHS[\"irony\"].format(\"mapping\"), delimiter = \"\\t\", header = None)"
   ]
  },
  {
   "cell_type": "code",
   "execution_count": 6,
   "metadata": {},
   "outputs": [],
   "source": [
    "train_irony = pd.read_csv(PATHS[\"irony\"].format(\"train_text\"), delimiter = \"\\n\", header = None, names = [\"tweets\"])\n",
    "train_irony_labels = pd.read_csv(PATHS[\"irony\"].format(\"train_labels\"), delimiter = \"\\n\", header = None, names=[\"labels\"])\n",
    "test_irony = pd.read_csv(PATHS[\"irony\"].format(\"test_text\"), delimiter = \"\\n\", header = None, names = [\"tweets\"])\n",
    "test_irony_labels = pd.read_csv(PATHS[\"irony\"].format(\"test_labels\"), delimiter = \"\\n\", header = None, names=[\"labels\"])\n",
    "validation_irony = pd.read_csv(PATHS[\"irony\"].format(\"val_text\"), delimiter = \"\\n\", header = None, names = [\"tweets\"])\n",
    "val_irony_labels = pd.read_csv(PATHS[\"irony\"].format(\"val_labels\"), delimiter = \"\\n\", header = None, names=[\"labels\"])"
   ]
  },
  {
   "cell_type": "markdown",
   "metadata": {},
   "source": [
    "Split irony training dataset into two subsets. One for creating our tokenizers and one for evaluating them"
   ]
  },
  {
   "cell_type": "code",
   "execution_count": 7,
   "metadata": {},
   "outputs": [],
   "source": [
    "eval_tokenizer = train_irony[len(train_irony)-101:len(train_irony)-1]\n",
    "train_irony = train_irony[0:len(train_irony)-100]"
   ]
  },
  {
   "cell_type": "markdown",
   "metadata": {},
   "source": [
    "## Stance"
   ]
  },
  {
   "cell_type": "code",
   "execution_count": 8,
   "metadata": {},
   "outputs": [],
   "source": [
    "labels_stance = pd.read_csv(PATHS[\"stance\"].format(\"mapping\"), delimiter = \"\\t\", header = None)"
   ]
  },
  {
   "cell_type": "markdown",
   "metadata": {},
   "source": [
    "##### Abortion"
   ]
  },
  {
   "cell_type": "code",
   "execution_count": 9,
   "metadata": {},
   "outputs": [],
   "source": [
    "train_abortion = pd.read_csv(PATHS[\"stance\"].format(\"/abortion/train_text\"), delimiter = \"\\n\", header = None, names = [\"tweets\"])\n",
    "train_abortion_labels = pd.read_csv(PATHS[\"stance\"].format(\"/abortion/train_labels\"), delimiter = \"\\n\", header = None, names=[\"labels\"])\n",
    "test_abortion = pd.read_csv(PATHS[\"stance\"].format(\"/abortion/test_text\"), delimiter = \"\\n\", header = None, names = [\"tweets\"])\n",
    "test_abortion_labels = pd.read_csv(PATHS[\"stance\"].format(\"/abortion/test_labels\"), delimiter = \"\\n\", header = None,names=[\"labels\"])\n",
    "validation_abortion = pd.read_csv(PATHS[\"stance\"].format(\"/abortion/val_text\"), delimiter = \"\\n\", header = None, names = [\"tweets\"])\n",
    "validation_abortion_labels = pd.read_csv(PATHS[\"stance\"].format(\"/abortion/val_labels\"), delimiter = \"\\n\", header = None, names=[\"labels\"])"
   ]
  },
  {
   "cell_type": "markdown",
   "metadata": {},
   "source": [
    "##### Atheism"
   ]
  },
  {
   "cell_type": "code",
   "execution_count": 10,
   "metadata": {},
   "outputs": [],
   "source": [
    "train_atheism = pd.read_csv(PATHS[\"stance\"].format(\"/atheism/train_text\"), delimiter = \"\\n\", header = None, names = [\"tweets\"])\n",
    "train_atheism_labels = pd.read_csv(PATHS[\"stance\"].format(\"/atheism/train_labels\"), delimiter = \"\\n\", header = None, names=[\"labels\"])\n",
    "test_atheism = pd.read_csv(PATHS[\"stance\"].format(\"/atheism/test_text\"), delimiter = \"\\n\", header = None, names = [\"tweets\"])\n",
    "test_atheism_labels = pd.read_csv(PATHS[\"stance\"].format(\"/atheism/test_labels\"), delimiter = \"\\n\", header = None, names=[\"labels\"])\n",
    "validation_atheism = pd.read_csv(PATHS[\"stance\"].format(\"/atheism/val_text\"), delimiter = \"\\n\", header = None, names = [\"tweets\"])\n",
    "validation_atheism_labels = pd.read_csv(PATHS[\"stance\"].format(\"/atheism/val_labels\"), delimiter = \"\\n\", header = None, names=[\"labels\"])"
   ]
  },
  {
   "cell_type": "markdown",
   "metadata": {},
   "source": [
    "##### Climate"
   ]
  },
  {
   "cell_type": "code",
   "execution_count": 11,
   "metadata": {},
   "outputs": [],
   "source": [
    "train_climate = pd.read_csv(PATHS[\"stance\"].format(\"/climate/train_text\"), delimiter = \"\\n\", header = None, names = [\"tweets\"])\n",
    "train_climate_labels = pd.read_csv(PATHS[\"stance\"].format(\"/climate/train_labels\"), delimiter = \"\\n\", header = None, names=[\"labels\"])\n",
    "test_climate = pd.read_csv(PATHS[\"stance\"].format(\"/climate/test_text\"), delimiter = \"\\n\", header = None, names = [\"tweets\"])\n",
    "test_climate_labels = pd.read_csv(PATHS[\"stance\"].format(\"/climate/test_labels\"), delimiter = \"\\n\", header = None, names=[\"labels\"])\n",
    "validation_climate = pd.read_csv(PATHS[\"stance\"].format(\"/climate/val_text\"), delimiter = \"\\n\", header = None, names = [\"tweets\"])\n",
    "validation_climate_labels = pd.read_csv(PATHS[\"stance\"].format(\"/climate/val_labels\"), delimiter = \"\\n\", header = None, names=[\"labels\"])"
   ]
  },
  {
   "cell_type": "markdown",
   "metadata": {},
   "source": [
    "##### Feminist"
   ]
  },
  {
   "cell_type": "code",
   "execution_count": 12,
   "metadata": {},
   "outputs": [],
   "source": [
    "train_feminist = pd.read_csv(PATHS[\"stance\"].format(\"/feminist/train_text\"), delimiter = \"\\n\", header = None, names = [\"tweets\"])\n",
    "train_feminist_labels = pd.read_csv(PATHS[\"stance\"].format(\"/feminist/train_labels\"), delimiter = \"\\n\", header = None, names=[\"labels\"])\n",
    "test_feminist = pd.read_csv(PATHS[\"stance\"].format(\"/feminist/test_text\"), delimiter = \"\\n\", header = None, names = [\"tweets\"])\n",
    "test_feminist_labels = pd.read_csv(PATHS[\"stance\"].format(\"/feminist/test_labels\"), delimiter = \"\\n\", header = None, names=[\"labels\"])\n",
    "validation_feminist = pd.read_csv(PATHS[\"stance\"].format(\"/feminist/val_text\"), delimiter = \"\\n\", header = None, names = [\"tweets\"])\n",
    "validation_feminist_labels = pd.read_csv(PATHS[\"stance\"].format(\"/feminist/val_labels\"), delimiter = \"\\n\", header = None, names=[\"labels\"])"
   ]
  },
  {
   "cell_type": "markdown",
   "metadata": {},
   "source": [
    "##### Hillary"
   ]
  },
  {
   "cell_type": "code",
   "execution_count": 13,
   "metadata": {},
   "outputs": [],
   "source": [
    "train_hillary = pd.read_csv(PATHS[\"stance\"].format(\"/hillary/train_text\"), delimiter = \"\\n\", header = None, names = [\"tweets\"])\n",
    "train_hillary_labels = pd.read_csv(PATHS[\"stance\"].format(\"/hillary/train_labels\"), delimiter = \"\\n\", header = None, names=[\"labels\"])\n",
    "test_hillary = pd.read_csv(PATHS[\"stance\"].format(\"/hillary/test_text\"), delimiter = \"\\n\", header = None, names = [\"tweets\"])\n",
    "test_hillary_labels = pd.read_csv(PATHS[\"stance\"].format(\"/hillary/test_labels\"), delimiter = \"\\n\", header = None, names=[\"labels\"])\n",
    "validation_hillary = pd.read_csv(PATHS[\"stance\"].format(\"/hillary/val_text\"), delimiter = \"\\n\", header = None, names = [\"tweets\"])\n",
    "validation_hillary_labels = pd.read_csv(PATHS[\"stance\"].format(\"/hillary/val_labels\"), delimiter = \"\\n\", header = None, names=[\"labels\"])"
   ]
  },
  {
   "cell_type": "markdown",
   "metadata": {},
   "source": [
    "## Manual annotation answers for the irony dataset"
   ]
  },
  {
   "cell_type": "code",
   "execution_count": 14,
   "metadata": {},
   "outputs": [],
   "source": [
    "MAA = pd.read_csv(PATHS[\"MAA\"].format(\"manual_annotations\"))\n",
    "MAA = MAA.drop('Unnamed: 0', 1)"
   ]
  },
  {
   "cell_type": "markdown",
   "metadata": {},
   "source": [
    "# 1. Preprocessing"
   ]
  },
  {
   "cell_type": "markdown",
   "metadata": {},
   "source": [
    "Tokenization is the task of splitting a string of characters into minimal processed units, also called tokens, which will be the input in our machine learning solutions.\n",
    "As a starting point we aimed at segmenting the lines at “words” and turned to discuss the significance of written language on social media platforms like Twitter. \n",
    "\n",
    "We saw that our ideal tokenizer should:\n",
    "* Keep words\n",
    "* Remove emojis\n",
    "* Keep numbers\n",
    "* Make everything lower case\n",
    "\n",
    "Further interesting tokenizers were:\n",
    "* Only #\n",
    "* Only Non-words\n",
    "* Only Uppercase letters\n",
    "* Only emojis\n",
    "\n",
    "We did this using the RegEx module. \n",
    "\n",
    "We lastly compared the output of our final tokenizer with a baseline [tweet tokenizer](https://www.nltk.org/api/nltk.tokenize.html) from the NLTK library. To investigate this we used the difflib library. Here each token is compared and the difference between them displayed."
   ]
  },
  {
   "cell_type": "markdown",
   "metadata": {},
   "source": [
    "## Tokenizers"
   ]
  },
  {
   "cell_type": "code",
   "execution_count": 15,
   "metadata": {},
   "outputs": [],
   "source": [
    "def tokenize_ideal(line):\n",
    "    \"\"\"\n",
    "    Takes a string as an input, this is a line or a tweet from our database. Splits the relevant words or characters into\n",
    "    separate tokens.\n",
    "    Returns either the tokens as a whitespace delimited string or as a list of the tokens. Also returns the non tokens as a list\n",
    "    \n",
    "    Keeps words, ?, !, ..., +, - and turns & into \"and\"\n",
    "    removes dots, commas, # and %\n",
    "    \"\"\"\n",
    "    tokens = []\n",
    "    unmatchables = []\n",
    "    \n",
    "    for word in line.split():\n",
    "        if re.findall(r\"\\w+-\\w+|\\w+'\\w+|\\w+|[&?!…]+\", word) != []:\n",
    "            x = re.findall(r\"\\w+-\\w+|\\w+'\\w+|\\w+|[&?!…]+\", word)\n",
    "            for element in x:\n",
    "                if element == \"âž\" or element == \"ðŸ\":\n",
    "                    continue\n",
    "                elif element == \"&\":\n",
    "                    tokens.append(\"and\")\n",
    "                else:\n",
    "                    tokens.append(element.lower())\n",
    "\n",
    "        if re.findall(r\"\\w+-\\w+|\\w+'\\w+|\\w+|[&?!…]\", word) != [word] and re.findall(r\"[^\\w|&!?…]+\", word) != []:\n",
    "            unmatchables.append(re.findall(r\"[^\\w|!?…&]+\", word)[0])\n",
    "\n",
    "    s = \" \".join(tokens)\n",
    "    return (s, unmatchables, tokens)"
   ]
  },
  {
   "cell_type": "code",
   "execution_count": 16,
   "metadata": {},
   "outputs": [],
   "source": [
    "def tokenize_ekstra(line):\n",
    "    \"\"\"\n",
    "    Works same way as tokenize_ideal\n",
    "    \n",
    "    Keeps words, dots, ?, %, !, #, ..., +, - and turns & into \"and\"\n",
    "    Removes emojies and commas\n",
    "    \"\"\"\n",
    "    tokens = []\n",
    "    unmatchables = []\n",
    "    \n",
    "    for word in line.split():\n",
    "        if re.findall(r\"\\w+-\\w+|\\w+'\\w+|\\w+|[.&?%!#…]+\", word) != []:\n",
    "            x = re.findall(r\"\\w+-\\w+|\\w+'\\w+|\\w+|[.&?%!#…]+\", word)\n",
    "            for element in x:\n",
    "                if element == \"âž\" or element == \"ðŸ\":\n",
    "                    continue\n",
    "                elif element == \"&\":\n",
    "                    tokens.append(\"and\")\n",
    "                else:\n",
    "                    tokens.append(element.lower())\n",
    "\n",
    "        if re.findall(r\"\\w+-\\w+|\\w+'\\w+|\\w+|[.&?%!#…]\", word) != [word] and re.findall(r\"[^\\w|.&!?%#…]+\", word) != []:\n",
    "            unmatchables.append(re.findall(r\"[^\\w|.!#?%…&]+\", word)[0])\n",
    "\n",
    "    s = \" \".join(tokens)\n",
    "    return (s, unmatchables, tokens)"
   ]
  },
  {
   "cell_type": "code",
   "execution_count": 17,
   "metadata": {},
   "outputs": [],
   "source": [
    "def tokenizer_caps(data):\n",
    "    \"\"\"\n",
    "    Finds words that only consist of uppercase letters\n",
    "    \"\"\"\n",
    "\n",
    "    tokens = []\n",
    "    unmatchable = []\n",
    "\n",
    "    line = data[:500]\n",
    "    #print(line)\n",
    "    skip_pat = re.compile(r'\\s+')\n",
    "    token_pat = re.compile(r'\\b[A-Z]+\\b')\n",
    "\n",
    "    while line:\n",
    "\n",
    "        skip_match = re.search(skip_pat, line)\n",
    "        if skip_match and skip_match.start() == 0:\n",
    "            line = line[skip_match.end():]\n",
    "        else:\n",
    "            token_match = re.search(token_pat, line)\n",
    "            if token_match and token_match.start() == 0:\n",
    "                tokens.append(line[:token_match.end()])\n",
    "                line = line[token_match.end():]\n",
    "            else:\n",
    "                unmatch_end = len(line)\n",
    "                if skip_match:\n",
    "                    unmatch_end = skip_match.start()\n",
    "                if token_match:\n",
    "                    unmatch_end = min(unmatch_end, token_match.start())\n",
    "\n",
    "                unmatchable.append(line[:unmatch_end])\n",
    "                line = line[unmatch_end:]\n",
    "\n",
    "    return tokens"
   ]
  },
  {
   "cell_type": "code",
   "execution_count": 18,
   "metadata": {},
   "outputs": [],
   "source": [
    "def nonword_only_tokenizer(listofstrings):\n",
    "    \"\"\"\n",
    "    Keeps tokens that are not normal words\n",
    "    \"\"\"\n",
    "    tokens = []\n",
    "    unmatchables = []\n",
    "\n",
    "    for string in listofstrings:\n",
    "        tokens.append(re.findall(r'[^a-zA-Z\\s]', string))\n",
    "        unmatchables.append(re.findall(r'[\\w]+', string))\n",
    "\n",
    "    return (tokens, unmatchables)"
   ]
  },
  {
   "cell_type": "code",
   "execution_count": 19,
   "metadata": {},
   "outputs": [],
   "source": [
    "def hashtag_only_tokenizer(listofstrings):\n",
    "    \"\"\"\n",
    "    Keeps only the hastagged words\n",
    "    \"\"\"\n",
    "    tokens = []\n",
    "    unmatchables = []\n",
    "\n",
    "    for string in listofstrings:\n",
    "        hashtags = re.findall(r'#(\\w+)', string)\n",
    "        tokens.append(hashtags)\n",
    "\n",
    "        not_hashtags = []\n",
    "        all_words = re.findall(r'\\w+', string)\n",
    "        for word in all_words:\n",
    "            if word not in hashtags:\n",
    "                not_hashtags.append(word)\n",
    "        unmatchables.append(not_hashtags)\n",
    "\n",
    "    return (tokens, unmatchables)"
   ]
  },
  {
   "cell_type": "code",
   "execution_count": 20,
   "metadata": {},
   "outputs": [],
   "source": [
    "EMOJI = \"[\\U00010000-\\U0010ffff]\"\n",
    "NOT_EMOJI = r'[^\\U00010000-\\U0010ffff]+'\n",
    "EMOJICON = r\"(\\:\\w+\\:|\\<[\\/\\\\]?3|[\\(\\)\\\\\\D|\\*\\$][\\-\\^]?[\\:\\;\\=]|[\\:\\;\\=B8][\\-\\^]?[3DOPp\\@\\$\\*\\\\\\)\\(\\/\\|])(?=\\s|[\\!\\.\\?]|$)\"\n",
    "# EMOJICON-regex found on: https://stackoverflow.com/questions/28077049/regex-matching-emoticons\n",
    "\n",
    "def emoji_cons(tweet):\n",
    "    \"\"\"\n",
    "    Keeps tokens that are emojis or emojicons\n",
    "    \"\"\"\n",
    "    tokens = []\n",
    "    unmatchables = []\n",
    "\n",
    "    for string in tweet:\n",
    "        if re.findall(EMOJI, string) != []:\n",
    "            x = re.findall(EMOJI, string)\n",
    "            for element in x:\n",
    "                tokens.append(re.findall(EMOJI, string))\n",
    "        elif re.findall(EMOJICON, string) != []:\n",
    "\n",
    "            tokens.append(re.findall(EMOJICON, string))\n",
    "    if re.findall(EMOJICON, tweet) != []:\n",
    "        tokens.append(re.findall(EMOJICON, tweet))\n",
    "\n",
    "    if re.findall(NOT_EMOJI, tweet) != [] and re.findall(NOT_EMOJI, tweet) not in tokens:\n",
    "        unmatchables.append(re.findall(NOT_EMOJI, tweet))\n",
    "\n",
    "    return (tokens, unmatchables)"
   ]
  },
  {
   "cell_type": "markdown",
   "metadata": {},
   "source": [
    "We have created a few different tokenizers. However, to illsutrate our work we will through most of the notebook stick with our \"tokenize_ideal\" tokenizer. In the end when we have created our ML models to predict stance and irony, we will compare the different tokenizers and evaluate which one is the best. <br>\n",
    "<br>\n",
    "Here is a small sample when using our \"tokenize_ideal\" function:"
   ]
  },
  {
   "cell_type": "code",
   "execution_count": 21,
   "metadata": {},
   "outputs": [
    {
     "name": "stdout",
     "output_type": "stream",
     "text": [
      "[['user', 'why', \"don't\", 'you', 'tarmac', 'all', 'the', 'speed', 'humps', 'in', 'the', 'cut', 'in', '1', 'go', 'instead', 'of', 'bit', 'by', 'bit', 'as', 'the', 'brickwork', 'disintegrates', '!', 'science'], ['ready', 'for', 'the', 'tax', 'final'], ['gotta', 'study', 'and', \"i'm\", 'like', 'who', 'cares', '?!', 'perksofbeingasenior'], ['user', \"i'm\", 'relaxed', 'and', 'waiting', 'for', 'the', 'facts', 'to', 'come', 'out', 'but', \"i've\", 'listened', 'to', 'blaine', 'hammer', 'on', 'players', 'for', 'doing', 'similar', 'before'], ['i', 'was', 'going', '2', 'post', 'my', 'opinions', 'on', 'obama', 'cuba', 'but', 'i', 'will', 'save', 'it', 'till', 'after', 'his', 'speech', 'peacemaker']]\n"
     ]
    }
   ],
   "source": [
    "tokens = []\n",
    "tokens_list = []\n",
    "tokens_string = []\n",
    "unmatches = []\n",
    "for tweet in list(eval_tokenizer[\"tweets\"]):\n",
    "    tokenized = tokenize_ideal(tweet)\n",
    "    tokens_list.append(tokenized[2])\n",
    "    tokens_string.append(tokenized[0])\n",
    "    for token in tokenized[2]:\n",
    "        tokens.append(token)\n",
    "    for un in tokenized[1]:\n",
    "        unmatches.append(un)\n",
    "\n",
    "print(tokens_list[0:5])   "
   ]
  },
  {
   "cell_type": "markdown",
   "metadata": {},
   "source": [
    "## Comparison with baseline tokenizer"
   ]
  },
  {
   "cell_type": "markdown",
   "metadata": {},
   "source": [
    "To understand how general tokenizers work, and to figure out the quality of our own tokenizers, we wanted to compare our tokenizers with a baseline tokenisation tool. Here we use the social media tokeniser called TweetTokenizer from the nltk library: https://www.nltk.org/api/nltk.tokenize.html. Since we removed a small part from the training dataset in the begnining, we now have some tweets to evaluate our tokenizers and compare our tokenizers."
   ]
  },
  {
   "cell_type": "code",
   "execution_count": 22,
   "metadata": {},
   "outputs": [],
   "source": [
    "tknzr = TweetTokenizer()"
   ]
  },
  {
   "cell_type": "code",
   "execution_count": 23,
   "metadata": {
    "tags": []
   },
   "outputs": [
    {
     "name": "stdout",
     "output_type": "stream",
     "text": [
      "[['@user', 'Why', \"don't\", 'you', 'Tarmac', 'all', 'the', 'speed', 'humps', 'in', 'The', 'Cut', 'in', '1', 'go', 'instead', 'of', 'bit', 'by', 'bit', 'as', 'the', 'brickwork', 'disintegrates', '!', '|', '🚀', 'Science'], ['Ready', 'for', 'the', 'tax', 'final'], ['Gotta', 'study', 'and', \"I'm\", 'like', ',', 'who', 'cares', '?', '!', '#perksofbeingasenior', '👎'], ['@user', \"I'm\", 'relaxed', ',', 'and', 'waiting', 'for', 'the', 'facts', 'to', 'come', 'out', '.', 'But', \"I've\", 'listened', 'to', 'Blaine', 'hammer', 'on', 'players', 'for', 'doing', 'similar', 'before', '.'], ['I', 'was', 'going', '2', 'post', 'my', 'opinions', 'on', '#obama', '#cuba', 'but', 'i', 'will', 'save', 'it', ',', 'till', 'after', 'his', '#speech', '.', '#peacemaker']]\n"
     ]
    }
   ],
   "source": [
    "nltk_tokens = []\n",
    "nltk_list = []\n",
    "for tweet in list(eval_tokenizer[\"tweets\"]):\n",
    "    tokenized = tknzr.tokenize(tweet)\n",
    "    nltk_list.append(tokenized)\n",
    "    for token in tokenized:\n",
    "        nltk_tokens.append(token)\n",
    "print(nltk_list[0:5])"
   ]
  },
  {
   "cell_type": "markdown",
   "metadata": {},
   "source": [
    "To see the difference quantitatively we can use the method SequenceMatcher from the difflib library: https://docs.python.org/3/library/difflib.html"
   ]
  },
  {
   "cell_type": "code",
   "execution_count": 24,
   "metadata": {},
   "outputs": [
    {
     "name": "stdout",
     "output_type": "stream",
     "text": [
      "Average ratio: 0.654476627294648\n"
     ]
    }
   ],
   "source": [
    "match_ratio = []\n",
    "for i in range(len(tokens_list)):\n",
    "    match_ratio.append(dl.SequenceMatcher(None, nltk_list[i], tokens_list[i]).ratio())\n",
    "print(\"Average ratio:\",np.mean(match_ratio))    "
   ]
  },
  {
   "cell_type": "markdown",
   "metadata": {},
   "source": [
    "Here we see that on average our tokenizer and the NLTK baseline tokenizer agree 65% of the time. However, none of these two methods are perfect, and this number of 65% is not really good/bad or high/low. Alternativly we can also look at the actual difference between the two tokenizers.<br>\n",
    "<br>\n",
    "Here we again use the difflib library, now a method called unified_diff, which returns the area where there differences occur. As an example we only look at the first tweet. <br>\n",
    "<code>\"+\"</code> means that the word is present in the output from the baseline tokenizer but not in the output from our tokenizer. <br>\n",
    "<code>\"-\"</code> means that the word is not present in the output from the baseline tokenizer but it is in our tokenizer."
   ]
  },
  {
   "cell_type": "code",
   "execution_count": 25,
   "metadata": {},
   "outputs": [
    {
     "name": "stdout",
     "output_type": "stream",
     "text": [
      "Our tokenized tweet:\n",
      " ['user', 'why', \"don't\", 'you', 'tarmac', 'all', 'the', 'speed', 'humps', 'in', 'the', 'cut', 'in', '1', 'go', 'instead', 'of', 'bit', 'by', 'bit', 'as', 'the', 'brickwork', 'disintegrates', '!', 'science'] \n",
      "\n",
      "NLTK tokenized tweed:\n",
      " ['@user', 'Why', \"don't\", 'you', 'Tarmac', 'all', 'the', 'speed', 'humps', 'in', 'The', 'Cut', 'in', '1', 'go', 'instead', 'of', 'bit', 'by', 'bit', 'as', 'the', 'brickwork', 'disintegrates', '!', '|', '🚀', 'Science'] \n",
      "\n",
      "Difference between the two:\n",
      "--- \n",
      " \n",
      "\n",
      "+++ \n",
      " \n",
      "\n",
      "@@ -1,15 +1,15 @@\n",
      " \n",
      "\n",
      "-user \n",
      "\n",
      "-why \n",
      "\n",
      "+@user \n",
      "\n",
      "+Why \n",
      "\n",
      " don't \n",
      "\n",
      " you \n",
      "\n",
      "-tarmac \n",
      "\n",
      "+Tarmac \n",
      "\n",
      " all \n",
      "\n",
      " the \n",
      "\n",
      " speed \n",
      "\n",
      " humps \n",
      "\n",
      " in \n",
      "\n",
      "-the \n",
      "\n",
      "-cut \n",
      "\n",
      "+The \n",
      "\n",
      "+Cut \n",
      "\n",
      " in \n",
      "\n",
      " 1 \n",
      "\n",
      " go \n",
      "\n",
      "@@ -23,4 +23,6 @@\n",
      " \n",
      "\n",
      " brickwork \n",
      "\n",
      " disintegrates \n",
      "\n",
      " ! \n",
      "\n",
      "-science \n",
      "\n",
      "+| \n",
      "\n",
      "+🚀 \n",
      "\n",
      "+Science \n",
      "\n"
     ]
    }
   ],
   "source": [
    "n = 1\n",
    "for i in range(n):\n",
    "    print(\"Our tokenized tweet:\\n\", tokens_list[i], \"\\n\")\n",
    "    print(\"NLTK tokenized tweed:\\n\", nltk_list[i], \"\\n\")\n",
    "    print(\"Difference between the two:\")\n",
    "    for diff in dl.unified_diff(tokens_list[i], nltk_list[i]):\n",
    "        print(diff, \"\\n\")"
   ]
  },
  {
   "cell_type": "markdown",
   "metadata": {},
   "source": [
    "It can however be seen that the comparing is case sensitive, which causes the biggest difference, as it was decided to lower case everything in our tokenizer. <br>\n",
    "To summerize, our chosen tokenizer actually removes more than the baseline. In the end we will conclude if this makes a difference when predicting."
   ]
  },
  {
   "cell_type": "markdown",
   "metadata": {},
   "source": [
    "# 2. Characterising Your Data"
   ]
  },
  {
   "cell_type": "markdown",
   "metadata": {},
   "source": [
    "We create a function to quickly report the number of lines, words and characters in case unix commands for macs doesn't work."
   ]
  },
  {
   "cell_type": "code",
   "execution_count": 26,
   "metadata": {},
   "outputs": [],
   "source": [
    "def word_count(class_string, data_string):\n",
    "    \"\"\"Shows the details that wc unix command would show: \n",
    "    amount of lines, words and characters for the stance datasets.\"\"\"\n",
    "    \n",
    "    file = open(\"../datasets/\"+ data_string +\"/train_text.txt\", \"r\", encoding = \"utf-8\")\n",
    "\n",
    "    num_lines = 0; num_words = 0; num_char = 0\n",
    "    for line in file:\n",
    "        line = line.strip(\"\\n\")\n",
    "\n",
    "        words = line.split()\n",
    "        num_lines += 1\n",
    "        num_words += len(words)\n",
    "        num_char += len(line)\n",
    "\n",
    "    print(num_lines, num_words, num_char)\n",
    "    print(\"Number of lines, words and characters in the training text file for the\", class_string, data_string, \"\\n\")\n",
    "\n",
    "    with open(\"../datasets/\"+ data_string +\"/train_labels.txt\", \"r\") as file:\n",
    "        filelist = file.read().split(\"\\n\")\n",
    "\n",
    "    print(len(filelist))\n",
    "    print(\"Number of lines in the training label file for the\", class_string, data_string)"
   ]
  },
  {
   "cell_type": "markdown",
   "metadata": {},
   "source": [
    "To simplify our process of finding statistics we create a function to quickly create a vocabulary for a given dataset."
   ]
  },
  {
   "cell_type": "code",
   "execution_count": 27,
   "metadata": {},
   "outputs": [],
   "source": [
    "def vocabulary(tokens):\n",
    "    vocabulary = pd.DataFrame()\n",
    "    vocabulary_counter = cl.Counter(tokens)\n",
    "    vocabulary[\"word\"] = vocabulary_counter.keys()\n",
    "    vocabulary[\"frequency\"] = vocabulary_counter.values()\n",
    "    vocabulary = vocabulary.sort_values(by = [\"frequency\"], ascending = False)\n",
    "    \n",
    "    return vocabulary"
   ]
  },
  {
   "cell_type": "markdown",
   "metadata": {},
   "source": [
    "## Irony\n",
    "Corpus, vocabulary and token-ratio"
   ]
  },
  {
   "cell_type": "markdown",
   "metadata": {},
   "source": [
    "### Corpus size"
   ]
  },
  {
   "cell_type": "code",
   "execution_count": 28,
   "metadata": {},
   "outputs": [
    {
     "name": "stdout",
     "output_type": "stream",
     "text": [
      "Number of lines, words and characters in the training text file for the binary class Irony. \n",
      "\n"
     ]
    },
    {
     "name": "stderr",
     "output_type": "stream",
     "text": [
      "'wc' is not recognized as an internal or external command,\n",
      "operable program or batch file.\n"
     ]
    },
    {
     "name": "stdout",
     "output_type": "stream",
     "text": [
      "Number of lines in the training label file for the binary class Irony.\n"
     ]
    },
    {
     "name": "stderr",
     "output_type": "stream",
     "text": [
      "'wc' is not recognized as an internal or external command,\n",
      "operable program or batch file.\n"
     ]
    }
   ],
   "source": [
    "# Unix commands that work for mac\n",
    "!wc \"../datasets/irony/train_text.txt\"\n",
    "print(\"Number of lines, words and characters in the training text file for the binary class Irony. \\n\")\n",
    "\n",
    "!wc -l \"../datasets/irony/train_labels.txt\"\n",
    "print(\"Number of lines in the training label file for the binary class Irony.\")"
   ]
  },
  {
   "cell_type": "code",
   "execution_count": 29,
   "metadata": {},
   "outputs": [
    {
     "name": "stdout",
     "output_type": "stream",
     "text": [
      "2862 38939 226812\n",
      "Number of lines, words and characters in the training text file for the binary irony \n",
      "\n",
      "2862\n",
      "Number of lines in the training label file for the binary irony\n"
     ]
    }
   ],
   "source": [
    "# Displays the above with distinction that it is viewable with windows os.\n",
    "word_count(\"binary\", \"irony\")"
   ]
  },
  {
   "cell_type": "code",
   "execution_count": 30,
   "metadata": {},
   "outputs": [
    {
     "name": "stdout",
     "output_type": "stream",
     "text": [
      "17.418351477449455\n"
     ]
    }
   ],
   "source": [
    "sum_irony = len(train_irony) + len(test_irony) + len(validation_irony)\n",
    "print((len(test_irony)/sum_irony)*100)"
   ]
  },
  {
   "cell_type": "markdown",
   "metadata": {},
   "source": [
    "### Count of tweets per label"
   ]
  },
  {
   "cell_type": "code",
   "execution_count": 31,
   "metadata": {},
   "outputs": [],
   "source": [
    "irony_train = pd.concat([train_irony, train_irony_labels], axis=1)\n",
    "irony_val   = pd.concat([validation_irony, val_irony_labels], axis=1)\n",
    "irony_test  = pd.concat([test_atheism,  test_irony_labels],  axis=1)"
   ]
  },
  {
   "cell_type": "code",
   "execution_count": 32,
   "metadata": {},
   "outputs": [
    {
     "data": {
      "text/plain": [
       "1    1445\n",
       "0    1417\n",
       "Name: labels, dtype: int64"
      ]
     },
     "execution_count": 32,
     "metadata": {},
     "output_type": "execute_result"
    }
   ],
   "source": [
    "irony_train['labels'].value_counts()"
   ]
  },
  {
   "cell_type": "code",
   "execution_count": 33,
   "metadata": {},
   "outputs": [
    {
     "data": {
      "text/plain": [
       "0    499\n",
       "1    456\n",
       "Name: labels, dtype: int64"
      ]
     },
     "execution_count": 33,
     "metadata": {},
     "output_type": "execute_result"
    }
   ],
   "source": [
    "irony_val['labels'].value_counts()"
   ]
  },
  {
   "cell_type": "code",
   "execution_count": 34,
   "metadata": {},
   "outputs": [
    {
     "data": {
      "text/plain": [
       "0    473\n",
       "1    311\n",
       "Name: labels, dtype: int64"
      ]
     },
     "execution_count": 34,
     "metadata": {},
     "output_type": "execute_result"
    }
   ],
   "source": [
    "irony_test['labels'].value_counts()"
   ]
  },
  {
   "cell_type": "markdown",
   "metadata": {},
   "source": [
    "### Token-ratio"
   ]
  },
  {
   "cell_type": "markdown",
   "metadata": {},
   "source": [
    "First tokenizing all the tweets in the <i>Irony</i> class using the <code>Tokenize_ideal</code> function, then creating a corresponding vocabulary and the unique token frequency."
   ]
  },
  {
   "cell_type": "code",
   "execution_count": 35,
   "metadata": {},
   "outputs": [],
   "source": [
    "irony_tokens = []\n",
    "irony_tokens_list = []\n",
    "irony_unmatches = []\n",
    "\n",
    "for tweet in train_irony[\"tweets\"]:\n",
    "    tokenized = tokenize_ideal(tweet)\n",
    "    irony_tokens_list.append(tokenized[2])\n",
    "    for token in tokenized[2]:\n",
    "        irony_tokens.append(token)\n",
    "    for un in tokenized[1]:\n",
    "        irony_unmatches.append(un)"
   ]
  },
  {
   "cell_type": "code",
   "execution_count": 36,
   "metadata": {},
   "outputs": [
    {
     "name": "stdout",
     "output_type": "stream",
     "text": [
      "Number of tokens:  38428\n",
      "Number of unique tokens:  8048\n"
     ]
    },
    {
     "data": {
      "text/html": [
       "<div>\n",
       "<style scoped>\n",
       "    .dataframe tbody tr th:only-of-type {\n",
       "        vertical-align: middle;\n",
       "    }\n",
       "\n",
       "    .dataframe tbody tr th {\n",
       "        vertical-align: top;\n",
       "    }\n",
       "\n",
       "    .dataframe thead th {\n",
       "        text-align: right;\n",
       "    }\n",
       "</style>\n",
       "<table border=\"1\" class=\"dataframe\">\n",
       "  <thead>\n",
       "    <tr style=\"text-align: right;\">\n",
       "      <th></th>\n",
       "      <th>word</th>\n",
       "      <th>frequency</th>\n",
       "    </tr>\n",
       "  </thead>\n",
       "  <tbody>\n",
       "    <tr>\n",
       "      <th>41</th>\n",
       "      <td>user</td>\n",
       "      <td>1668</td>\n",
       "    </tr>\n",
       "    <tr>\n",
       "      <th>10</th>\n",
       "      <td>the</td>\n",
       "      <td>1046</td>\n",
       "    </tr>\n",
       "    <tr>\n",
       "      <th>27</th>\n",
       "      <td>to</td>\n",
       "      <td>923</td>\n",
       "    </tr>\n",
       "    <tr>\n",
       "      <th>58</th>\n",
       "      <td>a</td>\n",
       "      <td>780</td>\n",
       "    </tr>\n",
       "    <tr>\n",
       "      <th>35</th>\n",
       "      <td>i</td>\n",
       "      <td>740</td>\n",
       "    </tr>\n",
       "    <tr>\n",
       "      <th>...</th>\n",
       "      <td>...</td>\n",
       "      <td>...</td>\n",
       "    </tr>\n",
       "    <tr>\n",
       "      <th>275</th>\n",
       "      <td>goodellmustgo</td>\n",
       "      <td>1</td>\n",
       "    </tr>\n",
       "    <tr>\n",
       "      <th>3980</th>\n",
       "      <td>entrance</td>\n",
       "      <td>1</td>\n",
       "    </tr>\n",
       "    <tr>\n",
       "      <th>3979</th>\n",
       "      <td>gaining</td>\n",
       "      <td>1</td>\n",
       "    </tr>\n",
       "    <tr>\n",
       "      <th>3977</th>\n",
       "      <td>whould</td>\n",
       "      <td>1</td>\n",
       "    </tr>\n",
       "    <tr>\n",
       "      <th>8047</th>\n",
       "      <td>disintegrates</td>\n",
       "      <td>1</td>\n",
       "    </tr>\n",
       "  </tbody>\n",
       "</table>\n",
       "<p>8048 rows × 2 columns</p>\n",
       "</div>"
      ],
      "text/plain": [
       "               word  frequency\n",
       "41             user       1668\n",
       "10              the       1046\n",
       "27               to        923\n",
       "58                a        780\n",
       "35                i        740\n",
       "...             ...        ...\n",
       "275   goodellmustgo          1\n",
       "3980       entrance          1\n",
       "3979        gaining          1\n",
       "3977         whould          1\n",
       "8047  disintegrates          1\n",
       "\n",
       "[8048 rows x 2 columns]"
      ]
     },
     "execution_count": 36,
     "metadata": {},
     "output_type": "execute_result"
    }
   ],
   "source": [
    "irony_vocabulary = vocabulary(irony_tokens)\n",
    "print(\"Number of tokens: \", sum(irony_vocabulary[\"frequency\"]))\n",
    "print(\"Number of unique tokens: \", len(irony_vocabulary[\"frequency\"]))\n",
    "irony_vocabulary"
   ]
  },
  {
   "cell_type": "markdown",
   "metadata": {},
   "source": [
    "Most frequent tokens in our vocabulary and their corresponding occurences."
   ]
  },
  {
   "cell_type": "code",
   "execution_count": 37,
   "metadata": {},
   "outputs": [
    {
     "name": "stdout",
     "output_type": "stream",
     "text": [
      "['user', 'the', 'to', 'a', 'i', 'and', 'is', 'in', 'you', 'of']\n",
      "[1668, 1046, 923, 780, 740, 585, 498, 451, 439, 427]\n"
     ]
    }
   ],
   "source": [
    "print(list(irony_vocabulary[\"word\"])[0:10])\n",
    "print(list(irony_vocabulary[\"frequency\"])[0:10])"
   ]
  },
  {
   "cell_type": "markdown",
   "metadata": {},
   "source": [
    "Amount of least occuring tokens and examples hereof."
   ]
  },
  {
   "cell_type": "code",
   "execution_count": 38,
   "metadata": {},
   "outputs": [
    {
     "name": "stdout",
     "output_type": "stream",
     "text": [
      "Amount of tokens occurring 1 time(s): 5292\n",
      "Amount of tokens occurring 2 time(s): 1085\n",
      "Amount of tokens occurring 3 time(s): 444\n",
      "Amount of tokens occurring 4 time(s): 291\n",
      "Amount of tokens occurring 5 time(s): 161\n",
      "Amount of tokens occurring 6 time(s): 121\n",
      "Amount of tokens occurring 7 time(s): 70\n",
      "Amount of tokens occurring 8 time(s): 60\n",
      "Amount of tokens occurring 9 time(s): 52\n",
      "Amount of tokens occurring 10 time(s): 37\n"
     ]
    }
   ],
   "source": [
    "for i in range(1,11):\n",
    "    print(\"Amount of tokens occurring\", i,\"time(s):\", len(irony_vocabulary[irony_vocabulary[\"frequency\"] == i]))"
   ]
  },
  {
   "cell_type": "code",
   "execution_count": 39,
   "metadata": {},
   "outputs": [
    {
     "name": "stdout",
     "output_type": "stream",
     "text": [
      "5 tokens occuring 1 time(s) \n",
      " 5941    overspend\n",
      "5945      crosses\n",
      "5944       morgan\n",
      "5943          ipa\n",
      "7736         24hr\n",
      "Name: word, dtype: object \n",
      "\n",
      "5 tokens occuring 2 time(s) \n",
      " 3313       soul\n",
      "3321    burrito\n",
      "3481     flight\n",
      "3319      hills\n",
      "3318     canada\n",
      "Name: word, dtype: object \n",
      "\n",
      "5 tokens occuring 3 time(s) \n",
      " 2938         libby\n",
      "2036             e\n",
      "1010         gunna\n",
      "199     accounting\n",
      "4484         enter\n",
      "Name: word, dtype: object \n",
      "\n",
      "5 tokens occuring 4 time(s) \n",
      " 1470       large\n",
      "1477    mornings\n",
      "1504     explain\n",
      "4126        dark\n",
      "1505     muslims\n",
      "Name: word, dtype: object \n",
      "\n",
      "5 tokens occuring 5 time(s) \n",
      " 488        com\n",
      "343     simply\n",
      "1866     sound\n",
      "2179      case\n",
      "2427    killed\n",
      "Name: word, dtype: object \n",
      "\n"
     ]
    }
   ],
   "source": [
    "for i in range(1, 6):\n",
    "    print(\"5 tokens occuring\", i, \"time(s) \\n\", irony_vocabulary[\"word\"][irony_vocabulary[\"frequency\"] == i][:5], \"\\n\")"
   ]
  },
  {
   "cell_type": "markdown",
   "metadata": {},
   "source": [
    "### Frequency table\n",
    "Accumulating the frequency for each word in the vocabulary dataframe."
   ]
  },
  {
   "cell_type": "code",
   "execution_count": 40,
   "metadata": {},
   "outputs": [],
   "source": [
    "accu = []\n",
    "count = 0\n",
    "for i in range(len(irony_vocabulary[\"frequency\"])):\n",
    "    count = count + list(irony_vocabulary[\"frequency\"])[i]\n",
    "    accu.append(count/len(irony_tokens))\n",
    "    \n",
    "irony_vocabulary[\"cumulative_frequency\"] = accu"
   ]
  },
  {
   "cell_type": "code",
   "execution_count": 41,
   "metadata": {},
   "outputs": [
    {
     "data": {
      "text/html": [
       "<div>\n",
       "<style scoped>\n",
       "    .dataframe tbody tr th:only-of-type {\n",
       "        vertical-align: middle;\n",
       "    }\n",
       "\n",
       "    .dataframe tbody tr th {\n",
       "        vertical-align: top;\n",
       "    }\n",
       "\n",
       "    .dataframe thead th {\n",
       "        text-align: right;\n",
       "    }\n",
       "</style>\n",
       "<table border=\"1\" class=\"dataframe\">\n",
       "  <thead>\n",
       "    <tr style=\"text-align: right;\">\n",
       "      <th></th>\n",
       "      <th>word</th>\n",
       "      <th>frequency</th>\n",
       "      <th>cumulative_frequency</th>\n",
       "      <th>rank</th>\n",
       "    </tr>\n",
       "  </thead>\n",
       "  <tbody>\n",
       "    <tr>\n",
       "      <th>41</th>\n",
       "      <td>user</td>\n",
       "      <td>1668</td>\n",
       "      <td>0.043406</td>\n",
       "      <td>1</td>\n",
       "    </tr>\n",
       "    <tr>\n",
       "      <th>10</th>\n",
       "      <td>the</td>\n",
       "      <td>1046</td>\n",
       "      <td>0.070626</td>\n",
       "      <td>2</td>\n",
       "    </tr>\n",
       "    <tr>\n",
       "      <th>27</th>\n",
       "      <td>to</td>\n",
       "      <td>923</td>\n",
       "      <td>0.094645</td>\n",
       "      <td>3</td>\n",
       "    </tr>\n",
       "    <tr>\n",
       "      <th>58</th>\n",
       "      <td>a</td>\n",
       "      <td>780</td>\n",
       "      <td>0.114942</td>\n",
       "      <td>4</td>\n",
       "    </tr>\n",
       "    <tr>\n",
       "      <th>35</th>\n",
       "      <td>i</td>\n",
       "      <td>740</td>\n",
       "      <td>0.134199</td>\n",
       "      <td>5</td>\n",
       "    </tr>\n",
       "    <tr>\n",
       "      <th>...</th>\n",
       "      <td>...</td>\n",
       "      <td>...</td>\n",
       "      <td>...</td>\n",
       "      <td>...</td>\n",
       "    </tr>\n",
       "    <tr>\n",
       "      <th>275</th>\n",
       "      <td>goodellmustgo</td>\n",
       "      <td>1</td>\n",
       "      <td>0.999896</td>\n",
       "      <td>8044</td>\n",
       "    </tr>\n",
       "    <tr>\n",
       "      <th>3980</th>\n",
       "      <td>entrance</td>\n",
       "      <td>1</td>\n",
       "      <td>0.999922</td>\n",
       "      <td>8045</td>\n",
       "    </tr>\n",
       "    <tr>\n",
       "      <th>3979</th>\n",
       "      <td>gaining</td>\n",
       "      <td>1</td>\n",
       "      <td>0.999948</td>\n",
       "      <td>8046</td>\n",
       "    </tr>\n",
       "    <tr>\n",
       "      <th>3977</th>\n",
       "      <td>whould</td>\n",
       "      <td>1</td>\n",
       "      <td>0.999974</td>\n",
       "      <td>8047</td>\n",
       "    </tr>\n",
       "    <tr>\n",
       "      <th>8047</th>\n",
       "      <td>disintegrates</td>\n",
       "      <td>1</td>\n",
       "      <td>1.000000</td>\n",
       "      <td>8048</td>\n",
       "    </tr>\n",
       "  </tbody>\n",
       "</table>\n",
       "<p>8048 rows × 4 columns</p>\n",
       "</div>"
      ],
      "text/plain": [
       "               word  frequency  cumulative_frequency  rank\n",
       "41             user       1668              0.043406     1\n",
       "10              the       1046              0.070626     2\n",
       "27               to        923              0.094645     3\n",
       "58                a        780              0.114942     4\n",
       "35                i        740              0.134199     5\n",
       "...             ...        ...                   ...   ...\n",
       "275   goodellmustgo          1              0.999896  8044\n",
       "3980       entrance          1              0.999922  8045\n",
       "3979        gaining          1              0.999948  8046\n",
       "3977         whould          1              0.999974  8047\n",
       "8047  disintegrates          1              1.000000  8048\n",
       "\n",
       "[8048 rows x 4 columns]"
      ]
     },
     "execution_count": 41,
     "metadata": {},
     "output_type": "execute_result"
    }
   ],
   "source": [
    "irony_vocabulary[\"rank\"] = [i+1 for i in range(len(irony_vocabulary[\"word\"]))]\n",
    "irony_vocabulary"
   ]
  },
  {
   "cell_type": "markdown",
   "metadata": {},
   "source": [
    "Plotting the cummulative count for the tokens."
   ]
  },
  {
   "cell_type": "code",
   "execution_count": 42,
   "metadata": {},
   "outputs": [
    {
     "data": {
      "image/png": "[encoded data removed]",
      "text/plain": [
       "<Figure size 432x288 with 1 Axes>"
      ]
     },
     "metadata": {},
     "output_type": "display_data"
    }
   ],
   "source": [
    "sns.scatterplot(x = irony_vocabulary[\"rank\"], y = irony_vocabulary[\"cumulative_frequency\"], linewidth=0);"
   ]
  },
  {
   "cell_type": "markdown",
   "metadata": {},
   "source": [
    "##### Illustration of Zipf's law <br>\n",
    "\"*given some corpus of natural language utterances, the frequency of any word is inversely proportional to its rank in the frequency table. Thus the most frequent word will occur approximately twice as often as the second most frequent word, three times as often as the third most frequent word.*\", this quote is taken from [Wikipedia](https://en.wikipedia.org/wiki/Zipf%27s_law). With this law, we can expect that very few words make up the biggest part of any given context. To verify this claim, one can in a log-log transformed system plot the frequency of each token against the tokens rank. This should create something close to a straight line. <br>\n",
    "<br>\n",
    "Therefore we add two new columns to our vocabulary dataframe, each is the log transformed values for the frequency and the rank."
   ]
  },
  {
   "cell_type": "code",
   "execution_count": 43,
   "metadata": {},
   "outputs": [],
   "source": [
    "irony_vocabulary[\"log_frequency\"] = np.log(irony_vocabulary[\"frequency\"])\n",
    "irony_vocabulary['log_rank'] = np.log(irony_vocabulary[\"rank\"])\n",
    "#vocabulary"
   ]
  },
  {
   "cell_type": "markdown",
   "metadata": {},
   "source": [
    "By plotting the log frequency and the log rank we see an almost linear relationship between the tokens."
   ]
  },
  {
   "cell_type": "code",
   "execution_count": 44,
   "metadata": {},
   "outputs": [
    {
     "data": {
      "image/png": "[encoded data removed]",
      "text/plain": [
       "<Figure size 432x288 with 1 Axes>"
      ]
     },
     "metadata": {},
     "output_type": "display_data"
    }
   ],
   "source": [
    "sns.scatterplot(data = irony_vocabulary, x = \"log_rank\", y = \"log_frequency\", linewidth=0);"
   ]
  },
  {
   "cell_type": "code",
   "execution_count": 45,
   "metadata": {},
   "outputs": [],
   "source": [
    "N = irony_vocabulary['frequency'].sum()\n",
    "irony_vocabulary['proportion'] = irony_vocabulary['frequency']/N\n",
    "irony_vocabulary['predicted_proportion'] = (1/irony_vocabulary['rank']**1)/(np.sum(1/(np.arange(1, N+1)**1))) # zipfs prediction"
   ]
  },
  {
   "cell_type": "code",
   "execution_count": 46,
   "metadata": {},
   "outputs": [
    {
     "data": {
      "image/png": "[encoded data removed]",
      "text/plain": [
       "<Figure size 576x360 with 1 Axes>"
      ]
     },
     "metadata": {},
     "output_type": "display_data"
    }
   ],
   "source": [
    "fig_irony, a = plt.subplots(figsize = (8,5))\n",
    "a = sns.scatterplot(x=irony_vocabulary[\"rank\"], y=irony_vocabulary['proportion'], linewidth=0)\n",
    "a = sns.scatterplot(x=irony_vocabulary[\"rank\"], y=irony_vocabulary['predicted_proportion'], linewidth=0)\n",
    "a.set(yscale=\"log\", xscale=\"log\")\n",
    "plt.xlabel(\"log(rank of words)\")\n",
    "plt.ylabel(\"log(porpotion of words)\")\n",
    "plt.title(\"Irony: Rank of a word and its empirical and theoretical probability\", size=14)\n",
    "fig_irony.legend(labels=['Empirical', 'Theoretical'], bbox_to_anchor=(.89, .86), fontsize=12)\n",
    "plt.show(fig_irony)"
   ]
  },
  {
   "cell_type": "markdown",
   "metadata": {},
   "source": [
    "### N-Grams\n",
    "To investigate the relationship between words, we are going to use n-grams. This method is explained through the Markov assumption: \"*Each element of the sequence depends only on the immediately preceding element and is independent of the previous history*\". With this we can define the k'th order Markov assumption: \"*Each element of the sequence depends only on the k immediately preceding elements.*\" <br>\n",
    "<br>\n",
    "With this tool we can define the probabilities of k preceding words for every unique word in a given context. When we are able to predict words, we are also able to predict meaning or context of new sentences. As mentioned we will be using n-grams in our project which comes from the python library NLTK which has multiple n-gram implementations."
   ]
  },
  {
   "cell_type": "markdown",
   "metadata": {},
   "source": [
    "To begin we are going to look at a bigram. To prepare every tweet for the n-gram model, we have to pad them. Meaning we are putting a \"s\" (start of sentence) symbol at the front, and a \"/s\" (end of sentence) symbol at the end. This can give meaning to words that tend to appear more often in the beginning or at the end. <br>\n",
    "<br>\n",
    "Here we see a \"bigram\", which is just a n-gram with degree of 2. Meaning we are only looking 1 word back in the sentence, for every word. For example the word \"walking\" is in this case being related to the preceding word \"ppl\". "
   ]
  },
  {
   "cell_type": "code",
   "execution_count": 47,
   "metadata": {},
   "outputs": [
    {
     "name": "stdout",
     "output_type": "stream",
     "text": [
      "[('<s>', 'seeing'), ('seeing', 'ppl'), ('ppl', 'walking'), ('walking', 'w'), ('w', 'crutches'), ('crutches', 'makes'), ('makes', 'me'), ('me', 'really'), ('really', 'excited'), ('excited', 'for'), ('for', 'the'), ('the', 'next'), ('next', '3'), ('3', 'weeks'), ('weeks', 'of'), ('of', 'my'), ('my', 'life'), ('life', '</s>')]\n"
     ]
    }
   ],
   "source": [
    "ex2 = list(nltk.bigrams(pad_both_ends(irony_tokens_list[0], n = 2)))\n",
    "print(ex2)"
   ]
  },
  {
   "cell_type": "markdown",
   "metadata": {},
   "source": [
    "This is an example of a trigram, n-gram with degree of 3. Here we are looking and defining based on the 2 preceding words."
   ]
  },
  {
   "cell_type": "code",
   "execution_count": 48,
   "metadata": {},
   "outputs": [
    {
     "name": "stdout",
     "output_type": "stream",
     "text": [
      "[('<s>', '<s>', 'seeing'), ('<s>', 'seeing', 'ppl'), ('seeing', 'ppl', 'walking'), ('ppl', 'walking', 'w'), ('walking', 'w', 'crutches'), ('w', 'crutches', 'makes'), ('crutches', 'makes', 'me'), ('makes', 'me', 'really'), ('me', 'really', 'excited'), ('really', 'excited', 'for'), ('excited', 'for', 'the'), ('for', 'the', 'next'), ('the', 'next', '3'), ('next', '3', 'weeks'), ('3', 'weeks', 'of'), ('weeks', 'of', 'my'), ('of', 'my', 'life'), ('my', 'life', '</s>'), ('life', '</s>', '</s>')]\n"
     ]
    }
   ],
   "source": [
    "ex3 = list(nltk.trigrams(pad_both_ends(irony_tokens_list[0], n = 3)))\n",
    "print(ex3)"
   ]
  },
  {
   "cell_type": "markdown",
   "metadata": {},
   "source": [
    "We can also combine the bigram and trigram to create everygrams. Like this we also include the lower degrees of grams. If we for example use a everygram with degree of 3, we not only create the trigram, but we also include the bigram and unigram information."
   ]
  },
  {
   "cell_type": "code",
   "execution_count": 49,
   "metadata": {},
   "outputs": [
    {
     "name": "stdout",
     "output_type": "stream",
     "text": [
      "[('<s>',), ('<s>', 'seeing'), ('<s>', 'seeing', 'ppl'), ('seeing',), ('seeing', 'ppl'), ('seeing', 'ppl', 'walking'), ('ppl',), ('ppl', 'walking'), ('ppl', 'walking', 'w'), ('walking',), ('walking', 'w'), ('walking', 'w', 'crutches'), ('w',), ('w', 'crutches'), ('w', 'crutches', 'makes'), ('crutches',), ('crutches', 'makes'), ('crutches', 'makes', 'me'), ('makes',), ('makes', 'me'), ('makes', 'me', 'really'), ('me',), ('me', 'really'), ('me', 'really', 'excited'), ('really',), ('really', 'excited'), ('really', 'excited', 'for'), ('excited',), ('excited', 'for'), ('excited', 'for', 'the'), ('for',), ('for', 'the'), ('for', 'the', 'next'), ('the',), ('the', 'next'), ('the', 'next', '3'), ('next',), ('next', '3'), ('next', '3', 'weeks'), ('3',), ('3', 'weeks'), ('3', 'weeks', 'of'), ('weeks',), ('weeks', 'of'), ('weeks', 'of', 'my'), ('of',), ('of', 'my'), ('of', 'my', 'life'), ('my',), ('my', 'life'), ('my', 'life', '</s>'), ('life',), ('life', '</s>'), ('</s>',)]\n"
     ]
    }
   ],
   "source": [
    "padded_bigrams = list(pad_both_ends(irony_tokens_list[0], n=2))\n",
    "ex_every = list(everygrams(padded_bigrams, max_len=3))\n",
    "print(ex_every)"
   ]
  },
  {
   "cell_type": "markdown",
   "metadata": {},
   "source": [
    "Now with the tweets prepared we can begin to train a model. To do this we have created a small function that takes the tokenized tweets and a degree of the everygram. Here we are using the pipeline function from NLTK which does the padding for us very easily."
   ]
  },
  {
   "cell_type": "code",
   "execution_count": 50,
   "metadata": {},
   "outputs": [],
   "source": [
    "def train_ngram(listoflistoftokens, n):\n",
    "    train, vocab = padded_everygram_pipeline(n, listoflistoftokens)\n",
    "    lm = MLE(n)\n",
    "    lm.fit(train, vocab)\n",
    "    return lm"
   ]
  },
  {
   "cell_type": "markdown",
   "metadata": {},
   "source": [
    "We train two models, one with degree 3 and one with degree 2"
   ]
  },
  {
   "cell_type": "code",
   "execution_count": 51,
   "metadata": {},
   "outputs": [],
   "source": [
    "lm3 = train_ngram(irony_tokens_list, 3)"
   ]
  },
  {
   "cell_type": "markdown",
   "metadata": {},
   "source": [
    "To validate the models we can look at how confused it is when trying to predict on words. Here we use the NLTK perplexity function, the higher the score the more options the model has to choose from, meaning it is unsure what is most correct. To test this we feed the first sentence in the irony training dataset to the two models."
   ]
  },
  {
   "cell_type": "code",
   "execution_count": 52,
   "metadata": {},
   "outputs": [
    {
     "name": "stdout",
     "output_type": "stream",
     "text": [
      "('<s>',)\n",
      "8.95655322230268\n",
      "('<s>', 'seeing')\n",
      "2762.000000000002\n",
      "('<s>', 'seeing', 'ppl')\n",
      "2.0\n",
      "('seeing',)\n",
      "4947.5999999999985\n",
      "('seeing', 'ppl')\n",
      "9.999999999999998\n",
      "('seeing', 'ppl', 'walking')\n",
      "1.0\n",
      "('ppl',)\n",
      "5497.333333333337\n",
      "('ppl', 'walking')\n",
      "9.000000000000002\n",
      "('ppl', 'walking', 'w')\n",
      "1.0\n",
      "('walking',)\n",
      "7068.0000000000055\n",
      "('walking', 'w')\n",
      "7.000000000000003\n",
      "('walking', 'w', 'crutches')\n",
      "1.0\n",
      "('w',)\n",
      "2748.666666666665\n",
      "('w', 'crutches')\n",
      "18.000000000000007\n",
      "('w', 'crutches', 'makes')\n",
      "1.0\n",
      "('crutches',)\n",
      "49476.00000000002\n",
      "('crutches', 'makes')\n",
      "1.0\n",
      "('crutches', 'makes', 'me')\n",
      "1.0\n",
      "('makes',)\n",
      "2061.5000000000014\n",
      "('makes', 'me')\n",
      "4.0\n",
      "('makes', 'me', 'really')\n",
      "6.0\n",
      "('me',)\n",
      "246.1492537313435\n",
      "('me', 'really')\n",
      "100.50000000000003\n",
      "('me', 'really', 'excited')\n",
      "2.0\n",
      "('really',)\n",
      "749.6363636363636\n",
      "('really', 'excited')\n",
      "22.0\n",
      "('really', 'excited', 'for')\n",
      "1.5000000000000002\n",
      "('excited',)\n",
      "3298.399999999999\n",
      "('excited', 'for')\n",
      "2.142857142857143\n",
      "('excited', 'for', 'the')\n",
      "3.5\n",
      "('for',)\n",
      "127.84496124031017\n",
      "('for', 'the')\n",
      "8.41304347826087\n",
      "('for', 'the', 'next')\n",
      "46.00000000000001\n",
      "('the',)\n",
      "47.30019120458891\n",
      "('the', 'next')\n",
      "149.42857142857153\n",
      "('the', 'next', '3')\n",
      "3.5\n",
      "('next',)\n",
      "1902.9230769230774\n",
      "('next', '3')\n",
      "13.0\n",
      "('next', '3', 'weeks')\n",
      "1.0\n",
      "('3',)\n",
      "1413.6\n",
      "('3', 'weeks')\n",
      "17.50000000000001\n",
      "('3', 'weeks', 'of')\n",
      "2.0\n",
      "('weeks',)\n",
      "4123.000000000003\n",
      "('weeks', 'of')\n",
      "12.000000000000004\n",
      "('weeks', 'of', 'my')\n",
      "1.0\n",
      "('of',)\n",
      "115.86885245901645\n",
      "('of', 'my')\n",
      "21.349999999999998\n",
      "('of', 'my', 'life')\n",
      "4.999999999999999\n",
      "('my',)\n",
      "116.96453900709218\n",
      "('my', 'life')\n",
      "32.53846153846155\n",
      "('my', 'life', '</s>')\n",
      "2.1666666666666665\n",
      "('life',)\n",
      "868.0000000000007\n",
      "('life', '</s>')\n",
      "3.3529411764705888\n",
      "('</s>',)\n",
      "8.95655322230268\n"
     ]
    }
   ],
   "source": [
    "for i in ex_every:\n",
    "    print(i)\n",
    "    print(lm3.perplexity([i]))"
   ]
  },
  {
   "cell_type": "markdown",
   "metadata": {},
   "source": [
    "For both models it seems to have an okay (low) perplexity with some of the words, but for others it has a high score, meaning it is very confused about what to predict here. <br>\n",
    "<br>\n",
    "Lastly we can also use these models to generate sentences based on the training data. The generated data is often hard to make sense of or just a copy of a tweet. This is probably due to the model being quite confused, or that there only exists one prediction for this specific case. When talking NLP we have to keep in mind that our training data is a small dataset, and therefore we would expect low performance."
   ]
  },
  {
   "cell_type": "code",
   "execution_count": 53,
   "metadata": {},
   "outputs": [
    {
     "name": "stdout",
     "output_type": "stream",
     "text": [
      "['just', 'loooove', 'arguing', 'with', 'his', 'bodyguards', 'user', '</s>', '</s>', '</s>']\n"
     ]
    }
   ],
   "source": [
    "print(lm3.generate(10))"
   ]
  },
  {
   "cell_type": "markdown",
   "metadata": {},
   "source": [
    "### Maximum likelihood"
   ]
  },
  {
   "cell_type": "markdown",
   "metadata": {},
   "source": [
    "Maximum likelihood is about estimating preceding words in a given context. Meaning what is the probability of x given y. This is simply the sum of x given y in the corpus divied by the number of times y appear in the corpus:<br>\n",
    "\n",
    "$$p(w_2|w_1) = \\frac{\\text{count}(w_1w_2)}{\\text{count}(w_1\\bullet)}$$\n",
    "<br>\n",
    "To illustrate the maximum liklihood principle, and the problems with it, we creating a subset of the irony training dataset. These tweets we tokenize, pad and create their bigrams and put into a list."
   ]
  },
  {
   "cell_type": "code",
   "execution_count": 54,
   "metadata": {},
   "outputs": [],
   "source": [
    "bigram_tokens = []\n",
    "mx_test = list(train_irony[\"tweets\"][0:100])\n",
    "for tweet in mx_test:\n",
    "    tokenized = tokenize_ideal(tweet)\n",
    "    bigram_tokens.append(tokenized[2])\n",
    "padded_bigram_tokens = []\n",
    "for tokens in bigram_tokens:\n",
    "    bi = list(nltk.bigrams(pad_both_ends(tokens, n = 2)))\n",
    "    padded_bigram_tokens.append(bi)\n",
    "flat_tokens = []\n",
    "mm = [[flat_tokens.append(bigram) for bigram in line] for line in padded_bigram_tokens]"
   ]
  },
  {
   "cell_type": "markdown",
   "metadata": {},
   "source": [
    "We then create a dictionary that stores every preceding word to every unique token in the corpus."
   ]
  },
  {
   "cell_type": "code",
   "execution_count": 55,
   "metadata": {},
   "outputs": [],
   "source": [
    "#def mx(tokens): (OBS: takes around 1 min to run)\n",
    "uniques = list(irony_vocabulary[\"word\"])\n",
    "probs = {unique:[] for unique in uniques}\n",
    "df = pd.DataFrame(irony_vocabulary[\"word\"])\n",
    "for unique in uniques:\n",
    "    for bigram in flat_tokens:\n",
    "        if bigram[-1] == unique:\n",
    "            probs[unique].append(bigram[0])"
   ]
  },
  {
   "cell_type": "markdown",
   "metadata": {},
   "source": [
    "Lastly we sum all the times the specific x given y appears and divide by the times y appears in the corpus."
   ]
  },
  {
   "cell_type": "code",
   "execution_count": 56,
   "metadata": {},
   "outputs": [],
   "source": [
    "dic = {key:{} for key in probs.keys()}\n",
    "for key in probs:\n",
    "    x = set(probs[key])\n",
    "    for item in x:\n",
    "        n = 0\n",
    "        u = 0\n",
    "        for i in flat_tokens:\n",
    "            if item == i[0]:\n",
    "                n += 1\n",
    "            if item == i[0] and key == i[1]:\n",
    "                u += 1\n",
    "        dic[key].update({item:u/n})"
   ]
  },
  {
   "cell_type": "markdown",
   "metadata": {},
   "source": [
    "We can then see all the probabilities of the preceding words for the token \"user\". For example, the probability of \"user\" given \"user\" is 34.5% percent, and the probability of \"user\" given \"feat\" is 100% percent. Meaning if our model wants try predict what word comes after the token \"feat\", then it will with 100% certainty predict the token \"user\". "
   ]
  },
  {
   "cell_type": "code",
   "execution_count": 57,
   "metadata": {},
   "outputs": [
    {
     "data": {
      "text/plain": [
       "{'a': 0.03571428571428571,\n",
       " 'and': 0.045454545454545456,\n",
       " 'drop': 1.0,\n",
       " 'open': 1.0,\n",
       " 'if': 0.2,\n",
       " 'user': 0.3448275862068966,\n",
       " 'bones': 1.0,\n",
       " 'rt': 0.5,\n",
       " 'via': 1.0,\n",
       " 'gobolts': 1.0,\n",
       " 'follow': 0.5,\n",
       " '<s>': 0.19,\n",
       " 'caring': 1.0,\n",
       " '!!': 0.25,\n",
       " 'bay': 1.0,\n",
       " 'thanks': 1.0,\n",
       " 'feat': 1.0,\n",
       " 'with': 0.09090909090909091,\n",
       " 'the': 0.023255813953488372,\n",
       " 'online': 0.5,\n",
       " 'lol': 0.25}"
      ]
     },
     "execution_count": 57,
     "metadata": {},
     "output_type": "execute_result"
    }
   ],
   "source": [
    "dic[\"user\"]"
   ]
  },
  {
   "cell_type": "markdown",
   "metadata": {},
   "source": [
    "The reason for this model to predict \"feat\" as preciding \"user\" with 100% certainty is that \"feat\" only appears once in the corpus. This is obviously not good, since we know there are many more posibilities of words that can appear after \"feat\" than just \"user\" in future tweets. To tackle this problem we will discuss smoothing techniques next."
   ]
  },
  {
   "cell_type": "markdown",
   "metadata": {},
   "source": [
    "### Smoothing Techniques\n",
    "Smoothing techniques in NLP are used to address scenarios related to determining probability / likelihood estimate of a sequence of words (say, a sentence) occuring together when one or more words individually (unigram) or N-grams such as bigram(wi/wi−1) or trigram (wi/wi−1wi−2) in the given set have never occured in the past.\n",
    "\n",
    "##### Kneser–Ney smoothing\n",
    "Kneser–Ney smoothing is a method primarily used to calculate the probability distribution of n-grams in a document based on their histories. It is widely considered the most effective method of smoothing due to its use of absolute discounting by subtracting a fixed value from the probability's lower order terms to omit n-grams with lower frequencies.\n",
    "\n",
    "Relying on only the unigram frequency to predict the frequencies of n-grams leads to skewed results; however, Kneser–Ney smoothing corrects this by considering the frequency of the unigram in relation to possible words preceding it."
   ]
  },
  {
   "cell_type": "markdown",
   "metadata": {},
   "source": [
    "##### Kneser–Ney smoothing"
   ]
  },
  {
   "cell_type": "code",
   "execution_count": 58,
   "metadata": {},
   "outputs": [],
   "source": [
    "# Kneser Ney with nltk - Sabrina \n",
    "# is this the right tokenized dataset to be using: irony_tokens_list?\n",
    "trigrams = [ngrams(sent, 3) for sent in irony_tokens_list]\n",
    "fdist = FreqDist([item for l in trigrams for item in l])\n",
    "kneser_ney = nltk.KneserNeyProbDist(fdist)\n",
    "\n",
    "# KneserNeyProbDist: Kneser-Ney estimate of a probability distribution. This is a version of back-off that counts how likely an n-gram is provided the n-1-gram had been seen in training. Extends the ProbDistI interface, requires a trigram FreqDist instance to train on. Optionally, a different from default discount value can be specified. The default discount is set to 0.75."
   ]
  },
  {
   "cell_type": "code",
   "execution_count": 59,
   "metadata": {},
   "outputs": [
    {
     "data": {
      "text/html": [
       "<div>\n",
       "<style scoped>\n",
       "    .dataframe tbody tr th:only-of-type {\n",
       "        vertical-align: middle;\n",
       "    }\n",
       "\n",
       "    .dataframe tbody tr th {\n",
       "        vertical-align: top;\n",
       "    }\n",
       "\n",
       "    .dataframe thead th {\n",
       "        text-align: right;\n",
       "    }\n",
       "</style>\n",
       "<table border=\"1\" class=\"dataframe\">\n",
       "  <thead>\n",
       "    <tr style=\"text-align: right;\">\n",
       "      <th></th>\n",
       "      <th>n-grams</th>\n",
       "      <th>frequency</th>\n",
       "      <th>kneser_ney_prob</th>\n",
       "    </tr>\n",
       "  </thead>\n",
       "  <tbody>\n",
       "    <tr>\n",
       "      <th>0</th>\n",
       "      <td>(user, user, user)</td>\n",
       "      <td>208</td>\n",
       "      <td>0.467833</td>\n",
       "    </tr>\n",
       "    <tr>\n",
       "      <th>1</th>\n",
       "      <td>(http, t, co)</td>\n",
       "      <td>22</td>\n",
       "      <td>0.965909</td>\n",
       "    </tr>\n",
       "    <tr>\n",
       "      <th>2</th>\n",
       "      <td>(user, user, i)</td>\n",
       "      <td>18</td>\n",
       "      <td>0.038939</td>\n",
       "    </tr>\n",
       "    <tr>\n",
       "      <th>3</th>\n",
       "      <td>(i, just, love)</td>\n",
       "      <td>11</td>\n",
       "      <td>0.301471</td>\n",
       "    </tr>\n",
       "    <tr>\n",
       "      <th>4</th>\n",
       "      <td>(i, have, to)</td>\n",
       "      <td>11</td>\n",
       "      <td>0.209184</td>\n",
       "    </tr>\n",
       "    <tr>\n",
       "      <th>...</th>\n",
       "      <td>...</td>\n",
       "      <td>...</td>\n",
       "      <td>...</td>\n",
       "    </tr>\n",
       "    <tr>\n",
       "      <th>31248</th>\n",
       "      <td>(when, someone, who)</td>\n",
       "      <td>1</td>\n",
       "      <td>0.041667</td>\n",
       "    </tr>\n",
       "    <tr>\n",
       "      <th>31249</th>\n",
       "      <td>(clever, you, !)</td>\n",
       "      <td>1</td>\n",
       "      <td>0.250000</td>\n",
       "    </tr>\n",
       "    <tr>\n",
       "      <th>31250</th>\n",
       "      <td>(user, clever, you)</td>\n",
       "      <td>1</td>\n",
       "      <td>0.250000</td>\n",
       "    </tr>\n",
       "    <tr>\n",
       "      <th>31251</th>\n",
       "      <td>(water, right, now)</td>\n",
       "      <td>1</td>\n",
       "      <td>0.250000</td>\n",
       "    </tr>\n",
       "    <tr>\n",
       "      <th>31252</th>\n",
       "      <td>(disintegrates, !, science)</td>\n",
       "      <td>1</td>\n",
       "      <td>0.250000</td>\n",
       "    </tr>\n",
       "  </tbody>\n",
       "</table>\n",
       "<p>31253 rows × 3 columns</p>\n",
       "</div>"
      ],
      "text/plain": [
       "                           n-grams  frequency  kneser_ney_prob\n",
       "0               (user, user, user)        208         0.467833\n",
       "1                    (http, t, co)         22         0.965909\n",
       "2                  (user, user, i)         18         0.038939\n",
       "3                  (i, just, love)         11         0.301471\n",
       "4                    (i, have, to)         11         0.209184\n",
       "...                            ...        ...              ...\n",
       "31248         (when, someone, who)          1         0.041667\n",
       "31249             (clever, you, !)          1         0.250000\n",
       "31250          (user, clever, you)          1         0.250000\n",
       "31251          (water, right, now)          1         0.250000\n",
       "31252  (disintegrates, !, science)          1         0.250000\n",
       "\n",
       "[31253 rows x 3 columns]"
      ]
     },
     "execution_count": 59,
     "metadata": {},
     "output_type": "execute_result"
    }
   ],
   "source": [
    "df_fdist = pd.DataFrame.from_dict(fdist, orient='index')\n",
    "df_fdist.columns = ['frequency']\n",
    "df_fdist.index.name = 'n-grams'\n",
    "df_fdist_sorted = df_fdist.sort_values(by=['frequency'], ascending=False).reset_index()\n",
    "df_fdist_sorted['kneser_ney_prob'] = df_fdist_sorted['n-grams'].apply(kneser_ney.prob)\n",
    "df_fdist_sorted"
   ]
  },
  {
   "cell_type": "markdown",
   "metadata": {},
   "source": [
    "### Custom word embedding"
   ]
  },
  {
   "cell_type": "markdown",
   "metadata": {},
   "source": [
    "Information about word embedding was mostly found here: https://www.shanelynn.ie/get-busy-with-word-embeddings-introduction/ <br>\n",
    "The code for the word embedding implementation was greatly inspired by this web post: https://www.shanelynn.ie/word-embeddings-in-python-with-spacy-and-gensim/ <br>"
   ]
  },
  {
   "cell_type": "markdown",
   "metadata": {},
   "source": [
    "Every word can be represented by a vector. Word embeddings are N-dimensional vectors that try to capture word-meaning and context in their values. For the vectors to be useful, they should for a vocabulary capture the meaning of the words, the relationship between words, and the context of different words as they are used naturally. <br>\n",
    "<br>\n",
    "To capture this we can encode different meanings to the words, and therefore represent each word as an N dimensional vector. Then the relation between each word is measured by the euclidean distance. <br>\n",
    "<br>\n",
    "If one manages to create meaningfull encodings and assigns the values of each word in a good way, it can help machine learning models. Meaning words that were not seen during training, but is known in the word embedding space, will not be the cause of the model not functioning. For example if a model is trained to recognise vectors for “car”, “van”, “jeep”, or “automobile”, it will still behave well to the vector for “truck” due to the similarity of the vectors. Word embedding only works well with alot of data, thereore we are going to need more data than just the irony training data. For the demonstration of word embedding we are going to use all the training data from \"emotion\", \"hate\", \"irony\", \"offensive\" and \"sentiment\" datasets, as well as the testing data from the \"sentiment\" dataset (because it provided a lot of data)."
   ]
  },
  {
   "cell_type": "code",
   "execution_count": 60,
   "metadata": {},
   "outputs": [
    {
     "data": {
      "text/plain": [
       "75433"
      ]
     },
     "execution_count": 60,
     "metadata": {},
     "output_type": "execute_result"
    }
   ],
   "source": [
    "train_emotion = pd.read_csv(\"../datasets/emotion/train_text.txt\", delimiter = \"\\n\", names = [\"tweet\"])\n",
    "train_hate = pd.read_csv(\"../datasets/hate/train_text.txt\", delimiter = \"\\n\", names = [\"tweet\"])\n",
    "train_offensive = pd.read_csv(\"../datasets/offensive/train_text.txt\", delimiter = \"\\n\", names = [\"tweet\"])\n",
    "train_sentiment = pd.read_csv(\"../datasets/sentiment/train_text.txt\", delimiter = \"\\n\", names = [\"tweet\"])\n",
    "train_iron = pd.read_csv(\"../datasets/irony/train_text.txt\", delimiter = \"\\n\", names = [\"tweet\"])\n",
    "test_sentiment = pd.read_csv(\"../datasets/sentiment/test_text.txt\", delimiter = \"\\n\", names = [\"tweet\"])\n",
    "master = pd.concat([train_emotion, train_iron, train_hate, train_offensive, train_sentiment, test_sentiment])\n",
    "len(master)"
   ]
  },
  {
   "cell_type": "markdown",
   "metadata": {},
   "source": [
    "With all this data combined we now have 75000 tweets. We then tokenize the tweets."
   ]
  },
  {
   "cell_type": "code",
   "execution_count": 61,
   "metadata": {},
   "outputs": [],
   "source": [
    "master_list = []\n",
    "for tweet in master[\"tweet\"]:\n",
    "    tokenized = tokenize_ideal(tweet)\n",
    "    master_list.append(tokenized[2])"
   ]
  },
  {
   "cell_type": "code",
   "execution_count": 62,
   "metadata": {},
   "outputs": [],
   "source": [
    "all_sentences = master_list\n",
    "common_terms = [\"of\", \"with\", \"without\", \"and\", \"or\", \"the\", \"a\", \"it\", \"it's\", \"its\"]\n",
    "phrases = Phrases(all_sentences, connector_words = common_terms)\n",
    "bigram = Phraser(phrases)\n",
    "all_sentences = list(bigram[all_sentences])"
   ]
  },
  {
   "cell_type": "markdown",
   "metadata": {},
   "source": [
    "We train our Word2Vec model with the tokenized master dataset. We set our vectors to have a dimension of 100, set the context window to be 5 words and exclude words that only appear once."
   ]
  },
  {
   "cell_type": "code",
   "execution_count": 63,
   "metadata": {},
   "outputs": [],
   "source": [
    "embed_model = Word2Vec(all_sentences, \n",
    "                 min_count=2,   # Ignore words that appear less than this\n",
    "                 vector_size=100,      # Dimensionality of word embeddings\n",
    "                 workers=2,     # Number of processors (parallelisation)\n",
    "                 window=5,      # Context window for words during training\n",
    "                 epochs=30)       # Number of epochs training over corpus"
   ]
  },
  {
   "cell_type": "code",
   "execution_count": 64,
   "metadata": {},
   "outputs": [
    {
     "data": {
      "text/plain": [
       "35206"
      ]
     },
     "execution_count": 64,
     "metadata": {},
     "output_type": "execute_result"
    }
   ],
   "source": [
    "embed_model.wv.vectors.shape[0]"
   ]
  },
  {
   "cell_type": "markdown",
   "metadata": {},
   "source": [
    "We see a vocabulary of 35206 unique words, which each appears more than once in the master dataset."
   ]
  },
  {
   "cell_type": "code",
   "execution_count": 65,
   "metadata": {},
   "outputs": [
    {
     "data": {
      "text/plain": [
       "[('great', 0.6351083517074585),\n",
       " ('bad', 0.6246265769004822),\n",
       " ('nice', 0.5553996562957764),\n",
       " ('hard', 0.5248222947120667),\n",
       " ('decent', 0.5043240189552307),\n",
       " ('weird', 0.4821866452693939),\n",
       " ('terrible', 0.4555666148662567),\n",
       " ('cool', 0.4445820152759552),\n",
       " ('real', 0.4442393183708191),\n",
       " ('comfortable', 0.4438475966453552)]"
      ]
     },
     "execution_count": 65,
     "metadata": {},
     "output_type": "execute_result"
    }
   ],
   "source": [
    "embed_model.wv.most_similar(\"good\", topn = 10)"
   ]
  },
  {
   "cell_type": "markdown",
   "metadata": {},
   "source": [
    "Now we can see the top words that are supposed to have similar context - often of same lexical category. One would expect the word \"good\" to lie next to words like \"nice\" and \"great\", and indeed our model is predicting this. However, it is also predicting the opposite meaning words like \"bad\" and \"hard\", as they are also words that could replace \"good\" and the sentence would probably still make sense."
   ]
  },
  {
   "cell_type": "markdown",
   "metadata": {},
   "source": [
    "## Stance: Atheism\n",
    "Corpus, vocabulary and token-ratio"
   ]
  },
  {
   "cell_type": "markdown",
   "metadata": {},
   "source": [
    "### Corpus size"
   ]
  },
  {
   "cell_type": "code",
   "execution_count": 66,
   "metadata": {},
   "outputs": [
    {
     "name": "stdout",
     "output_type": "stream",
     "text": [
      "Number of lines, words and characters in the training text file for the multi class Stance: atheism. \n",
      "\n"
     ]
    },
    {
     "name": "stderr",
     "output_type": "stream",
     "text": [
      "'wc' is not recognized as an internal or external command,\n",
      "operable program or batch file.\n"
     ]
    },
    {
     "name": "stdout",
     "output_type": "stream",
     "text": [
      "Number of lines in the training label file for the multi class Stance: atheism.\n"
     ]
    },
    {
     "name": "stderr",
     "output_type": "stream",
     "text": [
      "'wc' is not recognized as an internal or external command,\n",
      "operable program or batch file.\n"
     ]
    }
   ],
   "source": [
    "!wc \"../datasets/stance/atheism/train_text.txt\"\n",
    "print(\"Number of lines, words and characters in the training text file for the multi class Stance: atheism. \\n\")\n",
    "\n",
    "!wc -l \"../datasets/stance/atheism/train_labels.txt\"\n",
    "print(\"Number of lines in the training label file for the multi class Stance: atheism.\")"
   ]
  },
  {
   "cell_type": "code",
   "execution_count": 67,
   "metadata": {},
   "outputs": [
    {
     "name": "stdout",
     "output_type": "stream",
     "text": [
      "461 8388 49704\n",
      "Number of lines, words and characters in the training text file for the multiclass stance/atheism \n",
      "\n",
      "461\n",
      "Number of lines in the training label file for the multiclass stance/atheism\n"
     ]
    }
   ],
   "source": [
    "# Displays the above with distinction that it is viewable with windows os.\n",
    "word_count(\"multiclass\", \"stance/atheism\")"
   ]
  },
  {
   "cell_type": "code",
   "execution_count": 68,
   "metadata": {},
   "outputs": [
    {
     "name": "stdout",
     "output_type": "stream",
     "text": [
      "30.013642564802183\n"
     ]
    }
   ],
   "source": [
    "sum_atheism = len(train_atheism) + len(test_atheism) + len(validation_atheism)\n",
    "print((len(test_atheism)/sum_atheism)*100)"
   ]
  },
  {
   "cell_type": "markdown",
   "metadata": {},
   "source": [
    "### Count of tweets per label"
   ]
  },
  {
   "cell_type": "code",
   "execution_count": 69,
   "metadata": {},
   "outputs": [],
   "source": [
    "atheism_train = pd.concat([train_atheism, train_atheism_labels], axis=1)\n",
    "atheism_val   = pd.concat([validation_atheism, validation_atheism_labels], axis=1)\n",
    "atheism_test  = pd.concat([test_atheism,  test_atheism_labels],  axis=1)"
   ]
  },
  {
   "cell_type": "code",
   "execution_count": 70,
   "metadata": {},
   "outputs": [
    {
     "data": {
      "text/plain": [
       "1    273\n",
       "0    105\n",
       "2     83\n",
       "Name: labels, dtype: int64"
      ]
     },
     "execution_count": 70,
     "metadata": {},
     "output_type": "execute_result"
    }
   ],
   "source": [
    "atheism_train['labels'].value_counts()"
   ]
  },
  {
   "cell_type": "code",
   "execution_count": 71,
   "metadata": {},
   "outputs": [
    {
     "data": {
      "text/plain": [
       "1    31\n",
       "0    12\n",
       "2     9\n",
       "Name: labels, dtype: int64"
      ]
     },
     "execution_count": 71,
     "metadata": {},
     "output_type": "execute_result"
    }
   ],
   "source": [
    "atheism_val['labels'].value_counts()"
   ]
  },
  {
   "cell_type": "code",
   "execution_count": 72,
   "metadata": {},
   "outputs": [
    {
     "data": {
      "text/plain": [
       "1    160\n",
       "2     32\n",
       "0     28\n",
       "Name: labels, dtype: int64"
      ]
     },
     "execution_count": 72,
     "metadata": {},
     "output_type": "execute_result"
    }
   ],
   "source": [
    "atheism_test['labels'].value_counts()"
   ]
  },
  {
   "cell_type": "markdown",
   "metadata": {},
   "source": [
    "### Token-ration\n",
    "Tokenizing the tweets of the <i>Stance: Atheism</i> class and creating the corresponding vocabulary as well as the token count."
   ]
  },
  {
   "cell_type": "code",
   "execution_count": 73,
   "metadata": {},
   "outputs": [],
   "source": [
    "atheism_tokens = []\n",
    "atheism_tokens_list = []\n",
    "atheism_unmatches = []\n",
    "for tweet in train_atheism[\"tweets\"]:\n",
    "    tokenized = tokenize_ideal(tweet)\n",
    "    atheism_tokens_list.append(tokenized[2])\n",
    "    for token in tokenized[2]:\n",
    "        atheism_tokens.append(token)\n",
    "    for un in tokenized[1]:\n",
    "        atheism_unmatches.append(un)"
   ]
  },
  {
   "cell_type": "code",
   "execution_count": 74,
   "metadata": {},
   "outputs": [
    {
     "name": "stdout",
     "output_type": "stream",
     "text": [
      "Number of tokens:  8560\n",
      "Number of unique tokens:  2259\n"
     ]
    }
   ],
   "source": [
    "atheism_vocabulary = vocabulary(atheism_tokens)\n",
    "print(\"Number of tokens: \", sum(atheism_vocabulary[\"frequency\"]))\n",
    "print(\"Number of unique tokens: \", len(atheism_vocabulary[\"frequency\"]))"
   ]
  },
  {
   "cell_type": "markdown",
   "metadata": {},
   "source": [
    "Most frequent tokens and their corresponding count in the vocabulary for the <i> Stance: Abortion </i> class."
   ]
  },
  {
   "cell_type": "code",
   "execution_count": 75,
   "metadata": {},
   "outputs": [
    {
     "name": "stdout",
     "output_type": "stream",
     "text": [
      "['semst', 'the', 'to', 'of', 'and', 'you', 'is', 'user', 'god', 'in']\n",
      "[461, 308, 186, 182, 176, 157, 140, 135, 135, 133]\n"
     ]
    }
   ],
   "source": [
    "print(list(atheism_vocabulary[\"word\"])[0:10])\n",
    "print(list(atheism_vocabulary[\"frequency\"])[0:10])"
   ]
  },
  {
   "cell_type": "markdown",
   "metadata": {},
   "source": [
    "Amount of least occuring tokens and examples hereof."
   ]
  },
  {
   "cell_type": "code",
   "execution_count": 76,
   "metadata": {},
   "outputs": [
    {
     "name": "stdout",
     "output_type": "stream",
     "text": [
      "Amount of tokens occurring 1 times: 1481\n",
      "Amount of tokens occurring 2 times: 308\n",
      "Amount of tokens occurring 3 times: 126\n",
      "Amount of tokens occurring 4 times: 74\n",
      "Amount of tokens occurring 5 times: 53\n",
      "Amount of tokens occurring 6 times: 34\n",
      "Amount of tokens occurring 7 times: 23\n",
      "Amount of tokens occurring 8 times: 18\n",
      "Amount of tokens occurring 9 times: 15\n",
      "Amount of tokens occurring 10 times: 15\n"
     ]
    }
   ],
   "source": [
    "for i in range(1,11):\n",
    "    print(\"Amount of tokens occurring\", i,\"times:\", len(atheism_vocabulary[atheism_vocabulary[\"frequency\"] == i]))"
   ]
  },
  {
   "cell_type": "code",
   "execution_count": 77,
   "metadata": {},
   "outputs": [
    {
     "name": "stdout",
     "output_type": "stream",
     "text": [
      "5 tokens occuring 1 times \n",
      " 1631    lyrictweet\n",
      "1629          wear\n",
      "1656           ibn\n",
      "2196     catholics\n",
      "2179          till\n",
      "Name: word, dtype: object \n",
      "\n",
      "5 tokens occuring 2 times \n",
      " 1591     lovely\n",
      "1340        few\n",
      "783     culture\n",
      "1341    friends\n",
      "1597        try\n",
      "Name: word, dtype: object \n",
      "\n",
      "5 tokens occuring 3 times \n",
      " 732               bush\n",
      "1967            sahaba\n",
      "874                say\n",
      "650     scotusmarriage\n",
      "507          president\n",
      "Name: word, dtype: object \n",
      "\n",
      "5 tokens occuring 4 times \n",
      " 369       usa\n",
      "454     human\n",
      "339     until\n",
      "1078        s\n",
      "1012     ever\n",
      "Name: word, dtype: object \n",
      "\n",
      "5 tokens occuring 5 times \n",
      " 232       making\n",
      "318        makes\n",
      "497    beautiful\n",
      "293         full\n",
      "550         then\n",
      "Name: word, dtype: object \n",
      "\n"
     ]
    }
   ],
   "source": [
    "for i in range(1, 6):\n",
    "    print(\"5 tokens occuring\", i, \"times \\n\", atheism_vocabulary[\"word\"][atheism_vocabulary[\"frequency\"] == i][:5], \"\\n\")"
   ]
  },
  {
   "cell_type": "markdown",
   "metadata": {},
   "source": [
    "Accumulating the frequency for each word in the vocabulary dataframe."
   ]
  },
  {
   "cell_type": "code",
   "execution_count": 78,
   "metadata": {},
   "outputs": [],
   "source": [
    "accu = []\n",
    "count = 0\n",
    "for i in range(len(atheism_vocabulary[\"frequency\"])):\n",
    "    count = count + list(atheism_vocabulary[\"frequency\"])[i]\n",
    "    accu.append(count/len(atheism_tokens))\n",
    "    \n",
    "atheism_vocabulary[\"cumulative_frequency\"] = accu"
   ]
  },
  {
   "cell_type": "code",
   "execution_count": 79,
   "metadata": {},
   "outputs": [
    {
     "data": {
      "text/html": [
       "<div>\n",
       "<style scoped>\n",
       "    .dataframe tbody tr th:only-of-type {\n",
       "        vertical-align: middle;\n",
       "    }\n",
       "\n",
       "    .dataframe tbody tr th {\n",
       "        vertical-align: top;\n",
       "    }\n",
       "\n",
       "    .dataframe thead th {\n",
       "        text-align: right;\n",
       "    }\n",
       "</style>\n",
       "<table border=\"1\" class=\"dataframe\">\n",
       "  <thead>\n",
       "    <tr style=\"text-align: right;\">\n",
       "      <th></th>\n",
       "      <th>word</th>\n",
       "      <th>frequency</th>\n",
       "      <th>cumulative_frequency</th>\n",
       "      <th>rank</th>\n",
       "    </tr>\n",
       "  </thead>\n",
       "  <tbody>\n",
       "    <tr>\n",
       "      <th>9</th>\n",
       "      <td>semst</td>\n",
       "      <td>461</td>\n",
       "      <td>0.053855</td>\n",
       "      <td>1</td>\n",
       "    </tr>\n",
       "    <tr>\n",
       "      <th>7</th>\n",
       "      <td>the</td>\n",
       "      <td>308</td>\n",
       "      <td>0.089836</td>\n",
       "      <td>2</td>\n",
       "    </tr>\n",
       "    <tr>\n",
       "      <th>27</th>\n",
       "      <td>to</td>\n",
       "      <td>186</td>\n",
       "      <td>0.111565</td>\n",
       "      <td>3</td>\n",
       "    </tr>\n",
       "    <tr>\n",
       "      <th>107</th>\n",
       "      <td>of</td>\n",
       "      <td>182</td>\n",
       "      <td>0.132827</td>\n",
       "      <td>4</td>\n",
       "    </tr>\n",
       "    <tr>\n",
       "      <th>6</th>\n",
       "      <td>and</td>\n",
       "      <td>176</td>\n",
       "      <td>0.153388</td>\n",
       "      <td>5</td>\n",
       "    </tr>\n",
       "    <tr>\n",
       "      <th>...</th>\n",
       "      <td>...</td>\n",
       "      <td>...</td>\n",
       "      <td>...</td>\n",
       "      <td>...</td>\n",
       "    </tr>\n",
       "    <tr>\n",
       "      <th>1106</th>\n",
       "      <td>newly</td>\n",
       "      <td>1</td>\n",
       "      <td>0.999533</td>\n",
       "      <td>2255</td>\n",
       "    </tr>\n",
       "    <tr>\n",
       "      <th>1103</th>\n",
       "      <td>exalt</td>\n",
       "      <td>1</td>\n",
       "      <td>0.999650</td>\n",
       "      <td>2256</td>\n",
       "    </tr>\n",
       "    <tr>\n",
       "      <th>1101</th>\n",
       "      <td>mighty</td>\n",
       "      <td>1</td>\n",
       "      <td>0.999766</td>\n",
       "      <td>2257</td>\n",
       "    </tr>\n",
       "    <tr>\n",
       "      <th>1097</th>\n",
       "      <td>scary</td>\n",
       "      <td>1</td>\n",
       "      <td>0.999883</td>\n",
       "      <td>2258</td>\n",
       "    </tr>\n",
       "    <tr>\n",
       "      <th>2258</th>\n",
       "      <td>different</td>\n",
       "      <td>1</td>\n",
       "      <td>1.000000</td>\n",
       "      <td>2259</td>\n",
       "    </tr>\n",
       "  </tbody>\n",
       "</table>\n",
       "<p>2259 rows × 4 columns</p>\n",
       "</div>"
      ],
      "text/plain": [
       "           word  frequency  cumulative_frequency  rank\n",
       "9         semst        461              0.053855     1\n",
       "7           the        308              0.089836     2\n",
       "27           to        186              0.111565     3\n",
       "107          of        182              0.132827     4\n",
       "6           and        176              0.153388     5\n",
       "...         ...        ...                   ...   ...\n",
       "1106      newly          1              0.999533  2255\n",
       "1103      exalt          1              0.999650  2256\n",
       "1101     mighty          1              0.999766  2257\n",
       "1097      scary          1              0.999883  2258\n",
       "2258  different          1              1.000000  2259\n",
       "\n",
       "[2259 rows x 4 columns]"
      ]
     },
     "execution_count": 79,
     "metadata": {},
     "output_type": "execute_result"
    }
   ],
   "source": [
    "atheism_vocabulary[\"rank\"] = [i+1 for i in range(len(atheism_vocabulary[\"word\"]))]\n",
    "atheism_vocabulary"
   ]
  },
  {
   "cell_type": "markdown",
   "metadata": {},
   "source": [
    "Plotting the cummulative count for each word."
   ]
  },
  {
   "cell_type": "code",
   "execution_count": 80,
   "metadata": {},
   "outputs": [
    {
     "data": {
      "image/png": "[encoded data removed]",
      "text/plain": [
       "<Figure size 432x288 with 1 Axes>"
      ]
     },
     "metadata": {},
     "output_type": "display_data"
    }
   ],
   "source": [
    "sns.scatterplot(x = atheism_vocabulary[\"rank\"], y = atheism_vocabulary[\"cumulative_frequency\"], linewidth=0);"
   ]
  },
  {
   "cell_type": "markdown",
   "metadata": {},
   "source": [
    "##### Illustration of Zipf's law <br>"
   ]
  },
  {
   "cell_type": "code",
   "execution_count": 81,
   "metadata": {},
   "outputs": [],
   "source": [
    "atheism_vocabulary[\"log_frequency\"] = np.log(atheism_vocabulary[\"frequency\"])\n",
    "atheism_vocabulary['log_rank'] = np.log(atheism_vocabulary[\"rank\"])\n",
    "#vocabulary"
   ]
  },
  {
   "cell_type": "markdown",
   "metadata": {},
   "source": [
    "By plotting the log frequency and the log rank we see an almost linear relationship between the tokens."
   ]
  },
  {
   "cell_type": "code",
   "execution_count": 82,
   "metadata": {},
   "outputs": [
    {
     "data": {
      "image/png": "[encoded data removed]",
      "text/plain": [
       "<Figure size 432x288 with 1 Axes>"
      ]
     },
     "metadata": {},
     "output_type": "display_data"
    }
   ],
   "source": [
    "sns.scatterplot(data = atheism_vocabulary, x = \"log_rank\", y = \"log_frequency\", linewidth=0);"
   ]
  },
  {
   "cell_type": "code",
   "execution_count": 83,
   "metadata": {},
   "outputs": [],
   "source": [
    "Na = atheism_vocabulary['frequency'].sum()\n",
    "atheism_vocabulary['proportion'] = atheism_vocabulary['frequency']/Na\n",
    "atheism_vocabulary['predicted_proportion'] = (1/atheism_vocabulary['rank']**1)/(np.sum(1/(np.arange(1, Na+1)**1))) # zipfs prediction"
   ]
  },
  {
   "cell_type": "code",
   "execution_count": 84,
   "metadata": {},
   "outputs": [
    {
     "data": {
      "image/png": "[encoded data removed]",
      "text/plain": [
       "<Figure size 576x360 with 1 Axes>"
      ]
     },
     "metadata": {},
     "output_type": "display_data"
    }
   ],
   "source": [
    "fig_atheism, a = plt.subplots(figsize = (8,5))\n",
    "a = sns.scatterplot(x=atheism_vocabulary[\"rank\"], y=atheism_vocabulary['proportion'], linewidth=0)\n",
    "a = sns.scatterplot(x=atheism_vocabulary[\"rank\"], y=atheism_vocabulary['predicted_proportion'], linewidth=0)\n",
    "a.set(yscale=\"log\", xscale=\"log\")\n",
    "plt.xlabel(\"log(rank of words)\")\n",
    "plt.ylabel(\"log(porpotion of words)\")\n",
    "plt.title(\"Atheism: Rank of a word and its empirical and theoretical probability\", size=14)\n",
    "fig_atheism.legend(labels=['Empirical', 'Theoretical'], bbox_to_anchor=(.89, .86), fontsize=12)\n",
    "plt.show(fig_atheism)"
   ]
  },
  {
   "cell_type": "markdown",
   "metadata": {},
   "source": [
    "## Comparing the datasets\n",
    "Comment on the difference between the binary class and the multi-class  \n",
    "mean words per tweet  \n",
    "most frequent words in each  \n",
    "how many words occur once twice etc"
   ]
  },
  {
   "cell_type": "markdown",
   "metadata": {},
   "source": [
    "First looking at the average number of characters and words in each class."
   ]
  },
  {
   "cell_type": "code",
   "execution_count": 85,
   "metadata": {},
   "outputs": [
    {
     "name": "stdout",
     "output_type": "stream",
     "text": [
      "Average character for atheism dataset: 107.82\n",
      "Average character for irony dataset: 79.09 \n",
      "\n",
      "On Average a tweet from the atheism dataset is using 1.36 times more characters than from the irony dataset.\n",
      "\n",
      "Average word for the atheism dataset: 18.2\n",
      "Average word for the irony dataset: 13.58 \n",
      "\n",
      "On Average a tweet from the atheism dataset is using 1.34 times more words than from the the irony dataset.\n"
     ]
    }
   ],
   "source": [
    "# Average character per tweet\n",
    "lengths_atheism = [len(tweet) for tweet in train_atheism[\"tweets\"]]\n",
    "lengths_irony = [len(tweet) for tweet in train_irony[\"tweets\"]]\n",
    "print(\"Average character for atheism dataset:\", round(np.mean(lengths_atheism), 2))\n",
    "print(\"Average character for irony dataset:\", round(np.mean(lengths_irony), 2), \"\\n\")\n",
    "print(\"On Average a tweet from the atheism dataset is using\",  round(np.mean(lengths_atheism)/np.mean(lengths_irony), 2), \n",
    "      \"times more characters than from the irony dataset.\\n\")\n",
    "\n",
    "#Average word per tweet\n",
    "lengths_atheism = [len(tweet.split()) for tweet in train_atheism[\"tweets\"]]\n",
    "lengths_irony = [len(tweet.split()) for tweet in train_irony[\"tweets\"]]\n",
    "print(\"Average word for the atheism dataset:\", round(np.mean(lengths_atheism), 2))\n",
    "print(\"Average word for the irony dataset:\", round(np.mean(lengths_irony), 2),\"\\n\")\n",
    "print(\"On Average a tweet from the atheism dataset is using\",  round(np.mean(lengths_atheism)/np.mean(lengths_irony), 2), \n",
    "      \"times more words than from the the irony dataset.\")"
   ]
  },
  {
   "cell_type": "markdown",
   "metadata": {},
   "source": [
    "In the evaluated dataset, people twitting about religion (or not being religous) wrote longer tweets than people expressing irony."
   ]
  },
  {
   "cell_type": "code",
   "execution_count": 86,
   "metadata": {},
   "outputs": [
    {
     "name": "stdout",
     "output_type": "stream",
     "text": [
      "40.0 % of the top 5 words in atheism dataset appear in the top 5 of the irony dataset\n",
      "80.0 % of the top 10 words in atheism dataset appear in the top 10 of the irony dataset\n",
      "75.0 % of the top 20 words in atheism dataset appear in the top 20 of the irony dataset\n",
      "68.0 % of the top 50 words in atheism dataset appear in the top 50 of the irony dataset\n",
      "69.0 % of the top 100 words in atheism dataset appear in the top 100 of the irony dataset\n"
     ]
    }
   ],
   "source": [
    "# Top n words in each dataset\n",
    "for n in [5, 10, 20, 50, 100]:\n",
    "    top_atheism = list(atheism_vocabulary[\"word\"])[0:n]\n",
    "    top_irony = list(irony_vocabulary[\"word\"])[0:n]\n",
    "    top_frequency = len([word for word in top_atheism if word in top_irony])/len(top_atheism)\n",
    "    print(top_frequency*100, \"% of the top\", n, \"words in atheism dataset appear in the top\", n ,\"of the irony dataset\")"
   ]
  },
  {
   "cell_type": "markdown",
   "metadata": {},
   "source": [
    "Here we see that most of the top words above top 5 are mostly the same, even when comparing completly different topics. This could mean that the context of the tweet is based on very few words, and the rest are just filler words."
   ]
  },
  {
   "cell_type": "code",
   "execution_count": 87,
   "metadata": {},
   "outputs": [
    {
     "data": {
      "text/html": [
       "<div>\n",
       "<style scoped>\n",
       "    .dataframe tbody tr th:only-of-type {\n",
       "        vertical-align: middle;\n",
       "    }\n",
       "\n",
       "    .dataframe tbody tr th {\n",
       "        vertical-align: top;\n",
       "    }\n",
       "\n",
       "    .dataframe thead th {\n",
       "        text-align: right;\n",
       "    }\n",
       "</style>\n",
       "<table border=\"1\" class=\"dataframe\">\n",
       "  <thead>\n",
       "    <tr style=\"text-align: right;\">\n",
       "      <th></th>\n",
       "      <th>word</th>\n",
       "      <th>frequency</th>\n",
       "    </tr>\n",
       "  </thead>\n",
       "  <tbody>\n",
       "    <tr>\n",
       "      <th>0</th>\n",
       "      <td>user</td>\n",
       "      <td>1668</td>\n",
       "    </tr>\n",
       "    <tr>\n",
       "      <th>1</th>\n",
       "      <td>the</td>\n",
       "      <td>1046</td>\n",
       "    </tr>\n",
       "    <tr>\n",
       "      <th>2</th>\n",
       "      <td>to</td>\n",
       "      <td>923</td>\n",
       "    </tr>\n",
       "    <tr>\n",
       "      <th>3</th>\n",
       "      <td>a</td>\n",
       "      <td>780</td>\n",
       "    </tr>\n",
       "    <tr>\n",
       "      <th>4</th>\n",
       "      <td>i</td>\n",
       "      <td>740</td>\n",
       "    </tr>\n",
       "    <tr>\n",
       "      <th>5</th>\n",
       "      <td>and</td>\n",
       "      <td>585</td>\n",
       "    </tr>\n",
       "    <tr>\n",
       "      <th>6</th>\n",
       "      <td>is</td>\n",
       "      <td>498</td>\n",
       "    </tr>\n",
       "    <tr>\n",
       "      <th>7</th>\n",
       "      <td>in</td>\n",
       "      <td>451</td>\n",
       "    </tr>\n",
       "    <tr>\n",
       "      <th>8</th>\n",
       "      <td>you</td>\n",
       "      <td>439</td>\n",
       "    </tr>\n",
       "    <tr>\n",
       "      <th>9</th>\n",
       "      <td>of</td>\n",
       "      <td>427</td>\n",
       "    </tr>\n",
       "  </tbody>\n",
       "</table>\n",
       "</div>"
      ],
      "text/plain": [
       "   word  frequency\n",
       "0  user       1668\n",
       "1   the       1046\n",
       "2    to        923\n",
       "3     a        780\n",
       "4     i        740\n",
       "5   and        585\n",
       "6    is        498\n",
       "7    in        451\n",
       "8   you        439\n",
       "9    of        427"
      ]
     },
     "execution_count": 87,
     "metadata": {},
     "output_type": "execute_result"
    }
   ],
   "source": [
    "top10_irony = irony_vocabulary.iloc[:10,:2].reset_index(drop=True)\n",
    "top10_irony"
   ]
  },
  {
   "cell_type": "code",
   "execution_count": 88,
   "metadata": {},
   "outputs": [
    {
     "data": {
      "text/html": [
       "<div>\n",
       "<style scoped>\n",
       "    .dataframe tbody tr th:only-of-type {\n",
       "        vertical-align: middle;\n",
       "    }\n",
       "\n",
       "    .dataframe tbody tr th {\n",
       "        vertical-align: top;\n",
       "    }\n",
       "\n",
       "    .dataframe thead th {\n",
       "        text-align: right;\n",
       "    }\n",
       "</style>\n",
       "<table border=\"1\" class=\"dataframe\">\n",
       "  <thead>\n",
       "    <tr style=\"text-align: right;\">\n",
       "      <th></th>\n",
       "      <th>word</th>\n",
       "      <th>frequency</th>\n",
       "    </tr>\n",
       "  </thead>\n",
       "  <tbody>\n",
       "    <tr>\n",
       "      <th>0</th>\n",
       "      <td>semst</td>\n",
       "      <td>461</td>\n",
       "    </tr>\n",
       "    <tr>\n",
       "      <th>1</th>\n",
       "      <td>the</td>\n",
       "      <td>308</td>\n",
       "    </tr>\n",
       "    <tr>\n",
       "      <th>2</th>\n",
       "      <td>to</td>\n",
       "      <td>186</td>\n",
       "    </tr>\n",
       "    <tr>\n",
       "      <th>3</th>\n",
       "      <td>of</td>\n",
       "      <td>182</td>\n",
       "    </tr>\n",
       "    <tr>\n",
       "      <th>4</th>\n",
       "      <td>and</td>\n",
       "      <td>176</td>\n",
       "    </tr>\n",
       "    <tr>\n",
       "      <th>5</th>\n",
       "      <td>you</td>\n",
       "      <td>157</td>\n",
       "    </tr>\n",
       "    <tr>\n",
       "      <th>6</th>\n",
       "      <td>is</td>\n",
       "      <td>140</td>\n",
       "    </tr>\n",
       "    <tr>\n",
       "      <th>7</th>\n",
       "      <td>user</td>\n",
       "      <td>135</td>\n",
       "    </tr>\n",
       "    <tr>\n",
       "      <th>8</th>\n",
       "      <td>god</td>\n",
       "      <td>135</td>\n",
       "    </tr>\n",
       "    <tr>\n",
       "      <th>9</th>\n",
       "      <td>in</td>\n",
       "      <td>133</td>\n",
       "    </tr>\n",
       "  </tbody>\n",
       "</table>\n",
       "</div>"
      ],
      "text/plain": [
       "    word  frequency\n",
       "0  semst        461\n",
       "1    the        308\n",
       "2     to        186\n",
       "3     of        182\n",
       "4    and        176\n",
       "5    you        157\n",
       "6     is        140\n",
       "7   user        135\n",
       "8    god        135\n",
       "9     in        133"
      ]
     },
     "execution_count": 88,
     "metadata": {},
     "output_type": "execute_result"
    }
   ],
   "source": [
    "top10_atheism = atheism_vocabulary.iloc[:10,:2].reset_index(drop=True)\n",
    "top10_atheism"
   ]
  },
  {
   "cell_type": "markdown",
   "metadata": {},
   "source": [
    "As twitter usenames were all changed to 'user' we can see a big difference between user mentions in both datasets. For irony the word 'user' ranks number 1 with a frequency of 1668, and for atheism it ranks 7 with a frequency of 135.\n",
    "\n",
    "Even with the difference between corpus size, we can still see that use mentions are much higher in the irony dataset."
   ]
  },
  {
   "cell_type": "code",
   "execution_count": 89,
   "metadata": {},
   "outputs": [
    {
     "data": {
      "text/html": [
       "<div>\n",
       "<style scoped>\n",
       "    .dataframe tbody tr th:only-of-type {\n",
       "        vertical-align: middle;\n",
       "    }\n",
       "\n",
       "    .dataframe tbody tr th {\n",
       "        vertical-align: top;\n",
       "    }\n",
       "\n",
       "    .dataframe thead th {\n",
       "        text-align: right;\n",
       "    }\n",
       "</style>\n",
       "<table border=\"1\" class=\"dataframe\">\n",
       "  <thead>\n",
       "    <tr style=\"text-align: right;\">\n",
       "      <th></th>\n",
       "      <th>total_tweets</th>\n",
       "      <th>total_words</th>\n",
       "      <th>user_mentions</th>\n",
       "      <th>user_mentions_percentage</th>\n",
       "    </tr>\n",
       "  </thead>\n",
       "  <tbody>\n",
       "    <tr>\n",
       "      <th>irony_train</th>\n",
       "      <td>2762</td>\n",
       "      <td>38428</td>\n",
       "      <td>1668</td>\n",
       "      <td>4.340585</td>\n",
       "    </tr>\n",
       "    <tr>\n",
       "      <th>atheism_train</th>\n",
       "      <td>461</td>\n",
       "      <td>8560</td>\n",
       "      <td>135</td>\n",
       "      <td>1.577103</td>\n",
       "    </tr>\n",
       "  </tbody>\n",
       "</table>\n",
       "</div>"
      ],
      "text/plain": [
       "               total_tweets  total_words  user_mentions  \\\n",
       "irony_train            2762        38428           1668   \n",
       "atheism_train           461         8560            135   \n",
       "\n",
       "               user_mentions_percentage  \n",
       "irony_train                    4.340585  \n",
       "atheism_train                  1.577103  "
      ]
     },
     "execution_count": 89,
     "metadata": {},
     "output_type": "execute_result"
    }
   ],
   "source": [
    "data_um = {'total_tweets': [len(train_irony), len(train_atheism)],\n",
    "        'total_words':[len(irony_tokens), len(atheism_tokens)],\n",
    "        'user_mentions':[top10_irony['frequency'][top10_irony['word'] == 'user'][0],\n",
    "         top10_atheism['frequency'][top10_atheism['word'] == 'user'][7]]\n",
    "        }\n",
    "\n",
    "user_mentions = pd.DataFrame(data_um, index =['irony_train',\n",
    "                                'atheism_train'\n",
    "                                ])\n",
    "  \n",
    "user_mentions['user_mentions_percentage'] = user_mentions['user_mentions']/user_mentions['total_words'] * 100\n",
    "\n",
    "user_mentions"
   ]
  },
  {
   "cell_type": "markdown",
   "metadata": {},
   "source": [
    "### Differences in balance/inbalance\n",
    "The irony dataset is mapped as follows:\n",
    "- 0\tnot ironic\n",
    "- 1\tironic\n",
    "\n",
    "The atheism dataset is mapped as follows:\n",
    "- 0\tnone\n",
    "- 1\tagainst\n",
    "- 2\tfavor"
   ]
  },
  {
   "cell_type": "code",
   "execution_count": 90,
   "metadata": {},
   "outputs": [
    {
     "data": {
      "text/plain": [
       "1    1445\n",
       "0    1417\n",
       "Name: labels, dtype: int64"
      ]
     },
     "execution_count": 90,
     "metadata": {},
     "output_type": "execute_result"
    }
   ],
   "source": [
    "irony_train['labels'].value_counts()"
   ]
  },
  {
   "cell_type": "code",
   "execution_count": 91,
   "metadata": {},
   "outputs": [
    {
     "data": {
      "text/plain": [
       "1    273\n",
       "0    105\n",
       "2     83\n",
       "Name: labels, dtype: int64"
      ]
     },
     "execution_count": 91,
     "metadata": {},
     "output_type": "execute_result"
    }
   ],
   "source": [
    "atheism_train['labels'].value_counts()"
   ]
  },
  {
   "cell_type": "markdown",
   "metadata": {},
   "source": [
    "As we can see above, the irony dataset has almost perfect balance, unlike the atheism dataset where we can see a big inbalance between classes.  \n",
    "\n",
    "And as there are many more tweets against atheism than neutral or in favour, this imbalance can become an issue because the predictive model would be biased towards predicting 'against' and to lesser degree to 'none' than 'favor'."
   ]
  },
  {
   "cell_type": "markdown",
   "metadata": {},
   "source": [
    "# 3. Manual Annotation and Inter-Annotator Agreement"
   ]
  },
  {
   "cell_type": "markdown",
   "metadata": {},
   "source": [
    "Smaller datasets, each consisting of 120 randomly selected tweets from each task’s training set, were provided to do manual annotation and Inter-Annotator Agreement thereof. The chosen task to do annotations was *Irony*. \n",
    "Before annotating an agreed upon scheme was discussed based on the research paper “[SemEval-2018 Task 3: Irony Detection in English Tweets](https://www.aclweb.org/anthology/S18-1005.pdf)” provided from the SemEval workshop, describing how each of the original datasets was created and annotated. Here it is stated that all annotations were done using the brat rapid annotation tool, a Web-based Tool for NLP-Assisted Text Annotation, specifically following the report “[Guidelines for Annotating Irony in Social Media Text](https://core.ac.uk/download/pdf/74589284.pdf)”. \n",
    "From this, we agreed on some definitions of irony:\n",
    "> Irony is the use of words to express something other than and especially the opposite of the literal meaning.\n",
    "\n",
    "Meaning we first and foremost were to annotate a tweet as being ironic, if the tweet was ironic by means of a literal meaning clash or not. <br>\n",
    "However, as the guide describes there are different forms of irony and an instance can therefore contain another from of irony, where there is no polarity clash, but the tweet still will be found ironic, e.g. situational irony.\n",
    "\n",
    "Therefore, when investigating the tweets, we were to think about whether the tweet was:\n",
    "- Ironic by means of a clash: the text expresses an evaluation whose literal polarity is opposite to the intended polarity. <code>1 - irony</code>\n",
    "- Other type of irony: there is no clash between the literal and the intended evaluation, but the text is still ironic. <code>1 - irony</code>\n",
    "- Not ironic: the text is not ironic. <code>0 - non_irony</code>\n",
    "\n",
    "Working independently each group member manually went through the sample and labelled them according to the agreed upon scheme. Next the Inter-annotator agreement (IAA) coefficients were computed using the [nltk.metrics.agreement module](https://www.nltk.org/api/nltk.metrics.html)."
   ]
  },
  {
   "cell_type": "code",
   "execution_count": 92,
   "metadata": {},
   "outputs": [
    {
     "data": {
      "text/html": [
       "<div>\n",
       "<style scoped>\n",
       "    .dataframe tbody tr th:only-of-type {\n",
       "        vertical-align: middle;\n",
       "    }\n",
       "\n",
       "    .dataframe tbody tr th {\n",
       "        vertical-align: top;\n",
       "    }\n",
       "\n",
       "    .dataframe thead th {\n",
       "        text-align: right;\n",
       "    }\n",
       "</style>\n",
       "<table border=\"1\" class=\"dataframe\">\n",
       "  <thead>\n",
       "    <tr style=\"text-align: right;\">\n",
       "      <th></th>\n",
       "      <th>sabrina</th>\n",
       "      <th>rasmus</th>\n",
       "      <th>ruben</th>\n",
       "      <th>ida</th>\n",
       "      <th>magnus</th>\n",
       "      <th>truth</th>\n",
       "    </tr>\n",
       "  </thead>\n",
       "  <tbody>\n",
       "    <tr>\n",
       "      <th>0</th>\n",
       "      <td>1</td>\n",
       "      <td>1</td>\n",
       "      <td>0</td>\n",
       "      <td>1</td>\n",
       "      <td>1</td>\n",
       "      <td>1</td>\n",
       "    </tr>\n",
       "    <tr>\n",
       "      <th>1</th>\n",
       "      <td>0</td>\n",
       "      <td>0</td>\n",
       "      <td>1</td>\n",
       "      <td>0</td>\n",
       "      <td>1</td>\n",
       "      <td>1</td>\n",
       "    </tr>\n",
       "    <tr>\n",
       "      <th>2</th>\n",
       "      <td>0</td>\n",
       "      <td>1</td>\n",
       "      <td>0</td>\n",
       "      <td>1</td>\n",
       "      <td>1</td>\n",
       "      <td>1</td>\n",
       "    </tr>\n",
       "    <tr>\n",
       "      <th>3</th>\n",
       "      <td>0</td>\n",
       "      <td>0</td>\n",
       "      <td>0</td>\n",
       "      <td>0</td>\n",
       "      <td>0</td>\n",
       "      <td>0</td>\n",
       "    </tr>\n",
       "    <tr>\n",
       "      <th>4</th>\n",
       "      <td>0</td>\n",
       "      <td>1</td>\n",
       "      <td>1</td>\n",
       "      <td>1</td>\n",
       "      <td>1</td>\n",
       "      <td>1</td>\n",
       "    </tr>\n",
       "    <tr>\n",
       "      <th>...</th>\n",
       "      <td>...</td>\n",
       "      <td>...</td>\n",
       "      <td>...</td>\n",
       "      <td>...</td>\n",
       "      <td>...</td>\n",
       "      <td>...</td>\n",
       "    </tr>\n",
       "    <tr>\n",
       "      <th>115</th>\n",
       "      <td>0</td>\n",
       "      <td>1</td>\n",
       "      <td>0</td>\n",
       "      <td>0</td>\n",
       "      <td>1</td>\n",
       "      <td>0</td>\n",
       "    </tr>\n",
       "    <tr>\n",
       "      <th>116</th>\n",
       "      <td>0</td>\n",
       "      <td>1</td>\n",
       "      <td>1</td>\n",
       "      <td>0</td>\n",
       "      <td>0</td>\n",
       "      <td>0</td>\n",
       "    </tr>\n",
       "    <tr>\n",
       "      <th>117</th>\n",
       "      <td>0</td>\n",
       "      <td>0</td>\n",
       "      <td>1</td>\n",
       "      <td>1</td>\n",
       "      <td>0</td>\n",
       "      <td>1</td>\n",
       "    </tr>\n",
       "    <tr>\n",
       "      <th>118</th>\n",
       "      <td>0</td>\n",
       "      <td>0</td>\n",
       "      <td>1</td>\n",
       "      <td>1</td>\n",
       "      <td>1</td>\n",
       "      <td>1</td>\n",
       "    </tr>\n",
       "    <tr>\n",
       "      <th>119</th>\n",
       "      <td>0</td>\n",
       "      <td>1</td>\n",
       "      <td>1</td>\n",
       "      <td>1</td>\n",
       "      <td>1</td>\n",
       "      <td>1</td>\n",
       "    </tr>\n",
       "  </tbody>\n",
       "</table>\n",
       "<p>120 rows × 6 columns</p>\n",
       "</div>"
      ],
      "text/plain": [
       "     sabrina  rasmus  ruben  ida  magnus  truth\n",
       "0          1       1      0    1       1      1\n",
       "1          0       0      1    0       1      1\n",
       "2          0       1      0    1       1      1\n",
       "3          0       0      0    0       0      0\n",
       "4          0       1      1    1       1      1\n",
       "..       ...     ...    ...  ...     ...    ...\n",
       "115        0       1      0    0       1      0\n",
       "116        0       1      1    0       0      0\n",
       "117        0       0      1    1       0      1\n",
       "118        0       0      1    1       1      1\n",
       "119        0       1      1    1       1      1\n",
       "\n",
       "[120 rows x 6 columns]"
      ]
     },
     "execution_count": 92,
     "metadata": {},
     "output_type": "execute_result"
    }
   ],
   "source": [
    "MAA"
   ]
  },
  {
   "cell_type": "markdown",
   "metadata": {},
   "source": [
    "Individual scores."
   ]
  },
  {
   "cell_type": "code",
   "execution_count": 93,
   "metadata": {},
   "outputs": [
    {
     "name": "stdout",
     "output_type": "stream",
     "text": [
      "sabrina 0.675\n",
      "rasmus 0.7083333333333334\n",
      "ruben 0.675\n",
      "ida 0.875\n",
      "magnus 0.5416666666666666\n",
      "truth 1.0\n"
     ]
    }
   ],
   "source": [
    "for name in MAA.columns:\n",
    "    score = 0\n",
    "    for i in range(len(MAA[name])):\n",
    "        if list(MAA[name])[i] == list(MAA[\"truth\"])[i]:\n",
    "            score += 1\n",
    "    print(name, score/120)"
   ]
  },
  {
   "cell_type": "code",
   "execution_count": 94,
   "metadata": {},
   "outputs": [],
   "source": [
    "rasmus_labels = [(\"rasmus\", i, list(MAA[\"rasmus\"])[i]) for i in range(len(list(MAA[\"rasmus\"])))]\n",
    "sabrina_labels = [(\"sabrina\", i, list(MAA[\"sabrina\"])[i]) for i in range(len(list(MAA[\"sabrina\"])))]\n",
    "ruben_labels = [(\"ruben\", i, list(MAA[\"ruben\"])[i]) for i in range(len(list(MAA[\"ruben\"])))]\n",
    "ida_labels = [(\"ida\", i, list(MAA[\"ida\"])[i]) for i in range(len(list(MAA[\"ida\"])))]\n",
    "magnus_labels = [(\"magnus\", i, list(MAA[\"magnus\"])[i]) for i in range(len(list(MAA[\"magnus\"])))]\n",
    "truth_labels = [(\"truth\", i, list(MAA[\"truth\"])[i]) for i in range(len(list(MAA[\"truth\"])))]\n",
    "\n",
    "ls_w_truth = []\n",
    "ls_wo_truth = []\n",
    "\n",
    "for i in range(len(rasmus_labels)):\n",
    "    ls_w_truth.append(sabrina_labels[i])\n",
    "    ls_w_truth.append(rasmus_labels[i])\n",
    "    ls_w_truth.append(ruben_labels[i])\n",
    "    ls_w_truth.append(ida_labels[i])\n",
    "    ls_w_truth.append(magnus_labels[i])\n",
    "    ls_w_truth.append(truth_labels[i])\n",
    "    ls_wo_truth.append(sabrina_labels[i])\n",
    "    ls_wo_truth.append(rasmus_labels[i])\n",
    "    ls_wo_truth.append(ruben_labels[i])\n",
    "    ls_wo_truth.append(ida_labels[i])\n",
    "    ls_wo_truth.append(magnus_labels[i])"
   ]
  },
  {
   "cell_type": "markdown",
   "metadata": {},
   "source": [
    "Confusion matrix for the annotations."
   ]
  },
  {
   "cell_type": "code",
   "execution_count": 95,
   "metadata": {},
   "outputs": [
    {
     "name": "stdout",
     "output_type": "stream",
     "text": [
      "sabrina \n",
      " [[62  3]\n",
      " [36 19]] \n",
      "\n",
      "rasmus \n",
      " [[53 12]\n",
      " [23 32]] \n",
      "\n",
      "ruben \n",
      " [[42 23]\n",
      " [16 39]] \n",
      "\n",
      "ida \n",
      " [[62  3]\n",
      " [12 43]] \n",
      "\n",
      "magnus \n",
      " [[18 47]\n",
      " [ 8 47]] \n",
      "\n",
      "truth \n",
      " [[65  0]\n",
      " [ 0 55]] \n",
      "\n",
      "[[non-irony labelled non-irony - non-irony labelled irony] \n",
      " [ irony labelled non-irony - irony labelled irony]]\n"
     ]
    }
   ],
   "source": [
    "y_true = MAA[\"truth\"]\n",
    "\n",
    "for name in MAA.columns:\n",
    "    print(name, \"\\n\", confusion_matrix(y_true, MAA[name]), \"\\n\")\n",
    "\n",
    "print(\"[[\"\"non-irony labelled non-irony - non-irony labelled irony\"\"]\", \"\\n\", \"[ irony labelled non-irony - irony labelled irony]]\")"
   ]
  },
  {
   "cell_type": "markdown",
   "metadata": {},
   "source": [
    "First taking a look at the IAA coefficients when <u>not</u> including the truth labels."
   ]
  },
  {
   "cell_type": "code",
   "execution_count": 96,
   "metadata": {},
   "outputs": [
    {
     "name": "stdout",
     "output_type": "stream",
     "text": [
      "Average observed agreement: 0.6016666666666667\n",
      "S score: 0.20333333333333337\n",
      "Scott's multi-pi score: 0.1941647185757958\n",
      "Cohen's kappa score: 0.2445540955840891\n",
      "Fleiss' multi-kappa score: 0.22519991355089689\n"
     ]
    }
   ],
   "source": [
    "t = AnnotationTask(data = ls_wo_truth)\n",
    "print(\"Average observed agreement:\", t.avg_Ao())\n",
    "print(\"S score:\", t.S())\n",
    "print(\"Scott's multi-pi score:\", t.pi())\n",
    "print(\"Cohen's kappa score:\", t.kappa())\n",
    "print(\"Fleiss' multi-kappa score:\", t.multi_kappa())"
   ]
  },
  {
   "cell_type": "markdown",
   "metadata": {},
   "source": [
    "Now, when including the true labels as an annotator, we get the following IAA coefficients:"
   ]
  },
  {
   "cell_type": "code",
   "execution_count": 97,
   "metadata": {},
   "outputs": [
    {
     "name": "stdout",
     "output_type": "stream",
     "text": [
      "Average observed agreement: 0.6327777777777778\n",
      "S score: 0.26555555555555554\n",
      "Scott's multi-pi score: 0.25771459319509327\n",
      "Cohen's kappa score: 0.2922829679933372\n",
      "Fleiss' multi-kappa score: 0.2770161878372467\n"
     ]
    }
   ],
   "source": [
    "t_w_truth = AnnotationTask(data = ls_w_truth)\n",
    "print(\"Average observed agreement:\", t_w_truth.avg_Ao())\n",
    "print(\"S score:\", t_w_truth.S())\n",
    "print(\"Scott's multi-pi score:\", t_w_truth.pi())\n",
    "print(\"Cohen's kappa score:\", t_w_truth.kappa())\n",
    "print(\"Fleiss' multi-kappa score:\", t_w_truth.multi_kappa())"
   ]
  },
  {
   "cell_type": "markdown",
   "metadata": {},
   "source": [
    "It is important to remember that the original annotations are done by humans. They might have been through more training and been taking longer time to do the annotations, but they are not necessarily \"true annotations\". We therefore include them, as it is an indicator of the diffuculty of carrying out annotation tasks consistently. <br>\n",
    "<br>\n",
    "Finding the pair-wise kappa scores, mostly to make a figure for the report and seeing the distribution of agreement."
   ]
  },
  {
   "cell_type": "code",
   "execution_count": 98,
   "metadata": {},
   "outputs": [
    {
     "name": "stdout",
     "output_type": "stream",
     "text": [
      "\n",
      " name: sabrina\n",
      "rasmus 0.5187165775401072\n",
      "ruben 0.24918389553862905\n",
      "ida 0.37418513689700117\n",
      "magnus 0.01880621422730981\n",
      "truth 0.3137829912023461\n",
      "\n",
      " name: rasmus\n",
      "sabrina 0.5187165775401072\n",
      "ruben 0.40528634361233473\n",
      "ida 0.39573459715639814\n",
      "magnus 0.015444015444015542\n",
      "truth 0.40340909090909105\n",
      "\n",
      " name: ruben\n",
      "sabrina 0.24918389553862905\n",
      "rasmus 0.40528634361233473\n",
      "ida 0.40463065049614094\n",
      "magnus -0.053227633069082736\n",
      "truth 0.3518005540166206\n",
      "\n",
      " name: ida\n",
      "sabrina 0.37418513689700117\n",
      "rasmus 0.39573459715639814\n",
      "ruben 0.40463065049614094\n",
      "magnus 0.11678115799803723\n",
      "truth 0.7450424929178471\n",
      "\n",
      " name: magnus\n",
      "sabrina 0.01880621422730981\n",
      "rasmus 0.015444015444015542\n",
      "ruben -0.053227633069082736\n",
      "ida 0.11678115799803723\n",
      "truth 0.12466843501326258\n",
      "\n",
      " name: truth\n",
      "sabrina 0.3137829912023461\n",
      "rasmus 0.40340909090909105\n",
      "ruben 0.3518005540166206\n",
      "ida 0.7450424929178471\n",
      "magnus 0.12466843501326258\n",
      "\n",
      "Average kappa: 0.2922829679933372\n"
     ]
    }
   ],
   "source": [
    "names = [i for i in MAA.columns]\n",
    "list_of_labels = [sabrina_labels, rasmus_labels, ruben_labels, ida_labels, magnus_labels, truth_labels]\n",
    "\n",
    "total_sum = 0\n",
    "for i, name in enumerate(names):\n",
    "    print(\"\\n name:\", name)\n",
    "    current = list_of_labels[i]\n",
    "    #print(current)\n",
    "    for idx in range(len(names)):\n",
    "        if idx != i:\n",
    "            ls = []\n",
    "            pair_with_name = names[idx]\n",
    "            pair_with = list_of_labels[idx]\n",
    "            for annotation in range(len(current)):\n",
    "                ls.append(current[annotation])\n",
    "                ls.append(pair_with[annotation])\n",
    "            #print(ls)\n",
    "            t = AnnotationTask(data = ls)\n",
    "            print(names[idx], t.kappa())\n",
    "            total_sum += t.kappa()\n",
    "\n",
    "print(\"\\nAverage kappa:\", total_sum/30)"
   ]
  },
  {
   "cell_type": "markdown",
   "metadata": {},
   "source": [
    "*(Landis and Koch, Biometrics 1977)*\n",
    "<div>\n",
    "<img src=\"../figures/LandisandKoch.png\" width=\"500\"/>\n",
    "</div>"
   ]
  },
  {
   "cell_type": "markdown",
   "metadata": {},
   "source": [
    "**Agreement Without Chance Correction**<br>\n",
    "The group got an **average observed agreement** of 0.60, which according to the rule of thumb given by Landis and Koch-scale is on the edge between being a moderate and substantial level of agreement.\n",
    "The average observed agreement between the group members can however be due to chance, as the Irony dataset only has two possible labels, causing the probability of getting a label right by chance to be high. <br><br>\n",
    "$$A_O = \\frac{\\text{no. matches}}{\\text{no. total items}}$$\n",
    "\n",
    "In the NLTK library we used the function <code>avg_o()</code> which computed the *“average observed agreement across all coders and items.”* <br>\n",
    "General problems with the observed agreement is the bias in favor of dimensions with a small number of categories. Therefore also the problem of getting figures that are comparable across studies of different dimensions with different number of categories, as it must be adjusted for chance agreement to do so. \n"
   ]
  },
  {
   "cell_type": "markdown",
   "metadata": {},
   "source": [
    "**Chance-corrected Agreement** <br>\n",
    "The three best-known coefficients, $S$ <I>(Bennett, Alpert, and Goldstein 1954)</I>, $\\pi$ <I>(Scott 1955)</I>, and $\\kappa$ <I>(Cohen 1960)</I> is in it’s basic form used when measuring agreement between two coders. Yet the NLTK library made it possible for us to use with more than two coders. \n",
    "\n",
    "The above mentioned coefficients use the following formula:\n",
    "$$ S, \\pi, \\kappa = \\frac{\\text{observed agreement} - \\text{expected agreement}}{1 - \\text{expected agreement}}$$\n",
    "\n",
    "The difference between $S$, $\\pi$ and $\\kappa$ lies in the assumptions to the calculation of the chance of coder $c_i$ assigning an arbitrary item to category $k$, as follows:\n",
    "* Coefficient of $S$ is based on the assumption that if coders were operating by chance alone, we would get a uniform distribution.\n",
    "* Coefficient of $\\pi$ is based on the assumption that if coders were operating by chance one, we would get the same distribution of each coder. \n",
    "* Coefficient of $\\kappa$ is based on the assumption that if coders were operating by chance alone, we would get a separate distribution for each coder.\n",
    "\n",
    "From: [Inter-Coder Agreement for Computational Linguistics](https://www.aclweb.org/anthology/J08-4004.pdf)"
   ]
  },
  {
   "cell_type": "markdown",
   "metadata": {},
   "source": [
    "From the NLTK librabry these functions were used to compute the following with the corresponding scores as a result:\n",
    "* <code>S()</code>: 0.2656 (Bennett, Albert and Goldstein)\n",
    "* <code>pi()</code>: 0.2577 (Scott; here, multi-pi. Equivalent to K from Siegel and Castellan)\n",
    "* <code>kappa()</code>: 0.2923 (Cohen. Averages naively over kappas for each coder pair)\n",
    "* <code>multi-kappa()</code>: 0.2770 (Davies and Fleiss. Averages over observed and expected agreements for each coder pair)"
   ]
  },
  {
   "cell_type": "markdown",
   "metadata": {},
   "source": [
    "**Inter-annotator agreement problematics**\n",
    "\n",
    "Common reasons for low intra-annotor agreement scores is:\n",
    "* ill-defined guidelines\n",
    "* use of specific priming effects\n",
    "* insuficient information to make decisions\n",
    "* different annotator background\n",
    "* different understanding of the task \n",
    "\n",
    "In general Inter-Annotator Agreement gives an indication of how well-defined and reproducible the task is. In this case it shows that the task of detecting irony in writing and especially a somewhat short text as a tweet is difficult even for the human reader. When the group discussed the annotation of the dataset afterwards it was agreed upon that possible context was lacking.\n",
    "As mentioned earlier all instances of present irony was not necessarily being in the means of a clash, but also other type of irony, making the guidelines possibly too loose and cause of diverging interpretations of when something is ironic or not."
   ]
  },
  {
   "cell_type": "markdown",
   "metadata": {},
   "source": [
    "# 4. Automatic Prediction\n",
    "---\n",
    "This section is split into two parts, Binary Classification on Irony Dataset, and Multiclass-classification on the Stance Dataset. The muliticlass-classification is further split into two parts, doing classification on a sub-stance (Atheism) and classifying whether a tweet is a specific stance with a model trained on all of the different stances at the same time. "
   ]
  },
  {
   "cell_type": "markdown",
   "metadata": {},
   "source": [
    "## Binary Classification on Irony Dataset"
   ]
  },
  {
   "cell_type": "markdown",
   "metadata": {},
   "source": [
    "### Tokenizing data"
   ]
  },
  {
   "cell_type": "markdown",
   "metadata": {},
   "source": [
    "Using the <code>tokenize_ideal</code> function from earlier to tokenize the data and converting it to be an useable datatype."
   ]
  },
  {
   "cell_type": "code",
   "execution_count": 99,
   "metadata": {},
   "outputs": [],
   "source": [
    "def tokenizer(file_name):\n",
    "    with open(file_name, 'r', encoding=\"utf8\") as f:\n",
    "        data = f.read().split(\"\\n\")\n",
    "        corpus = []\n",
    "        for line in data:\n",
    "            ls = tokenize_ideal(line)\n",
    "            corpus.append(ls[0])\n",
    "        \n",
    "        if corpus[-1] == \"\":\n",
    "            return corpus[:-1]\n",
    "        \n",
    "        return corpus\n",
    "\n",
    "train_corpus = tokenizer(\"../datasets/irony/train_text.txt\")\n",
    "test_corpus = tokenizer(\"../datasets/irony/test_text.txt\")\n",
    "validation_corpus = tokenizer(\"../datasets/irony/val_text.txt\")"
   ]
  },
  {
   "cell_type": "markdown",
   "metadata": {},
   "source": [
    "### Loading the train labels"
   ]
  },
  {
   "cell_type": "code",
   "execution_count": 100,
   "metadata": {},
   "outputs": [],
   "source": [
    "def y_data(location):\n",
    "    y_train = []\n",
    "    for i in open(location):\n",
    "        y_train.append(int(i.replace(\"\\n\",\"\")))\n",
    "    \n",
    "    return y_train\n",
    "\n",
    "y_train = y_data(\"../datasets/irony/train_labels.txt\")\n",
    "y_test = y_data(\"../datasets/irony/test_labels.txt\")\n",
    "y_val = y_data(\"../datasets/irony/val_labels.txt\")"
   ]
  },
  {
   "cell_type": "code",
   "execution_count": 101,
   "metadata": {},
   "outputs": [
    {
     "data": {
      "text/plain": [
       "Counter({1: 1445, 0: 1417})"
      ]
     },
     "execution_count": 101,
     "metadata": {},
     "output_type": "execute_result"
    }
   ],
   "source": [
    "Counter(y_train)"
   ]
  },
  {
   "cell_type": "markdown",
   "metadata": {},
   "source": [
    "Balanced data, thus we try and optimize the accuracy score."
   ]
  },
  {
   "cell_type": "markdown",
   "metadata": {},
   "source": [
    "### Creating pipeline"
   ]
  },
  {
   "cell_type": "markdown",
   "metadata": {},
   "source": [
    "Creating the pipeline, to make it easier to preprocess, train/fit and predict on data. Having it be a function to reduce duplicate code."
   ]
  },
  {
   "cell_type": "code",
   "execution_count": 102,
   "metadata": {},
   "outputs": [],
   "source": [
    "def model_pipeline(model):\n",
    "    return Pipeline([('vect', CountVectorizer(preprocessor = lambda x: x, tokenizer = lambda x: x\n",
    "                                             ,token_pattern=None)\n",
    "                     ), ('tfidf', TfidfTransformer()\n",
    "                        ), ('clf', model)])"
   ]
  },
  {
   "cell_type": "markdown",
   "metadata": {},
   "source": [
    "### Baseline model"
   ]
  },
  {
   "cell_type": "markdown",
   "metadata": {},
   "source": [
    "Training our baseline model on our tokenized training corpus."
   ]
  },
  {
   "cell_type": "code",
   "execution_count": 103,
   "metadata": {},
   "outputs": [],
   "source": [
    "LR = model_pipeline(SGDClassifier(loss='log', random_state=42)).fit(train_corpus, y_train);"
   ]
  },
  {
   "cell_type": "code",
   "execution_count": 104,
   "metadata": {},
   "outputs": [
    {
     "data": {
      "text/plain": [
       "0.556020942408377"
      ]
     },
     "execution_count": 104,
     "metadata": {},
     "output_type": "execute_result"
    }
   ],
   "source": [
    "predicted = LR.predict(validation_corpus)\n",
    "accuracy_score(predicted, y_val)"
   ]
  },
  {
   "cell_type": "markdown",
   "metadata": {},
   "source": [
    "An accuracy_score of 0.556 is not the best."
   ]
  },
  {
   "cell_type": "markdown",
   "metadata": {},
   "source": [
    "### Classification models different models"
   ]
  },
  {
   "cell_type": "markdown",
   "metadata": {},
   "source": [
    "Training different classifying models without any special tuning to see which is the best in its simplest form."
   ]
  },
  {
   "cell_type": "code",
   "execution_count": 105,
   "metadata": {},
   "outputs": [],
   "source": [
    "KNN = model_pipeline(KNeighborsClassifier()).fit(train_corpus, y_train)\n",
    "DTC = model_pipeline(DecisionTreeClassifier(random_state=42)).fit(train_corpus, y_train)\n",
    "RFC = model_pipeline(RandomForestClassifier(random_state=42)).fit(train_corpus, y_train)\n",
    "SV  = model_pipeline(SVC(random_state=42)).fit(train_corpus, y_train)\n",
    "NB  = model_pipeline(MultinomialNB()).fit(train_corpus,y_train)"
   ]
  },
  {
   "cell_type": "markdown",
   "metadata": {},
   "source": [
    "#### Comparison"
   ]
  },
  {
   "cell_type": "code",
   "execution_count": 106,
   "metadata": {},
   "outputs": [],
   "source": [
    "modelsc = [LR, KNN, DTC, RFC, SV, NB]\n",
    "d = [\"LogisticRegression\",\n",
    "     \"KNearestNeighbor\",\n",
    "     \"DecisionTreeClassifier\",\n",
    "     \"RandomForestClassifier\",\n",
    "     \"SupportVectorClassifier\",\n",
    "     \"NaiveBayes\"]"
   ]
  },
  {
   "cell_type": "markdown",
   "metadata": {},
   "source": [
    "Finding the different metrics that are useable and give insight into how good the specific model is. Here we mainly look at accuracy_score and f1 score since recall and precision can be \"gamed\" but they can not both be gamed at the same time, thus using the f1 score gives credible insight into both recall and precision and thus an overall score for the performance of the model."
   ]
  },
  {
   "cell_type": "markdown",
   "metadata": {},
   "source": [
    "Accuracy is the proportion of elements classified correctly:\n",
    "\n",
    "$$Accuracy = \\frac{\\text{sum of diagonal}}{\\text{total sum}}$$\n",
    "\n",
    "Accuracy can be very misleading in unbalanced datasets."
   ]
  },
  {
   "cell_type": "markdown",
   "metadata": {},
   "source": [
    "Precision: Out of the examples we **predicted to be** in a certain class, how many of them are correct?\n",
    "<br><br>\n",
    "$$\n",
    "Precision=\\frac{\\text{single diagonal element}}{\\text{sum of a single column} }\n",
    "$$\n"
   ]
  },
  {
   "cell_type": "markdown",
   "metadata": {},
   "source": [
    "Recall: Out of the examples **that actually belong** to a certain class, how many of them did we find?\n",
    "<br><br>\n",
    "$$\n",
    "Recall = \\frac{\\text{single diagonal element}}{\\text{sum of a single row} }\n",
    "$$"
   ]
  },
  {
   "cell_type": "markdown",
   "metadata": {},
   "source": [
    "F-score: Harmonic mean of Precision and Recall\n",
    "\n",
    "$$\n",
    "F_{score} = 2 \\cdot \\frac{P\\cdot R}{P+R}\n",
    "$$"
   ]
  },
  {
   "cell_type": "code",
   "execution_count": 107,
   "metadata": {},
   "outputs": [
    {
     "name": "stdout",
     "output_type": "stream",
     "text": [
      "LogisticRegression: \n",
      "     - accuracy score:\t   0.556020942408377\n",
      "     - recall score: \t   0.6710526315789473\n",
      "     - precision score:\t   0.5275862068965518\n",
      "     - f1 score:\t   0.5907335907335908\n",
      "\n",
      "KNearestNeighbor: \n",
      "     - accuracy score:\t   0.5267015706806283\n",
      "     - recall score: \t   0.5504385964912281\n",
      "     - precision score:\t   0.5040160642570282\n",
      "     - f1 score:\t   0.5262054507337526\n",
      "\n",
      "DecisionTreeClassifier: \n",
      "     - accuracy score:\t   0.5403141361256545\n",
      "     - recall score: \t   0.5482456140350878\n",
      "     - precision score:\t   0.5175983436853002\n",
      "     - f1 score:\t   0.5324813631522897\n",
      "\n",
      "RandomForestClassifier: \n",
      "     - accuracy score:\t   0.574869109947644\n",
      "     - recall score: \t   0.543859649122807\n",
      "     - precision score:\t   0.5560538116591929\n",
      "     - f1 score:\t   0.5498891352549888\n",
      "\n",
      "SupportVectorClassifier: \n",
      "     - accuracy score:\t   0.5539267015706806\n",
      "     - recall score: \t   0.6271929824561403\n",
      "     - precision score:\t   0.5276752767527675\n",
      "     - f1 score:\t   0.5731462925851704\n",
      "\n",
      "NaiveBayes: \n",
      "     - accuracy score:\t   0.5193717277486911\n",
      "     - recall score: \t   0.8070175438596491\n",
      "     - precision score:\t   0.4979702300405954\n",
      "     - f1 score:\t   0.6158995815899582\n",
      "\n"
     ]
    }
   ],
   "source": [
    "for idx, model in enumerate(modelsc):\n",
    "    name = d[idx]\n",
    "    predict = model.predict(validation_corpus)\n",
    "    print(str(name) + \": \")\n",
    "    print(\"     - accuracy score:\\t   {}\"  .format(accuracy_score( y_val, predict)))\n",
    "    print(\"     - recall score: \\t   {}\"   .format(recall_score(   y_val, predict)))\n",
    "    print(\"     - precision score:\\t   {}\" .format(precision_score(y_val, predict)))\n",
    "    print(\"     - f1 score:\\t   {}\"        .format(f1_score(       y_val, predict)))\n",
    "    print()"
   ]
  },
  {
   "cell_type": "markdown",
   "metadata": {},
   "source": [
    "Now doing cross-validation on the validation dataset and taking the mean of the cross-validation-scores, we can find the overall best models for our task."
   ]
  },
  {
   "cell_type": "code",
   "execution_count": 108,
   "metadata": {},
   "outputs": [
    {
     "data": {
      "image/png": "[encoded data removed]",
      "text/plain": [
       "<Figure size 1440x576 with 1 Axes>"
      ]
     },
     "metadata": {},
     "output_type": "display_data"
    }
   ],
   "source": [
    "r = pd.DataFrame(columns=[\"MODELS\",\"R2CV\"])\n",
    "for i, model in enumerate(modelsc):\n",
    "    name = d[i]\n",
    "    R2CV = cross_val_score(model,validation_corpus,y_val,cv=2).mean()\n",
    "    result = pd.DataFrame([[name,R2CV*100]],columns=[\"MODELS\",\"R2CV\"])\n",
    "    r = r.append(result)\n",
    "\n",
    "figure = plt.figure(figsize=(20,8))\n",
    "sns.barplot(x=\"R2CV\",y=\"MODELS\",data=r,color=\"k\")\n",
    "plt.xlabel(\"Cross Val Score\")\n",
    "plt.ylabel(\"MODELS\")\n",
    "plt.xlim(0,100)\n",
    "plt.title(\"MODEL ACCURACY COMPARISON\")\n",
    "plt.show()"
   ]
  },
  {
   "cell_type": "markdown",
   "metadata": {},
   "source": [
    "Here we see that none of our models perform particularly well, though we still have some models performing better than others."
   ]
  },
  {
   "cell_type": "markdown",
   "metadata": {},
   "source": [
    "#### Tuning the best models"
   ]
  },
  {
   "cell_type": "markdown",
   "metadata": {},
   "source": [
    "Now we try to find the best possible combination of parameters to achieve the highest F-score."
   ]
  },
  {
   "cell_type": "code",
   "execution_count": 109,
   "metadata": {},
   "outputs": [],
   "source": [
    "scores = {}\n",
    "accuracyscore = {}\n",
    "recallscore = {}\n",
    "precisionscore = {}\n",
    "fscore = {}"
   ]
  },
  {
   "cell_type": "markdown",
   "metadata": {},
   "source": [
    "Starting with the Random Forest Classifier"
   ]
  },
  {
   "cell_type": "markdown",
   "metadata": {},
   "source": [
    "##### Random Forest Classifier"
   ]
  },
  {
   "cell_type": "markdown",
   "metadata": {},
   "source": [
    "Initializing a simple RFC model (no parameters), that can be tweaked"
   ]
  },
  {
   "cell_type": "code",
   "execution_count": 110,
   "metadata": {},
   "outputs": [],
   "source": [
    "RFC_noob = model_pipeline(RandomForestClassifier(random_state=42))"
   ]
  },
  {
   "cell_type": "markdown",
   "metadata": {},
   "source": [
    "Testing all possible combinations of chosen parameters and finding the F-score (very time consuming)"
   ]
  },
  {
   "cell_type": "code",
   "execution_count": 111,
   "metadata": {},
   "outputs": [],
   "source": [
    "parameters = {\"clf__n_estimators\": [100, 500, 1000, 2000],\n",
    "             \"clf__max_depth\": [3, 6, 12, 24, 48],\n",
    "             \"clf__criterion\": [\"gini\", \"entropy\"],\n",
    "             }"
   ]
  },
  {
   "cell_type": "code",
   "execution_count": 112,
   "metadata": {},
   "outputs": [],
   "source": [
    "gs_clf = GridSearchCV(RFC_noob, parameters, cv=2, n_jobs=-1).fit(train_corpus, y_train)"
   ]
  },
  {
   "cell_type": "code",
   "execution_count": 113,
   "metadata": {},
   "outputs": [
    {
     "data": {
      "text/plain": [
       "0.5670859538784068"
      ]
     },
     "execution_count": 113,
     "metadata": {},
     "output_type": "execute_result"
    }
   ],
   "source": [
    "scores[\"RFC\"] = gs_clf.best_score_\n",
    "scores[\"RFC\"]"
   ]
  },
  {
   "cell_type": "code",
   "execution_count": 114,
   "metadata": {},
   "outputs": [
    {
     "name": "stdout",
     "output_type": "stream",
     "text": [
      "clf__criterion: 'gini'\n",
      "clf__max_depth: 12\n",
      "clf__n_estimators: 100\n"
     ]
    }
   ],
   "source": [
    "for param_name in sorted(parameters.keys()):\n",
    "    print(\"%s: %r\" % (param_name, gs_clf.best_params_[param_name]))"
   ]
  },
  {
   "cell_type": "code",
   "execution_count": 115,
   "metadata": {},
   "outputs": [],
   "source": [
    "RFC_tuned = Pipeline([('vect', CountVectorizer(tokenizer=lambda x: x, preprocessor= lambda x: x , token_pattern=None )\n",
    "                     ), ('tfidf', TfidfTransformer()\n",
    "                     ), ('clf', RandomForestClassifier(random_state=42, \n",
    "                                                       criterion = 'gini', \n",
    "                                                       max_depth= 12, \n",
    "                                                       n_estimators= 100))]).fit(train_corpus, y_train);"
   ]
  },
  {
   "cell_type": "code",
   "execution_count": 116,
   "metadata": {},
   "outputs": [],
   "source": [
    "predict = RFC_tuned.predict(validation_corpus)\n",
    "accuracyscore[\"RandomForestClassifier\"]  = accuracy_score( y_val ,predict) \n",
    "recallscore[\"RandomForestCl*assifier\"]    = recall_score(   y_val, predict)\n",
    "precisionscore[\"RandomForestClassifier\"] = precision_score(y_val, predict)\n",
    "fscore[\"RandomForestClassifier\"]         = f1_score(       y_val, predict)"
   ]
  },
  {
   "cell_type": "markdown",
   "metadata": {},
   "source": [
    "##### Support vector"
   ]
  },
  {
   "cell_type": "markdown",
   "metadata": {},
   "source": [
    "Initializing a simple Support Vector model (no parameters), that can be tweaked"
   ]
  },
  {
   "cell_type": "code",
   "execution_count": 117,
   "metadata": {},
   "outputs": [],
   "source": [
    "SV_noob = model_pipeline(SVC(random_state=42))"
   ]
  },
  {
   "cell_type": "markdown",
   "metadata": {},
   "source": [
    "Testing all possible combinations of chosen parameters and finding the F-score (very time consuming)"
   ]
  },
  {
   "cell_type": "code",
   "execution_count": 118,
   "metadata": {},
   "outputs": [],
   "source": [
    "parameters = {\"clf__C\": [1,3,9,27],\n",
    "              \"clf__kernel\": [\"linear\", \"poly\", \"rbf\", \"sigmoid\"],\n",
    "              \"clf__degree\": [1,3,9,27],\n",
    "             }"
   ]
  },
  {
   "cell_type": "code",
   "execution_count": 119,
   "metadata": {},
   "outputs": [],
   "source": [
    "gs_clf = GridSearchCV(SV_noob, parameters, cv=2, n_jobs=-1).fit(train_corpus, y_train)"
   ]
  },
  {
   "cell_type": "code",
   "execution_count": 120,
   "metadata": {},
   "outputs": [
    {
     "data": {
      "text/plain": [
       "0.5681341719077568"
      ]
     },
     "execution_count": 120,
     "metadata": {},
     "output_type": "execute_result"
    }
   ],
   "source": [
    "scores[\"SV\"] = gs_clf.best_score_\n",
    "scores[\"SV\"]"
   ]
  },
  {
   "cell_type": "code",
   "execution_count": 121,
   "metadata": {},
   "outputs": [
    {
     "name": "stdout",
     "output_type": "stream",
     "text": [
      "clf__C: 1\n",
      "clf__degree: 1\n",
      "clf__kernel: 'rbf'\n"
     ]
    }
   ],
   "source": [
    "for param_name in sorted(parameters.keys()):\n",
    "    print(\"%s: %r\" % (param_name, gs_clf.best_params_[param_name]))"
   ]
  },
  {
   "cell_type": "code",
   "execution_count": 122,
   "metadata": {},
   "outputs": [],
   "source": [
    "SV_tuned = Pipeline([('vect', CountVectorizer(tokenizer=lambda x: x, preprocessor= lambda x: x, token_pattern=None )\n",
    "                     ), ('tfidf', TfidfTransformer()\n",
    "                     ), ('clf', SVC(random_state=42, \n",
    "                                    C = 1, \n",
    "                                    degree= 1,\n",
    "                                    kernel=\"rbf\"))]).fit(train_corpus, y_train);"
   ]
  },
  {
   "cell_type": "code",
   "execution_count": 123,
   "metadata": {},
   "outputs": [],
   "source": [
    "predict = SV_tuned.predict(validation_corpus)\n",
    "accuracyscore[\"SupportVector\"]  = accuracy_score( y_val ,predict) \n",
    "recallscore[\"SupportVector\"]    = recall_score(   y_val, predict)\n",
    "precisionscore[\"SupportVector\"] = precision_score(y_val, predict)\n",
    "fscore[\"SupportVector\"]         = f1_score(       y_val, predict)"
   ]
  },
  {
   "cell_type": "markdown",
   "metadata": {},
   "source": [
    "##### Logistic Regression"
   ]
  },
  {
   "cell_type": "code",
   "execution_count": 124,
   "metadata": {},
   "outputs": [],
   "source": [
    "LR_noob = model_pipeline(SGDClassifier(loss='log', random_state=42))"
   ]
  },
  {
   "cell_type": "code",
   "execution_count": 125,
   "metadata": {},
   "outputs": [],
   "source": [
    "parameters = {\"clf__alpha\": [0.0001, 0.0003, 0.001, 0.003, 0.01, 0.03],\n",
    "             \"clf__penalty\": [\"l2\", \"l1\", \"elasticnet\"],\n",
    "             }"
   ]
  },
  {
   "cell_type": "code",
   "execution_count": 126,
   "metadata": {},
   "outputs": [],
   "source": [
    "gs_clf = GridSearchCV(LR_noob, parameters, cv=2, n_jobs=-1).fit(train_corpus, y_train)"
   ]
  },
  {
   "cell_type": "code",
   "execution_count": 127,
   "metadata": {},
   "outputs": [
    {
     "data": {
      "text/plain": [
       "0.562543675751223"
      ]
     },
     "execution_count": 127,
     "metadata": {},
     "output_type": "execute_result"
    }
   ],
   "source": [
    "scores[\"LR\"] = gs_clf.best_score_\n",
    "scores[\"LR\"]"
   ]
  },
  {
   "cell_type": "code",
   "execution_count": 128,
   "metadata": {},
   "outputs": [
    {
     "name": "stdout",
     "output_type": "stream",
     "text": [
      "clf__alpha: 0.0003\n",
      "clf__penalty: 'l2'\n"
     ]
    }
   ],
   "source": [
    "for param_name in sorted(parameters.keys()):\n",
    "    print(\"%s: %r\" % (param_name, gs_clf.best_params_[param_name]))"
   ]
  },
  {
   "cell_type": "code",
   "execution_count": 129,
   "metadata": {},
   "outputs": [],
   "source": [
    "LR_tuned = Pipeline([('vect', CountVectorizer(tokenizer=lambda x: x, preprocessor= lambda x: x, token_pattern=None )\n",
    "                     ), ('tfidf', TfidfTransformer()\n",
    "                     ), ('clf', SGDClassifier(loss=\"log\", \n",
    "                                    random_state=42,\n",
    "                                    alpha=0.0003, \n",
    "                                    penalty= \"l2\"))]).fit(train_corpus, y_train);"
   ]
  },
  {
   "cell_type": "code",
   "execution_count": 130,
   "metadata": {},
   "outputs": [],
   "source": [
    "predict = LR_tuned.predict(validation_corpus)\n",
    "accuracyscore[\"LogisticRegression\"]  = accuracy_score( y_val ,predict) \n",
    "recallscore[\"LogisticRegression\"]    = recall_score(   y_val, predict)\n",
    "precisionscore[\"LogisticRegression\"] = precision_score(y_val, predict)\n",
    "fscore[\"LogisticRegression\"]         = f1_score(       y_val, predict)"
   ]
  },
  {
   "cell_type": "markdown",
   "metadata": {},
   "source": [
    "##### Final model on the basis of the validation data"
   ]
  },
  {
   "cell_type": "code",
   "execution_count": 131,
   "metadata": {},
   "outputs": [
    {
     "data": {
      "image/png": "[encoded data removed]",
      "text/plain": [
       "<Figure size 1080x576 with 4 Axes>"
      ]
     },
     "metadata": {},
     "output_type": "display_data"
    }
   ],
   "source": [
    "fig, ax = plt.subplots(2, 2, figsize=(15,8))\n",
    "ax[0,0].set_title(\"Accuracy score\")\n",
    "ax[0,1].set_title(\"F-score\")\n",
    "ax[1,0].set_title(\"Precision\")\n",
    "ax[1,1].set_title(\"Recall\")\n",
    "\n",
    "for i in accuracyscore.items():\n",
    "    ax[0,0].bar(i[0], i[1])\n",
    "    ax[0,0].set_ylim([0.4,0.6])\n",
    "\n",
    "for i in fscore.items():\n",
    "    ax[0,1].bar(i[0], i[1])\n",
    "    ax[0,1].set_ylim([0.4,0.7])\n",
    "    \n",
    "for i in precisionscore.items():\n",
    "    ax[1,0].bar(i[0], i[1])\n",
    "    ax[1,0].set_ylim([0.4,0.7])\n",
    "    \n",
    "for i in recallscore.items():\n",
    "    ax[1,1].bar(i[0], i[1])\n",
    "    ax[1,1].set_ylim([0.4,0.8])\n",
    "\n",
    "plt.tight_layout()"
   ]
  },
  {
   "cell_type": "markdown",
   "metadata": {},
   "source": [
    "We see that the models that we have tuned to have the highest accuracy score are all equally bad at classifying whether a given sentence is ironic.\n",
    "\n",
    "It is logical that our model is really bad at classifying text-based irony, since the group members are also very poor at classifying irony. Thus we can not expect the model to outperform us massively, since it lacks world knowledge and general experience and the emotional aspect of understanding the users intentions. Perhabs combining an intention model and an irony model could increase the performance of the irony model.\n",
    "\n",
    "Final model is LogisticRegression, since it has an higher accuracy score."
   ]
  },
  {
   "cell_type": "markdown",
   "metadata": {},
   "source": [
    "##### Final model on test data metrics"
   ]
  },
  {
   "cell_type": "code",
   "execution_count": 132,
   "metadata": {},
   "outputs": [
    {
     "name": "stdout",
     "output_type": "stream",
     "text": [
      "Logistic Regression: \n",
      "     - accuracy score:\t   0.5535714285714286\n",
      "     - recall score: \t   0.6688102893890675\n",
      "     - precision score:\t   0.45714285714285713\n",
      "     - f1 score:\t   0.5430809399477806\n",
      "\n"
     ]
    }
   ],
   "source": [
    "model = RFC_tuned\n",
    "predict = model.predict(test_corpus)\n",
    "print(\"Logistic Regression\" + \": \")\n",
    "print(\"     - accuracy score:\\t   {}\"  .format(accuracy_score( y_test, predict)))\n",
    "print(\"     - recall score: \\t   {}\"   .format(recall_score(   y_test, predict)))\n",
    "print(\"     - precision score:\\t   {}\" .format(precision_score(y_test, predict)))\n",
    "print(\"     - f1 score:\\t   {}\"        .format(f1_score(       y_test, predict)))\n",
    "print()"
   ]
  },
  {
   "cell_type": "markdown",
   "metadata": {},
   "source": [
    "## Multi-Classification on Stance Dataset"
   ]
  },
  {
   "cell_type": "markdown",
   "metadata": {},
   "source": [
    "First Multi-classification, mapping all the different stances to a 3x5 map taking values from 0-14 and classifying on the basis of these 15 different labels."
   ]
  },
  {
   "cell_type": "markdown",
   "metadata": {},
   "source": [
    "### Creating the neccesery dataframes"
   ]
  },
  {
   "cell_type": "code",
   "execution_count": 133,
   "metadata": {},
   "outputs": [],
   "source": [
    "hillary_train  = pd.concat([train_hillary,  train_hillary_labels ], axis=1)\n",
    "abortion_train = pd.concat([train_abortion, train_abortion_labels], axis=1)\n",
    "atheism_train  = pd.concat([train_atheism,  train_atheism_labels ], axis=1)\n",
    "climate_train  = pd.concat([train_climate,  train_climate_labels ], axis=1)\n",
    "feminist_train = pd.concat([train_feminist, train_feminist_labels], axis=1)\n",
    "\n",
    "abortion_train[\"labels\"] += 3\n",
    "atheism_train[\"labels\"]  += 6\n",
    "climate_train[\"labels\"]  += 9\n",
    "feminist_train[\"labels\"] += 12"
   ]
  },
  {
   "cell_type": "code",
   "execution_count": 134,
   "metadata": {},
   "outputs": [],
   "source": [
    "hillary_val  = pd.concat([validation_hillary,  validation_hillary_labels ], axis=1)\n",
    "abortion_val = pd.concat([validation_abortion, validation_abortion_labels], axis=1)\n",
    "atheism_val  = pd.concat([validation_atheism,  validation_atheism_labels ], axis=1)\n",
    "climate_val  = pd.concat([validation_climate,  validation_climate_labels ], axis=1)\n",
    "feminist_val = pd.concat([validation_feminist, validation_feminist_labels], axis=1)\n",
    "\n",
    "abortion_val[\"labels\"] += 3\n",
    "atheism_val[\"labels\"]  += 6\n",
    "climate_val[\"labels\"]  += 9\n",
    "feminist_val[\"labels\"] += 12"
   ]
  },
  {
   "cell_type": "code",
   "execution_count": 135,
   "metadata": {},
   "outputs": [],
   "source": [
    "hillary_test  = pd.concat([test_hillary,  test_hillary_labels ], axis=1)\n",
    "abortion_test = pd.concat([test_abortion, test_abortion_labels], axis=1)\n",
    "atheism_test  = pd.concat([test_atheism,  test_atheism_labels ], axis=1)\n",
    "climate_test  = pd.concat([test_climate,  test_climate_labels ], axis=1)\n",
    "feminist_test = pd.concat([test_feminist, test_feminist_labels], axis=1)\n",
    "\n",
    "abortion_test[\"labels\"] += 3\n",
    "atheism_test[\"labels\"]  += 6\n",
    "climate_test[\"labels\"]  += 9\n",
    "feminist_test[\"labels\"] += 12"
   ]
  },
  {
   "cell_type": "code",
   "execution_count": 136,
   "metadata": {},
   "outputs": [],
   "source": [
    "#mapping = {}\n",
    "#mapping[0]  = \"none hillary\"\n",
    "#mapping[1]  = \"against hillary\"\n",
    "#mapping[2]  = \"favor hillary\"\n",
    "#mapping[3]  = \"none abortion\"\n",
    "#mapping[4]  = \"against abortion\"\n",
    "#mapping[5]  = \"favor abortion\"\n",
    "#mapping[6]  = \"none atheism\"\n",
    "#mapping[7]  = \"against atheism\"\n",
    "#mapping[8]  = \"favor atheism\"\n",
    "#mapping[9]  = \"none climate\"\n",
    "#mapping[10] = \"against climate\"\n",
    "#mapping[11] = \"favor climate\"\n",
    "#mapping[12] = \"none feminist\"\n",
    "#mapping[13] = \"against feminist\"\n",
    "#mapping[14] = \"favor feminist\""
   ]
  },
  {
   "cell_type": "code",
   "execution_count": 137,
   "metadata": {},
   "outputs": [],
   "source": [
    "combined_train = pd.read_csv(PATHS[\"combined_stance\"].format(\"combined_train.csv\"))\n",
    "combined_train = combined_train.drop('Unnamed: 0', 1)\n",
    "\n",
    "combined_val = pd.read_csv(PATHS[\"combined_stance\"].format(\"combined_val.csv\"))\n",
    "combined_val = combined_val.drop('Unnamed: 0', 1)\n",
    "\n",
    "combined_test = pd.read_csv(PATHS[\"combined_stance\"].format(\"combined_test.csv\"))\n",
    "combined_test = combined_test.drop('Unnamed: 0', 1)"
   ]
  },
  {
   "cell_type": "markdown",
   "metadata": {},
   "source": [
    "### Tokenizing our training and validation tweets"
   ]
  },
  {
   "cell_type": "code",
   "execution_count": 138,
   "metadata": {},
   "outputs": [],
   "source": [
    "copy_train = combined_train\n",
    "for idx, i in enumerate(copy_train[\"tweets\"]):\n",
    "    x = tokenize_ideal(i)\n",
    "    combined_train.loc[idx, [\"tweets\"]] = x[0]\n",
    "\n",
    "copy_val = combined_val\n",
    "for idx, i in enumerate(copy_val[\"tweets\"]):\n",
    "    x = tokenize_ideal(i)\n",
    "    combined_val.loc[idx, [\"tweets\"]] = x[0]\n",
    "\n",
    "copy_test = combined_test\n",
    "for idx, i in enumerate(copy_test[\"tweets\"]):\n",
    "    x = tokenize_ideal(i)\n",
    "    combined_test.loc[idx, [\"tweets\"]] = x[0]\n",
    "    \n",
    "\n",
    "combined_val   = combined_val[combined_val['labels'].notna()]\n",
    "combined_train = combined_train[combined_train[\"labels\"].notna()]\n",
    "combined_test  = combined_test[combined_test[\"labels\"].notna()]"
   ]
  },
  {
   "cell_type": "code",
   "execution_count": 139,
   "metadata": {},
   "outputs": [
    {
     "data": {
      "text/plain": [
       "1     354\n",
       "4     319\n",
       "13    295\n",
       "7     273\n",
       "11    191\n",
       "14    189\n",
       "0     160\n",
       "3     159\n",
       "9     151\n",
       "12    113\n",
       "5     109\n",
       "2     106\n",
       "6     105\n",
       "8      83\n",
       "10     13\n",
       "Name: labels, dtype: int64"
      ]
     },
     "execution_count": 139,
     "metadata": {},
     "output_type": "execute_result"
    }
   ],
   "source": [
    "combined_train[\"labels\"].value_counts()"
   ]
  },
  {
   "cell_type": "markdown",
   "metadata": {},
   "source": [
    "Here we see that the data is not balanced."
   ]
  },
  {
   "cell_type": "markdown",
   "metadata": {},
   "source": [
    "### Baseline model"
   ]
  },
  {
   "cell_type": "code",
   "execution_count": 140,
   "metadata": {},
   "outputs": [],
   "source": [
    "LR_multi = model_pipeline(SGDClassifier(loss='log', random_state=42)).fit(combined_train[\"tweets\"], combined_train[\"labels\"]);"
   ]
  },
  {
   "cell_type": "code",
   "execution_count": 141,
   "metadata": {},
   "outputs": [
    {
     "data": {
      "text/plain": [
       "0.25510204081632654"
      ]
     },
     "execution_count": 141,
     "metadata": {},
     "output_type": "execute_result"
    }
   ],
   "source": [
    "predicted = LR_multi.predict(combined_val[\"tweets\"])\n",
    "accuracy_score(predicted, combined_val[\"labels\"])"
   ]
  },
  {
   "cell_type": "markdown",
   "metadata": {},
   "source": [
    "### Classification models different models"
   ]
  },
  {
   "cell_type": "markdown",
   "metadata": {},
   "source": [
    "Training different classifying models without any special tuning to see which is the best in its simplest form."
   ]
  },
  {
   "cell_type": "code",
   "execution_count": 142,
   "metadata": {},
   "outputs": [],
   "source": [
    "KNN_multi = model_pipeline(KNeighborsClassifier()).fit(combined_train[\"tweets\"], combined_train[\"labels\"])\n",
    "DTC_multi = model_pipeline(DecisionTreeClassifier(random_state=42)).fit(combined_train[\"tweets\"], combined_train[\"labels\"])\n",
    "RFC_multi = model_pipeline(RandomForestClassifier(random_state=42)).fit(combined_train[\"tweets\"], combined_train[\"labels\"])\n",
    "SV_multi  = model_pipeline(SVC(random_state=42)).fit(combined_train[\"tweets\"], combined_train[\"labels\"])\n",
    "NB_multi  = model_pipeline(MultinomialNB()).fit(combined_train[\"tweets\"],combined_train[\"labels\"])"
   ]
  },
  {
   "cell_type": "code",
   "execution_count": 143,
   "metadata": {},
   "outputs": [],
   "source": [
    "modelsc = [LR_multi, KNN_multi, DTC_multi, RFC_multi, SV_multi, NB_multi]\n",
    "d = [\"LogisticRegression\",\n",
    "     \"KNearestNeighbor\",\n",
    "     \"DecisionTreeClassifier\",\n",
    "     \"RandomForestClassifier\",\n",
    "     \"SupportVectorClassifier\",\n",
    "     \"NaiveBayes\"]"
   ]
  },
  {
   "cell_type": "markdown",
   "metadata": {},
   "source": [
    "Here the precision score will be flawed since our models does not predict all labels in the dataset, i.e the NaiveBayes only predicts 5 out of the 15 different labels in our data, which makes calculating the precision score for these non-predicted labels not possible, since they have not been predicted. This is also the reason that warnings is being returned."
   ]
  },
  {
   "cell_type": "code",
   "execution_count": 144,
   "metadata": {},
   "outputs": [
    {
     "name": "stdout",
     "output_type": "stream",
     "text": [
      "LogisticRegression: \n",
      "     - classes not predicted by model: \t [5, 6, 8, 10]\n",
      "     - accuracy score:\t   0.25510204081632654\n",
      "     - recall score: \t   0.1701842959907476\n",
      "     - precision score:\t   0.21468038160547329\n",
      "     - f1 score:\t   0.1503871642522902\n",
      "\n",
      "KNearestNeighbor: \n",
      "     - classes not predicted by model: \t [10]\n",
      "     - accuracy score:\t   0.21428571428571427\n",
      "     - recall score: \t   0.1561443335636884\n",
      "     - precision score:\t   0.15882094124199392\n",
      "     - f1 score:\t   0.1458966873055521\n",
      "\n",
      "DecisionTreeClassifier: \n",
      "     - classes not predicted by model: \t [10]\n",
      "     - accuracy score:\t   0.18027210884353742\n",
      "     - recall score: \t   0.14286186439886628\n",
      "     - precision score:\t   0.13871558590856836\n",
      "     - f1 score:\t   0.13950600987034906\n",
      "\n",
      "RandomForestClassifier: \n",
      "     - classes not predicted by model: \t [6, 8, 10, 12]\n",
      "     - accuracy score:\t   0.23809523809523808\n",
      "     - recall score: \t   0.15151192893128376\n",
      "     - precision score:\t   0.2267274327352735\n",
      "     - f1 score:\t   0.1345057985064625\n",
      "\n",
      "SupportVectorClassifier: \n",
      "     - classes not predicted by model: \t [2, 3, 5, 6, 8, 9, 10, 12]\n",
      "     - accuracy score:\t   0.25170068027210885\n",
      "     - recall score: \t   0.15099524131782197\n",
      "     - precision score:\t   0.11920988077704496\n",
      "     - f1 score:\t   0.11922443333332285\n",
      "\n",
      "NaiveBayes: \n",
      "     - classes not predicted by model: \t [2, 3, 5, 6, 8, 9, 10, 11, 12, 14]\n",
      "     - accuracy score:\t   0.1870748299319728\n",
      "     - recall score: \t   0.10120685765847058\n",
      "     - precision score:\t   0.08603216684340757\n",
      "     - f1 score:\t   0.06777185697444318\n",
      "\n"
     ]
    },
    {
     "name": "stderr",
     "output_type": "stream",
     "text": [
      "C:\\Users\\ruben\\anaconda3\\lib\\site-packages\\sklearn\\metrics\\_classification.py:1245: UndefinedMetricWarning: Precision is ill-defined and being set to 0.0 in labels with no predicted samples. Use `zero_division` parameter to control this behavior.\n",
      "  _warn_prf(average, modifier, msg_start, len(result))\n",
      "C:\\Users\\ruben\\anaconda3\\lib\\site-packages\\sklearn\\metrics\\_classification.py:1245: UndefinedMetricWarning: Precision is ill-defined and being set to 0.0 in labels with no predicted samples. Use `zero_division` parameter to control this behavior.\n",
      "  _warn_prf(average, modifier, msg_start, len(result))\n",
      "C:\\Users\\ruben\\anaconda3\\lib\\site-packages\\sklearn\\metrics\\_classification.py:1245: UndefinedMetricWarning: Precision is ill-defined and being set to 0.0 in labels with no predicted samples. Use `zero_division` parameter to control this behavior.\n",
      "  _warn_prf(average, modifier, msg_start, len(result))\n",
      "C:\\Users\\ruben\\anaconda3\\lib\\site-packages\\sklearn\\metrics\\_classification.py:1245: UndefinedMetricWarning: Precision is ill-defined and being set to 0.0 in labels with no predicted samples. Use `zero_division` parameter to control this behavior.\n",
      "  _warn_prf(average, modifier, msg_start, len(result))\n",
      "C:\\Users\\ruben\\anaconda3\\lib\\site-packages\\sklearn\\metrics\\_classification.py:1245: UndefinedMetricWarning: Precision is ill-defined and being set to 0.0 in labels with no predicted samples. Use `zero_division` parameter to control this behavior.\n",
      "  _warn_prf(average, modifier, msg_start, len(result))\n",
      "C:\\Users\\ruben\\anaconda3\\lib\\site-packages\\sklearn\\metrics\\_classification.py:1245: UndefinedMetricWarning: Precision is ill-defined and being set to 0.0 in labels with no predicted samples. Use `zero_division` parameter to control this behavior.\n",
      "  _warn_prf(average, modifier, msg_start, len(result))\n"
     ]
    }
   ],
   "source": [
    "ls = list(range(0,15))\n",
    "for idx, model in enumerate(modelsc):\n",
    "    name = d[idx]\n",
    "    predict = model.predict(combined_val[\"tweets\"])\n",
    "    uniq, counts = np.unique(predict, return_counts=True)\n",
    "    print(str(name) + \": \")\n",
    "    temp = [item for item in ls if item not in uniq]\n",
    "    print(\"     - classes not predicted by model: \\t {}\".format(temp))\n",
    "    print(\"     - accuracy score:\\t   {}\"  .format(accuracy_score( combined_val[\"labels\"],predict)))\n",
    "    print(\"     - recall score: \\t   {}\"   .format(recall_score(   combined_val[\"labels\"], predict, average='macro')))\n",
    "    print(\"     - precision score:\\t   {}\" .format(precision_score(combined_val[\"labels\"], predict, average='macro')))\n",
    "    print(\"     - f1 score:\\t   {}\"        .format(f1_score(       combined_val[\"labels\"], predict, average='macro')))\n",
    "    print()"
   ]
  },
  {
   "cell_type": "markdown",
   "metadata": {},
   "source": [
    "In our validation data, we have a label that is only occuring twice in our data, which means that we can not perform any proper cross-validation scores on it, as we simply do not have enough data to support any conclusions. This is also the reason that a lot of our classifiers is ignoring these classes with few members, because we train on data that does not have many members of that class."
   ]
  },
  {
   "cell_type": "code",
   "execution_count": 145,
   "metadata": {},
   "outputs": [
    {
     "data": {
      "text/plain": [
       "1     39\n",
       "4     36\n",
       "13    33\n",
       "7     31\n",
       "11    21\n",
       "14    21\n",
       "0     18\n",
       "3     18\n",
       "9     17\n",
       "12    13\n",
       "2     12\n",
       "5     12\n",
       "6     12\n",
       "8      9\n",
       "10     2\n",
       "Name: labels, dtype: int64"
      ]
     },
     "execution_count": 145,
     "metadata": {},
     "output_type": "execute_result"
    }
   ],
   "source": [
    "combined_val[\"labels\"].value_counts()"
   ]
  },
  {
   "cell_type": "markdown",
   "metadata": {},
   "source": [
    "This cross validation is thus flawed since a lot of our models is ignoring a lot of the classes in our data, such as the NaiveBayes is ignoring more than half of the classes in the data. This makes it a very bad model for classifying stance, but in the cross validation it, at first glance, looks to have a very high score, which is very misleading."
   ]
  },
  {
   "cell_type": "code",
   "execution_count": 146,
   "metadata": {},
   "outputs": [
    {
     "data": {
      "image/png": "[encoded data removed]",
      "text/plain": [
       "<Figure size 1440x576 with 1 Axes>"
      ]
     },
     "metadata": {},
     "output_type": "display_data"
    }
   ],
   "source": [
    "r = pd.DataFrame(columns=[\"MODELS\",\"R2CV\"])\n",
    "for i, model in enumerate(modelsc):\n",
    "    name = d[i]\n",
    "    R2CV = cross_val_score(model, combined_val[\"tweets\"], combined_val[\"labels\"], cv=2).mean()\n",
    "    result = pd.DataFrame([[name,R2CV*100]], columns=[\"MODELS\",\"R2CV\"])\n",
    "    r = r.append(result)\n",
    "\n",
    "figure = plt.figure(figsize=(20, 8))\n",
    "sns.barplot(x=\"R2CV\", y=\"MODELS\", data=r, color=\"k\")\n",
    "plt.xlabel(\"Cross Val Score\")\n",
    "plt.ylabel(\"MODELS\")\n",
    "plt.xlim(0, 100)\n",
    "plt.title(\"MODEL ACCURACY COMPARISON\")\n",
    "plt.show()"
   ]
  },
  {
   "cell_type": "markdown",
   "metadata": {},
   "source": [
    "#### Tuning the best models"
   ]
  },
  {
   "cell_type": "markdown",
   "metadata": {},
   "source": [
    "We then decide to try and optimize the models that actually predict most of the classes in our dataset. \n",
    "\n",
    "Now we try to find the best possible combination of parameters to achieve the highest F-score."
   ]
  },
  {
   "cell_type": "code",
   "execution_count": 147,
   "metadata": {},
   "outputs": [],
   "source": [
    "scores = {}\n",
    "accuracyscore = {}\n",
    "recallscore = {}\n",
    "precisionscore = {}\n",
    "fscore = {}"
   ]
  },
  {
   "cell_type": "markdown",
   "metadata": {},
   "source": [
    "##### Logistical Regression"
   ]
  },
  {
   "cell_type": "code",
   "execution_count": 148,
   "metadata": {},
   "outputs": [],
   "source": [
    "LR_noob_multi = model_pipeline(SGDClassifier(loss='log', random_state=42))"
   ]
  },
  {
   "cell_type": "code",
   "execution_count": 149,
   "metadata": {},
   "outputs": [],
   "source": [
    "parameters = {\"clf__alpha\": [0.0001, 0.0003, 0.001, 0.003, 0.01, 0.03],\n",
    "              \"clf__penalty\": [\"l2\", \"l1\", \"elasticnet\"],\n",
    "             }"
   ]
  },
  {
   "cell_type": "code",
   "execution_count": 150,
   "metadata": {},
   "outputs": [],
   "source": [
    "gs_clf = GridSearchCV(LR_noob_multi, parameters, cv=2, n_jobs=-1, scoring=\"recall_macro\").fit(combined_train[\"tweets\"], combined_train[\"labels\"]);"
   ]
  },
  {
   "cell_type": "code",
   "execution_count": 151,
   "metadata": {},
   "outputs": [
    {
     "data": {
      "text/plain": [
       "0.1673263961829901"
      ]
     },
     "execution_count": 151,
     "metadata": {},
     "output_type": "execute_result"
    }
   ],
   "source": [
    "scores[\"LR\"] = gs_clf.best_score_\n",
    "scores[\"LR\"]"
   ]
  },
  {
   "cell_type": "code",
   "execution_count": 152,
   "metadata": {},
   "outputs": [
    {
     "name": "stdout",
     "output_type": "stream",
     "text": [
      "clf__alpha: 0.0001\n",
      "clf__penalty: 'l1'\n"
     ]
    }
   ],
   "source": [
    "for param_name in sorted(parameters.keys()):\n",
    "    print(\"%s: %r\" % (param_name, gs_clf.best_params_[param_name]))"
   ]
  },
  {
   "cell_type": "code",
   "execution_count": 153,
   "metadata": {},
   "outputs": [],
   "source": [
    "LR_tuned_multi = Pipeline([('vect', CountVectorizer(tokenizer=lambda x: x, preprocessor= lambda x: x, token_pattern=None )\n",
    "                     ), ('tfidf', TfidfTransformer()\n",
    "                     ), ('clf', SGDClassifier(loss=\"log\",\n",
    "                                    random_state=42,\n",
    "                                    alpha=0.0001, \n",
    "                                    penalty= \"l1\"))]).fit(combined_train[\"tweets\"], combined_train[\"labels\"]);"
   ]
  },
  {
   "cell_type": "code",
   "execution_count": 154,
   "metadata": {},
   "outputs": [
    {
     "name": "stdout",
     "output_type": "stream",
     "text": [
      "classes not predicted by model: \t [6, 8, 10]\n"
     ]
    },
    {
     "name": "stderr",
     "output_type": "stream",
     "text": [
      "C:\\Users\\ruben\\anaconda3\\lib\\site-packages\\sklearn\\metrics\\_classification.py:1245: UndefinedMetricWarning: Precision is ill-defined and being set to 0.0 in labels with no predicted samples. Use `zero_division` parameter to control this behavior.\n",
      "  _warn_prf(average, modifier, msg_start, len(result))\n"
     ]
    }
   ],
   "source": [
    "predict = LR_tuned_multi.predict(combined_val[\"tweets\"])\n",
    "ls = list(range(0,15))\n",
    "uniq, counts = np.unique(predict, return_counts=True)\n",
    "temp = [item for item in ls if item not in uniq]\n",
    "print(\"classes not predicted by model: \\t {}\".format(temp))\n",
    "accuracyscore[\"LogisticRegression\"]  = accuracy_score( combined_val[\"labels\"] , predict) \n",
    "recallscore[\"LogisticRegression\"]    = recall_score(   combined_val[\"labels\"],  predict, average=\"macro\")\n",
    "precisionscore[\"LogisticRegression\"] = precision_score(combined_val[\"labels\"],  predict, average=\"macro\")\n",
    "fscore[\"LogisticRegression\"]         = f1_score(       combined_val[\"labels\"],  predict, average=\"macro\")"
   ]
  },
  {
   "cell_type": "markdown",
   "metadata": {},
   "source": [
    "##### Random Forest Classifier"
   ]
  },
  {
   "cell_type": "code",
   "execution_count": 155,
   "metadata": {},
   "outputs": [],
   "source": [
    "RFC_noob_multi = model_pipeline(RandomForestClassifier(random_state=42))"
   ]
  },
  {
   "cell_type": "code",
   "execution_count": 156,
   "metadata": {},
   "outputs": [],
   "source": [
    "parameters = {\"clf__n_estimators\": [100, 500, 1000, 2000],\n",
    "             \"clf__max_depth\": [3, 6, 12, 24, 48],\n",
    "             \"clf__criterion\": [\"gini\", \"entropy\"],\n",
    "             }"
   ]
  },
  {
   "cell_type": "code",
   "execution_count": 157,
   "metadata": {},
   "outputs": [],
   "source": [
    "gs_clf = GridSearchCV(RFC_noob_multi, parameters, cv=2, n_jobs=-1, scoring=\"recall_macro\").fit(combined_train[\"tweets\"], combined_train[\"labels\"]);"
   ]
  },
  {
   "cell_type": "code",
   "execution_count": 158,
   "metadata": {},
   "outputs": [
    {
     "data": {
      "text/plain": [
       "0.15938613573087884"
      ]
     },
     "execution_count": 158,
     "metadata": {},
     "output_type": "execute_result"
    }
   ],
   "source": [
    "scores[\"RFC\"] = gs_clf.best_score_\n",
    "scores[\"RFC\"]"
   ]
  },
  {
   "cell_type": "code",
   "execution_count": 159,
   "metadata": {},
   "outputs": [
    {
     "name": "stdout",
     "output_type": "stream",
     "text": [
      "clf__criterion: 'gini'\n",
      "clf__max_depth: 48\n",
      "clf__n_estimators: 500\n"
     ]
    }
   ],
   "source": [
    "for param_name in sorted(parameters.keys()):\n",
    "    print(\"%s: %r\" % (param_name, gs_clf.best_params_[param_name]))"
   ]
  },
  {
   "cell_type": "code",
   "execution_count": 160,
   "metadata": {},
   "outputs": [],
   "source": [
    "RFC_tuned_multi = Pipeline([('vect', CountVectorizer(tokenizer=lambda x: x, preprocessor= lambda x: x, token_pattern=None)\n",
    "                         ), ('tfidf', TfidfTransformer()\n",
    "                         ), ('clf', RandomForestClassifier(random_state=42, \n",
    "                                                       criterion = 'gini', \n",
    "                                                       max_depth= 48, \n",
    "                                                       n_estimators= 500))]).fit(combined_train[\"tweets\"], combined_train[\"labels\"]);"
   ]
  },
  {
   "cell_type": "code",
   "execution_count": 161,
   "metadata": {},
   "outputs": [
    {
     "name": "stdout",
     "output_type": "stream",
     "text": [
      "classes not predicted by model: [6, 8, 10, 12]\n"
     ]
    },
    {
     "name": "stderr",
     "output_type": "stream",
     "text": [
      "C:\\Users\\ruben\\anaconda3\\lib\\site-packages\\sklearn\\metrics\\_classification.py:1245: UndefinedMetricWarning: Precision is ill-defined and being set to 0.0 in labels with no predicted samples. Use `zero_division` parameter to control this behavior.\n",
      "  _warn_prf(average, modifier, msg_start, len(result))\n"
     ]
    }
   ],
   "source": [
    "predict = RFC_tuned_multi.predict(combined_val[\"tweets\"])\n",
    "ls = list(range(0,15))\n",
    "uniq, counts = np.unique(predict, return_counts=True)\n",
    "temp = [item for item in ls if item not in uniq]\n",
    "print(\"classes not predicted by model: {}\".format(temp))\n",
    "accuracyscore[\"RandomForestClassifier\"]  = accuracy_score( combined_val[\"labels\"] , predict) \n",
    "recallscore[\"RandomForestClassifier\"]    = recall_score(   combined_val[\"labels\"],  predict, average=\"macro\")\n",
    "precisionscore[\"RandomForestClassifier\"] = precision_score(combined_val[\"labels\"],  predict, average=\"macro\")\n",
    "fscore[\"RandomForestClassifier\"]         = f1_score(       combined_val[\"labels\"],  predict, average=\"macro\")"
   ]
  },
  {
   "cell_type": "markdown",
   "metadata": {},
   "source": [
    "##### KNearestNeighbor"
   ]
  },
  {
   "cell_type": "code",
   "execution_count": 162,
   "metadata": {},
   "outputs": [],
   "source": [
    "KNN_noob_multi = model_pipeline(KNeighborsClassifier())"
   ]
  },
  {
   "cell_type": "code",
   "execution_count": 163,
   "metadata": {},
   "outputs": [],
   "source": [
    "parameters = {\"clf__n_neighbors\": [1,3,9,27,60,120],\n",
    "             \"clf__weights\": [\"uniform\", \"distance\"],\n",
    "             \"clf__algorithm\": [\"auto\", \"ball_tree\", \"kd_tree\", \"brute\"],\n",
    "             }"
   ]
  },
  {
   "cell_type": "code",
   "execution_count": 164,
   "metadata": {},
   "outputs": [],
   "source": [
    "gs_clf = GridSearchCV(KNN_noob_multi, parameters, cv=2, n_jobs=-1, scoring=\"recall_macro\").fit(combined_train[\"tweets\"], combined_train[\"labels\"]);"
   ]
  },
  {
   "cell_type": "code",
   "execution_count": 165,
   "metadata": {},
   "outputs": [
    {
     "data": {
      "text/plain": [
       "0.15393222858711716"
      ]
     },
     "execution_count": 165,
     "metadata": {},
     "output_type": "execute_result"
    }
   ],
   "source": [
    "scores[\"KNN\"] = gs_clf.best_score_\n",
    "scores[\"KNN\"]"
   ]
  },
  {
   "cell_type": "code",
   "execution_count": 166,
   "metadata": {},
   "outputs": [
    {
     "name": "stdout",
     "output_type": "stream",
     "text": [
      "clf__algorithm: 'auto'\n",
      "clf__n_neighbors: 9\n",
      "clf__weights: 'distance'\n"
     ]
    }
   ],
   "source": [
    "for param_name in sorted(parameters.keys()):\n",
    "    print(\"%s: %r\" % (param_name, gs_clf.best_params_[param_name]))"
   ]
  },
  {
   "cell_type": "code",
   "execution_count": 167,
   "metadata": {},
   "outputs": [],
   "source": [
    "KNN_tuned_multi = Pipeline([('vect', CountVectorizer(tokenizer=lambda x: x, preprocessor= lambda x: x, token_pattern=None)\n",
    "                         ), ('tfidf', TfidfTransformer()\n",
    "                         ), ('clf', KNeighborsClassifier(algorithm= 'auto', \n",
    "                                                         n_neighbors=9,\n",
    "                                                         weights=\"distance\"))]).fit(combined_train[\"tweets\"],combined_train[\"labels\"])"
   ]
  },
  {
   "cell_type": "code",
   "execution_count": 168,
   "metadata": {},
   "outputs": [
    {
     "name": "stdout",
     "output_type": "stream",
     "text": [
      "classes not predicted by model: [10]\n"
     ]
    },
    {
     "name": "stderr",
     "output_type": "stream",
     "text": [
      "C:\\Users\\ruben\\anaconda3\\lib\\site-packages\\sklearn\\metrics\\_classification.py:1245: UndefinedMetricWarning: Precision is ill-defined and being set to 0.0 in labels with no predicted samples. Use `zero_division` parameter to control this behavior.\n",
      "  _warn_prf(average, modifier, msg_start, len(result))\n"
     ]
    }
   ],
   "source": [
    "predict = KNN_tuned_multi.predict(combined_val[\"tweets\"])\n",
    "ls = list(range(0,15))\n",
    "uniq, counts = np.unique(predict, return_counts=True)\n",
    "temp = [item for item in ls if item not in uniq]\n",
    "print(\"classes not predicted by model: {}\".format(temp))\n",
    "accuracyscore[\"KNN\"]  = accuracy_score( combined_val[\"labels\"] , predict) \n",
    "recallscore[\"KNN\"]    = recall_score(   combined_val[\"labels\"],  predict, average=\"macro\")\n",
    "precisionscore[\"KNN\"] = precision_score(combined_val[\"labels\"],  predict, average=\"macro\")\n",
    "fscore[\"KNN\"]         = f1_score(       combined_val[\"labels\"],  predict, average=\"macro\")"
   ]
  },
  {
   "cell_type": "markdown",
   "metadata": {},
   "source": [
    "##### Final model"
   ]
  },
  {
   "cell_type": "code",
   "execution_count": 169,
   "metadata": {},
   "outputs": [
    {
     "data": {
      "image/png": "[encoded data removed]",
      "text/plain": [
       "<Figure size 1080x576 with 4 Axes>"
      ]
     },
     "metadata": {},
     "output_type": "display_data"
    }
   ],
   "source": [
    "fig, ax = plt.subplots(2, 2, figsize=(15,8))\n",
    "ax[0,0].set_title(\"Accuracy score\")\n",
    "ax[0,1].set_title(\"F-score\")\n",
    "ax[1,0].set_title(\"Precision\")\n",
    "ax[1,1].set_title(\"Recall\")\n",
    "\n",
    "for i in accuracyscore.items():\n",
    "    ax[0,0].bar(i[0], i[1])\n",
    "    ax[0,0].set_ylim([0,0.3])\n",
    "\n",
    "for i in fscore.items():\n",
    "    ax[0,1].bar(i[0], i[1])\n",
    "    ax[0,1].set_ylim([0,0.3])\n",
    "    \n",
    "for i in precisionscore.items():\n",
    "    ax[1,0].bar(i[0], i[1])\n",
    "    ax[1,0].set_ylim([0,0.3])\n",
    "    \n",
    "for i in recallscore.items():\n",
    "    ax[1,1].bar(i[0], i[1])\n",
    "    ax[1,1].set_ylim([0,0.3])\n",
    "\n",
    "plt.tight_layout()"
   ]
  },
  {
   "cell_type": "markdown",
   "metadata": {},
   "source": [
    "Here we see that the KNN is the best model for our multiclass 3x5 stance mapping, since it only excludes one classification out of the total 15. The accuracy of the KNN is surprisingly high, given the difficulty of the task with this many different classes. Also if one were to randomnly guess (uniformly) what the class was, the probability of getting one correct would be $\\frac{1}{15}$ which our models are a lot better than. Meaning our models, even though  very bad, are actually better than random.\n",
    "\n",
    "Final model: KNN"
   ]
  },
  {
   "cell_type": "markdown",
   "metadata": {},
   "source": [
    "##### Final model on test data metrics"
   ]
  },
  {
   "cell_type": "code",
   "execution_count": 170,
   "metadata": {},
   "outputs": [
    {
     "name": "stdout",
     "output_type": "stream",
     "text": [
      "KNN: \n",
      "     - classes not predicted by model: \t []\n",
      "     - accuracy score:\t   0.21857485988791034\n",
      "     - recall score: \t   0.1293985722138177\n",
      "     - precision score:\t   0.1290124308772997\n",
      "     - f1 score:\t   0.12514616152456073\n",
      "\n"
     ]
    }
   ],
   "source": [
    "model = KNN_tuned_multi\n",
    "predict = model.predict(combined_test[\"tweets\"])\n",
    "print(\"KNN\" + \": \")\n",
    "uniq, counts = np.unique(predict, return_counts=True)\n",
    "temp = [item for item in ls if item not in uniq]\n",
    "print(\"     - classes not predicted by model: \\t {}\".format(temp))\n",
    "print(\"     - accuracy score:\\t   {}\"  .format(accuracy_score( combined_test[\"labels\"], predict)))\n",
    "print(\"     - recall score: \\t   {}\"   .format(recall_score(   combined_test[\"labels\"], predict,  average=\"macro\")))\n",
    "print(\"     - precision score:\\t   {}\" .format(precision_score(combined_test[\"labels\"], predict,  average=\"macro\")))\n",
    "print(\"     - f1 score:\\t   {}\"        .format(f1_score(       combined_test[\"labels\"], predict,  average=\"macro\")))\n",
    "print()"
   ]
  },
  {
   "cell_type": "markdown",
   "metadata": {},
   "source": [
    "#### Checking what subjects test data it performs well on"
   ]
  },
  {
   "cell_type": "markdown",
   "metadata": {},
   "source": [
    "By only predicting one of the validation datasets using the multiclass 3x5 mapping, we can test what classes it performs well and poorly on."
   ]
  },
  {
   "cell_type": "markdown",
   "metadata": {},
   "source": [
    "Here we can not look at the precision and the recall scores, since it will take into account all of the different classes that we are not trying to predict."
   ]
  },
  {
   "cell_type": "code",
   "execution_count": 171,
   "metadata": {},
   "outputs": [
    {
     "name": "stdout",
     "output_type": "stream",
     "text": [
      "hillary: \n",
      "     - accuracy score:\t   0.34782608695652173\n",
      "\n",
      "abortion: \n",
      "     - accuracy score:\t   0.13636363636363635\n",
      "\n",
      "atheism: \n",
      "     - accuracy score:\t   0.21153846153846154\n",
      "\n",
      "climate: \n",
      "     - accuracy score:\t   0.1\n",
      "\n",
      "feminist: \n",
      "     - accuracy score:\t   0.2537313432835821\n",
      "\n"
     ]
    }
   ],
   "source": [
    "ls = [hillary_val, abortion_val, atheism_val, climate_val, feminist_val]\n",
    "d = [\"hillary\", \"abortion\", \"atheism\", \"climate\", \"feminist\"]\n",
    "for idx, data in enumerate(ls):\n",
    "    name = d[idx]\n",
    "    predicted = model.predict(data[\"tweets\"])\n",
    "    print(str(name) + \": \")\n",
    "    print(\"     - accuracy score:\\t   {}\"  .format(accuracy_score(data[\"labels\"],predicted)))\n",
    "    print()"
   ]
  },
  {
   "cell_type": "markdown",
   "metadata": {},
   "source": [
    "Here we see that the model varies a lot on the different subject stances."
   ]
  },
  {
   "cell_type": "markdown",
   "metadata": {},
   "source": [
    "## Multi-classification on a single stance subject (Atheism)"
   ]
  },
  {
   "cell_type": "markdown",
   "metadata": {},
   "source": [
    "### Necessary Datasets"
   ]
  },
  {
   "cell_type": "code",
   "execution_count": 172,
   "metadata": {},
   "outputs": [],
   "source": [
    "atheism_train = pd.concat([train_atheism, train_atheism_labels], axis=1)\n",
    "atheism_val   = pd.concat([validation_atheism, validation_atheism_labels], axis=1)\n",
    "atheism_test  = pd.concat([test_atheism,  test_atheism_labels],  axis=1)"
   ]
  },
  {
   "cell_type": "markdown",
   "metadata": {},
   "source": [
    "### Tokenizing our training and validation tweets"
   ]
  },
  {
   "cell_type": "code",
   "execution_count": 173,
   "metadata": {},
   "outputs": [],
   "source": [
    "copy_train = atheism_train\n",
    "for idx, i in enumerate(copy_train[\"tweets\"]):\n",
    "    x = tokenize_ideal(i)\n",
    "    atheism_train.loc[idx, [\"tweets\"]] = x[0]\n",
    "\n",
    "copy_val = atheism_val\n",
    "for idx, i in enumerate(copy_val[\"tweets\"]):\n",
    "    x = tokenize_ideal(i)\n",
    "    atheism_val.loc[idx, [\"tweets\"]] = x[0]\n",
    "\n",
    "copy_test = atheism_test\n",
    "for idx, i in enumerate(copy_test[\"tweets\"]):\n",
    "    x = tokenize_ideal(i)\n",
    "    atheism_test.loc[idx, [\"tweets\"]] = x[0]"
   ]
  },
  {
   "cell_type": "code",
   "execution_count": 174,
   "metadata": {},
   "outputs": [
    {
     "data": {
      "text/plain": [
       "1    273\n",
       "0    105\n",
       "2     83\n",
       "Name: labels, dtype: int64"
      ]
     },
     "execution_count": 174,
     "metadata": {},
     "output_type": "execute_result"
    }
   ],
   "source": [
    "atheism_train[\"labels\"].value_counts()"
   ]
  },
  {
   "cell_type": "markdown",
   "metadata": {},
   "source": [
    "Data is imbalanced, thus we use macro averaged recall."
   ]
  },
  {
   "cell_type": "markdown",
   "metadata": {},
   "source": [
    "### Baseline model"
   ]
  },
  {
   "cell_type": "code",
   "execution_count": 175,
   "metadata": {},
   "outputs": [],
   "source": [
    "LR_single = model_pipeline(SGDClassifier(loss='log', random_state=42)).fit(atheism_train[\"tweets\"], atheism_train[\"labels\"]);"
   ]
  },
  {
   "cell_type": "code",
   "execution_count": 176,
   "metadata": {},
   "outputs": [
    {
     "data": {
      "text/plain": [
       "0.7115384615384616"
      ]
     },
     "execution_count": 176,
     "metadata": {},
     "output_type": "execute_result"
    }
   ],
   "source": [
    "predicted = LR_single.predict(atheism_val[\"tweets\"])\n",
    "accuracy_score(predicted, atheism_val[\"labels\"])"
   ]
  },
  {
   "cell_type": "markdown",
   "metadata": {},
   "source": [
    "### Classification models different models"
   ]
  },
  {
   "cell_type": "markdown",
   "metadata": {},
   "source": [
    "Training different classifying models without any special tuning to see which is the best in its simplest form."
   ]
  },
  {
   "cell_type": "code",
   "execution_count": 177,
   "metadata": {},
   "outputs": [],
   "source": [
    "KNN_single = model_pipeline(KNeighborsClassifier()).fit(atheism_train[\"tweets\"], atheism_train[\"labels\"])\n",
    "DTC_single = model_pipeline(DecisionTreeClassifier(random_state=42)).fit(atheism_train[\"tweets\"], atheism_train[\"labels\"])\n",
    "RFC_single = model_pipeline(RandomForestClassifier(random_state=42)).fit(atheism_train[\"tweets\"], atheism_train[\"labels\"])\n",
    "SV_single  = model_pipeline(SVC(random_state=42)).fit(atheism_train[\"tweets\"], atheism_train[\"labels\"])\n",
    "NB_single  = model_pipeline(MultinomialNB()).fit(atheism_train[\"tweets\"],atheism_train[\"labels\"])"
   ]
  },
  {
   "cell_type": "code",
   "execution_count": 178,
   "metadata": {},
   "outputs": [],
   "source": [
    "modelsc = [LR_single, KNN_single, DTC_single, RFC_single, SV_single, NB_single]\n",
    "d = [\"LogisticRegression\",\n",
    "     \"KNearestNeighbor\",\n",
    "     \"DecisionTreeClassifier\",\n",
    "     \"RandomForestClassifier\",\n",
    "     \"SupportVectorClassifier\",\n",
    "     \"NaiveBayes\"]"
   ]
  },
  {
   "cell_type": "code",
   "execution_count": 179,
   "metadata": {},
   "outputs": [
    {
     "name": "stdout",
     "output_type": "stream",
     "text": [
      "LogisticRegression: \n",
      "     - classes not predicted by model: \t []\n",
      "     - accuracy score:\t   0.7115384615384616\n",
      "     - recall score: \t   0.5803464755077659\n",
      "     - precision score:\t   0.6797619047619047\n",
      "     - f1 score:\t   0.5982808616404308\n",
      "\n",
      "KNearestNeighbor: \n",
      "     - classes not predicted by model: \t []\n",
      "     - accuracy score:\t   0.5576923076923077\n",
      "     - recall score: \t   0.39844683393070485\n",
      "     - precision score:\t   0.4137426900584795\n",
      "     - f1 score:\t   0.3940513403429004\n",
      "\n",
      "DecisionTreeClassifier: \n",
      "     - classes not predicted by model: \t []\n",
      "     - accuracy score:\t   0.5769230769230769\n",
      "     - recall score: \t   0.4695340501792114\n",
      "     - precision score:\t   0.4804713804713805\n",
      "     - f1 score:\t   0.4718306182121972\n",
      "\n",
      "RandomForestClassifier: \n",
      "     - classes not predicted by model: \t [2]\n",
      "     - accuracy score:\t   0.5961538461538461\n",
      "     - recall score: \t   0.3503584229390681\n",
      "     - precision score:\t   0.3666666666666667\n",
      "     - f1 score:\t   0.2945326278659612\n",
      "\n",
      "SupportVectorClassifier: \n",
      "     - classes not predicted by model: \t [0, 2]\n",
      "     - accuracy score:\t   0.5961538461538461\n",
      "     - recall score: \t   0.3333333333333333\n",
      "     - precision score:\t   0.1987179487179487\n",
      "     - f1 score:\t   0.24899598393574296\n",
      "\n",
      "NaiveBayes: \n",
      "     - classes not predicted by model: \t [0, 2]\n",
      "     - accuracy score:\t   0.5961538461538461\n",
      "     - recall score: \t   0.3333333333333333\n",
      "     - precision score:\t   0.1987179487179487\n",
      "     - f1 score:\t   0.24899598393574296\n",
      "\n"
     ]
    },
    {
     "name": "stderr",
     "output_type": "stream",
     "text": [
      "C:\\Users\\ruben\\anaconda3\\lib\\site-packages\\sklearn\\metrics\\_classification.py:1245: UndefinedMetricWarning: Precision is ill-defined and being set to 0.0 in labels with no predicted samples. Use `zero_division` parameter to control this behavior.\n",
      "  _warn_prf(average, modifier, msg_start, len(result))\n",
      "C:\\Users\\ruben\\anaconda3\\lib\\site-packages\\sklearn\\metrics\\_classification.py:1245: UndefinedMetricWarning: Precision is ill-defined and being set to 0.0 in labels with no predicted samples. Use `zero_division` parameter to control this behavior.\n",
      "  _warn_prf(average, modifier, msg_start, len(result))\n",
      "C:\\Users\\ruben\\anaconda3\\lib\\site-packages\\sklearn\\metrics\\_classification.py:1245: UndefinedMetricWarning: Precision is ill-defined and being set to 0.0 in labels with no predicted samples. Use `zero_division` parameter to control this behavior.\n",
      "  _warn_prf(average, modifier, msg_start, len(result))\n"
     ]
    }
   ],
   "source": [
    "ls = list(range(0,3))\n",
    "for idx, model in enumerate(modelsc):\n",
    "    name = d[idx]\n",
    "    predict = model.predict(atheism_val[\"tweets\"])\n",
    "    print(str(name) + \": \")\n",
    "    uniq, counts = np.unique(predict, return_counts=True)\n",
    "    temp = [item for item in ls if item not in uniq]\n",
    "    print(\"     - classes not predicted by model: \\t {}\".format(temp))\n",
    "    print(\"     - accuracy score:\\t   {}\"  .format(accuracy_score(atheism_val[\"labels\"],predict)))\n",
    "    print(\"     - recall score: \\t   {}\"   .format(recall_score(atheism_val[\"labels\"], predict,   average='macro')))\n",
    "    print(\"     - precision score:\\t   {}\" .format(precision_score(atheism_val[\"labels\"], predict, average='macro')))\n",
    "    print(\"     - f1 score:\\t   {}\"        .format(f1_score(atheism_val[\"labels\"], predict, average='macro')))\n",
    "    print()"
   ]
  },
  {
   "cell_type": "code",
   "execution_count": 180,
   "metadata": {},
   "outputs": [
    {
     "data": {
      "image/png": "[encoded data removed]",
      "text/plain": [
       "<Figure size 1440x576 with 1 Axes>"
      ]
     },
     "metadata": {},
     "output_type": "display_data"
    }
   ],
   "source": [
    "r = pd.DataFrame(columns=[\"MODELS\",\"R2CV\"])\n",
    "for i, model in enumerate(modelsc):\n",
    "    name = d[i]\n",
    "    R2CV = cross_val_score(model, atheism_val[\"tweets\"], atheism_val[\"labels\"], cv=2).mean()\n",
    "    result = pd.DataFrame([[name,R2CV*100]], columns=[\"MODELS\",\"R2CV\"])\n",
    "    r = r.append(result)\n",
    "\n",
    "figure = plt.figure(figsize=(20, 8))\n",
    "sns.barplot(x=\"R2CV\", y=\"MODELS\", data=r, color=\"k\")\n",
    "plt.xlabel(\"Cross Val Score\")\n",
    "plt.ylabel(\"MODELS\")\n",
    "plt.xlim(0, 100)\n",
    "plt.title(\"MODEL ACCURACY COMPARISON\")\n",
    "plt.show()"
   ]
  },
  {
   "cell_type": "markdown",
   "metadata": {},
   "source": [
    "#### Tuning the best models"
   ]
  },
  {
   "cell_type": "code",
   "execution_count": 181,
   "metadata": {},
   "outputs": [],
   "source": [
    "scores={}\n",
    "accuracyscore = {}\n",
    "recallscore = {}\n",
    "precisionscore = {}\n",
    "fscore = {}"
   ]
  },
  {
   "cell_type": "markdown",
   "metadata": {},
   "source": [
    "##### Random Forest Classifier"
   ]
  },
  {
   "cell_type": "code",
   "execution_count": 182,
   "metadata": {},
   "outputs": [],
   "source": [
    "RFC_noob_atheism = model_pipeline(RandomForestClassifier(random_state=42))"
   ]
  },
  {
   "cell_type": "code",
   "execution_count": 183,
   "metadata": {},
   "outputs": [],
   "source": [
    "parameters = {\"clf__n_estimators\": [100, 500, 1000, 2000],\n",
    "             \"clf__max_depth\": [3, 6, 12, 24, 48],\n",
    "             \"clf__criterion\": [\"gini\", \"entropy\"],\n",
    "             }"
   ]
  },
  {
   "cell_type": "code",
   "execution_count": 184,
   "metadata": {},
   "outputs": [],
   "source": [
    "gs_clf = GridSearchCV(RFC_noob_atheism, parameters, cv=2, n_jobs=-1, scoring=\"recall_macro\").fit(atheism_train[\"tweets\"], atheism_train[\"labels\"])"
   ]
  },
  {
   "cell_type": "code",
   "execution_count": 185,
   "metadata": {},
   "outputs": [
    {
     "data": {
      "text/plain": [
       "0.3664877103694121"
      ]
     },
     "execution_count": 185,
     "metadata": {},
     "output_type": "execute_result"
    }
   ],
   "source": [
    "scores[\"RFC\"] = gs_clf.best_score_\n",
    "scores[\"RFC\"]"
   ]
  },
  {
   "cell_type": "code",
   "execution_count": 186,
   "metadata": {
    "scrolled": true
   },
   "outputs": [
    {
     "name": "stdout",
     "output_type": "stream",
     "text": [
      "clf__criterion: 'entropy'\n",
      "clf__max_depth: 24\n",
      "clf__n_estimators: 100\n"
     ]
    }
   ],
   "source": [
    "for param_name in sorted(parameters.keys()):\n",
    "    print(\"%s: %r\" % (param_name, gs_clf.best_params_[param_name]))"
   ]
  },
  {
   "cell_type": "code",
   "execution_count": 187,
   "metadata": {},
   "outputs": [],
   "source": [
    "RFC_tuned_atheism = Pipeline([('vect', CountVectorizer(tokenizer=lambda x: x, preprocessor= lambda x: x )\n",
    "                         ), ('tfidf', TfidfTransformer()\n",
    "                         ), ('clf', RandomForestClassifier(random_state=42, \n",
    "                                                       criterion = 'entropy', \n",
    "                                                       max_depth= 24, \n",
    "                                                       n_estimators= 100))]).fit(atheism_train[\"tweets\"], atheism_train[\"labels\"])"
   ]
  },
  {
   "cell_type": "code",
   "execution_count": 188,
   "metadata": {},
   "outputs": [
    {
     "name": "stdout",
     "output_type": "stream",
     "text": [
      "classes not predicted by model: [2]\n"
     ]
    },
    {
     "name": "stderr",
     "output_type": "stream",
     "text": [
      "C:\\Users\\ruben\\anaconda3\\lib\\site-packages\\sklearn\\metrics\\_classification.py:1245: UndefinedMetricWarning: Precision is ill-defined and being set to 0.0 in labels with no predicted samples. Use `zero_division` parameter to control this behavior.\n",
      "  _warn_prf(average, modifier, msg_start, len(result))\n"
     ]
    }
   ],
   "source": [
    "predict = RFC_tuned_atheism.predict(atheism_val[\"tweets\"])\n",
    "ls = list(range(0,3))\n",
    "uniq, counts = np.unique(predict, return_counts=True)\n",
    "temp = [item for item in ls if item not in uniq]\n",
    "print(\"classes not predicted by model: {}\".format(temp))\n",
    "accuracyscore[\"RandomForestClassifier\"]  = accuracy_score( atheism_val[\"labels\"] , predict) \n",
    "recallscore[\"RandomForestClassifier\"]    = recall_score(   atheism_val[\"labels\"],  predict, average=\"macro\")\n",
    "precisionscore[\"RandomForestClassifier\"] = precision_score(atheism_val[\"labels\"],  predict, average=\"macro\")\n",
    "fscore[\"RandomForestClassifier\"]         = f1_score(       atheism_val[\"labels\"],  predict, average=\"macro\")"
   ]
  },
  {
   "cell_type": "markdown",
   "metadata": {},
   "source": [
    "##### Support Vector Classifier"
   ]
  },
  {
   "cell_type": "code",
   "execution_count": 189,
   "metadata": {},
   "outputs": [],
   "source": [
    "SV_noob_atheism = model_pipeline(SVC(random_state=42))"
   ]
  },
  {
   "cell_type": "code",
   "execution_count": 190,
   "metadata": {},
   "outputs": [],
   "source": [
    "parameters = {\"clf__C\": [1,3,9,27],\n",
    "             \"clf__kernel\": [\"linear\", \"poly\", \"rbf\", \"sigmoid\"],\n",
    "             \"clf__degree\": [1,3,9,27],\n",
    "             }"
   ]
  },
  {
   "cell_type": "code",
   "execution_count": 191,
   "metadata": {},
   "outputs": [],
   "source": [
    "gs_clf = GridSearchCV(SV_noob_atheism, parameters, cv=2, n_jobs=-1, scoring=\"recall_macro\").fit(atheism_train[\"tweets\"], atheism_train[\"labels\"])"
   ]
  },
  {
   "cell_type": "code",
   "execution_count": 192,
   "metadata": {},
   "outputs": [
    {
     "data": {
      "text/plain": [
       "0.44863010841093465"
      ]
     },
     "execution_count": 192,
     "metadata": {},
     "output_type": "execute_result"
    }
   ],
   "source": [
    "scores[\"SV\"] = gs_clf.best_score_\n",
    "scores[\"SV\"]"
   ]
  },
  {
   "cell_type": "code",
   "execution_count": 193,
   "metadata": {},
   "outputs": [
    {
     "name": "stdout",
     "output_type": "stream",
     "text": [
      "clf__C: 27\n",
      "clf__degree: 3\n",
      "clf__kernel: 'poly'\n"
     ]
    }
   ],
   "source": [
    "for param_name in sorted(parameters.keys()):\n",
    "    print(\"%s: %r\" % (param_name, gs_clf.best_params_[param_name]))"
   ]
  },
  {
   "cell_type": "code",
   "execution_count": 194,
   "metadata": {},
   "outputs": [],
   "source": [
    "SV_tuned_atheism = Pipeline([('vect', CountVectorizer(tokenizer=lambda x: x, preprocessor= lambda x: x, token_pattern=None )\n",
    "                     ), ('tfidf', TfidfTransformer()\n",
    "                     ), ('clf', SVC(random_state=42, \n",
    "                                    C = 27, \n",
    "                                    degree= 3,\n",
    "                                    kernel=\"poly\"))]).fit(atheism_train[\"tweets\"], atheism_train[\"labels\"])"
   ]
  },
  {
   "cell_type": "code",
   "execution_count": 195,
   "metadata": {},
   "outputs": [
    {
     "name": "stdout",
     "output_type": "stream",
     "text": [
      "classes not predicted by model: []\n"
     ]
    }
   ],
   "source": [
    "predict = SV_tuned_atheism.predict(atheism_val[\"tweets\"])\n",
    "ls = list(range(0,3))\n",
    "uniq, counts = np.unique(predict, return_counts=True)\n",
    "temp = [item for item in ls if item not in uniq]\n",
    "print(\"classes not predicted by model: {}\".format(temp))\n",
    "accuracyscore[\"SupportVector\"]  = accuracy_score( atheism_val[\"labels\"] , predict) \n",
    "recallscore[\"SupportVector\"]    = recall_score(   atheism_val[\"labels\"],  predict, average=\"macro\")\n",
    "precisionscore[\"SupportVector\"] = precision_score(atheism_val[\"labels\"],  predict, average=\"macro\")\n",
    "fscore[\"SupportVector\"]         = f1_score(       atheism_val[\"labels\"],  predict, average=\"macro\")"
   ]
  },
  {
   "cell_type": "markdown",
   "metadata": {},
   "source": [
    "##### Logistical Regression"
   ]
  },
  {
   "cell_type": "code",
   "execution_count": 196,
   "metadata": {},
   "outputs": [],
   "source": [
    "LR_noob_atheism = model_pipeline(SGDClassifier(loss='log', random_state=42))"
   ]
  },
  {
   "cell_type": "code",
   "execution_count": 197,
   "metadata": {},
   "outputs": [],
   "source": [
    "parameters = {\"clf__alpha\": [0.0001, 0.0003, 0.001, 0.003, 0.01, 0.03],\n",
    "              \"clf__penalty\": [\"l2\", \"l1\", \"elasticnet\"],\n",
    "             }"
   ]
  },
  {
   "cell_type": "code",
   "execution_count": 198,
   "metadata": {},
   "outputs": [],
   "source": [
    "gs_clf = GridSearchCV(LR_noob_atheism, parameters, cv=2, n_jobs=-1, scoring=\"recall_macro\").fit(atheism_train[\"tweets\"], atheism_train[\"labels\"])"
   ]
  },
  {
   "cell_type": "code",
   "execution_count": 199,
   "metadata": {},
   "outputs": [
    {
     "data": {
      "text/plain": [
       "0.3948566745888605"
      ]
     },
     "execution_count": 199,
     "metadata": {},
     "output_type": "execute_result"
    }
   ],
   "source": [
    "scores[\"LR\"] = gs_clf.best_score_\n",
    "scores[\"LR\"]"
   ]
  },
  {
   "cell_type": "code",
   "execution_count": 200,
   "metadata": {},
   "outputs": [
    {
     "name": "stdout",
     "output_type": "stream",
     "text": [
      "clf__alpha: 0.0003\n",
      "clf__penalty: 'l1'\n"
     ]
    }
   ],
   "source": [
    "for param_name in sorted(parameters.keys()):\n",
    "    print(\"%s: %r\" % (param_name, gs_clf.best_params_[param_name]))"
   ]
  },
  {
   "cell_type": "code",
   "execution_count": 201,
   "metadata": {},
   "outputs": [],
   "source": [
    "LR_tuned_atheism = Pipeline([('vect', CountVectorizer(tokenizer=lambda x: x, preprocessor= lambda x: x, token_pattern=None )\n",
    "                     ), ('tfidf', TfidfTransformer()\n",
    "                     ), ('clf', SGDClassifier(loss=\"log\",\n",
    "                                    random_state=42, \n",
    "                                    alpha = 0.0003, \n",
    "                                    penalty=\"l1\"\n",
    "                                             ))]).fit(atheism_train[\"tweets\"], atheism_train[\"labels\"])"
   ]
  },
  {
   "cell_type": "code",
   "execution_count": 202,
   "metadata": {},
   "outputs": [
    {
     "name": "stdout",
     "output_type": "stream",
     "text": [
      "classes not predicted by model: []\n"
     ]
    }
   ],
   "source": [
    "predict = LR_tuned_atheism.predict(atheism_val[\"tweets\"])\n",
    "ls = list(range(0,3))\n",
    "uniq, counts = np.unique(predict, return_counts=True)\n",
    "temp = [item for item in ls if item not in uniq]\n",
    "print(\"classes not predicted by model: {}\".format(temp))\n",
    "accuracyscore[\"LogisticRegression\"]  = accuracy_score( atheism_val[\"labels\"] , predict) \n",
    "recallscore[\"LogisticRegression\"]    = recall_score(   atheism_val[\"labels\"],  predict, average=\"macro\")\n",
    "precisionscore[\"LogisticRegression\"] = precision_score(atheism_val[\"labels\"],  predict, average=\"macro\")\n",
    "fscore[\"LogisticRegression\"]         = f1_score(       atheism_val[\"labels\"],  predict, average=\"macro\")"
   ]
  },
  {
   "cell_type": "code",
   "execution_count": 203,
   "metadata": {},
   "outputs": [
    {
     "data": {
      "image/png": "[encoded data removed]",
      "text/plain": [
       "<Figure size 1080x576 with 4 Axes>"
      ]
     },
     "metadata": {},
     "output_type": "display_data"
    }
   ],
   "source": [
    "fig, ax = plt.subplots(2, 2, figsize=(15,8))\n",
    "ax[0,0].set_title(\"Accuracy score\")\n",
    "ax[0,1].set_title(\"F-score\")\n",
    "ax[1,0].set_title(\"Precision\")\n",
    "ax[1,1].set_title(\"Recall\")\n",
    "\n",
    "for i in accuracyscore.items():\n",
    "    ax[0,0].bar(i[0], i[1])\n",
    "    ax[0,0].set_ylim([0,0.8])\n",
    "\n",
    "for i in fscore.items():\n",
    "    ax[0,1].bar(i[0], i[1])\n",
    "    ax[0,1].set_ylim([0,0.8])\n",
    "    \n",
    "for i in precisionscore.items():\n",
    "    ax[1,0].bar(i[0], i[1])\n",
    "    ax[1,0].set_ylim([0,0.8])\n",
    "    \n",
    "for i in recallscore.items():\n",
    "    ax[1,1].bar(i[0], i[1])\n",
    "    ax[1,1].set_ylim([0,0.8])\n",
    "\n",
    "plt.tight_layout()"
   ]
  },
  {
   "cell_type": "markdown",
   "metadata": {},
   "source": [
    "Here we again see that the logistic regression is the best on all the metrics, thus it is our final model."
   ]
  },
  {
   "cell_type": "markdown",
   "metadata": {},
   "source": [
    "##### Final model on test data metrics"
   ]
  },
  {
   "cell_type": "code",
   "execution_count": 204,
   "metadata": {},
   "outputs": [
    {
     "name": "stdout",
     "output_type": "stream",
     "text": [
      "LogisticRegression: \n",
      "     - classes not predicted by model: \t []\n",
      "     - accuracy score:\t   0.6409090909090909\n",
      "     - recall score: \t   0.3354166666666667\n",
      "     - precision score:\t   0.3465909090909091\n",
      "     - f1 score:\t   0.33073166826769135\n",
      "\n"
     ]
    }
   ],
   "source": [
    "ls = [0,1,2]\n",
    "model = LR_tuned_atheism\n",
    "predict = model.predict(atheism_test[\"tweets\"])\n",
    "print(\"LogisticRegression\" + \": \")\n",
    "uniq, counts = np.unique(predict, return_counts=True)\n",
    "temp = [item for item in ls if item not in set(uniq)]\n",
    "print(\"     - classes not predicted by model: \\t {}\".format(temp))\n",
    "print(\"     - accuracy score:\\t   {}\"  .format(accuracy_score( atheism_test[\"labels\"], predict)))\n",
    "print(\"     - recall score: \\t   {}\"   .format(recall_score(   atheism_test[\"labels\"], predict,  average=\"macro\")))\n",
    "print(\"     - precision score:\\t   {}\" .format(precision_score(atheism_test[\"labels\"], predict,  average=\"macro\")))\n",
    "print(\"     - f1 score:\\t   {}\"        .format(f1_score(       atheism_test[\"labels\"], predict,  average=\"macro\")))\n",
    "print()"
   ]
  },
  {
   "cell_type": "markdown",
   "metadata": {},
   "source": [
    "## Evaluating our tokenizers on the final ML atheism model"
   ]
  },
  {
   "cell_type": "code",
   "execution_count": 205,
   "metadata": {},
   "outputs": [],
   "source": [
    "scores={}\n",
    "accuracyscore = {}\n",
    "recallscore = {}\n",
    "precisionscore = {}\n",
    "fscore = {}"
   ]
  },
  {
   "cell_type": "markdown",
   "metadata": {},
   "source": [
    "### Ideal tokenizer"
   ]
  },
  {
   "cell_type": "code",
   "execution_count": 206,
   "metadata": {},
   "outputs": [],
   "source": [
    "ideal_train = pd.concat([train_atheism, train_atheism_labels], axis=1)\n",
    "ideal_val   = pd.concat([validation_atheism, validation_atheism_labels], axis=1)\n",
    "ideal_test  = pd.concat([test_atheism,  test_atheism_labels],  axis=1)"
   ]
  },
  {
   "cell_type": "code",
   "execution_count": 207,
   "metadata": {},
   "outputs": [],
   "source": [
    "copy_train = ideal_train\n",
    "for idx, i in enumerate(copy_train[\"tweets\"]):\n",
    "    x = tokenize_ideal(i)\n",
    "    ideal_train.loc[idx, [\"tweets\"]] = x[0]\n",
    "\n",
    "copy_val = ideal_val\n",
    "for idx, i in enumerate(copy_val[\"tweets\"]):\n",
    "    x = tokenize_ideal(i)\n",
    "    ideal_val.loc[idx, [\"tweets\"]] = x[0]\n",
    "\n",
    "copy_test = ideal_test\n",
    "for idx, i in enumerate(copy_test[\"tweets\"]):\n",
    "    x = tokenize_ideal(i)\n",
    "    ideal_test.loc[idx, [\"tweets\"]] = x[0]"
   ]
  },
  {
   "cell_type": "code",
   "execution_count": 208,
   "metadata": {},
   "outputs": [],
   "source": [
    "predict = LR_tuned_atheism.predict(ideal_val[\"tweets\"])\n",
    "accuracyscore[\"ideal_tokenizer\"]  = accuracy_score( ideal_val[\"labels\"] , predict) \n",
    "recallscore[\"ideal_tokenizer\"]    = recall_score(   ideal_val[\"labels\"],  predict, average=\"macro\")\n",
    "precisionscore[\"ideal_tokenizer\"] = precision_score(ideal_val[\"labels\"],  predict, average=\"macro\")\n",
    "fscore[\"ideal_tokenizer\"]         = f1_score(       ideal_val[\"labels\"],  predict, average=\"macro\")"
   ]
  },
  {
   "cell_type": "markdown",
   "metadata": {},
   "source": [
    "### Tokenize ekstra"
   ]
  },
  {
   "cell_type": "code",
   "execution_count": 209,
   "metadata": {},
   "outputs": [],
   "source": [
    "ekstra_train = pd.concat([train_atheism, train_atheism_labels], axis=1)\n",
    "ekstra_val   = pd.concat([validation_atheism, validation_atheism_labels], axis=1)\n",
    "ekstra_test  = pd.concat([test_atheism,  test_atheism_labels],  axis=1)"
   ]
  },
  {
   "cell_type": "code",
   "execution_count": 210,
   "metadata": {},
   "outputs": [],
   "source": [
    "copy_train = ekstra_train\n",
    "for idx, i in enumerate(copy_train[\"tweets\"]):\n",
    "    x = tokenize_ekstra(i)\n",
    "    ekstra_train.loc[idx, [\"tweets\"]] = x[0]\n",
    "\n",
    "copy_val = ekstra_val\n",
    "for idx, i in enumerate(copy_val[\"tweets\"]):\n",
    "    x = tokenize_ekstra(i)\n",
    "    ekstra_val.loc[idx, [\"tweets\"]] = x[0]\n",
    "\n",
    "copy_test = ekstra_test\n",
    "for idx, i in enumerate(copy_test[\"tweets\"]):\n",
    "    x = tokenize_ekstra(i)\n",
    "    ekstra_test.loc[idx, [\"tweets\"]] = x[0]"
   ]
  },
  {
   "cell_type": "code",
   "execution_count": 211,
   "metadata": {},
   "outputs": [],
   "source": [
    "predict = LR_tuned_atheism.predict(ekstra_val[\"tweets\"])\n",
    "accuracyscore[\"ekstra_tokenizer\"]  = accuracy_score( ekstra_val[\"labels\"] , predict) \n",
    "recallscore[\"ekstra_tokenizer\"]    = recall_score(   ekstra_val[\"labels\"],  predict, average=\"macro\")\n",
    "precisionscore[\"ekstra_tokenizer\"] = precision_score(ekstra_val[\"labels\"],  predict, average=\"macro\")\n",
    "fscore[\"ekstra_tokenizer\"]         = f1_score(       ekstra_val[\"labels\"],  predict, average=\"macro\")"
   ]
  },
  {
   "cell_type": "markdown",
   "metadata": {},
   "source": [
    "### NLTK tokenizer"
   ]
  },
  {
   "cell_type": "code",
   "execution_count": 212,
   "metadata": {},
   "outputs": [],
   "source": [
    "def gold_tokenizer(line):\n",
    "    tok = nltk.tokenize.TreebankWordTokenizer()\n",
    "    new = \"\"\n",
    "    for t in tok.tokenize(line):\n",
    "        new = new + \" \" +t\n",
    "    return new"
   ]
  },
  {
   "cell_type": "code",
   "execution_count": 213,
   "metadata": {},
   "outputs": [],
   "source": [
    "gold_train = pd.concat([train_atheism, train_atheism_labels], axis=1)\n",
    "gold_val   = pd.concat([validation_atheism, validation_atheism_labels], axis=1)\n",
    "gold_test  = pd.concat([test_atheism,  test_atheism_labels],  axis=1)"
   ]
  },
  {
   "cell_type": "code",
   "execution_count": 214,
   "metadata": {},
   "outputs": [],
   "source": [
    "copy_train = gold_train\n",
    "for idx, i in enumerate(copy_train[\"tweets\"]):\n",
    "    x = gold_tokenizer(i)\n",
    "    gold_train.loc[idx, [\"tweets\"]] = x\n",
    "\n",
    "copy_val = gold_val\n",
    "for idx, i in enumerate(copy_val[\"tweets\"]):\n",
    "    x = gold_tokenizer(i)\n",
    "    gold_val.loc[idx, [\"tweets\"]] = x\n",
    "\n",
    "copy_test = gold_test\n",
    "for idx, i in enumerate(copy_test[\"tweets\"]):\n",
    "    x = gold_tokenizer(i)\n",
    "    gold_test.loc[idx, [\"tweets\"]] = x\n"
   ]
  },
  {
   "cell_type": "code",
   "execution_count": 215,
   "metadata": {},
   "outputs": [
    {
     "name": "stderr",
     "output_type": "stream",
     "text": [
      "C:\\Users\\ruben\\anaconda3\\lib\\site-packages\\sklearn\\metrics\\_classification.py:1245: UndefinedMetricWarning: Precision is ill-defined and being set to 0.0 in labels with no predicted samples. Use `zero_division` parameter to control this behavior.\n",
      "  _warn_prf(average, modifier, msg_start, len(result))\n"
     ]
    }
   ],
   "source": [
    "predict = LR_tuned_atheism.predict(gold_val[\"tweets\"])\n",
    "accuracyscore[\"nltk_tokenizer\"]  = accuracy_score( gold_val[\"labels\"] , predict) \n",
    "recallscore[\"nltk_tokenizer\"]    = recall_score(   gold_val[\"labels\"],  predict, average=\"macro\")\n",
    "precisionscore[\"nltk_tokenizer\"] = precision_score(gold_val[\"labels\"],  predict, average=\"macro\")\n",
    "fscore[\"nltk_tokenizer\"]         = f1_score(       gold_val[\"labels\"],  predict, average=\"macro\")"
   ]
  },
  {
   "cell_type": "markdown",
   "metadata": {},
   "source": [
    "### no tokenizer\n",
    "To compare the tokenizers with the scenario where we do not use a tokenizer"
   ]
  },
  {
   "cell_type": "code",
   "execution_count": 216,
   "metadata": {},
   "outputs": [],
   "source": [
    "raw_train = pd.concat([train_atheism, train_atheism_labels], axis=1)\n",
    "raw_val   = pd.concat([validation_atheism, validation_atheism_labels], axis=1)\n",
    "raw_test  = pd.concat([test_atheism,  test_atheism_labels],  axis=1)"
   ]
  },
  {
   "cell_type": "code",
   "execution_count": 217,
   "metadata": {},
   "outputs": [],
   "source": [
    "predict = LR_tuned_atheism.predict(raw_val[\"tweets\"])\n",
    "accuracyscore[\"raw\"]  = accuracy_score( raw_val[\"labels\"] , predict) \n",
    "recallscore[\"raw\"]    = recall_score(   raw_val[\"labels\"],  predict, average=\"macro\")\n",
    "precisionscore[\"raw\"] = precision_score(raw_val[\"labels\"],  predict, average=\"macro\")\n",
    "fscore[\"raw\"]         = f1_score(       raw_val[\"labels\"],  predict, average=\"macro\")"
   ]
  },
  {
   "cell_type": "markdown",
   "metadata": {},
   "source": [
    "### Evaluatin of tokenizers"
   ]
  },
  {
   "cell_type": "markdown",
   "metadata": {},
   "source": [
    "We see that all the tokenizers produce different results"
   ]
  },
  {
   "cell_type": "code",
   "execution_count": 218,
   "metadata": {},
   "outputs": [
    {
     "data": {
      "text/plain": [
       "'necessity is the mother of innovation our deen is complete there is no need for innovation islam semst'"
      ]
     },
     "execution_count": 218,
     "metadata": {},
     "output_type": "execute_result"
    }
   ],
   "source": [
    "ideal_val[\"tweets\"].iloc[39]"
   ]
  },
  {
   "cell_type": "code",
   "execution_count": 219,
   "metadata": {},
   "outputs": [
    {
     "data": {
      "text/plain": [
       "'# necessity is the mother of # innovation . our # deen is complete there is no need for innovation . # islam # semst'"
      ]
     },
     "execution_count": 219,
     "metadata": {},
     "output_type": "execute_result"
    }
   ],
   "source": [
    "ekstra_val[\"tweets\"].iloc[39]"
   ]
  },
  {
   "cell_type": "code",
   "execution_count": 220,
   "metadata": {},
   "outputs": [
    {
     "data": {
      "text/plain": [
       "' # Necessity is the mother of # innovation. Our # Deen is complete - there is no need for innovation. # islam # SemST'"
      ]
     },
     "execution_count": 220,
     "metadata": {},
     "output_type": "execute_result"
    }
   ],
   "source": [
    "gold_val[\"tweets\"].iloc[39]"
   ]
  },
  {
   "cell_type": "code",
   "execution_count": 221,
   "metadata": {},
   "outputs": [
    {
     "data": {
      "text/plain": [
       "'#Necessity is the mother of #innovation. Our #Deen is complete - there is no need for innovation. #islam #SemST '"
      ]
     },
     "execution_count": 221,
     "metadata": {},
     "output_type": "execute_result"
    }
   ],
   "source": [
    "raw_val[\"tweets\"].iloc[39]"
   ]
  },
  {
   "cell_type": "code",
   "execution_count": 222,
   "metadata": {},
   "outputs": [
    {
     "data": {
      "image/png": "[encoded data removed]",
      "text/plain": [
       "<Figure size 1080x576 with 4 Axes>"
      ]
     },
     "metadata": {},
     "output_type": "display_data"
    }
   ],
   "source": [
    "fig, ax = plt.subplots(2, 2, figsize=(15,8))\n",
    "ax[0,0].set_title(\"Accuracy score\")\n",
    "ax[0,1].set_title(\"F-score\")\n",
    "ax[1,0].set_title(\"Precision\")\n",
    "ax[1,1].set_title(\"Recall\")\n",
    "\n",
    "for i in accuracyscore.items():\n",
    "    ax[0,0].bar(i[0], i[1])\n",
    "    ax[0,0].set_ylim([0,0.9])\n",
    "\n",
    "for i in fscore.items():\n",
    "    ax[0,1].bar(i[0], i[1])\n",
    "    ax[0,1].set_ylim([0,0.9])\n",
    "    \n",
    "for i in precisionscore.items():\n",
    "    ax[1,0].bar(i[0], i[1])\n",
    "    ax[1,0].set_ylim([0,0.9])\n",
    "    \n",
    "for i in recallscore.items():\n",
    "    ax[1,1].bar(i[0], i[1])\n",
    "    ax[1,1].set_ylim([0,0.9])\n",
    "\n",
    "plt.tight_layout()"
   ]
  },
  {
   "cell_type": "markdown",
   "metadata": {},
   "source": [
    "Here we see that the tokenizer, which we have identified to be the best and most appropriate for this project, perform relatively equal to the baseline tokenizer. Oddly enough they perform as good as the raw data, which is weird. If we were to use the tokenizer implemented in CountVectorizer we would see an increase in our metrics, thus if we were to do this project for real and the rule of using our own tokenizer did not exist, then we could achieve higher accuracies."
   ]
  },
  {
   "cell_type": "markdown",
   "metadata": {},
   "source": [
    "## 5. Conclusion"
   ]
  },
  {
   "cell_type": "markdown",
   "metadata": {},
   "source": [
    "For futher studies much more data would be necessary to do word embedding and in general improve our models. Especially more data in the stance-files."
   ]
  },
  {
   "cell_type": "markdown",
   "metadata": {},
   "source": [
    "#### Binary classification for Irony:\n",
    "Final model: LogisticRegression\n",
    "     - accuracy score:       0.5535714285714286\n",
    "     - recall score:        0.6688102893890675\n",
    "     - precision score:       0.45714285714285713\n",
    "     - f1 score:       0.5430809399477806\n",
    "Overall the highest accuracy score of all of the tuned models were equally bad at classifying whether a given sentence is ironic. ince the group members also performed badly at classifying irony, we can not expect the model to outperform us massively, since it lacks world knowledge and general experience and emotional aspect. \n",
    "Combining an intention model and an irony model could possibly increase the performance of the irony model.\n",
    "\n",
    "\n",
    "#### Multi-class classification for Atheism:\n",
    "Final model: LogisticRegression\n",
    "     - classes not predicted by model:      []\n",
    "     - accuracy score:       0.6409090909090909\n",
    "     - recall score:        0.3354166666666667\n",
    "     - precision score:       0.3465909090909091\n",
    "     - f1 score:       0.33073166826769135\n",
    "The model for classifying the stance in the dataset Atheism performed best out of the bunch. In the end the LogisticRegression model was chosen, as it included all labels, opposite some of the other models, and had the overall highest scores.\n",
    "The distribution looked fairly linear and we had to use the macro-average recall, because the data was unbalanced - which was likely also the cause of some of the models leaving out some of the classes when predicting.\n",
    "\n",
    "\n",
    "#### Multi-class classification for all stances:\n",
    "Final model: KNN\n",
    "     - classes not predicted by model:      []\n",
    "     - accuracy score:       0.21857485988791034\n",
    "     - recall score:        0.1293985722138177\n",
    "     - precision score:       0.1290124308772997\n",
    "     - f1 score:       0.12514616152456073\n",
    "The KNN was seen as the best models, since it only excluded one classification out of the total 15 on the training data. Given the difficulty of the task with this many different classes the accuracy of the KNN is surprisingly high - better than random, yet still bad. Safe to say is that little amount of training data for some classes (imbalance) and a lot of labels to predict from is not promissing."
   ]
  },
  {
   "cell_type": "markdown",
   "metadata": {},
   "source": [
    "#### Evaluating tokenizer\n",
    "Our final developed tokenizer performed relatively equal to the baseline tokenizer. If doing this project for real higher accuracies could be achieved if we were to use the tokenizer implemented in CountVectorizer, as this would increase our metrics."
   ]
  }
 ],
 "metadata": {
  "kernelspec": {
   "display_name": "Python 3",
   "language": "python",
   "name": "python3"
  },
  "language_info": {
   "codemirror_mode": {
    "name": "ipython",
    "version": 3
   },
   "file_extension": ".py",
   "mimetype": "text/x-python",
   "name": "python",
   "nbconvert_exporter": "python",
   "pygments_lexer": "ipython3",
   "version": "3.8.8"
  },
  "latex_envs": {
   "LaTeX_envs_menu_present": true,
   "autoclose": false,
   "autocomplete": true,
   "bibliofile": "biblio.bib",
   "cite_by": "apalike",
   "current_citInitial": 1,
   "eqLabelWithNumbers": true,
   "eqNumInitial": 1,
   "hotkeys": {
    "equation": "Ctrl-E",
    "itemize": "Ctrl-I"
   },
   "labels_anchors": false,
   "latex_user_defs": false,
   "report_style_numbering": false,
   "user_envs_cfg": false
  },
  "toc": {
   "base_numbering": 1,
   "nav_menu": {},
   "number_sections": true,
   "sideBar": true,
   "skip_h1_title": false,
   "title_cell": "Table of Contents",
   "title_sidebar": "Contents",
   "toc_cell": false,
   "toc_position": {},
   "toc_section_display": true,
   "toc_window_display": false
  }
 },
 "nbformat": 4,
 "nbformat_minor": 2
}
