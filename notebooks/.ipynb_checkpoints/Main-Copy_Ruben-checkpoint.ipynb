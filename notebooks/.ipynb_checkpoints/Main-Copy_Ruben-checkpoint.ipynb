{
 "cells": [
  {
   "cell_type": "markdown",
   "metadata": {},
   "source": [
    "# Project 4: Natural Language Processing - First Year Project 2021 \n",
    "## Working with natural language data  \n",
    "---\n",
    "### Group 8: Ida Maria Zachariassen, Magnus Sverdrup, Rasmus Bondo Hansen, Ruben Oliver Jonsman and Sabrina Fonseca Pereira"
   ]
  },
  {
   "cell_type": "markdown",
   "metadata": {},
   "source": [
    "This notebook contains all the code developed in the Project 4 - Natural Language Processing\n",
    "\n",
    "Contact/Group: \n",
    "- Ida Maria Zachariassen(idza@itu.dk)\n",
    "- Magnus Sverdrup(magsv@itu.dk)\n",
    "- Rasmus Bondo Hansen(rabh@itu.dk)\n",
    "- Ruben Jonsman(rubj@itu.dk)\n",
    "- Sabrina Fonseca Pereira(sabf@itu.dk)"
   ]
  },
  {
   "cell_type": "markdown",
   "metadata": {},
   "source": [
    "### Introduction"
   ]
  },
  {
   "cell_type": "code",
   "execution_count": null,
   "metadata": {},
   "outputs": [],
   "source": []
  },
  {
   "cell_type": "markdown",
   "metadata": {
    "heading_collapsed": true
   },
   "source": [
    "# Required Libraries\n",
    "---"
   ]
  },
  {
   "cell_type": "code",
   "execution_count": 1,
   "metadata": {
    "hidden": true
   },
   "outputs": [],
   "source": [
    "import re\n",
    "import numpy as np\n",
    "import pandas as pd\n",
    "import collections as cl\n",
    "import nltk\n",
    "from nltk.lm.preprocessing import pad_both_ends\n",
    "from nltk.metrics.agreement import AnnotationTask\n",
    "from nltk.tokenize import TweetTokenizer\n",
    "import difflib as dl\n",
    "import seaborn as sns\n",
    "import pickle\n",
    "import matplotlib.pyplot as plt\n",
    "from nltk.util import everygrams\n",
    "from nltk.lm.preprocessing import flatten\n",
    "from nltk.lm.preprocessing import padded_everygram_pipeline\n",
    "from nltk.lm import MLE\n",
    "from sklearn.metrics import confusion_matrix\n",
    "\n",
    "\n",
    "\n",
    "import nltk.tokenize\n",
    "import pandas as pd\n",
    "import numpy as np\n",
    "import matplotlib.pyplot as plt\n",
    "import statsmodels.api as sm\n",
    "import missingno as msno\n",
    "from sklearn.decomposition import PCA\n",
    "from sklearn.neighbors import LocalOutlierFactor\n",
    "from scipy.stats.stats import pearsonr\n",
    "from sklearn.model_selection import train_test_split, cross_val_score, cross_val_predict\n",
    "from sklearn.tree import DecisionTreeClassifier\n",
    "from sklearn.neighbors import KNeighborsClassifier\n",
    "from sklearn.svm import SVR\n",
    "from sklearn.neural_network import MLPClassifier\n",
    "from sklearn import linear_model\n",
    "from sklearn.ensemble import RandomForestClassifier\n",
    "from sklearn.ensemble import  GradientBoostingClassifier\n",
    "from sklearn.naive_bayes import GaussianNB\n",
    "from sklearn.svm import SVC\n",
    "from sklearn.discriminant_analysis import LinearDiscriminantAnalysis\n",
    "from sklearn.metrics import confusion_matrix, accuracy_score, classification_report, roc_auc_score, roc_curve, recall_score, precision_score, f1_score, make_scorer\n",
    "from sklearn.linear_model import SGDClassifier\n",
    "from sklearn.model_selection import GridSearchCV\n",
    "from sklearn.feature_extraction.text import CountVectorizer\n",
    "from sklearn.feature_extraction.text import TfidfTransformer\n",
    "from sklearn.pipeline import Pipeline\n",
    "from sklearn.naive_bayes import MultinomialNB\n",
    "from sklearn.ensemble import GradientBoostingClassifier\n",
    "\n",
    "#import warnings\n",
    "#warnings.filterwarnings('ignore')\n"
   ]
  },
  {
   "cell_type": "markdown",
   "metadata": {
    "hidden": true
   },
   "source": [
    "## Consistent variables\n",
    "### Paths to the data"
   ]
  },
  {
   "cell_type": "code",
   "execution_count": 2,
   "metadata": {
    "hidden": true
   },
   "outputs": [],
   "source": [
    "PATHS = {}\n",
    "\n",
    "#Path to the irony datasets\n",
    "PATHS[\"irony\"] = \"../datasets/irony/{}.txt\"\n",
    "\n",
    "#Path to the stance datasets\n",
    "PATHS[\"stance\"] = \"../datasets/stance/{}.txt\"\n",
    "\n",
    "#Path to our manual annotation answers\n",
    "PATHS[\"MMA\"] = \"../datasets/annotations/annotations_{}.csv\""
   ]
  },
  {
   "cell_type": "markdown",
   "metadata": {
    "hidden": true
   },
   "source": [
    "## Dataframes"
   ]
  },
  {
   "cell_type": "markdown",
   "metadata": {
    "hidden": true
   },
   "source": [
    "### Irony"
   ]
  },
  {
   "cell_type": "code",
   "execution_count": 3,
   "metadata": {
    "hidden": true
   },
   "outputs": [],
   "source": [
    "labels_irony = pd.read_csv(PATHS[\"irony\"].format(\"mapping\"), delimiter = \"\\t\", header = None)"
   ]
  },
  {
   "cell_type": "code",
   "execution_count": 4,
   "metadata": {
    "hidden": true
   },
   "outputs": [],
   "source": [
    "train_irony = pd.read_csv(PATHS[\"irony\"].format(\"train_text\"), delimiter = \"\\n\", header = None, names = [\"tweets\"])\n",
    "train_irony_labels = pd.read_csv(PATHS[\"irony\"].format(\"train_labels\"), delimiter = \"\\n\", header = None, names=[\"labels\"])\n",
    "test_irony = pd.read_csv(PATHS[\"irony\"].format(\"test_text\"), delimiter = \"\\n\", header = None, names = [\"tweets\"])\n",
    "test_irony_labels = pd.read_csv(PATHS[\"irony\"].format(\"test_labels\"), delimiter = \"\\n\", header = None, names=[\"labels\"])\n",
    "validation_irony = pd.read_csv(PATHS[\"irony\"].format(\"val_text\"), delimiter = \"\\n\", header = None, names = [\"tweets\"])\n",
    "val_irony_labels = pd.read_csv(PATHS[\"irony\"].format(\"val_labels\"), delimiter = \"\\n\", header = None, names=[\"labels\"])"
   ]
  },
  {
   "cell_type": "markdown",
   "metadata": {
    "hidden": true
   },
   "source": [
    "### Stance"
   ]
  },
  {
   "cell_type": "code",
   "execution_count": 5,
   "metadata": {
    "hidden": true
   },
   "outputs": [],
   "source": [
    "labels_stance = pd.read_csv(PATHS[\"stance\"].format(\"mapping\"), delimiter = \"\\t\", header = None)"
   ]
  },
  {
   "cell_type": "markdown",
   "metadata": {
    "hidden": true
   },
   "source": [
    "##### Abortion"
   ]
  },
  {
   "cell_type": "code",
   "execution_count": 6,
   "metadata": {
    "hidden": true
   },
   "outputs": [],
   "source": [
    "train_abortion = pd.read_csv(PATHS[\"stance\"].format(\"/abortion/train_text\"), delimiter = \"\\n\", header = None, names = [\"tweets\"])\n",
    "train_abortion_labels = pd.read_csv(PATHS[\"stance\"].format(\"/abortion/train_labels\"), delimiter = \"\\n\", header = None, names=[\"labels\"])\n",
    "test_abortion = pd.read_csv(PATHS[\"stance\"].format(\"/abortion/test_text\"), delimiter = \"\\n\", header = None, names = [\"tweets\"])\n",
    "test_abortion_labels = pd.read_csv(PATHS[\"stance\"].format(\"/abortion/test_labels\"), delimiter = \"\\n\", header = None,names=[\"labels\"])\n",
    "validation_abortion = pd.read_csv(PATHS[\"stance\"].format(\"/abortion/val_text\"), delimiter = \"\\n\", header = None, names = [\"tweets\"])\n",
    "validation_abortion_labels = pd.read_csv(PATHS[\"stance\"].format(\"/abortion/val_labels\"), delimiter = \"\\n\", header = None, names=[\"labels\"])"
   ]
  },
  {
   "cell_type": "markdown",
   "metadata": {
    "hidden": true
   },
   "source": [
    "##### Atheism"
   ]
  },
  {
   "cell_type": "code",
   "execution_count": 7,
   "metadata": {
    "hidden": true
   },
   "outputs": [],
   "source": [
    "train_atheism = pd.read_csv(PATHS[\"stance\"].format(\"/atheism/train_text\"), delimiter = \"\\n\", header = None, names = [\"tweets\"])\n",
    "train_atheism_labels = pd.read_csv(PATHS[\"stance\"].format(\"/atheism/train_labels\"), delimiter = \"\\n\", header = None, names=[\"labels\"])\n",
    "test_atheism = pd.read_csv(PATHS[\"stance\"].format(\"/atheism/test_text\"), delimiter = \"\\n\", header = None, names = [\"tweets\"])\n",
    "test_atheism_labels = pd.read_csv(PATHS[\"stance\"].format(\"/atheism/test_labels\"), delimiter = \"\\n\", header = None, names=[\"labels\"])\n",
    "validation_atheism = pd.read_csv(PATHS[\"stance\"].format(\"/atheism/val_text\"), delimiter = \"\\n\", header = None, names = [\"tweets\"])\n",
    "validation_atheism_labels = pd.read_csv(PATHS[\"stance\"].format(\"/atheism/val_labels\"), delimiter = \"\\n\", header = None, names=[\"labels\"])"
   ]
  },
  {
   "cell_type": "markdown",
   "metadata": {
    "hidden": true
   },
   "source": [
    "##### Climate"
   ]
  },
  {
   "cell_type": "code",
   "execution_count": 8,
   "metadata": {
    "hidden": true
   },
   "outputs": [],
   "source": [
    "train_climate = pd.read_csv(PATHS[\"stance\"].format(\"/climate/train_text\"), delimiter = \"\\n\", header = None, names = [\"tweets\"])\n",
    "train_climate_labels = pd.read_csv(PATHS[\"stance\"].format(\"/climate/train_labels\"), delimiter = \"\\n\", header = None, names=[\"labels\"])\n",
    "test_climate = pd.read_csv(PATHS[\"stance\"].format(\"/climate/test_text\"), delimiter = \"\\n\", header = None, names = [\"tweets\"])\n",
    "test_climate_labels = pd.read_csv(PATHS[\"stance\"].format(\"/climate/test_labels\"), delimiter = \"\\n\", header = None, names=[\"labels\"])\n",
    "validation_climate = pd.read_csv(PATHS[\"stance\"].format(\"/climate/val_text\"), delimiter = \"\\n\", header = None, names = [\"tweets\"])\n",
    "validation_climate_labels = pd.read_csv(PATHS[\"stance\"].format(\"/climate/val_labels\"), delimiter = \"\\n\", header = None, names=[\"labels\"])"
   ]
  },
  {
   "cell_type": "markdown",
   "metadata": {
    "hidden": true
   },
   "source": [
    "##### Feminist"
   ]
  },
  {
   "cell_type": "code",
   "execution_count": 9,
   "metadata": {
    "hidden": true
   },
   "outputs": [],
   "source": [
    "train_feminist = pd.read_csv(PATHS[\"stance\"].format(\"/feminist/train_text\"), delimiter = \"\\n\", header = None, names = [\"tweets\"])\n",
    "train_feminist_labels = pd.read_csv(PATHS[\"stance\"].format(\"/feminist/train_labels\"), delimiter = \"\\n\", header = None, names=[\"labels\"])\n",
    "test_feminist = pd.read_csv(PATHS[\"stance\"].format(\"/feminist/test_text\"), delimiter = \"\\n\", header = None, names = [\"tweets\"])\n",
    "test_feminist_labels = pd.read_csv(PATHS[\"stance\"].format(\"/feminist/test_labels\"), delimiter = \"\\n\", header = None, names=[\"labels\"])\n",
    "validation_feminist = pd.read_csv(PATHS[\"stance\"].format(\"/feminist/val_text\"), delimiter = \"\\n\", header = None, names = [\"tweets\"])\n",
    "validation_feminist_labels = pd.read_csv(PATHS[\"stance\"].format(\"/feminist/val_labels\"), delimiter = \"\\n\", header = None, names=[\"labels\"])"
   ]
  },
  {
   "cell_type": "markdown",
   "metadata": {
    "hidden": true
   },
   "source": [
    "##### Hillary"
   ]
  },
  {
   "cell_type": "code",
   "execution_count": 10,
   "metadata": {
    "hidden": true
   },
   "outputs": [],
   "source": [
    "train_hillary = pd.read_csv(PATHS[\"stance\"].format(\"/hillary/train_text\"), delimiter = \"\\n\", header = None, names = [\"tweets\"])\n",
    "train_hillary_labels = pd.read_csv(PATHS[\"stance\"].format(\"/hillary/train_labels\"), delimiter = \"\\n\", header = None, names=[\"labels\"])\n",
    "test_hillary = pd.read_csv(PATHS[\"stance\"].format(\"/hillary/test_text\"), delimiter = \"\\n\", header = None, names = [\"tweets\"])\n",
    "test_hillary_labels = pd.read_csv(PATHS[\"stance\"].format(\"/hillary/test_labels\"), delimiter = \"\\n\", header = None, names=[\"labels\"])\n",
    "validation_hillary = pd.read_csv(PATHS[\"stance\"].format(\"/hillary/val_text\"), delimiter = \"\\n\", header = None, names = [\"tweets\"])\n",
    "validation_hillary_labels = pd.read_csv(PATHS[\"stance\"].format(\"/hillary/val_labels\"), delimiter = \"\\n\", header = None, names=[\"labels\"])"
   ]
  },
  {
   "cell_type": "markdown",
   "metadata": {
    "hidden": true
   },
   "source": [
    "### Manual annotation answers for the irony dataset"
   ]
  },
  {
   "cell_type": "code",
   "execution_count": null,
   "metadata": {
    "hidden": true
   },
   "outputs": [],
   "source": [
    "MAA = pd.DataFrame()\n",
    "\n",
    "MAA[\"sabrina\"] = pd.read_csv(PATHS[\"MMA\"].format(\"sabrina\"), names = [\"label\"])[\"label\"]\n",
    "MAA[\"rasmus\"] = pd.read_csv(PATHS[\"MMA\"].format(\"rasmus\"), names = [\"label\"])[\"label\"]\n",
    "MAA[\"ruben\"] = pd.read_csv(PATHS[\"MMA\"].format(\"ruben\"), names = [\"label\"])[\"label\"]\n",
    "MAA[\"ida\"] = pd.read_csv(PATHS[\"MMA\"].format(\"ida\"), names = [\"label\"])[\"label\"]\n",
    "MAA[\"magnus\"] = pd.read_csv(PATHS[\"MMA\"].format(\"magnus\"), names = [\"label\"])[\"label\"]\n",
    "MAA[\"truth\"] = pd.read_csv(\"../datasets/annotations/iaa_labels.txt\", names = [\"label\"])[\"label\"]\n",
    "\n",
    "MAA"
   ]
  },
  {
   "cell_type": "markdown",
   "metadata": {
    "hidden": true
   },
   "source": [
    "## 1. Preprocessing"
   ]
  },
  {
   "cell_type": "markdown",
   "metadata": {
    "hidden": true
   },
   "source": [
    "discuss in your group what a good tokenisation of this subset should look like"
   ]
  },
  {
   "cell_type": "markdown",
   "metadata": {
    "hidden": true
   },
   "source": [
    "## \"ideal\" tokenizer"
   ]
  },
  {
   "cell_type": "code",
   "execution_count": 11,
   "metadata": {
    "hidden": true
   },
   "outputs": [],
   "source": [
    "# Made by Rasmus (not the good one I would say)\n",
    "def tokenize_ideal(line):\n",
    "    tokens = []\n",
    "    unmatchables = []\n",
    "    \n",
    "    for word in line.split():\n",
    "        if re.findall(r\"\\w+-\\w+|\\w+'\\w+|\\w+|[.&?%!#…]+\", word) != []:\n",
    "            x = re.findall(r\"\\w+-\\w+|\\w+'\\w+|\\w+|[.&?%!#…]+\", word)\n",
    "            for element in x:\n",
    "                if element == \"âž\" or element == \"ðŸ\":\n",
    "                    continue\n",
    "                elif element == \"&\":\n",
    "                    tokens.append(\"and\")\n",
    "                else:\n",
    "                    tokens.append(element.lower())\n",
    "\n",
    "        if re.findall(r\"\\w+-\\w+|\\w+'\\w+|\\w+|[.&?%!#…]\", word) != [word] and re.findall(r\"[^\\w|.&!?%#…]+\", word) != []:\n",
    "            unmatchables.append(re.findall(r\"[^\\w|.!#?%…&]+\", word)[0])\n",
    "\n",
    "\n",
    "    return (tokens, unmatchables)"
   ]
  },
  {
   "cell_type": "code",
   "execution_count": 12,
   "metadata": {
    "hidden": true
   },
   "outputs": [],
   "source": [
    "# Made by Rasmus\n",
    "def tokenize_meaning(line):\n",
    "    \"\"\"\n",
    "    Takes a string as an input, this is a line or a tweet from our database. Splits the relevant words or characters into\n",
    "    separate tokens.\n",
    "    Returns either the tokens as a whitespace delimited string or as a list of the tokens. Also returns the non tokens as a list\n",
    "    \"\"\"\n",
    "    tokens = []\n",
    "    unmatchables = []\n",
    "    \n",
    "    for word in line.split():\n",
    "        if re.findall(r\"\\w+-\\w+|\\w+'\\w+|\\w+|[&?!…]+\", word) != []:\n",
    "            x = re.findall(r\"\\w+-\\w+|\\w+'\\w+|\\w+|[&?!…]+\", word)\n",
    "            for element in x:\n",
    "                if element == \"âž\" or element == \"ðŸ\":\n",
    "                    continue\n",
    "                elif element == \"&\":\n",
    "                    tokens.append(\"and\")\n",
    "                else:\n",
    "                    tokens.append(element.lower())\n",
    "\n",
    "        if re.findall(r\"\\w+-\\w+|\\w+'\\w+|\\w+|[&?!…]\", word) != [word] and re.findall(r\"[^\\w|&!?…]+\", word) != []:\n",
    "            unmatchables.append(re.findall(r\"[^\\w|!?…&]+\", word)[0])\n",
    "\n",
    "    s = \"\"\n",
    "    for token in tokens:\n",
    "        s = s + \" \" + token\n",
    "    return (s[1:], unmatchables, tokens)"
   ]
  },
  {
   "cell_type": "code",
   "execution_count": 13,
   "metadata": {
    "hidden": true,
    "scrolled": true,
    "tags": [
     "outputPrepend"
    ]
   },
   "outputs": [
    {
     "name": "stdout",
     "output_type": "stream",
     "text": [
      "[['seeing', 'ppl', 'walking', 'w', 'crutches', 'makes', 'me', 'really', 'excited', 'for', 'the', 'next', '3', 'weeks', 'of', 'my', 'life'], ['look', 'for', 'the', 'girl', 'with', 'the', 'broken', 'smile', 'ask', 'her', 'if', 'she', 'wants', 'to', 'stay', 'while', 'and', 'she', 'will', 'be', 'loved'], ['now', 'i', 'remember', 'why', 'i', 'buy', 'books', 'online', 'user', 'servicewithasmile'], ['user', 'user', 'so', 'is', 'he', 'banded', 'from', 'wearing', 'the', 'clothes', '?', 'karma'], ['just', 'found', 'out', 'there', 'are', 'etch', 'a', 'sketch', 'apps', 'oldschool', 'notoldschool'], ['hey', 'what', 'do', 'you', 'know', 'one', 'of', 'the', 'witnesses', 'supporting', 'darren', \"wilson's\", 'story', 'lied', '!', 'and', 'is', 'racist', '!', 'mind', 'blown', '!'], ['user', 'on', 'stage', 'at', 'flzjingleball', 'at', 'the', 'user', 'in', 'tampa', 'iheartradio'], ['you', 'know', \"it's\", 'going', 'to', 'be', 'a', 'great', 'day', 'when', \"you're\", 'garmin', 'resets', 'itself', 'and', 'you', 'spill', 'some', 'cinnamon', 'down', 'yourself', 'slowclap'], ['halfway', 'thorough', 'my', 'workday', 'woooo'], ['would', 'like', 'to', 'thank', 'my', 'nephew', 'for', 'giving', 'me', 'his', 'horrible', 'cold', 'and', 'sore', 'throat', 'etc', 'much', 'appreciated', '!'], ['i', 'forked', 'node', '!', 'get', 'ready', 'for', 'the', 'future', \"where's\", 'my', 'interviews'], ['user', 'user', 'user', 'user', \"i'm\", 'off', 'to', 'visit', 'great-nephew', 'very', 'ill', 'only', '20', 'fair'], ['if', 'his', 'twitter', 'account', 'is', 'any', 'sign', 'then', 'this', 'book', 'looks', 'to', 'be', 'a', 'must', 'read', 'id', 'rather', 'read', 'twilight'], ['nicholas', 'sparks', 'has', 'been', 'manipulating', 'women', 'to', 'believe', 'that', 'guys', 'in', 'reality', 'are', 'as', 'sensitive', 'as', 'the', 'male', 'characters', 'in', 'his', 'books'], ['user', 'can', 'u', 'use', 'smartphone', '?', 'http', 't', 'co', 'q2wb7riavk', 'smartphone', 'app', 'pays', 'you', '!', 'see-http', 't', 'co', 'rdlrugn0ie', 'go', '2'], ['when', 'we', 'stop', 'accepting', 'crumbs', 'in', 'the', 'name', 'of', 'love', 'only', 'then', 'we', 'can', 'equally', 'appreciate', 'the', 'silence', 'of', 'solitude', 'and', 'festivity', 'of', 'loving'], ['celticowlwisdom', 'alert', 'the', 'media', '!', 'some', 'guy', 'on', 'twitter', 'has', 'un-cited', 'proof', 'that', 'evolution', 'is', 'wrong', '!', \"let's\", 'get', 'his', 'nobel', 'prize', 'ready', '!'], ['shameless', 'accounting', 'firms', 'make', 'vast', 'sums', 'advising', 'rich', 'on', 'how', 'to', 'rip', 'off', 'taxpayers', 'accounting', 'chief', 'http', 't', 'co', '9bsdujakxb'], ['popcorn', '!!!!!!', 'bringing', 'this', 'at', 'movie', 'tuesday', 'night', '!!'], ['main', 'issue', 'with', 'the', 'walking', 'dead', 'you', 'forget', 'to', 'breathe', 'when', \"you're\", 'watching', 'so', 'bloody', 'good', 'walkingdead'], ['need', 'to', 'get', 'back', 'in', 'to', 'college', 'feeling', 'this'], ['no', 'its', 'actually', 'not', 'friday', 'today', 'we', 'proudly', 'present', 'sunday', '!', 'so', 'go', 'enjoy', 'your', 'sunday'], ['thank', 'god', 'she', \"doesn't\", 'get', 'me', 'to', 'do', 'this', 'anymore', '!!!', 'ellielippitt', 'barber', 'hairdresser', 'blondie'], ['user', 'lol', 'how', 'and', 'what', 'is', 'a', 'cthulhu', '??', 'funny', 'autocorrect', 'so', 'helpful'], ['i', 'refuse', 'to', 'be', 'weak', 'workout', 'motivation', 'fitfam'], ['why', 'yes', '!', 'of', 'course', 'i', 'use', 'a', 'lot', 'in', 'my', 'day', 'because', 'violence', 'is', 'illegal'], ['user', 'user', 'user', 'no', 'duh', '?', 'is', 'will', 'owners', 'fire', 'goodell', 'for', 'it', '?', 'my', 'guess', 'he', 'gets', 'a', 'raise', 'goodellmustgo'], ['i', 'hate', 'plane', 'rides', 'but', 'i', 'wanna', 'go', 'to', 'so', 'many', 'different', 'countries'], ['stop', 'being', 'the', 'fan', 'and', 'be', 'the', 'person', 'blowing', 'minds'], ['ok', 'watching', 'how', 'hurt', 'parents', 'are', 'when', 'their', 'kids', 'decide', 'to', 'elope', 'definitely', 'makes', 'me', 'change', 'my', 'mind', 'about', 'it', 'small', 'cozy', 'wedding', 'it', 'is'], ['i', 'liked', 'a', 'user', 'video', 'new', 'chocolate', 'bar', 'palette', 'review', 'semi', 'sweet', 'vs', 'original'], ['user', 'advertising', 'an', 'online', 'special', 'with', 'an', 'expiry', 'countdown', 'yet', 'you', 'cant', 'order', 'anything', 'or', 'check', 'your', 'postcodes', 'validity'], ['love', 'that', 'i', 'still', 'have', 'kids', 'that', 'still', 'wake', 'up', 'early', 'on', 'christmas', 'justkiddingilovethem'], ['that', 'moment', 'when', 'you', 'have', 'so', 'much', 'stuff', 'to', 'do', 'but', 'you', 'open', 'user', 'productivity', 'tumblr'], ['oh', 'god', 'i', 'just', 'so', 'happens', 'that', 'i', 'love', 'really', 'love', 'slow', 'internet', 'slowinternet'], ['simply', 'having', 'a', 'wonderful', 'christmas', 'time', 'd'], ['isnt', 'it', 'the', 'best', 'when', 'youre', 'really', 'tired', 'then', 'when', 'you', 'finally', 'get', 'in', 'bed', 'youre', 'wide', 'awake', '?', 'i', 'love', 'it'], ['breaking', 'up', 'with', 'your', 'girl', 'so', 'you', \"don't\", 'have', 'to', 'buy', 'her', 'any', 'presents', 'lowbudget', 'smartmove', 'a', 'good', 'idea', 'butscheming', 'doe'], ['glad', \"there's\", 'not', 'a', 'typhoon', 'where', 'we', 'go', 'on', 'holiday', 'in', '4', 'weeks', 'fml'], ['lol', 'with', 'all', 'due', 'respect', 'to', 'kobebryant', 'he', 'is', 'mj', '_', 'but', 'damn', 'near', 'close', '!!', 'legends'], ['user', 'user', 'you', \"don't\", 'know', 'a', 'damned', 'thing', 'about', 'baseball', 'do', 'you', '?'], ['rogers', 'that', 'smile', 'just', 'so', 'accurately', 'captures', 'my', 'reaction', 'when', 'i', 'receive', 'an', 'extra', 'high', 'phone', 'bill', '!'], ['all', 'i', 'can', 'say', 'is', \"i'm\", 'lucky'], ['notcies', 'eu', 'liverpool', 'workers', 'miscarriage', 'of', 'justice', 'victims'], ['user', 'yesss', '!', 'what', 'makes', 'it', 'worse', 'is', 'when', 'they', 'look', 'gorgeous', 'and', 'say', 'i', 'just', 'got', 'my', 'face', 'beat', '!', 'wtf', '?', 'contradiction'], ['xmas', 'on', 'the', 'blog', 'feat', 'user', 'and', 'user', 'read', 'our', 'story', 'and', 'share', 'the', 'love', 'click', 'the', 'link'], ['watching', 'the', 'move', 'begin', 'again', 'and', 'the', 'verisimilitude', 'is', 'overpowering', \"it's\", 'like', \"i'm\", 'back', 'in', 'the', '90s', 'music', 'business', 'again'], ['this', 'is', 'not', 'the', 'moon', 'pictures', 'like', 'the', 'moon', 'is', 'made', 'of', 'light', 'bulbs', 'the', 'moon'], ['i', 'got', 'ready', 'and', 'then', 'got', 'to', 'school', 'and', 'parked', 'in', 'less', 'than', '12', 'minutes', '!', 'miracle'], ['user', 'yeah', 'so', 'as', 'you', 'can', 'see', 'i', 'have', 'great', 'success', 'with', 'the', 'ladies', '!', 'and', \"i'm\", 'totally', 'excited', 'for', 'having', 'sex', 'some', 'more', '!'], ['i', \"don't\", 'like', 'clowns', 'but', \"i'm\", 'going', 'to', 'be', 'one'], ['mls', 'transactions', '2015', 'mls', 'making', 'waves', 'again', '2', 'b', 'fair', 'it', 'will', 'take', 'more', 'than', '2', 'players', 'to', 'fix', 'this'], ['user', \"i'll\", 'be', 'a', 'bit', 'sweaty', 'by', 'the', 'time', 'i', 'get', 'to', 'you', '!'], ['a', 'bad', 'game', 'last', 'night', 'way', 'to', 'go', 'packers', '!'], ['i', 'hope', 'i', 'could', 'recover', 'from', 'fever', 'today', 'i', 'need', 'to', 'start', 'with', 'strama'], ['somebody', 'wake', 'me', 'up', 'early', 'tomorrow', 'ive', 'been', 'facing', 'weird', 'aches', 'in', 'my', 'back', 'since', 'early', 'december', 'and', 'why', 'do', 'u', 'think', 'that', 'relates', 'madaka'], ['the', 'champions', 'league', 'is', 'overrated', 'anyway', '!'], ['porygon2', 'are', 'found', 'in', 'the', 'www', 'monstermmorpg', 'com', 'wild', 'firemen', 'follow', 'user', 'paint'], ['user', 'are', 'you', 'looking', 'at', 'the', 'wrong', 'profile', 'picture', '?'], ['user', 'one', 'day', 'i', 'want', 'to', 'travel', 'with', 'my', 'bestfriend', 'done', 'did', 'traveled', 'da', 'world', '!!', 'user'], ['user', 'u', 'simply', 'cant', 'win', 'with', 'user', 'if', 'it', 'is', 'twitter', 'fight', '!!!', 'p'], ['fully', 'charged', 'my', 'anker', 'portable', 'charger', 'it', 'lasted', '1', '2', 'an', 'hour', 'awesome', 'fail'], ['italy', 'cabinet', 'approves', 'first', 'planks', 'of', \"renzi's\", 'labour', 'reform', 'via', 'user'], ['ruling', 'party', 'in', 'power', 'central', 'state', 'misusing', 'their', 'power', 'pm', 'speaking', 'only', 'in', 'foreign', 'parliment', 'pm', 'to', 'visit', 'out', 'side', 'india', 'during', 'session'], [\"gareth's\", 'polar', 'opposite', 'is', 'a', 'chicken-loving', 'vegetarian', 'bones', 'user'], ['watching', 'creepy', 'shit', 'before', 'bed', 'when', 'alone', 'bad', 'idea', 'is', 'there', 'a', 'spell', 'to', 'turn', 'a', 'french', 'bulldog', 'into', 'a', 'big', 'ass', 'bulldog', '?', 'bewareofdog'], ['i', 'do', 'occupy', 'rent', 'free', 'space', 'in', 'his', 'cranial', 'cavity', 'lol', 'user'], ['had', 'to', 'take', 'a', 'patiopics', 'snow', 'falling', 'still', 'this', 'was', 'totally', 'clear', 'when', 'i', 'went', 'to', 'sleep', 'wcco'], ['august', 'has', 'the', 'most', 'birthdays', 'february', 'has', 'the', 'least', 'and', 'most', 'of', 'the', 'serial', 'killers', 'are', 'born', 'in', 'november', '!', 'so', 'dont', 'mess', 'up', 'with', 'me', 'nov26'], ['lol', 'rt', 'user', \"wouldn't\", 'surprise', 'me', 'if', 'soldado', 'bangs', 'in', 'a', 'hatrick', 'and', 'we', 'win', '0-3', 'against', 'chelsea', 'tonight', 'the', 'legend', 'is', 'back'], ['my', 'husband', 'thinks', \"i'm\", 'crazy', 'because', 'i', 'taped', 'my', 'tape', 'dispenser', 'hehe', \"i'm\", 'handy', 'like', 'that'], ['my', 'secret', 'name', 'is', 'lizard', 'squad', 'i', 'like', 'to', 'ruin', \"people's\", 'fun', 'time', 'follow', 'and', 'rt', 'to', 'a', 'billion', 'and', \"you'll\", 'have', 'fun', 'psn', 'giveitup'], [\"tomorrow's\", 'afternoon', 'nfl', 'sked', 'in', 'panamacity', 'area', 'wecp', '12p', 'kcvspit', '3', '25p', 'indvsdal', 'wpgx', '12p', 'atlvsno'], ['user', 'user', 'i', 'sure', 'hope', 'ev1', 'vaccinations', 'are', 'up', 'to', 'date', '!', 'gobolts', 'user', 'user', 'user'], ['pulis', 'turned', 'down', 'nufc', 'cos', 'he', 'wants', 'to', 'spend', 'a', 'load', 'of', 'money', 'on', '30', 'year', 'old', 'journeymen', 'parish', \"wouldn't\", 'let', 'him', 'and', 'neither', 'would', 'ma', 'cpfc'], ['sending', 'best', 'wishes', 'to', 'all', 'my', 'coworkers', 'at', 'the', '9am', 'this', 'morning'], ['user', 'try', 'having', 'no', 'internet', 'for', 'a', 'month', 'now', 'i', 'know', 'how', 'ethiopians', 'feel'], ['so', 'sane', 'peoples', 'would', 'talk', 'to', 'themselves', 'in', 'twitter', 'because', 'they', \"can't\", 'find', 'other', 'sane', 'humans', 'to', 'talk', 'to', 'that', 'retweet', 'ifagree'], ['thanks', 'user', 'for', 'connecting', 'always', 'look', 'forward', 'to', 'exchange', 'thoughts', 'n', 'ideas', 'with', 'entrepreneur', 'working', 'on', 'green', 'n', 'sustainability'], ['seems', 'as', 'if', 'user', 'wants', 'to', 'endorse', 'me', 'on', 'linkedin', 'for', 'any', 'thoughts', 'on', 'this', 'from', 'the', 'omcchat', 'crowd', '?'], ['love', 'being', 'made', 'fun', 'of'], ['user', 'user', 'user', 'oh', 'wow', 'your', 'talking', 'skype', '!', 'cool', '!'], ['he', 'was', 'half', 'of', 'what', 'she', 'deserved', 'yet', 'he', 'was', 'all', 'that', 'she', 'ever', 'wanted'], ['christmas', 'been', 'the', 'best', 'west', 'monkseaton'], ['parking', 'meter', 'obviously', 'forgot', 'to', 'get', 'its', 'own', 'parking', 'ticket'], ['about', 'to', 'fuck', 'up', 'this', 'media', 'exam', 'actuallyihopeso'], ['well', 'today', 'is', 'gonna', 'be', 'a', 'great', 'day'], ['heaven', 'help', 'the', 'fool', 'who', 'did', 'her', 'wrong'], ['just', 'bartered', 'for', 'a', 'bottle', 'of', 'rum', 'in', 'best', 'one', 'and', 'got', 'it', 'down', 'from', '18', 'to', '14', 'happy', 'fucking', 'new', 'year', 'to', 'me', '!!'], ['find', 'one', 'local', 'pd', 'that', 'reported', 'an', '80', 'drop', 'user', 'user', 'user', 'user', 'user', 'user'], ['user', 'user', 'money', '4', 'church', 'http', 't', 'co', 'q2wb7riavk', 'smartphone', 'app', 'pays', 'you', '!', 'see-http', 't', 'co', 'rdlrugn0ie', 'go', '2'], ['well', \"it's\", 'always', 'a', 'good', 'time', 'losing', 'at', 'the', 'bay', 'user', 'user', 'user'], ['welsh', 'devolution', '?', \"how's\", 'this', 'for', 'starters'], ['i', 'love', 'when', 'folks', 'call', 'brady', 'a', 'system', 'qb', 'but', 'are', 'the', 'biggest', 'peyton', 'manning', 'fans'], ['user', 'instead', 'of', 'playing', 'the', 'pompous', 'do', 'you', 'know', 'who', 'i', 'am', 'card', '?', 'how', 'about', 'you', 'actually', 'make', 'an', 'educated', 'rebuttal', '?'], ['kind', 'of', 'love', 'how', 'i', 'got', 'a', 'voicemail', 'from', 'my', 'seat', 'neighbor', 'wondering', 'where', 'i', 'was', 'yet', 'they', 'constantly', 'sell', 'their', 'ticket', 'and', 'i', 'never', 'ask'], ['i', 'feel', 'a', 'nap', 'in', 'my', 'near', 'future', 'naptime'], ['analscreen', 'exotic', 'exotic', 'brunette', 'gets', 'her', 'little', 'tight', 'butt', 'nailed', 'right', 'on', 'the', 'office', 'desk'], ['sundayfunday', 'mylove', 'mermaidlove', 'newyear2015', 'rockefeller', 'center'], ['the', 'ever', 'so', 'caring', 'user', 'gets', 'to', 'see', 'the', 'siege', 'ending', 'first', 'great', 'journalism'], ['user', 'you', 'truly', 'are', 'my', 'son'], ['hmmm', 'i', 'do', 'wonder', 'why', 'astec', 'has', 'one', 'fewer', 'employee', '?', 'lol'], ['germany', \"ecb's\", 'weidmann', 'says', 'german', '2015', 'growth', 'may', 'be', 'better', 'than', 'expected', 'via', 'user'], ['kevin', 'durant', 'with', '23pts', 'on', '8-13', 'shooting', 'has', 'this', 'nigga', 'been', 'inefficient', 'since', 'he', 'came'], ['this', 'chap', 'seems', 'to', 'be', 'a', 'bit', 'of', 'an', 'over', 'sexed', 'out', 'going', 'extrovert', 'must', 'be', 'his', 'overly', 'masculine', 'voice', 'and', 'demeanor'], ['damit', 'this', 'fatima', 'bhutto', 'has', 'an', 'instagram', 'account', 'but', 'not', 'pics', 'of', 'her', 'some', 'random', 'shit', 'and', 'then', 'ppl', 'i', 'follow', 'keep', 'posting', 'pics'], ['user', 'so', 'funny', 'lolololol'], ['user', 'user', 'what', 'the', 'hell', 'ever'], ['on', 'my', 'lunch', 'break', 'so', 'sleepy'], ['user', 'user', 'more', 'clean', 'or', 'cleaner', 'never', 'more', 'cleaner'], ['amen', \"that's\", 'due', 'to', 'them', 'having', 'respect', 'for', 'themselves'], ['double', 'standards', 'are', 'always', 'a', 'fun', 'thing'], ['user', 'i', \"don't\", 'think', 'i', 'know', 'x'], ['now', \"i've\", 'written', 'down', 'everything', 'i', 'need', 'to', 'know', 'it', 'seems', 'a', 'lot', 'more', 'manageable'], ['35', 'amazing', 'followers', 'in', 'the', 'last', 'week', 'and', 'there', 'will', 'be', 'more', 'tomorrow', 'growing', 'with'], ['oversleeping', 'is', 'the', 'bestttt'], ['i', 'need', 'a', 'misadventure', 'form', 'because', 'i', 'broke', 'my', 'hand', 'practising', 'and', 'rewriting', 'this', 'english', 'essay', '500', 'times'], ['user', 'noodlescene', 'anyone', '?', 'he', 'was', 'so', 'zen', 'there', 'oh', '!', 'wait', '!', 'but', 'deadhenry', 'and', 'bouncebackannie', 'silly', 'me', '!', 'all', 'makes', 'sense', 'now', '!'], ['a', 'strange', 'day', 'so', 'far', 'everyone', 'seems', 'in', 'such', 'a', 'good', 'moodmaybe', 'in', 'actually', 'napping', 'or', 'still', 'drunk', 'still', 'time', 'for', 'grumpy', 'to', 'return'], ['i', 'love', 'that', 'when', 'a', 'female', 'expresses', 'herself', 'in', 'an', 'emphatic', 'manner', \"it's\", 'always', 'attributed', 'to', 'her', 'menstrual', 'cycle', 'mags', 'pms'], ['these', 'girls', 'can', 'wake', 'up', 'people', 'from', 'the', 'dead', '!', 'worth', 'watching'], ['travel', 'and', 'tourism', 'this', 'morning', 'my', 'favourite', 'lesson', 'whoooo'], ['remember', 'that', 'one', 'episode', 'santana', 'wanted', 'to', 'be', 'a', 'dancer', 'but', 'then', 'forgot', 'about', 'it', 'altogether', 'good', 'times', 'good', 'times', 'glee'], ['to', 'all', 'u', 'deadbeatdads', 'ur', 'not', 'worth', 'a', 'hair', 'on', 'our', 'kids', 'heads', 'tough', 'being', 'a', 'singlemom', 'but', 'at', 'least', 'my', 'beautiful', 'daughter', 'is', 'loved', 'by', 'me'], ['feeling', 'the', 'irony', 'of', 'using', 'to', 'find', 'people', 'ironically', 'using', 'the', 'work', 'irony', 'wrong', 'metahipster'], ['aaaaaaaaand', \"we're\", 'back', 'in', 'the', 'er', 'hooray', 'for', 'no', 'sleep', '!'], ['just', 'a', 'had', 'a', 'bruce', 'springsteen', 'flashback', 'shudder', 'user', 'user', 'user', 'user', 'user'], ['is', 'obamacare', 'slowing', 'health', 'care', 'spending', '?', 'via', 'user'], ['sessions', '!!', 'why', 'scary', 'canary', 'sydney', 'australia', 'by', 'lavin56'], ['user', 'ha', '!', 'i', \"don't\", 'have', 'haters', 'just', 'a', 'few', 'misguided', 'souls', 'who', 'thought', 'my', 'mentions', 'were', 'a', 'bulletin', 'board', 'for', 'their', 'issues'], ['hiding', 'in', 'plain', 'sight', 'by', 'michaelbeerens', 'http', 't', 'co', 'ejafcmsira', 'graffiti', 'streetart'], ['user', 'ooooh', 'only', 'the', 'economic', 'destruction', 'of', 'the', 'country', 'now', 'that', 'makes', 'a', 'world', 'of', 'a', 'difference'], [\"it's\", 'definitely', 'not', 'friday', 'the', 'reason', 'is', \"it's\", 'tuesday', '!', 'yesterday', 'it', 'was', 'monday', 'so', 'why', 'should', 'it', 'be', 'friday'], ['nothing', 'better', 'than', 'getting', 'a', 'snapchat', 'from', 'user', 'with', 'the', 'weight', 'playing', 'in', 'the', 'background', 'sameparents', 'sametunes'], ['ask', 'mystic', 'mona', 'your', 'question', '!', 'psychic', 'view', 'weekdays', 'at', '9am', 'pdt', '347-850', '1494', 'blogtalkradio'], ['late', 'night', 'shopping', 'bullringbirmingham', 'sunglasses', 'really', '?', 'lol', 'sayyes', 'she', 'says', 'xxx'], ['saturday', 'class', 'wee'], ['i', 'have', 'a', 'very', 'limited', 'number', 'of', 'press', 'seats', 'available', 'for', 'a', 'meet', 'me', 'there', 'screening', 'in', 'austin', 'on', 'january', '21', 'hit', 'me', 'up', 'press', 'types'], ['user', 't-mobile', 's', 'ceo', 'thinks', 'the', 'apple', 'watch', 'is', 'going', 'to', 'be', 'huge', 'i', 'do', 'too'], ['sailing', 'me', 'selfie', 'ootd', 'cool', 'cute', 'girl', 'tumblr', 'black', 'style', 'rock', 'punk', 'vsco'], ['now', 'gonna', 'enjoy', 'this', 'day', 'with', 'my', 'babies', '!!'], ['i', 'love', 'cold', 'winter', 'days', 'cause', 'i', 'never', 'know', 'when', 'my', 'car', 'decides', 'not', 'to', 'start'], ['this', 'clinical', 'psychology', 'exam', 'is', 'gunna', 'be', 'the', 'main', 'cause', 'of', 'whatever', 'mental', 'disorder', 'i', 'develop'], ['user', 'he', \"hasn't\", 'been', 'diagnosed', 'w', 'bipolar', 'disorder', 'yet', \"i'm\", 'assuming', '?', 'he', 'needs', 'to', 'beat', 'his', 'hard', 'feeling', 'emotions', 'into', 'submission'], ['user', 'duly', 'noted', 'p', 'p', 'p'], ['heaven', 'knows', \"i'm\", 'miserable', 'now', 'thesmiths', 'girl', 'old', 'ohwow', 'instasize', 'a', 'goodmood', 'weirdpose'], ['bdutt', 'is', 'at', 'her', 'best', 'when', 'she', 'reports', 'frm', 'on', 'the', 'field', 'not', 'that', 'she', 'is', 'bad', 'at', 'studio', 'but', 'on', 'field', 'she', 'is', 'a', 'true', 'story', 'teller'], ['user', 'the', 'only', 'place', 'where', 'you', \"don't\", 'wanna', 'sit', 'on', 'the', 'seat', 'that', 'you', 'earned', 'dancing', 'quiksilvergoessupersonic'], ['user', \"where's\", 'me', 'boots', 'happy'], ['good', 'morning', 'hank', 'its', 'saturday', 'im', 'starving'], ['to', 'our', 'countries', 'special', 'dedication', 'to', 'ma', 'syrian', 'friends', \"you're\", 'alone', 'instalisten', 'by', 'heart', 'voice'], ['user', 'are', 'they', 'going', 'for', 'the', 'very', 'original', 'plans', 'now', '?'], ['erasure', 'by', 'percival', 'everett', 'and', 'pym', 'by', 'mat', 'johnson', 'so', 'there', 'is', 'black', 'literature', 'after', 'the', 'black', 'arts', 'movement', 'changethecanon'], ['what', 'a', 'great', 'person', 'you', 'are'], [\"it's\", 'gonna', 'be', 'a', 'great', 'day'], ['user', 'oh', 'no', \"i've\", 'tipped', 'gamergates', 'hand', 'now', 'you', 'know', 'our', 'end', 'game', '!'], ['cluck', '!', 'rt', 'user', 'most', 'transparent', 'administration', 'ever', 'sends', 'password-protected', 'documents', 'to', 'oversight', 'gruber'], ['user', 'user', 'ya', 'cause', 'their', 'country', 'is', 'calm', 'and', 'peaceful', 'from', 'everyone', 'arming', 'themselves'], ['its', 'gonna', 'be', 'a', 'loooong', 'day', 'but', 'yolo', 'lets', 'have', 'fun'], ['reading', 'a', \"victoria's\", 'secret', 'fashion', 'show', 'recap', 'with', 'a', 'plate', 'of', 'french', 'fries', 'in', 'front', 'of', 'me'], ['moz', 'user', 'woot', 'woot', '!', 'whiteboard', \"friday's\", 'are', 'my', 'favorite', 'friday', 'activity', '!'], ['why', 'is', 'it', 'so', 'hard', 'for', 'people', 'to', 'cover', 'their', 'mouth', 'when', 'they', 'cough', '??', 'specially', 'old', 'people', '!', 'wtf', \"isn't\", 'it', 'common', 'curtesy', '?', 'coveryomouf', 'nasty'], ['user', 'user', 'the', 'more', 'liberal', 'the', 'city', 'the', 'more', 'class', 'and', 'intelligence', 'it', 'exudes'], ['user', 'people', 'who', 'commit', 'crimes', 'resist', 'cops', 'or', 'attack', 'cops', 'are', 'endangering', 'their', 'own', 'lives', 'no', 'respect', 'for', 'law', 'or', 'other', 'people'], ['did', 'lyntoncrosby', 'invent', 'cameronmustgo', '?', 'puerile', 'attacks', 'on', 'user', 'in', 'rw', 'press', 'provoked', 'webacked', 'which', 'led', 'to', 'cameronmustgo'], ['love', 'coming', 'to', 'school', 'knowing', 'i', 'have', 'tests', 'all', 'day'], ['user', 'wow', 'she', 'really', 'touched', 'them', 'with', 'that', 'tweet'], ['have', 'successfully', 'avoided', 'everything', 'from', 'season', '4', 'which', \"i've\", 'not', 'seen', 'and', \"there's\", 'an', 's5', 'one', 'in', 'my', 'timeline', 'thanks', 'indy', '!'], ['gawd', '!', 'i', 'love', '9am', 'lectures', 'and', '4-6pm', 'lectures'], ['user', 'apricots', 'pears', 'and', 'boozy', 'belgian', 'goodness', 'a', 'winter', 'warmer'], ['great', 'way', 'to', 'start', 'of', 'the', 'day'], ['so', 'lakeside', 'was', 'like', '7million', 'scavengers', 'all', 'in', '1place', 'hadfun', 'neverboxingdayshoppingagain'], ['my', 'stomach', 'is', 'a', 'wonderland', 'for', 'gas', 'inducing', 'bacteria', 'blessed'], ['thatneilguy', \"isn't\", 'it', 'great', 'how', 'all', 'those', 'ppl', 'have', 'done', 'a', 'public', 'mea', 'culpa', 'since', 'that', \"didn't\", 'happen', '?'], ['song', 'of', 'the', 'day', 'the', 'lights', 'and', 'buzz', \"jack's\", 'mannequin'], ['younger', 'siblings', 'are', 'okay', 'but', 'then', 'they', 'do', 'this', 'irritating', 'thing', 'where', 'they', 'wake', 'you', 'at', '5', '15', 'to', 'open', 'presents', 'and', \"that's\", 'just', 'awesome'], ['some', 'tblightning', 'action', 'along', 'the', 'boards', 'at', 'user', 'in', 'tampa', 'fuji', 'x30', 'boltssocial', 'bethethunder'], ['user', 'i', 'think', \"i'm\", 'gonna', 'check', 'your', 'music', 'out', 'later', 'thanks'], ['ouch', 'that', 'hurt'], ['i', 'love', 'how', 'sometimes', 'i', 'am', 'skipped', 'over', 'so', 'the', 'greeting', 'replies', 'are', 'just', 'towards', 'odin', 'but', 'not', 'me'], ['landlord', 'collects', 'rent', 'from', 'honeybees', 'in', 'beehive', 'bee', 'honey', 'italianbees'], ['may', 'be', 'cold', 'tomorrow', 'december', '28', '2014', '!', 'a', 'low', 'of', '7', 'dress', 'warm', '!'], [\"i'm\", 'glad', 'the', 'dc', 'council', 'has', \"it's\", 'priorities', 'intact', 'dc'], ['if', 'there', 'was', 'no', 'cfbplayoff', 'this', 'year', 'would', 'there', 'really', 'be', 'an', 'argument', 'against', 'alavsore', 'for', 'a', 'nationalchampionship', '?', \"shouldn't\", 'be'], ['love', 'it', 'when', 'your', 'typing', 'at', 'work', 'and', 'a', 'spider', 'comes', 'out', 'from', 'the', 'keyboard', 'and', 'hangs', 'out', 'between', 'your', 'fingers'], ['the', 'last', 'twolves', 'game', 'i', 'was', 'jacked', 'for', 'was', 'right', 'after', 'the', 'lockout', 'in', '2011', 'vs', 'okc', \"rubio's\", '1st', 'game', 'i', 'wonder', 'if', 'i', 'when', 'i', 'will', 'again', '?'], ['user', 'looking', 'forward', 'to', 'the', 'time', 'i', 'have', 'to', 'traipse', 'down', 'the', 'stairs', 'to', 'postie', 'with', 'a', 'baby', 'attached', 'to', 'my', 'nipple', '!'], ['currently', 'writing', 'about', 'how', 'i', 'plan', 'to', 'stop', 'procrastinating', 'after', 'leaving', 'the', 'paper', 'untouched', 'all', 'day'], ['user', \"what's\", 'the', 'rush', '?', 'his', 'leg', 'is', 'still', 'attached', 'right', '?', 'dr', 'dabo'], ['dear', 'manila', \"i'm\", 'with', 'your', 'traffic', 'twin', 'bangkok', '!', 'yahooo', 'sirat', 'express', 'way'], ['user', 'user', 'protecting', 'the', 'namesake', 'of', 'a', 'palinspawn'], ['the', 'ugly', 'truth', 'abuse', 'enough', 'words'], ['just', 'ordered', '10', 'new', 'pairs', 'of', 'underwear', 'from', 'victoria', 'secret', 'yay'], ['user', 'a', 'lot', 'of', 'ingredients', 'more', 'specifically', 'like', 'a', 'lot', 'a', 'lot'], ['amazing', 'how', 'they', 'are', 'the', 'one', 'doing', 'the', 'ignoring', 'and', 'think', 'they', 'are', 'set', 'free', 'user', 'user', 'user'], ['notcias', 'eu', 'europ', 'conselho', 'europeu', '18-19', 'dezembro', '2014', 'click', 'here', 'for', 'more', 'up-to', 'date', 'information', 'on', 'the', 'euro'], ['ideology', 'in', 'a', 'nutshell', 'the', 'meaning', 'of', 'life', 'in', 'a', 'sentence', 'for', 'every', 'perspective'], ['user', \"it's\", 'not', 'work', 'if', 'you', 'enjoy', 'it', 'eh'], ['is', 'it', 'wrong', 'of', 'me', 'to', 'not', 'want', 'to', 'read', 'about', 'horrible', 'things', 'in', 'this', 'world', 'just', 'for', 'one', 'day', '?'], ['user', 'funny'], ['smartphone', 'app', 'pays', 'you', '!', 'see', 'verizon', 'folloback', 'tcot', 'go', '2'], ['user', 'thanks', 'for', 'sharing', 'mike', 'your', 'opinion', 'means', 'a', 'lot', 'to', 'us', 'orisit', '?'], ['user', 'user', 'its', 'user', 'bcoz', 'he', 'is', 'so', 'nasty', 'and', 'loves', 'his', 'gosupersonicquikr'], ['those', 'amarillo', 'hops', 'make', 'it', 'just', 'right', 'goldilocks', 'drinking', 'a', 'tour', 'de', 'fall', 'memphis', 'pint', 'and', 'dram', 'photo'], ['i', 'may', 'need', 'to', 'reread', 'the', 'books', 'but', 'did', 'we', 'ever', 'find', 'out', 'what', \"draco's\", 'boggart', 'was', '?', 'user', 'harrypotter', 'dracomalfoy'], ['everyone', 'has', 'got', 'a', 'selfie', 'stick', 'this', 'year', \"i've\", 'had', 'one', 'for', 'ages', 'just', 'saying', 'mainsteam', 'trendsetter'], ['oh', 'and', \"it's\", 'a', 'positively', 'balmy', '7c'], ['user', \"it's\", 'finally', 'open', 'xd', 'i', 'used', 'a', 'youtube', 'video', 'to', 'help', 'me', 'thanks', 'very', 'much'], ['a', 'whole', 'day', 'at', 'ns', 'w', 'clients', 'yay'], ['flattery', 'will', 'get', 'me', 'everywhere', 'taliahaletw'], ['late', 'night', 'snuggles', 'with', 'my', 'boy'], ['it', 'was', 'a', 'greaaaat', 'night', '!'], ['we', 'buy', 'into', 'liberal', 'individualism', 'and', 'see', 'our', 'individual', 'fate', 'as', 'black', 'people', 'in', 'no', 'way', 'linked', 'to', 'the', 'collective', 'fate-bell', 'hooks', 'ferguson'], ['user', 'fine', 'atm', 'is', 'they', 'glazed', 'apple', 'shower', 'gel', 'and', 'perfume', 'it', 'smells', 'amazing', '!'], ['chicks', 'be', 'really', 'pimping', 'more', 'then', 'males', 'these', 'days', 'the', 'look', 'yallknowthatsnotcoolright', '?'], ['hummingbirds', 'are', 'experts', 'at', 'hovering', 'after', 'all', 'background', 'motion', 'if', 'the', 'hovering', 'ability', 'of', 'the'], ['good', 'luck', 'today', 'dj', 'durkin', 'it', 'is', 'not', 'great', 'to', 'be', 'a', 'florida', 'gator', 'fuckuf'], ['playing', 'golf', 'all', 'day', 'ery', 'day', 'perksofbeingold'], ['filmmaker', 'and', 'writer', 'nicole', 'franklin', 'is', 'on', 'twitter', 'user', 'pls', 'follow', 'econvo', 'film', 'director'], ['one', 'from', 'her', 'please', 'cries'], ['user', 'user', 'not', 'playing', 'out', 'in', 'the', 'provinces', 'like', 'oh', 'mississippi'], ['today', 'stats', '5', 'followers', '8', 'unfollowers', 'and', 'followed', '2', 'people', 'via'], ['legend', 'says', 'if', 'you', 'stand', 'in', 'front', 'of', 'a', 'mirror', 'say', 'i', \"can't\", 'even', '3', 'times', 'a', 'girl', 'in', 'yogapants', 'will', 'appear', 'give', 'you', 'a', 'pumpkin', 'spice', 'latte'], ['claybo', 'dawson', 'and', 'i', 'are', 'user', 's', 'squadgoals'], ['user', 'user', 'is', 'it', 'bad', 'that', 'after', 'my', 'happy', 'preds', 'won', 'dance', 'my', 'first', 'thought', 'was', 'donnie', '?!'], [\"it's\", 'cute', 'to', 'be', 'awake', 'right', 'now'], [\"it's\", '8', '46', 'and', \"i'm\", 'ready', 'for', 'bed'], ['buddhism', 'chant', 'kids', 'music', 'education'], ['mvp', 'goes', 'to', 'concordia', 'wifi'], ['user', 'warwick', 'davis', 'is', 'more', 'than', 'twice', 'the', 'man', 'tony', 'blair', 'is'], ['all', 'i', 'wanted', 'was', 'to', 'see', 'you'], ['chill', 'repost', 'dead', 'dominos', 'haha'], ['user', 'user', 'i', 'wish', 'son', 'like', 'i', 'said', 'twitter', 'wit', 'on', 'twitter', 'and', 'the', 'magic', 'of', 'photos', 'that', 'are', '3d', 'smoke', 'and', 'mirrors', 'effect'], [\"it's\", 'almost', '1am', 'and', 'user', 'and', 'i', 'are', 'arguing', 'on', 'why', 'the', 'guy', 'is', 'cute', 'or', 'not', 'really', 'this', 'is', 'our', 'lives', 'come', 'on', 'were', 'adults'], ['i', 'just', 'love', 'the', 'nhs'], ['user', 'he', 'offered', 'it', 'but', 'he', 'made', 'it', 'sure', 'the', 'board', 'refused', 'double', '16m', 'in', 'october', 'all', 'in', 'rangers', 'interest'], ['twitter', 'can', 'be', 'so', 'annoying'], ['user', 'is', 'it', 'on', 'display', 'at', 'any', 'given', 'time', 'at', 'ryerson', '?'], ['user', 'when', 'continuationists', 'demand', 'a', 'prooftext', 'for', 'cessationism', 'user', 'beautiful', 'observation'], ['i', 'just', 'love', 'not', 'being', 'able', 'to', 'sleep', 'sotired'], ['user', 'how', 'do', 'you', 'propose', 'to', 'determine', 'sides', '?', 'i', 'have', 'both', 'black', 'and', 'white', 'family', 'members', 'racewar', 'lovenotwar'], ['user', 'user', 'everybody', 'just', 'keeps', 'saying', 'gronk', 'and', 'large', 'contingent', 'of', 'patriots', 'who', 'else', 'is', 'there', 'with', 'rob', '?'], ['wow', 'i', 'love', 'having', '3', 'essays', 'due', 'in', 'the', 'next', '3', 'weeks'], ['finally', '2015', 'will', 'be', 'a', 'worry', 'free', 'year', 'for', 'me'], ['monday', 'mornings', 'are', 'my', 'fave'], ['to', 'be', 'an', 'ass', 'but', 'ohh', 'yeaa', '!!!!'], ['user', 'yeah', \"that's\", 'it'], ['facebook', 'owner', 'mark', 'zuckerberg', 'says', 'dislike', 'to', 'creating', 'a', 'dislike', 'button'], ['catching', 'up', 'on', 'the', 'rhoa', '!!!!', 'love', 'the', 'drama'], ['ummm', 'can', 'i', 'please', 'have', 'user', 'for', 'christmas', '?!', 'dang', 'he', 'looks', 'great', 'tonight', 'why', 'did', 'i', 'not', 'go', 'to', 'this', 'thing', 'tonight', '?'], ['on', 'the', 'same', 'day', 'the', '50th', 'anniversary', 'of', 'the', 'freespeechmovement', 'a', 'brave', 'critic', 'was', 'abandoned', 'by', 'our', 'conformist', 'press'], ['muslimapologies', '10', 'tweets', 'that', 'explain', 'what', 'muslims', 'should', 'be', 'sorry', 'for', '!'], ['zuckerberg', 'says', 'he', 'wears', 'a', 'grey', 't-shirt', 'everyday', 'because', 'he', \"doesn't\", 'want', 'to', 'waste', 'time', 'on', 'things', 'that', \"don't\", 'matter', 'he', 'runs', 'facebook'], ['time', 'to', 'continue', 'cleaning', 'out', 'my', 'closet', 'happy', 'happy', 'joy', 'joy'], ['user', 'so', 'this', 'topless', 'feminist', 'was', 'just', 'looking', 'for', 'someone', 'to', 'love', '?'], ['when', 'the', 'looks', 'that', 'are', 'nurtured', 'by', 'statuesque', 'beauties', 'are', 'nurtured', 'by', 'the', 'skinniest', 'supermodels', 'statuesque', 'skinny', 'look'], ['guess', 'its', 'just', 'me', 'brett', 'and', 'my', 'mom', 'this', 'year', 'gotta', 'love', 'my', 'family', '!'], ['user', 'user', 'user', 'user', 'user', 'yes', 'you', 'are', 'but', 'it', 'also', 'shows', 'your', 'ignorance', 'and', 'hate'], ['user', 'feeding', 'your', 'own', 'flesh', 'and', 'blood', 'making', 'an', 'alley', 'way', 'smell', 'terrible', 'same', 'same', '90ssarcasm', 'thesun', 'thingsthatarewrong'], ['user', 'you', 'can', 'afford', 'stocks', '?', 'teachers', 'make', 'so', 'much', 'money', \"it's\", 'crazy', '!'], ['user', 'user', 'the', 'link', 'says', 'the', 'requested', 'page', 'could', 'not', 'be', 'found', 'was', 'the', 'intentional', '?'], ['montana', 'of', '300', '14', 'the', 'best', 'versace', 'remix', 'in', 'the', 'this', 'dude', 'goes', 'off'], ['user', 'me', 'and', 'you', 'are', 'the', 'only', 'ones', 'that', 'love', 'it'], [\"don't\", 'you', 'love', 'when', 'guys', 'try', 'to', 'give', 'you', 'their', 'number', '?', 'keyword', 'tried', 'backupoff'], ['dayum', 'i', 'really', 'got', 'the', 'house', 'to', 'myself', 'while', 'my', 'brother', 'still', 'has', 'school', 'all', 'week'], ['user', 'user', 'omg', 'want', 'one', 'but', 'i', 'have', 'easypay', 'express', 'this', 'would', 'mean', 'i', 'would', 'only', 'use', 'it', 'to', 'ride', 'path'], ['user', 'ha', 'yeah', 'which', 'is', 'your', 'opinion', 'which', 'like', 'mine', 'means', 'nothing', \"they're\", 'in'], [\"i'm\", 'knitting', 'a', 'scarf', 'yes', 'knitting', 'a', 'scarf', 'because', 'manual', 'dexterity', 'and', 'i', 'like', 'knitting', 'problems', '?'], ['off', 'to', 'bed', \"can't\", 'wait', 'to', 'feel', 'this', 'hangover'], ['nsroadspolicing', 'user', 'oh', 'look', 'an', 'audi', 'driver', 'breaking', 'the', 'law', 'how', 'strange'], [\"here's\", 'an', \"it's\", 'cold', 'and', 'i', 'had', 'to', 'scrape', 'windows', 'so', \"i'm\", 'sad', 'selfie', 'gotta', 'love', 'living', 'that', 'hotel', 'life'], ['user', \"doesn't\", 'get', 'more', 'indiefilm', 'than', 'miboxzombie'], ['user', 'user', 'we', 'all', 'know', 'how', 'well', 'we', 'did', 'under', 'erickson'], ['user', 'public', 'hammering', 'the', 'steelers', 'all', 'week', 'juicy'], ['work', 'trains', 'thegrind', 'london', 'business', 'myhappyface'], ['user', 'yup', 'few', 'weeks', 'in', 'nz', 'mucking', 'about', 'then', 'some', 'time', 'in', 'fiji', 'dodging', 'sharks'], ['quick', 'feet', 'in', 'slow', 'motion', '!', 'never', 'stop', 'loving', 'knees', 'high', 'arms', 'moving', '!', 'still', 'a', 'lot', 'more', 'to', 'be', 'done'], ['i', 'never', 'cared', 'for', 'beyonce', 'bc', 'i', 'could', 'never', 'get', 'a', 'sense', 'of', 'who', 'she', 'was', 'her', 'interviews', 'lacked', 'depth', 'user', 'tho', 'this', 'girl', 'got', 'it'], ['sarcasm', 'is', 'the', 'only', 'thing', 'i', 'like', 'sarcasticbitch'], ['who', 'ever', 'thought', 'moving', 'in', 'the', 'middle', 'of', 'december', 'would', 'be', 'so', 'peaceful', '?'], ['bday', 'lily', 'painting', 'for', 'user'], ['do', 'you', 'use', 'instagram', '?', 'well', 'get', '100', 'free', 'followers', 'at', 'no'], ['some', 'people', 'just', \"don't\", 'listen', 'ah', 'well', 'guess', \"they'll\", 'learn', 'the', 'hard', 'way'], ['one', 'of', 'my', 'favourite', 'things', 'about', 'going', 'to', 'fanshawe', 'is', 'walking', 'to', 'the', 'z', 'building'], ['i', 'give', 'people', 'a', 'break', '2', 'say', 'that', 'without', 'my', 'supporting', 'cast', 'that', 'none', 'of', 'my', 'works', 'would', 'of', 'made', 'it', 'is', 'tosh', 'did', 'nobody', 'get', 'extras'], ['i', 'was', 'being', 'considerate', 'about', 'this', 'issue', 'n', \"didn't\", 'care', 'what', 'i', 'did', 'but', 'now', \"i'm\", 'taking', 'my', 'position', 'back', 'and', 'i', \"don't\", 'give', 'a', 'damn', 'wht', 'u', 'think'], ['user', 'user', 'i', 'can', 'sign', 'you', 'in', 'as', 'my', 'guest'], [\"it's\", 'a', 'comforting', 'thought', 'every', 'tax', 'payer', 'will', 'b', 'reminded', 'of', 'ocare', 'being', 'rammed', 'in2', 'law', 'when', 'answering', 'questions', 'on', '2014', 'tax', 'forms'], [\"it's\", 'currently', 'fair', 'and', '4', 'outside'], ['user', 'did', 'your', 'python', 'tweeter', 'send', 'that', '?'], ['spiky', 'popularity', 'of', 'the', 'name', 'spike', 'in', 'the', 'u', 's', 'rt', 'user', 'baby', 'name', 'dataviz', 'source'], ['user', 'do', '4', 'fans', '!', 'http', 't', 'co', 'tvgjxjy9dh', 'smartphone', 'app', 'pays', 'you', 'and', 'your', 'fans', '!!', 'see-http', 't', 'co', 'alppo5hie5', 'go', '2'], ['off', 'in', 'to', 'town', 'to', 'get', 'a', 'bday', 'prezzy', 'how', 'rude', 'to', 'have', 'a', 'birthday', 'in', 'xmas', 'week', 'busybee'], ['now', 'in', 'the', 'malls', '!', 'take', 'years', 'off', 'your', 'skin', '!', 'seacret', 'minerals', 'from', 'the', 'dead', 'sea', '!!!'], ['user', 'even', 'you', 'have', 'to', 'think', 'the', 'religious', 'freedom', 'restoration', 'act', 'in', 'michigan', 'is', 'ridiculous'], ['celebs', 'takes', 'drastic', 'measures', 'to', 'look', 'good', 'whoops', 'celebrityleakedphotos'], [\"there's\", 'always', 'that', 'one', 'friend', 'to', 'motivate', 'and', 'make', 'you', 'feel', 'better', 'el7amdellah', '3la', 'wjoodch', 'fe', '7ayaty', 'yaa', 'dctortna', 'el', 'jameela', '3', 'user'], ['user', 'aww', 'bless', 'ya', 'enjoy', 'your', 'break', 'babe', 'yeah', 'it', 'was', 'great', 'thanks', 'finally', 'recovering', 'from', 'it', \"how's\", 'ya', 'tash', 'going', '?'], [\"let's\", 'all', 'do', 'only', 'squats', 'and', 'deadlifts', 'until', 'we', 'hurt', 'ourselves', 'really', 'really', 'good', 'trainers', 'fitnessmotivation'], ['user', 'did', 'i', 'really', 'need', 'to', 'put', 'a', 'hashtag', '?', 'oh', 'dear', '!'], ['user', \"aren't\", 'humans', 'the', 'ones', 'who', 'are', 'playing', 'the', 'sport', '?'], ['session', 'at', 'the', 'local', '1stphoto', 'rektek', 'bmx', 'lookmamnohands', 'flying', 'fallingwithstyle'], ['grandad', 'is', 'watching', 'absolute', 'shit', 'on', 'the', 'telly', 'no', 'seriously', \"it's\", 'on', 'a', 'channel', \"i've\", 'never', 'even', 'heard', 'of', '?!', 'funchristmas', '!'], ['user', 'user', 'great', 'days', 'there', 'under', 'wilko'], ['come', 'on', 'orionlaunch', \"it's\", '1am', 'in', 'australia', 'us', 'down-under', 'geeks', 'need', 'some', 'sleep'], ['jihadi', 'killers', 'in', 'ottawa', 'sidney', 'and', 'peshawar', 'are', 'rogue', 'acts', 'while', 'fratboy', 'uva', 'rapists', 'are', 'symbolic', 'of', 'deeper', 'societal', 'flaws', 'tcot'], ['running', 'on', 'less', 'than', '4', 'hours', 'of', 'sleep', 'longnight', 'longday', 'sleepy'], ['i', 'have', 'so', 'much', 'to', 'do', 'before', 'tomorrow', 'so', 'i', 'think', 'maybe', \"i'll\", 'take', 'a', 'nap', '?'], ['si', 'ms', 'educ', 'hehehe', 'clear', 'my', 'ignorance'], ['user', 'no', 'there', 'only', 'are', 'some', 'finnish', 'snipers', 'working', 'with', 'the', 'fascists', 'in', 'kyiv', '!', 'nice', 'guys', '!'], ['the', 'long', 'commute', 'to', 'work', 'for', 'this', 'keyboardcowboy', 'anyonecancode', 'user'], ['meanwhile', 'in', 'zimbabwe', 'the', 'south', 'african', 'imposed', 'government', 'promises', 'to', 'stamp', 'out', 'corruption'], ['amazingly', 'is', 'not', 'owned', 'by', 'bhp', 'they', 'are', 'going', 'to', 'have', 'to', 'shell', 'out', 'some', 'decent', 'money', 'for', 'it', 'bhpbilliton', 'south32'], ['user', 're', 'xmas', 'christmas', 'is', 'itself', 'an', 'abbreviation', 'of', \"christ's\", 'mass', 'user'], [\"aren't\", 'you', 'just', 'loving', 'the', 'snow', '?', 'stockport'], ['if', 'i', 'believed', 'in', 'that', 'sort', 'of', 'thing', 'i', 'should', 'be', 'canonized', 'selfpraise'], ['ebola', 'but', 'greed', 'aka', 'badmind', 'kills', 'easily', 'and', 'quickquick'], ['if', \"that's\", 'man', 'u', 'at', 'its', 'best', 'they', 'have', 'much', 'bigger', 'problems', 'than', 'us', 'saintsfc', 'then', 'again', \"we're\", 'still', '5th', 'noproblem'], ['user', 'oh', 'come', 'on', 'give', 'her', 'a', 'chance', 'with', 'her', 'trust', 'worthy', 'sns', 'warriors', 'and', 'her', 'followers', 'in', 'that', 'uber-right', 'wing', 'portal'], ['user', 'my', '7-year', 'old', 'got', 'it', 'for', 'me', '!', 'i', 'think', \"macy's\"], ['just', 'yelled', 'at', 'someone', 'telling', 'me', 'to', 'do', 'something', 'youre', 'my', 'mum', 'mistake', 'was', 'it', 'was', 'actually', 'my', 'mum'], ['should', 'be', 'a', 'balanced', 'view', 'then', 'user', 'user'], ['in', 'desperate', 'need', 'of', 'training', 'partner', 's', 'with', 'the', 'knowledge', 'and', 'insight', 'of', 'the', 'infamous', 'user', 'candidates', 'apply', 'within'], ['user', 'one', 'old', 'fart', 'to', 'another', 'are', 'you', 'ever', 'too', 'tired', 'to', 'get', 'up', 'and', 'go', 'to', 'bed', '?', 'allthetime'], ['so', 'if', 'three', 'geeks', 'can', 'bring', 'down', 'the', 'whole', 'of', 'microsoft', 'and', 'sony', 'networks', 'my', 'annual', 'firewall', 'subscription', 'is', 'worth', 'every', 'penny', '!'], ['loving', 'life'], ['security', 'engineers', 'are', 'not', 'security', 'guards', 'hackers', 'security'], ['remember', 'black', 'friday', 'was', 'a', 'bust'], ['the', 'hospital', 'for', 'a', 'new', 'allergy', 'test', 'love', 'it'], ['jeez', \"it's\", 'a', 'lovely', 'morning', 'out', '!!', 'ireland', 'december'], ['user', 'you', 'know', 'this', 'is', 'wrong', \"don't\", 'you', 'please', 'help', 'us', 'out', 'here', 'euvat'], ['i', 'just', 'love', 'being', 'wide', 'awake', 'at', '4am'], ['this', 'history', 'essay', 'is', 'literally', 'shitting', 'on', 'me'], ['day', 'off', 'should', 'be', 'snuggled', 'on', 'the', 'sofa', 'doing', 'nothing', 'but', 'alas', 'i', 'have', 'errons', 'to', 'do', 'so', 'trying', 'up', 'drag', 'myself', 'out', 'of', 'bed', 'happening'], ['i', 'have', 'oth', 'playing', 'in', 'the', 'back', 'ground', 'at', 'work', 'ohhh', 'naughty', 'p', 'but', 'fun'], ['girls', 'with', 'british', 'accents', 'on', 'point'], ['user', 'and', 'user', 'cut', 'a', 'promo', 'then', 'user', 'states', \"he's\", 'facing', 'user', 'oh', 'yay', '!!'], ['love', 'studying', 'for', 'anatomy'], ['ayee', 'love', 'your', 'lips', 'trying', 'to', 'sound', 'creepy'], ['user', 'those', 'waves', 'are', 'epic', '!', 'he', 'he'], ['my', 'last', 'final', 'today', 'then', 'straight', 'to', 'my', 'surgeons', 'whatagoodweek'], ['user', 'wow', 'neat', '!', 'and', 'a', 'nice', 'mini', 'tour', 'of', 'belfast', 'as', 'well', 'i', 'think', 'you', 'should', 'have', 'asked', 'for', 'one', 'of', 'these', 'for', 'xmas', 'larry', '!'], ['wow', 'doutzen', 'looks', 'amazing', 'after', 'having', 'a', 'baby'], ['user', 'dusty', 'as', 'usual', 'redbucket'], ['i', 'love', 'when', 'my', 'mornings', 'start', 'off', 'like', 'this'], ['oh', 'look', 'wrapping', 'presents', 'is', 'so', 'easy', \"here's\", 'the', 'video', 'to', 'prove', 'it', '!!!', 'http', 't', 'co', 'f6qfevn0ka'], ['the', 'of', 'taking', 'a', 'break', 'from', 'reading', 'about', 'socialmedia', 'to', 'check', 'my', 'social', 'media'], ['taylor', 'wrote', 'a', 'nasty', 'note', 'on', 'my', 'car', 'today', 'we', 'are', 'friends'], ['user', 'lol', 'will', 'let', 'my', 'kids', 'know', 'when', 'they', 'get', 'up', 'in', 'the', 'morning', 'thanks', 'for', 'the', 'tip'], ['i', 'love', 'waking', 'up', 'late', 'and', 'sick', 'during', 'dead', 'week', 'thebest'], ['chipbrent', 'i', 'love', 'the', 'gamergate', 'concept', 'of', 'harassing', 'and', 'spamming', 'porn', 'at', 'any', 'critics', 'as', 'proof', 'that', \"you're\", 'not', 'a', 'hate', 'group'], ['only', 'ones', 'in', 'the', 'cinema', 'putting', 'my', 'phone', 'on', 'silent', 'user'], ['i', 'have', 'a', 'small', 'jacket', 'on', 'with', 'a', 'big', 'coat', 'for', 'later', \"i'm\", 'back', 'at', 'the', 'train', 'stn', 'going', 'back', 'into', 'town', 'work', 'xmas', 'do', 'joy'], [\"can't\", 'wait', 'for', 'my', '7', '30am', 'dental', 'appointment', 'tomorrow', '!', 'oh', 'time', 'please', 'speed', 'through', 'today', '!', '!'], ['user', 'love', 'you', 'so', 'much', 'taylor'], ['nothing', 'like', 'waking', 'up', 'to', '50', 'financial', 'formulas', '!', 'yay', 'for', 'corporate', 'finance', 'comprehensive', 'finals', '!', 'finalsweek'], ['a', 'deal', 'was', 'negotiated', 'between', 'user', 'and', 'gtaa', 'that', 'deal', 'was', 'is', 'hidden', 'and', 'built', 'into', 'the', 'pricing', 'of', 'upx', 'tix', 'why', 'all', 'the', 'secrecy', '?', 'topoli'], ['user', \"he'd\", 'be', 'a', 'perfect', 'fit', 'or', 'beachy', 'medlen'], ['user', 'user', 'no', 'reply', 'what', 'a', 'surprise'], ['everything', \"you've\", 'been', 'told', 'about', 'copywriting', 'is', 'bs'], ['love', 'hanging', 'out', 'with', 'my', 'dad'], ['user', 'thanks', 'for', 'the', 'update', 'spot', \"i'm\", 'good', 'w', 'that', 'if', 'you', 'can', 'post', 'some', 'stuff', 'on', 'this', 'on', 'my', 'blog'], ['user', 'oh', 'lordy', '!', 'eating', 'out', 'was', 'the', 'hardest', 'or', 'going', 'to', \"someone's\", 'place', 'esp', 'as', 'i', \"don't\", 'eat', 'meat', 'eye', 'roll', 'what', 'can', 'we', 'feed', 'her', '?'], ['user', 'user', 'good', 'points', 'but', 'republican', 'party', 'can', 'be', 'just', 'as', 'fractured', 'together', 'that', 'makes', 'for', 'a', 'disenchanted', 'electorate'], ['a', 'design', \"firm's\", 'holiday', 'card', 'skewers', 'corporate', 'jargon', 'hand', 'biting', 'mouth', '?', 'jargon', 'design', 'http', 't', 'co', 'cxpe2dwl4j'], ['user', 'i', 'try', 'to', 'imagine', \"it's\", 'confusing'], ['user', 'user', 'would', 'you', 'have', 'said', 'in', 'the', '1800s', 'why', 'is', 'gop', 'against', 'africans', 'being', 'brought', 'here', '?', 'do', 'any', 'of', 'them', 'want', 'to', 'pick', 'cotton', '?'], ['i', 'was', 'watching', 'birds', 'fly', 'during', 'this', 'photo'], ['user', 'user', 'hahaha', 'good', '1', 'you', 'might', 'own', 'a', 'stadium', 'then', 'rather', 'than', 'the', 'local', 'council'], [\"it's\", 'not', 'even', '9', 'and', \"i've\", 'already', 'called', 'the', 'cops', 'twice', 'damn', 'i', 'love', 'my', 'job'], ['such', 'a', 'fun', 'day', 'in', 'the', 'lib', 'studying', 'econ', 'for', '14', 'hours', \"can't\", 'wait', 'to', 'do', 'it', 'again', 'tomorrow', 'thisismiserable'], ['great', 'a', 'all', 'burst', 'christmas', 'diy', 'crafts', 'please', 'rt'], ['being', 'mom', 'tonight', 'was', 'both', 'refreshing', 'and', 'a', 'real', 'tbt'], ['user', 'no', 'he', 'bloody', \"isn't\", 'i', 'was', 'upstairs', 'getting', 'changed', '!'], ['user', 'actually', 'cropped', 'out', 'her', 'daughter', 'in', 'this', 'pic', 'for', 'a', 'selfie', 'topmum'], ['we', 'still', 'got', 'alot', 'of', 'moonlight', 'left'], ['user', 'transfer', 'fund', 'of', '250', '000', 'is', 'given', 'to', 'nottingham', 'forest', 'a', 'team', 'with', 'a', 'transfer', 'embargo'], ['user', 'user', 'user', 'hahahahahahahhahaha', '!', 'i', 'was', 'some', 'one', 'and', 'it', 'happened', 'to', 'be', 'ya', '!', '!'], ['lebanon', 'detainee', 'is', 'isis', \"leader's\", 'wife', 'iraqi', 'official', 'baghdad', 'an', 'iraqi', 'official', 'denied', 'wednesday'], ['user', 'if', \"it's\", 'a', 'blue', 'ribbon', 'panel', 'then', 'it', 'will', 'be', 'all', 'good'], ['now', 'that', 'i', 'can', 'seem', 'to', 'afford', 'good', 'things', 'material', 'things', 'in', 'life', 'its', 'the', 'simple', 'things', 'that', 'i', 'need', 'and', 'really', 'want', 'of', 'my', 'life'], ['having', 'sooo', 'much', 'fun', 'in', 'math', 'math', 'class', 'drawing', 'music', 'eye', 'snowflake', 'flo'], ['love', 'waking', 'up', 'to', 'my', 'face', 'being', 'licked', 'by', 'my', 'puppy'], ['what', 'a', 'b', 'e', 'a', 'utiful', 'day', 'in', 'scotland', '!!', 'rain', 'gales', 'lol'], ['twig', 'is', 'now', 'sprig', '3', 'sec', 'limit', 'on', 'new', 'social', 'video', 'platform', 'techtalk', 'editorspick', 'sillyvine', 'tr'], ['user', 'a', 'guide', 'to', 'coffee', 'lol', 'espresso', 'from', 'that', 'time', 'we', 'went', 'to', 'the', 'maple', 'leafs', 'fan', 'fest', 'user'], ['welp', 'there', 'goes', '50', 'bucks', 'down', 'the', 'drain', 'thanks', 'ku', 'student', 'housing', 'get', 'me', 'out'], ['almajmoua', 'participating', 'in', 'the', '4th', 'csr', 'forum', 'lebanon', 'togetherwegrow', 'for-profit', 'microfinance', 'supporting'], [\"i'm\", 'getting', 'excited', 'about', 'mexico', 'now'], ['great', 'start', 'to', 'the', 'day'], [\"don't\", 'be', 'offended', 'when', 'you', 'hear', 'happyholidays', 'when', 'people', 'refer', 'to', 'christmas', 'the', 'word', 'holiday', 'is', 'derived', 'from', 'holy', 'day', 'fb'], ['why', \"didn't\", 'i', 'start', 'watching', 'the', 'tudors', 'earlier', '?', 'iloveit'], ['going', 'to', 'watch', 'a', 'movie', 'about', 'murder', 'merry', 'christmas'], ['user', 'please', 'follow', 'me', 'i', 'have', 'a', 'technical', 'question', 'thanks'], [\"can't\", 'even', 'explain', 'how', 'excited', 'i', 'am', 'for', 'tomorrow'], ['the', 'funky', 'taste', 'of', 'chocolate', 'with', 'the', 'chunky', 'monkey', 'all', 'just', 'in', 'a', 'cup', 'george', 'of', 'the', 'jungle', 'cup', 'and', 'a', 'lick'], ['a', '718', 'phone', 'bill', 'is', 'a', 'lovely', 'email', 'to', 'wake', 'up', 'to'], ['done', 'to', 'much', 'again'], ['the', 'biggest', 'is', 'that', 'taliban', 'gunned', 'down', 'school', 'kids', 'in', 'the', 'same', 'country', 'that', 'malala', 'received', 'the', 'nobel', 'prize', 'for', 'education', 'ouch'], ['knock', 'knock', 'sketchy', 'dignity', 'smile', 'funtimes', 'brotherskeeper', 'whosonfirst', 'holiday', 'shenanigans'], ['yay', 'for', 'early', 'morning', 'protestors', '!', 'heavyamountsofsarcasm'], ['notcias', 'eu', 'europ', 'eua', 'statement', 'on', 'european', 'commissions', 'eu', 'investment', 'plan'], ['if', 'only', 'i', 'possessed', 'half', 'the', 'balance', 'legolas', 'has'], ['user', 'user', 'user', 'user', 'it', 'was', 'an', 'in', 'progress', 'list', 'of', 'mn', 'of', 'the', 'year'], ['why', 'am', 'i', 'wide', 'awake', 'right', 'now'], ['take', 'me', 'to', 'church'], ['user', 'congrats', 'so', 'cute'], ['ukplus', 'consists', 'of', 'free', 'lebara2lebara', '3000mins', 'and', '3000sms', 'unlimited', 'no', 'unlimited', 'sms', 'to', 'other', 'network', 'only', 'consists', 'of', '1000sms'], ['user', 'user', 'not', 'bad', 'for', 'a', 'kid', 'from', 'az', 'hockey', \"doesn't\", 'work', 'in', 'the', 'desert'], ['user', 'mk1', 'shadow', 'shift', 'was', 'so', 'much', 'fun', 'user'], ['and', 'the', 'round', 'ligament', 'pain', 'returns', 'yay', 'pregnancyproblems'], ['lol', 'micromax', 'is', 'promising', 'that', 'service', '?'], [\"i'm\", 'seeing', 'more', 'and', 'more', 'people', 'using', 'the', 'term', 'gamergate', 'and', 'i', \"can't\", 'believe', \"i'm\", 'going', 'to', 'say', 'this', 'but', \"they're\", 'using', 'it', 'incorrectly'], ['being', 'able', 'to', 'think', 'your', 'self', 'angry', 'is', 'such', 'a', 'nice', 'gift', 'to', 'have', 'itsacurse'], ['sad', 'i', \"don't\", 'have', 'a', 'christmas', 'jumper', 'thanks', 'user', 'for', 'your', 'super', 'fast', 'delivery'], ['user', 'user', 'hey', 'maybe', 'you', 'can', 'reach', 'the', 'scoreboards', 'and', 'fix', 'their', 'latest', 'issues'], ['palestinian', 'authority', 'abbas', 'trades', 'stalemate', 'for', 'confrontation', 'in', 'icc', 'move', 'via', 'user'], ['user', 'latest', 'album', 'is', 'free', 'the', 'universe', 'supersonicwithgionee', 'mumbai'], ['user', 'has', 'passed', 'user', 'as', 'the', \"world's\", 'most', 'valuable', 'startup', '!', 'growth', 'nyc'], ['user', \"you're\", 'on', 'my', 'people', 'who', 'antagonize', 'me', 'list', 'via', 'user'], ['this', 'gone', 'be', 'some', 'fire', '!', 'jan', '24th', 'getlifted'], ['i', 'just', 'love', 'working', \"sunday's\"], ['just', 'in', 'case', 'anyone', 'was', 'wondering', 'veni', 'vidi', 'vici', 'in', 'spanish', 'is', 'vine', 'vi', 'vencí', 'studybreaks', 'umdfinalsweek'], ['user', 'a', 'chance', 'till', 'january', '!', 'this', 'is', 'so', 'good', 'you', 'always', 'make', 'me', 'smile'], ['user', 'user', 'user', 'again', 'fans', 'come', 'second', 'thanks', 'again'], ['americans', 'love', 'guns', 'more', 'than', 'ever', '!', 'chicago', 'detroit', 'examples', 'of', 'strict', 'gunlaws', 'yet', 'have', 'the', 'most', 'crime'], ['user', 'user', 'thx', 'if', 'thry', 'real', 'why', 'dont', 'you', 'have', 'them', '?', 'friend', 'me', 'on'], ['user', 'the', 'pace', 'of', 'kcroyals', 'activity', 'at', 'the', 'winter', 'meetings', 'is', 'giving', 'me', 'vertigo', '!'], ['boooooom', '2', 'goals', 'in', '2', 'minutes', '!!!!', 'thatsarsenal', '4', 'you'], ['loadshedding', 'again', '!', 'eissh', 'wonder', 'if', 'eskom', 'and', 'cell', 'c', 'have', 'partnered', 'up', '?', 'both', 'get', 'paid', 'but', 'their', 'services', 'suck', '!!', 'dialinginthedark'], ['user', 'you', 'have', 'never', 'seen', 'me'], ['yep', 'true', 'patriots', 'all'], ['user', 'user', 'awk', 'moment', 'when', 'i', 'tweeted', 'first', 'fakefan', '!!!!!'], ['oh', 'yess', 'dean', 'smith', 'is', 'ref', 'on', 'the', 'plus', 'side', 'we', 'have', 'thompson', 'improved'], ['pretty', 'much', 'the', 'real', 'deal', 'thanksmom'], ['retweet', 'user', 'to', 'have', 'a', 'book', 'signing', 'and', 'screening', 'in', 'your', 'area'], ['user', 'hahahaha', 'love', 'it', 'mate', 'have', 'a', 'good1', 'xx'], ['user', 'so', 'tht', 'we', 'can', 'look', 'into', 'yr', 'acc', 'specifically', 'we', 'wld', 'need', 'to', 'speak', 'with', 'you', 'over', 'the', 'phone', 'calls', 'are', 'charged', 'at'], ['yescracker', 'user', 'come', 'on', 'is', 'it', '1999', '?', 'server', 'too', 'busy', 'fail', 'spam'], ['user', 'hate', 'it', 'go', 'back', 'to', 'the', 'old', 'format', 'please'], ['user', 'thingsbetterthantitansjags', 'napalm', 'hotwings', 'bigjoefavorite', 'love', 'the', 'show', 'keep', 'it', 'real'], ['atheists', 'celebrating', 'christmas'], ['you', 'really', 'know', 'how', 'to', 'treat', 'a', 'girl'], ['is', 'there', 'even', 'math', 'cells', '?', 'if', 'there', 'is', \"they're\", 'not', 'working', 'ahhh', 'hahaha', 'mathisfun'], ['thank', 'you', 'strange', 'vet', 'husband', 'at', 'the', 'bar', 'for', 'reminding', 'me', 'that', 'i', 'will', 'be', 'in', 'debt', 'until', 'i', 'die', 'studentloans'], ['ptiukgonawazgocampaign', 'show', 'up', 'at', 'the', 'peaceful', 'protest', 'infront', 'of', 'lancaster', 'house', 'to', 'greet', 'our', 'pm', 'with', 'respect'], ['my', 'future', '?', 'i', 'still', 'enjoy', 'it', 'playing', 'football', 'too', 'much', 'and', 'i', 'play', 'with', 'passion', 'totti', 'oh', 'no', 'the', 'team', 'is', 'doomed', 'asroma'], ['love', 'how', 'the', 'adverts', 'for', 'the', 'woman', 'in', 'black', '2', 'say', 'you', \"won't\", 'sleep', 'for', 'weeks', 'way', 'to', 'sell', 'it', 'to', 'me', 'sheneverleft'], ['oh', \"you're\", 'just', 'gonna', 'wait', 'till', 'new', 'years', 'to', 'start', 'working', 'out', '?', 'thatscool'], ['stomach', 'flu', 'once', 'again', 'what', 'a', 'surprise'], ['all', 'hell', 'is', 'breaking', 'loose', 'ahhhh', 'everybody', 'freak', 'out'], ['much', '!!'], ['notcies', 'eu', 'ebola', 'leaves', 'hundreds', 'of', 'thousands', 'facing', 'hunger', 'in', 'three', 'worst-hit', 'countries'], ['user', 'can', 'you', 'reveal', 'what', 'you', 'were', 'drinking', 'now', '?'], ['last', 'semester', 'i', 'dropped', 'a', 'class', 'because', 'i', 'had', 'to', 'write', 'a', '7pg', 'paper', 'this', 'semester', \"i've\", 'had', 'to', 'write', '5', 'of', 'them'], [\"couldn't\", 'agree', 'more', '!', 'rt', 'user', 'nothing', 'makes', 'me', 'feel', 'more', 'special', 'than', 'receiving', 'an', 'automated', 'dm'], ['dog', 'for', 'dinner', 'anyone', '?', 'cultivo', 'letchworth', 'not', 'bringing', 'my', 'kid', 'here', 'again'], ['difficult', 'and', 'happy', 'in', 'life', 'should', 'be', 'enjoyed', 'because', 'life', 'comes', 'just', 'once', 'so', 'he', 'went', 'so', 'he', 'will', 'not', 'be', 'back', 'so', 'ez'], ['oh', 'great', 'user', 'has', 'pop', 'up', 'ads', 'now', 'just', 'what', 'i', 'want', 'when', 'trying', 'to', 'quickly', 'access', 'account', 'info'], ['the', 'answers', 'often', 'lay', 'right', 'infront', 'of', 'you', 'the', 'problem', 'is', 'you', 'seek', 'in', 'the', 'distance', 'when', 'in', 'reality', 'the', 'answers', 'are', 'simple'], ['user', 'psssst', 'you', 'spelt', 'thing', 'wrong'], ['never', 'expected', 'you', 'would', 'lie', 'as', 'much', 'as', 'you', 'do', 'back', 'when', 'i', 'first', 'encountered', 'you', 'user', 'user', 'user'], ['user', 'haha', 'i', 'also', 'had', '2', 'cheers', 'bro', '!!!'], ['love', 'how', 'i', 'came', 'into', 'work', 'at', '8', 'because', 'charlie', 'said', 'we', 'were', 'busy', '3', 'people', 'in', '45', 'minutes', 'yeah', 'we', 'got', 'this', 'place', 'packed', 'charlie'], ['sorry', 'sorry', 'i', 'always', 'do', 'this', 'cant', 'help', 'it', 'im', 'an', 'asshole', 'like', 'that'], ['everyone', 'competing', 'against', 'each', 'other', 'for', 'privatized', 'goods', 'is', 'way', 'better', 'than', 'working', 'together', 'as', 'a', 'whole', 'to', 'advance', 'humanity'], ['user', 'okay', 'went', 'to', 'court', 'the', 'case', 'got', 'adjourned', 'till', 'january', 'my', 'backs', 'been', 'playing', 'up', 'so', 'in', 'some', 'pain', 'wbu', '?', 'x'], ['nice', 'soak', 'in', 'the', 'bubble', 'bath'], ['still', 'awake', 'sooo', \"that's\", 'nice'], ['so', 'nice', 'to', 'have', 'a', 'final', 'before', 'the', 'sun', 'is', 'even', 'up'], ['another', 'fantastic', 'day'], ['online', 'shopping', 'with', 'no', 'credit', 'card', 'umm', 'justbrowsing'], ['final', 'projects', 'ugh', 'keeping', 'me', 'from', 'being', 'productive', 'butnotreally'], ['i', 'fucked', 'them', 'really', 'badly', 'advancedwarfare'], ['well', 'today', 'is', 'off', 'to', 'a', 'great', 'start', 'might', 'as', 'well', 'be', 'monday'], ['half', 'of', 'the', 'testing', 'group', 'was', 'very', 'helpful', 'today'], ['the', 'true', 'definition', 'iran', 'hosting', 'a', 'conference', 'against', 'extremist', '!'], ['user', 'who', 'you', 'calling', 'bottle', 'job', \"i'll\", 'take', 'teeth', 'yeah', \"i'm\", 'game', 'mate', 'at', 'training', 'tonight', 'too', \"i'll\", 'remember', 'your', 'hat'], ['so', 'despite', 'the', 'fact', 'that', 'i', 'was', 'up', 'till', '4', 'studying', 'and', 'had', 'to', 'wake', 'up', 'at', '7', 'i', 'think', 'this', 'day', 'is', 'going', 'to', 'be', 'great'], ['user', 'miss', 'u', \"i'm\", 'leaving', 'on', '7th', 'so', 'need', 'to', 'see', 'you', 'before', 'i', 'go'], ['first', 'final', 'of', 'the', 'day', 'done', 'only', 'three', 'more', 'to', 'go', 'greatscheduling', 'incaseyoucanttell'], ['luv', 'this'], ['i', 'am', 'so', 'happy', 'that', 'thad', 'the', 'lead', 'multiplayer', 'designer', 'for', 'hardline', 'followed', 'me', 'xd'], ['as', 'a', 'girl', 'my', 'reason', 'not', 'to', 'put', 'on', 'makeup', 'is', \"i'm\", 'satisfied', 'with', 'my', 'face', 'unlike', 'you', 'bitch', '!', 'winter'], ['user', \"he's\", 'played', '5', 'minutes', '0-4', 'from', 'field', 'a', 'steal', 'and', '2', 'fouls', \"that's\", 'it', \"that's\", 'all', \"he's\", 'done'], ['user', 'asalamoalekum', 'kesay', 'mizaj', '?', 'thank', 'you', 'so', 'much', 'it', 'was', 'posted', 'on', '2nd', 'december', '2013', 'already', 'there'], ['user', 'i', 'do', '2', 'or', '3', 'times', 'a', 'week', 'lol', 'i', \"can't\", 'do', '5'], ['basura', 'immondizia', 'in', 'my', 'name'], ['exactly', '1', 'year', 'ago', 'today', '!', 'via', 'user'], ['11', '11', 'say', 'something', 'stupid', 'oh', 'you', 'beat', 'me', 'to', 'it'], ['user', 'has', 'the', 'best', 'pickup', 'lines'], ['user', 'your', 'ambition', 'is', 'amazing', 'saintsfc', 'enjoy', 'exit', 'from', 'championsleague'], ['love', 'is', 'far', 'more', 'important', 'than', 'money', '!', 'the', 'problem', 'is', 'you', 'only', 'know', 'it', 'once', 'you', 'have', 'money', '!', 'life', 'humanity'], ['user', 'you', \"won't\", 'get', 'a', 'source', 'other', 'than', 'ispr'], ['user', 'steve', 'steve', 'steve', \"that's\", 'data', \"you'll\", 'never', 'win', 'any', 'hearts', 'and', 'minds', 'if', 'you', \"don't\", 'appeal', 'for', 'the', 'poor', 'polar', 'bears'], ['when', 'the', 'vapours', 'that', 'are', 'emitted', 'by', 'cleansing', 'solvents', 'are', 'emitted', 'by', 'contaminating', 'chemicals', 'cleansing', 'contaminating', 'vapour'], ['just', 'a', 'hunch', 'here', 'but', 'i', 'think', 'steven', 'gerrard', 'is', 'leaving', 'possibly', 'going', 'to', 'the', 'mls', 'hesnodeed'], ['doctoratlarge', 'yeah', 'tones', 'are', 'the', 'most', 'obvious', 'things', 'in', 'tweets'], ['i', \"don't\", 'know', \"what's\", 'worse', 'the', 'fact', 'that', \"mcdonald's\", 'is', 'open', 'on', 'christmas', 'day', 'or', 'that', 'people', 'are', 'actually', 'in', 'there', 'eating', 'it', 'right'], ['a', 'terror', 'organization', 'hamas', 'man', 'killed', '3', 'injured', 'in', 'suspicious', 'explosion', 'in', 'gaza', 'israel'], ['user', 'user', 'indeed', 'two', 'people', 'from', 'the', 'opposite', 'political', 'divide', 'not', 'slinging', 'insults', 'what', 'is', 'twitter', 'coming', 'to'], ['oh', 'look', \"we're\", 'having', 'another', 'storm', 'in', 'sydney', 'how', 'unusual'], ['user', 'i', 'just', 'got', 'my', 'tonsils', 'out', 'lovinglife', 'good', 'luck', '!!'], ['that', 'was', 'a', 'great', '3', 'hours', 'of', 'sleep'], ['user', 'oh', 'crap', 'mean', 'what', 'did', 'it', 'mean', 'see', 'my', 'last', 'few', 'rts'], [\"pepe's\", 'hair', 'rt', 'user', \"palacio's\", 'hair', 'bombguy95', 'ronaldo', 'hair', 'ms_nini_', 'messy', 'hair'], ['having', 'nothing', 'you', 'studied', 'be', 'on', 'the', 'test', 'is', 'just', 'fckn', 'greaaat'], ['the', 'fandom', 'showing', 'its', 'mature', 'side', 'as', 'always', 'when', \"it's\", 'about', 'this', 'kind', 'of', 'topic'], ['user', 'obvi', 'because', 'every', 'jesuit', 'is', 'a', 'heretic'], ['chillax', 'bitches', 'why', 'is', 'my', 'face', 'so', 'squished', 'fireball'], ['is', 'just', 'one', 'of', 'the', 'many', 'services', 'i', 'offer', 'to', 'people', 'who', 'ask', 'stupid', 'questions'], ['i', 'always', 'loved', 'that', 'my', 'family', 'was', 'the', 'last', 'one', 'to', 'open', 'presents'], ['i', 'love', 'being', 'wide', 'awake', 'at', '4am', 'insomnia', 'nosleepdecember'], ['breaking', 'news', '!', 'rt', 'user', 'mario', 'balotelli', \"isn't\", 'a', 'team', 'player', 'according', 'to', 'adel', 'taarabt'], ['330am', 'benedryl', 'runs', 'for', 'an', 'allergic', 'reaction', 'to', 'a', 'drug', 'which', 'literally', 'saves', 'millions', 'of', 'lives', 'every', 'year', 'yippee', 'happiness'], ['user', 'but', 'if', 'you', 'feel', 'like', \"it's\", 'relevant', \"don't\", 'worry', 'about', 'the', 'word', 'limit', 'man', 'at', 'least', \"you're\", 'doing', 'it'], ['farting', 'like', 'the', 'world', 'is', 'ending'], ['every', 'wondered', \"what's\", 'the', \"turkey's\", 'take', 'on', 'thanksgiving', '?'], ['user', 'so', 'i', 'gave', 'up', 'and', 'am', 'now', 'heading', 'for', 'bed', 'orz'], ['user', 'what', 'a', 'way', 'to', 'start', 'the', 'new', 'year'], ['gutted', 'doyle', 'has', 'gone', 'back', 'to', 'wwfc', 'i', \"don't\", 'think', 'we', 'saw', 'what', \"he's\", 'capable', 'of', 'cpfc'], ['user', 'lol', 'i', 'hope', \"that's\", 'a', 'good', 'kinda', 'crazy'], ['user', \"that's\", 'totally', 'obscure'], [\"it's\", 'great', 'to', 'hear', 'a', 'bloodcurdling', 'scream', 'at', '4', 'in', 'the', 'morning'], ['well', 'now', 'that', \"i've\", 'listened', 'to', 'all', 'of', 'into', 'the', 'woods', \"i'm\", 'going', 'to', 'listen', 'to', 'some', 'fob', 'nosurprisethere'], ['user', 'just', 'put', 'it', 'in', 'first', 'gear', 'and', 'they', 'will', 'move', 'liberals', \"won't\", 'ever', 'give', 'their', 'life', 'for', 'a', 'cause', 'they', 'will', 'just', 'destroy', 'yours'], ['ecb', 'pondering', 'how', 'best', 'to', 'act', 'whether', 'ecb', 'pondering', 'how', 'best', 'to', 'act', 'not', 'whether', 'reuters', '19'], ['powerful', 'picture', 'taken', 'by', 'a', 'protester', 'the', 'night', 'before', 'christmas', 'the', 'is', 'real'], ['user', 'playstation', 'user', 'everything', 'is', 'awesome', '!!!!!!!!!!!!!!!!!!!!'], ['committed', 'to', 'you', 'your', 'privacy', 'and', 'an', 'open', 'web', 'please', 'turn', 'on', 'javascript', 'to', 'display', 'this', 'page', 'correctly', 'firefox', 'homepage'], ['why', 'i', 'love', 'penguins', 'of', 'madagascar', 'humor', 'reliefcomedy'], ['user', 'user', 'i', 'believe', 'we', 'have', 'n', \"that's\", 'y', 'we', 'suck'], ['user', 'great', 'does', 'that', 'mean', \"he's\", 'also', 'giving', 'up', 'hunting', 'and', 'killing', 'wildlife', 'in', 'europe', '?'], ['aaaaaaand', 'i', 'left', 'my', 'work', 'computer', 'at', 'home', 'now', 'i', 'have', 'to', 'go', 'get', 'it', 'bestdayever'], ['user', 'excellent', 'respectful', 'interview', 'of', 'johnschneider', 'and', 'tomwopat', 'last', 'week', '!', 'loved', 'your', 'lack', 'of'], ['user', 'holy', 'fuck', 'those', 'lyrics', 'fit', 'so', 'good', 'to', 'the', 'movie', 'interstellar', '!', 'chills', 'freakyfriday'], ['user', 'i', 'think', 'i', 'can', 'make', 'it', 'aaaawww', 'user', 'user'], ['a', 'bad', 'idea', '!'], ['i', 'like', 'creepy', 'guys', 'that', 'ask', 'me', 'random', 'questions', 'at', 'swic'], ['happy', 'holidays', 'from', 'me', 'and', 'my', 'boy', 'carl', 'lrs', 'holiday', 'party'], ['user', 'user', 'user', 'user', \"what's\", 'the', 'prices', 'like', '?'], ['this', 'is', 'great'], ['so', 'proud', 'of', 'my', 'artwork', 'proud'], ['dont', 'you', 'just', 'love', 'captchas', '?'], ['wishing', 'my', 'relationship', 'was', 'that', 'real'], ['user', 'user', 'he', 'would', 'get', 'floored', 'in', 'one', 'poke'], ['he', 'looks', 'a', 'decent', 'bowler', 'not', 'really', 'a', '5th', 'bowler', 'but', 'in', 'a', 'balanced', 'side', 'potentially', '6th', 'bowler', 'styris', 'on', 'hsohail', 'pakvnz'], ['well', 'done', 'user', 'for', 'making', 'it', 'possible', 'to', 'get', 'emergency', 'messages', 'to', 'a', 'member', 'of', 'staff'], ['on', 'humanrightsday', 'manchester', 'takes', 'first', 'steps', 'towards', 'independence', 'the45storm', 'antifrackingsco', 'notonwwell'], [\"don't\", 'you', 'just', 'love', 'when', 'you', 'say', 'hi', 'to', 'someone', 'in', 'the', 'hallway', 'and', 'they', 'completely', 'ignore', 'you', '?', 'yeah', 'i', 'love', 'that', 'too'], ['i', 'love', 'waking', 'up', 'and', 'not', 'being', 'able', 'to', 'sleep', 'anymore'], ['dear', 'next', 'person', 'that', 'seeks', 'to', 'educate', 'me', 'on', 'anything', 'please', 'be', 'very', 'educated', 'themselves', 'which', 'means', 'knowing', 'multiple', 'points', 'of', 'view'], ['user', 'i', \"don't\", 'think', \"i've\", 'ever', 'even', 'made', 'weed', 'brownies', 'in', 'my', 'life', 'idk', 'where', 'you', 'get', 'this', 'bizarre', 'idea', 'from', 'lol'], ['what', 'is', 'most', 'important', 'today', 'is', 'not', 'family', 'or', 'health', 'but', 'rather', 'nba', 'action'], ['user', 'ooh', 'i', 'can', 'probably', 'watch', 'a', 'replay', 'or', 'the', 'orion', 'launch', 'at', 'some', 'point', '?', 'oh', 'wonderful', \"that's\", 'sooo', 'exciting', 'nothanks'], ['during', 'user', 'criticism', 'of', 'user', 'a', 'promo', 'for', 'a', 'special', 'featuring', 'billcosby', 'rape', 'victims', 'airs', 'hypocrites'], ['sorry', 'for', 'being', 'female', 'i', \"didn't\", 'mean', 'to', 'interrupt', 'your', 'perfect', 'little', 'man-world'], ['internet', 'got', 'me', 'like', 'stillalive'], ['uk', 'pm', 'making', 'sure', 'child', 'abusers', 'are', 'brought', 'to', 'justice', 'i', 'can', 'assume', 'people', 'will', 'be', 'brought', 'to', 'justice', 'lies'], ['!!', 'user', '2n1edition', 'user', 'user', 'user'], [\"i'm\", 'glad', 'andy', 'can', 'tweet', 'all', 'day', 'but', 'not', 'text', 'me', 'back', 'loved'], ['worked', 'both', 'jobs', 'between', '545am', 'and', '830pm', 'w', '15', 'minutes', 'between', 'jobs', 'already', 'planned', 'to', 'sleep', 'immediately', 'after', 'work', 'tomorrow'], ['always', 'nice', 'when', 'a', '40', 'year', 'old', 'man', 'you', \"don't\", 'know', 'calls', 'you', 'pretty'], ['been', 'about', 'you', 'and', \"i'm\", 'still', 'about', 'you'], ['user', 'whoa', '!', 'i', 'hope', 'dione', 'taylor', 'got', 'a', 'standing', 'ovation', 'for', 'that', 'performance', 'incredible', 'voice'], ['omg', '!', 'berlin', 'is', 'so', 'fashion', '!', 'vscocam'], ['nailed', 'it', 'yesimreadingthisbook', 'catsofinstagram', 'catstagram', 'ilovemycat', 'pawproject'], ['i', 'guess', \"i'll\", 'eat', 'leftovers', 'for', 'breakfast', 'again', 'while', 'others', 'get', 'black', 'bear', 'cuzididntwantgoodfood', 'truth', 'hungry'], ['congratulations', 'to', 'the', 'hashemite', 'kingdom', 'of', 'jordan', 'under', 'the', 'wise', 'leadership', 'of', 'his', 'majesty', 'king', 'abdullah', 'ii', 'on', 'the', 'new', 'year', '2015', '!'], ['my', 'prayers', 'have', 'been', 'answered', 'we', 'out'], ['user', 'thank', 'you', '!', 'i', 'think', 'i', 'filled', 'it', 'out', 'correctly'], ['cdc', 'enough', 'patients', 'getting', 'flu', 'shots', 'this', 'year', 'healthday', 'news', 'fewer', 'than', 'half', 'of', 'americans', 'have'], [\"there's\", 'nothing', 'like', 'almost', 'rear-ending', 'someone', 'because', 'they', 'slam', 'on', 'brakes', 'for', 'no', 'reason', 'to', 'get', 'you', 'alert', 'and', 'ready', 'for', 'an', 'exam', '!!'], ['gapingangels', 'georgeous', 'georgeous', 'busty', 'blonde', 'drilled', 'in', 'all', 'her', 'aroused', 'holes', '!'], ['user', 'user', 'user', 'user', 'user', 'user', 'nice', 'what', 'you', 'cooking', 'me'], [\"munro's\", 'facial', 'expression', 'is', 'my', 'facial', 'expression', 'right', 'now', 'but', \"i'm\", 'giving', 'up', 'on'], ['user', 'tamir', 'knows', 'mike', 'brown', 'raised', 'his', 'hands', 'and', 'was', 'shot', 'dead', 'he', 'wanted', 'cops', 'to', 'see', 'he', 'had', 'a', 'bb', 'gun', 'and', 'was', 'still', 'shot', 'dead'], ['sagittarius', 'know', 'what', 'they', 'want', 'if', 'they', 'can', 'have', 'it', 'and', 'they', 'always', 'keep', 'on', 'thinking', 'bigger'], ['user', 'there', 'is', 'no', 'way', 'you', 'could', 'mean', 'that', 'no', 'track', 'record', 'whatsoever'], ['how', 'does', 'bigdata', 'and', 'analytics', 'look', 'compared', 'to', 'the', 'cynefin', 'cause', 'effect', 'decision', 'framework', '?'], ['soooo', 'deep', 'narrowminds', 'stopwatchingthenews', 'andstoppreachingoffyoutube'], [\"she's\", 'in', 'malawi', 'and', \"i'm\", 'stuck', 'in', 'joburg', 'fair'], ['but', 'of', 'course', 'lucky13', 'myloves', 'sundayfunday', 'lastsunday2014'], ['the', 'american', 'justice', 'system'], ['down', 'or', 'not', 'is', 'down', 'right', 'now', \"that's\", 'for', 'ya'], ['ebola', 'racism', 'racepimps', 'jessejackson', 'doctors', 'tcot', 'pjnet', 'ccot', 'pjtv', 'tea'], ['user', 'because', \"it's\", 'much', 'more', 'important', 'to', 'unilaterally', 'remove', 'restrictions', 'on', 'oil', 'and', 'gas', 'sector'], ['celtics', 'rt', 'user', 'jameer', 'nelson', 'will', 'start', 'in', 'his', 'return', 'to', 'orlando', 'tonight', 'marcus', 'smart', 'will', 'come', 'off', 'the', 'bench'], ['user', 'but', 'if', 'we', 'all', 'hold', 'hands', 'and', 'sing', 'kumbaya', 'they', \"won't\", 'hate', 'us', '!'], ['user', 'thei', 'rights', 'to', 'protest', 'ends', 'where', 'my', 'fundamental', 'rights', 'begin', 'they', 'cannot', 'take', 'my', 'right', 'of', 'earning', 'livelihood', 'and', 'free', 'movement'], ['no', 'response', 'always', 'seems', 'to', 'attract', 'response', 'the', '!', 'aintnobodygottimeforthat'], ['user', 'you', 'were', 'my', 'cup', 'of', 'tea', 'but', 'you', 'were', 'a', 'total', 'ass', 'so', 'i', 'switched', 'to', 'coffee'], ['user', 'user', 'years', 'ago', 'in', 'm', '&&', 's', 'in', 'rochdale', 'they', 'had', '2', 'left', 'shoes', 'on', 'sale', 'with', 'a', '5', 'reduction', 'from', 'full', 'price', '!', 'bargain'], ['hmmm', 'what', 'to', 'have', 'for', 'dinner'], ['user', 'no', 'im', 'not', 'mate', 'yea', 'good', 'pretty', 'much', 'there', 'so', 'shud', 'b', 'gd', 'nxt', 'week', 'bit', 'sore', 'to', 'kneel', 'down', 'still', 'and', 'twinges', 'sumtimes', 'but', 'ok'], ['14', 'units', 'next', 'semester', 'plus', 'work', 'yes', 'so', 'excited', 'for', 'that', '!!!'], ['user', 'loving', 'how', 'fulham', 'looks', 'like', 'a', 'playoff', 'team', 'notreally'], ['user', 'user', 'but', '7', 'at', 'a', 'big', 'guy', 'like', 'sephora', 'or', 'jcpenny', 'is', 'killer', '!'], ['user', 'the', 'word', 'itself', 'is', 'a', 'mockery', 'bae', 'like', 'abey'], ['my', 'current', 'christmas', 'song', 'obsession', 'played', 'it', 'non-stop', 'all', 'weekend', 'via', 'user'], ['user', 'user', 'thats', 'quite', 'an', 'interesting', 'number', 'coz', 'i', 'managed', 'to', 'read', 'only', '17', 'but', 'i', 'will', 'surely', 'make', 'it', 'in', '2015'], ['8ams', 'are', 'just', 'so', 'lovely'], ['she', 'did', 'two', 'marijuanas', 'and', 'look', 'what', 'happened', \"don't\", 'legalizeit', 'merica'], ['if', 'someone', 'could', 'come', 'give', 'me', 'a', 'massage', 'that', 'would', 'be', 'gr8'], ['tryna', 'learn', 'to', 'skate', 'tonight', '!', 'pennyboard', 'skate'], ['lol', 'actually', 'all', '3', 'are', 'but', 'i', 'use', '1', 'just', 'for', 'email', 'user', 'user', 'user', 'user', 'user'], ['photo', 'dance', 'icon', 'sports', 'bra', 'shorts', 'bikini', 'lingerie', 'one', 'size', '20', '00', 'leave', 'email', 'for', 'invoice'], ['friday', 'hilarity', 'the', 'cso', 'of', 'sony', 'just', 'picked', 'up', 'a', 'user', 'award', 'for', 'security', 'sonyhack'], ['user', 'user', 'i', 'love', 'how', 'jojo', 'has', 'kept', 'it', 'classy'], ['sanjay', 'dutt', 'asks', 'for', 'parole', 'to', 'meet', 'his', 'wife', 'whereas', 'other', 'husbands', 'want', 'parole', 'from', 'their', 'wives', 'but', 'there', 'no', 'body', 'exist', 'to', 'grant', 'it'], ['i', 'can', 'already', 'tell', 'today', 'is', 'going', 'to', 'be', 'a', 'wonderful', 'day'], ['notcias', 'eu', 'europ', 'how', 'santa', 'juncker', 'can', 'bring', 'the', 'gift', 'of', 'a', 'healthier', 'eu'], ['hahahaha', '!!', 'hypocrisy', 'mt', 'user', 'katie', 'hopkins', 'calls', 'russell', 'brand', 'a', 'bully'], [\"harry's\", 'literally', 'such', 'a', 'good', 'person', 'it', 'hurts', 'my', 'heart', 'bye', 'internationalharrystylesday'], ['be', 'blessed', 'friends', 'merry', 'christmas', 'to', 'all', '!'], ['user', 'who', 'said', 'that', 'retarded', 'nonsense', '?'], ['i', 'am', 'the', 'happiest', 'person', 'ever', 'when', 'user', 'wakes', 'me', 'up', 'in', 'the', 'morning', '!'], ['dear', 'usps', 'if', 'it', 'has', 'this', 'address', 'it', 'comes', 'here', 'no', 'matter', 'the', 'name', 'if', \"there's\", 'a', 'mistake', \"we'll\", 'fix', 'it', 'thanksfortheannoyingnote'], ['user', 'do', 'worry', \"they're\", 'percey', 'user', 'got', 'the', 'same', 'pair'], ['a', 'smile', 'is', 'a', 'smile', 'is', 'a', 'smile', 'is', 'a', 'smile', 'is', 'a', 'smile', 'is', 'a', 'million', 'people', 'staring', 'at', 'your', 'pissed', 'pants', 'manic', 'laughter', 'smile'], ['user', 'user', 'user', 'i', 'love', 'when', 'the', 'wilfully', 'ignorant', 'embraces', 'hate', 'and', 'still', 'think', 'they', 'hold', 'a', 'moral', 'high', 'ground'], [\"it's\", 'okay', 'you', 'know', 'playing', 'loud', 'music', 'during', 'quiet', 'hours', 'is', 'perfectly', 'fine', 'somepplhavetostudy'], ['is', 'holding', 'not', 'a', 'rule', 'anymore', '?'], ['yaaaayyy', \"valentine's\", 'day', 'stuff', 'is', 'out', 'already'], [\"ukraine's\", 'president', 'to', 'meet', 'russian', 'french', 'german', 'leaders', 'rules', 'out', 'offensive', 'via', 'user'], ['user', 'user', 'spoiled', 'rancid', 'food', 'and', 'guns', 'in', 'the', 'aisles', '?', 'rats', 'in', 'user', 'great', 'groceriesnotguns'], ['user', 'user', 'can', 'we', 'bring', 'back', 'youkilis', '?', 'remember', 'when', '30', 'year', 'old', 'youk', 'charged', 'mound', 'and', '19', 'year', 'old', 'porcello', 'dropped', 'him', '?', 'redsox'], ['of', 'course', \"i'm\", 'not', 'nervous', \"i'm\", 'hyperventilating', 'for', 'fun'], ['user', 'haha', 'go', 'to', 'icelands', 'x'], ['morelikes_app', 'necklace', 'sweet', 'you', 'running', 'inlove', 'iphoneonly', 'igers', 'russia', 'sm'], ['teenanalcasting', 'virgin', 'virgin', 'cute', 'teenage', 'virgin', 'playing', 'in', 'her', 'hotel', 'room', 'in', 'tight', 'blue', 'gstring', 'underwear', '!'], ['gotta', 'record', 'my', 'favorite', 'show', 'tamar', 'and', 'vince', 'season', 'finale', '!!!'], ['people', 'who', 'lie', 'to', 'me', 'really', 'help', 'with', 'my', 'trust', 'issues', 'twittereantaboutlife'], ['sorkin', 'identified', 'the', 'attack', 'on', 'free', 'speech', 'from', 'sony', 'hackers', 'before', 'attacking', 'the', 'media', 'for', 'publishing', 'the', 'leaks', 'sonyhack'], ['user', 'user', 'user', \"didn't\", 'you', 'know', 'that', 'they', 'removed', 'the', 'm16a3', 'because', 'it', 'was', 'overpowered', '?', 'o'], ['instacraze', 'addiction', 'at'], ['user', 'user', 'user', \"you're\", 'arguments', 'are', 'obviously', 'very', 'impacted', 'by', 'the', 'fact', 'this', 'family', 'were', 'tsi', 'in', 'appearance'], ['user', 'fading', 'the', 'public', \"doesn't\", 'just', 'apply', 'to', 'gambling', 'do', 'the', 'exact', 'opposite', 'of', 'user', 'and', \"you're\", 'in', 'good', 'shape'], ['double', 'dance', 'with', 'the', 'boys', 'is', 'what', 'makes', 'a', 'monday', 'worthwhile'], ['user', 'i', 'miss', 'seeing', 'your', 'face', 'and', 't-rex', 'hands', 'everyday', 'on', 'vlogmas', 'rexemoji'], ['user', 'so', 'happy', 'i', 'got', 'an', 'offer', 'from', 'trinity', 'laban', \"i'd\", 'take', 'greenwich', 'over', 'leeds', 'any', 'day', 'leeds', 'is', 'where', \"it's\", 'at'], [\"can't\", 'fck', 'with', 'you', 'hoe', 'an', \"i'm\", 'sorry'], ['user', 'we', 'study', 'hard', 'procrastinators'], ['ohio', 'state', 'putting', 'it', 'onwisconsin', 'no', 'match'], ['less', 'than', '5', 'hours', 'sleep', 'fantastic'], ['jimi', 'agbaje', 'is', 'a', 'fine', 'man', 'in', 'respect', 'to', 'public', 'service', 'what', 'notable', 'landmark', 'has', 'he', 'achieved', '?', 'tested', 'jimi'], ['i', 'feel', 'faint', 'after', 'chasing', 'a', 'whippet', 'and', 'lily', 'libby', 'gabby', 'millie', 'the', 'cats', 'who', 'were', 'playing', 'chase', 'in', 'the', 'garden', 'aintitfun', '!!', 'notfun'], ['digital', 'drumsticks', 'thanks', 'grandma', 'and', 'grandpa'], ['einstein', 'would', 'be', 'amused', 'about', 'strider', 'jumping', 'around', 'in', 'time'], ['i', 'love', 'seeing', 'what', 'you', 'guys', 'got'], ['bmw', 'i8', 'sexy', 'az', 'hell', 'but', 'too', 'slow', 'for', 'the', 'dinero', '12', '4', 'in', 'the', 'quarter', 'mile', 'slow', 'fan', 'of', 'the', 'design', 'feeling', 'the'], ['went', 'to', 'check', 'on', '10', 'cause', 'it', 'was', 'way', 'late', 'for', 'sleeping', 'and', 'bam', 'she', 'was', 'never', 'here', 'why', 'did', 'no1', 'find', 'it', 'important', 'to', 'tell', 'me', 'this', '???'], ['user', 'not', 'passing', 'judgment', 'been', 'in', 'many', 'binds', 'before', 'and', 'actually', 'love', 'the', 'creativity', 'vodka', 'is', 'a', 'versatile', 'liquor'], ['teenanalcasting', '2003', '2003', 'ford', 'f-150', 'xlt', 'mulberry', 'fl', '33860'], ['glad', 'user', 'is', 'excited', 'to', 'see', 'me'], ['user', 'if', 'user', 'exclude', 'bf3', 'maps', 'from', 'the', 'poll', 'i', 'am', 'going', 'to', 'riot', '!!', 'i', 'really', 'want', 'seine', 'crossing', 'back', 'i', 'would', 'pay', 'for', 'it', '!!'], ['why', 'does', 'my', 'tongue', 'feel', 'it', 'necessary', 'to', 'try', 'and', 'touch', 'the', 'high', 'speed', 'tool', 'my', 'dentist', 'has', 'put', 'in', 'my', 'mouth', '?'], ['knowledge', 'itself', \"doesn't\", 'mean', 'a', 'person', 'is', 'qualified', 'to', 'represent', 'a', 'religion', 'if', 'his', 'her', 'humanity', 'and', 'sanity', 'is', 'absent'], ['user', 'go', 'for', 'it', '20th', 'century', 'fox', 'copied', 'me', 'and', 'did', '21st', 'century', 'fox', 'after', 'all', 'i', 'hasten', 'to', 'add', 'very', 'unlitigiously', '!'], ['cleaning', 'up', 'spew', 'is', 'a', 'definite', 'highlight', 'of', 'my', 'job', '!!'], ['steveharvey', 'worships', 'obama', 'b', 'c', 'he', \"doesn't\", 'research', 'then', 'calls', 'every1', 'else', 'ignorant', 'fuck', 'this', 'guy', 'idiot'], ['user', 'women', 'say', '1', 'man', 'asltd', 'them', 'y', 'so', 'long', '2', 'say', 'sumtin', '?', 'and', 'the', 'young', '1s', 'where', 'the', 'parents', '?', 'hotel', 'wit', 'grn', 'ass', 'man', '?', 'smh'], ['we', 'want', 'turkey', '!!'], ['user', 'get', 'ready', 'for', 'another', 'one', 'on', 'saturday'], ['user', 'ohhh', 'i', \"don't\", 'know', 'about', 'that', '!', 'that', 'sounds', 'sooooo', 'interesting', '!'], ['user', \"i'm\", 'smarter', 'than', 'most', 'people', 'who', 'lie', 'to', 'me', 'i', 'have', 'fun', 'picking', 'the', 'holes', 'in', 'their', 'stories'], ['feels', 'so', 'good', '2', 'get', 'off', '2', 'have', '2', 'go', 'straight', '2', 'school', 'though'], ['user', 'doing', 'a', 'great', 'job', 'what', 'do', 'i', 'pay', 'my', 'extortionate', 'council', 'taxes', 'for', '?', 'disgrace', 'ongoingproblem'], ['sipping', 'a', 'chicken', 'cuppa', 'soup', 'and', 'watching', 'jezza', 'how', 'exciting'], ['true'], ['good', 'crowd', 'at', 'the', 'independence', 'bowl'], ['user', 'is', 'naughty', 'dog', 'going', 'to', 'be', 'there', '?', 'tga'], ['incredible', 'rt', 'user', 'the', 'red', 'sox', 'have', 'an', 'agreement', 'with', 'justin', 'masterson'], ['aw', 'i', 'love', 'it', 'when', 'my', 'boss', 'schedules', 'me', 'to', 'work', 'the', 'day', 'that', 'a', 'storm', 'comes', 'to', 'the', 'bay', 'area', '!!!!!!!!!!!!!!!!!!!'], ['lord', 'have', 'mercy', 'on', 'us', 'the', \"world's\", 'most', 'powerful', 'nation', 'is', 'ruled', 'by', 'two', 'families', 'bush', 'clinton', 'wasps', 'elxn2016'], ['then', 'that', 'means', 'it', 'has', 'to', 'be', 'square', 'to', 'him', 'user', 'user', 'user', 'user', 'user'], ['user', 'user', 'i', 'love', 'button', 'pushers', '!'], ['watching', 'bones', 'and', 'cradled', 'my', 'leg', 'when', 'i', 'saw', 'user', 'in', 'episode', 'about', 'chicken', 'tasteslikechicken', 'termite', 'thewalkingdead', 'user'], ['2', 'and', 'half', 'hour', 'walk', 'proud'], ['i', 'am', 'extremely', 'excited', 'to', 'know', 'what', 'reza', 'aslan', 'and', 'cj', 'werleman', 'think', 'about', 'what', 'happened', 'in', 'pakistan', 'peshawarattack'], ['user', 'thank', 'you', 'user', 'for', 'having', 'me', 'on', 'the', 'cover', 'of', 'the', 'feminism', 'issue', 'my', 'favourite', 'magazine', 'cover', 'ever', 'lorraineelle', 'x'], ['hahahhaha', 'that', 'really', 'made', 'me', 'jelouse'], ['i', 'just', 'love', 'eu', 'servers'], ['xmas', 'on', 'the', 'blog', 'feat', 'intimissimiofficial', 'and', 'user', 'read', 'our', 'story', 'and', 'share', 'the', 'love'], ['well', \"that's\", 'me', 'living', 'till', \"i'm\", '200yrs', 'old', '!!!', 'sarci', 'wit', 'low', 'constant'], ['she', 'heard', 'him', 'cry', 'and', 'his', 'little', 'fingers', 'and', 'toes', 'were', 'counted', 'and', 'mary', 'exclaimed', \"he's\", 'perfect', '!', 'oh', 'mary', 'you', 'so', 'cray', 'cray'], ['user', 'think', 'i', 'may', 'use', 'that', 'in', 'my', 'ads', '!'], ['user', \"what's\", 'with', 'the', 'ridiculous', 'hashtagging', '?', 'massive', 'twat'], ['seeing', 'user', 'on', 'saturday', 'whaddddddup', 'legend'], ['i', 'may', 'or', 'may', 'be', 'watching', 'rockos', 'modern', 'life', 'forevera90skid', 'imnotthewallabyiusedtobe'], ['happy', '2nd', 'anniversary', 'to', 'me', 'in', 'sgv', 'happy', 'ot', 'here', 'in', 'client', 'woohoo', 'i', 'loooooove', 'my', 'job', 'super', 'more', 'years', 'to', 'go', '!!!!!!!!!'], ['getting', 'ready', 'yesterday', 'christmaseve', 'lastnight'], ['user', 'no', 'voting', 'somebody', 'in', 'because', \"they're\", 'from', 'latvia', 'is', 'way', 'more', 'important', 'than', 'voting', 'for', 'the', 'best', 'players'], ['user', 'user', 'user', 'user', 'for', 'elrufai', 'he', 'represents', 'the', 'masses', 'so', 'it', 'is', 'our', 'victory'], ['being', 'publicly', 'called', 'a', 'heartless', 'arsehole', 'for', 'going', 'about', 'my', 'day', 'as', 'usual'], ['so', 'matt', 'and', 'natasha', 'are', 'having', 'sex', 'whatasuprise', 'whatelseisnew'], ['i', 'love', 'not', 'sleeping', \"it's\", 'the', 'best'], ['stop', 'living', 'like', 'a', 'king', \"you're\", 'not', 'one', 'so', 'using', 'this', 'in', 'real', 'life', 'exodusmovie'], ['user', \"i'm\", 'really', 'big', 'supporter', 'of', 'lawenforcement', 'like', 'sheriff', 'clarke', 'said', \"it's\", 'all', 'theatrics', 'ferguson', 'user'], ['country', 'music', 'and', 'photo', 'editing', 'my', 'type', 'of', 'morning'], ['cocktails', 'tonight', 'yep', 'why', 'not', '!', 'had', 'one', 'in', 'over', 'a', 'year', '!', '!'], ['user', 'if', 'you', \"don't\", 'want', 'to', 'upgrade', 'your', 'ios', 'or', 'keep', 'many', 'pictures', 'yeah', \"it's\", 'great'], ['coffee', 'and', 'fiber', 'one', \"it's\", 'worth', 'getting', 'up', 'for'], ['the', 'silence', 'in', 'timessquare', 'for', 'ericgarner', 'last', 'night', 'is', 'only', 'broken', 'by', 'nypd', 'siren', 'watch', 'on', 'ifussss', 'app'], ['she', 'can', 'get', 'it', 'raw', '!!!'], ['found', 'out', 'the', 'reason', 'that', 'weekend', 'closer', 'makes', 'my', 'life', 'miserable', 'is', 'because', \"i'm\", 'atheist', 'hypocrite', 'atheistproblems', 'serverproblems'], ['that', 'is', 'the', 'face', 'of', 'a', 'tired', 'man', 'hahahahah'], ['user', 'i', 'thought', 'it', 'funny', 'p'], ['there', 'are', 'things', 'we', 'are', 'made', 'to', 'go', 'through', 'to', 'harm', 'us', 'but', 'to', 'given', 'us', 'a', 'lesson', 'to', 'teach', 'to', 'someone', 'weaker'], ['in', 'other', 'news', 'i', 'havent', 'had', 'a', 'good', 'nights', 'sleep', 'in', 'a', 'week', 'i', 'feel', 'great'], ['sarcasm', 'incoming', 'this', 'weekend', 'is', 'going', 'to', 'be', 'such', 'a', 'great', 'time', 'being', 'grounded', 'with', 'nothing', 'to', 'do', 'but', 'homework', 'gunna', 'have', 'a', 'blast', '!'], ['lol', 'boy', 'i', 'just', 'wanted', 'a', 'fuck', 'not', 'a', 'relationship', 'trying', 'to', 'sound', 'like', 'a', 'hoe'], ['final', 'at', '7am', \"i'm\", 'ready'], ['wearing', 'my', 'user', 'rangers', 'shirt', 'flipping', 'off', 'a', 'crowd', 'in', 'his', 'hometown', 'of', 'boston', 'so', 'much'], ['ed', 'sheeran', 'smashing', 'out', 'his', 'tunes', 'on', 'the', \"victoria's\", 'secret', 'catwalk', 'ginger', 'legend', '!'], [\"you're\", 'any', 'moment', 'every', 'second', 'every', 'scent', 'and', 'every', 'flower', 'as', 'a', 'girl'], [\"it's\", 'the', 'crackhead', 'uncle', 'of', 'the', 'hbcu', 'family', '_kkoolpointz_', 'every', 'hbcu', 'in', 'alabama', 'looks', 'at', 'alabama', 'state', 'sideways', 'lmao', '!'], ['user', 'user', 'yeah', \"i'm\", 'avoiding', 'you', 'by', 'waking', 'up', 'at', '6', 'am', 'my', 'time', 'so', 'by', '10', 'pm', \"i'm\", 'exhausted', 'sucksimissedyou', '3'], ['watch', 'amazing', 'race', 'contestant', 'talk', 'juicy', '!'], ['love', 'being', 'able', 'to', 'be', 'comfortable', 'in', 'my', 'own', 'room'], ['sometimes', 'i', 'wonder', 'am', 'i', 'the', 'mouse', 'or', 'am', 'i', 'the', 'experimenter', '?'], ['a', 'day', 'where', 'ruled', 'user', 'i', 'got', 'followed', 'by', 'user', 'wht', 'a', 'day', '!!', 'lollllll'], ['oh', 'how', 'i', 'love', 'fainting', 'randomly'], ['so', 'glad', \"they've\", 'found', 'a', 'way', 'to', 'make', 'the', 'gospel', 'socially', 'relevant', 'to', 'klingons', '!'], ['i', 'promote', 'edm', 'why', 'would', 'i', 'add', 'jazz', '?', 'some', 'ppl', 'will', 'do', 'anything', '2b', 'popular', 'soobvious', 'wtf', 'attentionwhore', 'keepitreal'], ['user', 'yeah', 'i', 'did', 'because', 'it', \"didn't\", 'show', 'the', 'convo', 'and', 'stuff', 'was', 'gonna', 'text', 'it', 'you', 'but', 'no'], ['not', 'felt', 'this', \"i'll\", 'since', 'i', 'was', 'in', 'kos', '!', 'eugh', 'a', 'great', 'end', 'to', 'a', 'great', 'week', 'beenshite', 'killme'], ['azealia', 'banks', 'call', 'iggy', 'igloo', 'australian', 'wooow', 'an', 'incredible', 'rapper', 'diss', 'another', 'one'], ['there', 'is', 'nothing', 'i', 'love', 'more', 'than', 'listening', 'to', 'the', 'black', 'eyed', 'peas', 'on', 'the', 'way', 'home', 'from', 'a', 'saturday', 'night', 'loss', 'in', 'petrolia', 'killerband'], ['user', 'all', 'u', 'can', 'do', 'beautiful', 'is', 'your', 'best', 'winning', 'is', 'important', 'taking', 'part', 'and', 'having', 'fun', 'is', 'what', \"matter's\"], ['i', 'think', 'i', 'might', 'be', 'an', 'artist', 'flowers', 'pretty', 'love', 'beautiful', 'painting', 'art', 'nature', 'lchs'], ['user', 'what', 'for', '?', 'waste', 'of', 'time'], ['at', 'least', \"i've\", 'got', 'spine', 'cause', 'i', 'can', 'feel', 'the', 'pain', 'in', 'my', 'back', 'thinkpositive'], ['user', 'anytime', '!', 'cash', 'is', 'acceptable', 'every', 'where', 'and', 'can', 'be', 'used', 'toward', 'whatever', 'they', 'want', 'need'], [\"it's\", 'funny', 'because', 'your', 'a', 'fake', 'ass', 'bitch', 'youratruefriendtoher'], ['so', 'far', 'today', 'i', 'burned', 'my', 'tongue', 'on', 'my', 'coffee', 'saw', 'a', 'dead', 'guy', 'on', 'the', 'freeway', 'and', 'chipped', 'the', 'windshield', 'in', 'the', 'truck', 'gonnahaveagoodday'], ['i', 'love', 'my', 'mom'], ['user', \"he's\", 'just', 'trying', 'to', 'drive', \"suh's\", 'price', 'up'], ['user', 'user', \"it's\", 'ok', 'kev', \"gurney's\", 'bowling', 'the', 'next', 'over'], ['user', 'user', 'do', 'you', 'wanna', 'cry', '?', \"that's\", 'how', 'you', 'cry', 'omg'], ['i', 'picked', 'a', 'great', 'night', 'to', 'not', 'want', 'to', 'sleep'], ['but', 'hey', '1', 'study', 'guide', 'for', 'chemistry', 'down', '5', 'to', 'go'], ['user', 'nah', 'dude', 'my', 'buddy', 'puked', 'all', 'over', 'steak', 'and', 'shake'], ['user', 'ooooo', 'touching', 'myself', 'to', 'odb', 'he', 'is', 'the', 'greatest', 'giants', 'player', 'to', 'ever', 'play', 'the', 'game', 'screw', 'that', 'the', 'best', 'player', 'ever', '!!'], ['might', 'go', 'back', 'to', 'bed', \"it's\", 'easier', 'then', 'making', 'the', 'effort', 'user', 'wrong'], ['ahhh', 'winner', 'and', 'epik', 'high', '2014mama'], ['babysitting', 'night', '!', 'hoping', 'my', 'car', \"doesn't\", 'get', 'towed', 'bc', 'idk', 'where', 'to', 'park'], ['i', 'have', 'to', 'leave', 'for', 'school', 'at', '9am', 'and', \"i'm\", 'still', 'in', 'bed', 'fucktherain', 'wherearemyhunters', 'imgonnalooksocutetoday'], ['3', 'hours', 'of', 'sleep', 'is', 'sufficient', 'to', 'tackle', 'this', 'day', 'timezoneproblems'], ['day', '3', 'sun', 'but', \"it's\", 'not', 'sunny', 'today', 'decemberphotochallenge', 'france', 'sun', 'or', 'today', 'day3'], ['so', 'this', 'week', 'is', 'just', 'getting', 'better', 'and', 'better'], [\"grandma's\", 'coming', 'over', 'yay', 'money', 'lol', 'kidding'], ['s', 'o', 'to', 'the', 'bengals', 'for', 'sucking', 'it', 'up', 'yesterday', 'totally', 'made', 'it', 'worth', 'me', 'staying', 'up', '24', 'hours', 'yesterday', 'and', 'coming', 'to', 'work', 'this', 'am'], ['hunger', 'has', 'vanished', 'from', 'our', 'affluent', 'even', 'overweight', 'society'], ['gripping', 'new', 'ebook', 'not', 'for', 'the', 'fainthearted', 'or', 'politically', 'correct', 'please', 'visit', 'site'], ['soon', 'stop', 'wtf', 'and', 'omg', 'are', 'deff', 'my', 'fav', 'things', 'to', 'hear'], ['25', 'historical', 'images', 'that', 'normalize', 'breastfeeding', 'via', 'user', \"we're\", 'so', 'more', 'tolerant', 'now'], ['crushes', 'are', 'great', 'until', 'you', 'realize', \"they'll\", 'never', 'be', 'interested', 'in', 'you', 'p'], [\"i'm\", 'so', 'glad', 'i', 'work', 'a', 'double', 'on', 'new', \"year's\", 'eve', 'and', 'then', 'most', 'of', 'new', \"year's\", 'day', 'pissed'], ['i', 'love', 'finals', 'week', '!', 'justkidding', 'stressed'], ['funny', 'annoying', 'you', \"men's\", 'tee', 'great', 'for', 'family', 'reunions', '!', 'funny', 'tees'], ['user', 'because', 'your', 'sarcastic', '?'], ['user', \"i'm\", 'not', 'a', 'lohan', 'anymore', 'detox', 'now', 'for', '4', 'weeks', 'new', 'me', '!', '1', 'week', 'tomorrow'], ['chasing', 'my', 'dog', 'though', 'the', 'house', 'fun'], ['huge', 'for', 'user', 'rt', 'user', 'congrats', 'to', \"today's\", '12daysofchristmassweaterscontest', 'winner', 'user'], ['they', \"don't\", 'even', 'listen', 'to', 'ur', 'order', 'talk', 'about', 'great', 'customer', 'service'], ['ah', 'user', 'soul', 'show', 'making', 'my', 'sunday', 'morning', 'at', 'work', 'more', 'bearable', 'cold', 'yet', 'happy'], [\"there's\", 'no', 'such', 'thing', 'as', 'too', 'much', 'ammo'], [\"it's\", 'the', 'most', 'wonderful', 'time', 'of', 'the', 'fiscal', 'year'], ['user', 'is', 'it', 'snowing', 'in', 'canada', '?', 'just', 'on', 'the', 'hills', 'here', 'at', 'the', 'minute', 'but', 'hoping', 'for', 'a', 'white', 'christmas'], ['how', 'badly', 'do', 'you', 'need', 'that', 'burrito', '?', \"that's\", 'sounds', 'naughty', 'burrito'], ['well', 'today', 'has', 'just', 'started', 'off', 'great'], ['i', 'love', 'being', 'on', 'hold', 'especially', 'when', 'the', 'music', 'is', 'so', 'great'], ['hit', 'them', 'angles', 'and', 'duck', 'face', 'to', 'hide', 'those', 'wrinkles', 'thatsabossbitchrightthere', '!!'], ['at', 'least', 'my', 'tan', 'looks', 'good', 'need', 'to', 'learn', 'to', 'appreciate', 'my', 'pale', 'skin'], ['user', 'user', 'i', \"won't\", 'be', 'pledging', 'anytime', 'soon', 'why', 'are', 'these', 'grown', 'women', 'competing', 'aka', 'vs', 'delta', 'crabs', 'in', 'a', 'barrel', 'sad'], ['getting', 'sick', 'just', 'in', 'time', 'for', 'finals', 'is', 'so', 'great'], ['thanks', 'for', 'clearing', 'everything', 'up', 'koenig', 'serialbrady'], ['just', 'received', 'an', 'email', 'that', 'i', 'am', 'the', 'heir', 'to', 'the', 'nigerian', 'petroleum', 'corporation', 'i', 'should', 'immediately', 'send', 'them', 'all', 'my', 'bank', 'info'], ['what', 'am', 'i', 'doing', 'with', 'my', 'life'], ['same', 'as', 'what', 'whoopi', 'said', 'about', 'rape', 'of', '13', 'yo', 'by', 'roman', 'polanski', 'not', 'rape', 'rape', 'b', 'c', 'she', 'was', 'drugged', 'via', 'user'], ['user', 'have', 'you', 'heard', 'back', 'yet', '?!'], ['oh', 'lord', '!', 'rt', 'user', 'rt', 'user', 'before', 'becoming', 'an', 'actor', 'tom', 'cruise', 'wanted', 'to', 'be', 'a', 'catholic', 'priest'], ['cc', 'user', 'my', 'last', 'tweet', \"wayne's\", 'world', 'is', 'a', 'great', 'movie'], ['lady', 'in', 'red', 'ootd', 'im', 'the', 'mom', 'the', 'godmother', 'lol', 'athenakairalyn', 'baptism', 'love'], ['to', 'have', 'a', 'highway', 'clean', 'up', 'section', 'of', 'highway', 'people', 'expressed', 'their', 'freedom', 'of', 'speech', 'user', 'user', 'user'], ['user', 'its', 'my', 'workhorse', 'practically', 'glued', 'to', 'my', 'hand'], ['user', 'user', 'i', 'bet', 'those', 'fairways', 'and', 'greens', 'rival', 'the', 'work', 'of', 'user'], ['comptroller', 'citibike', 'stations', 'bikes', 'being', 'properly', 'maintained', 'as', 'citibike', 'gears', 'up', 'to', 'expand', 'the'], ['is', 'when', 'someone', 'has', 'been', 'quite', 'vocal', 'against', 'liberals', 'but', 'at', 'the', 'same', 'time', 'supports', 'user'], ['and', 'he', 'takes', 'calls', 'when', 'his', 'phone', 'thing', 'works', 'user', 'user', 'user', 'user', 'user', 'user'], [\"it's\", 'so', 'much', 'fun', 'to', 'drive', 'a', 'front', 'wheel', 'drive', 'car', 'in', 'the', 'snow'], ['another', 'new', 'politician', 'in', 'the', 'state', 'with', 'a', 'social', 'science', 'degree', 'and', 'a', 'liberal', 'arts', 'diploma', 'just', 'what', 'we', 'need', 'greensfail'], ['getting', 'my', 'midterm', 'back', 'was', 'such', 'a', 'great', 'start', 'to', 'my', 'day', 'badday'], ['same', 'soundcloud', 'dl', 'follow', 'user', 'atl', 'consciousmusic'], ['looking', 'forward', 'to', 'mine', 'and', 'the', 'boyfriends', '2nd', 'christmas', 'together', '!!'], ['user', 'no', 'u', 'dnt', 'hav', 'to', 'bt', 'sme', 'ppl', 'do', 'evn', 'whn', 'they', 'do', 'shit', 'p'], ['user', 'user', 'user', 'first', 'line', 'is', 'correct', '!!', \"can't\", 'say', 'about', 'the', 'latter', 'one', '!!'], ['buzzing', 'for', 'school', 'on', 'monday'], ['fleury', 'with', '5', 'shut', 'outs', 'so', 'far', 'on', 'the', 'season', \"he's\", 'still', 'not', 'good', 'though'], ['wrapping', 'up', 'crotched', 'mountain', 'commercial', 'tonight', 'and', 'packing', 'everything', 'up', 'to', 'head', 'up', 'to', 'loon', 'mountain', 'resort'], ['tough', 'day', 'in', 'sun', 'kitsch', 'funny', 'costa', 'teguise', 'lanzarote'], ['michael', 'have', 'a', 'sexy', 'face', 'when', 'he', 'cough'], ['user', 'user', 'well', \"it's\", 'not', 'any', 'worse', 'or', 'better', 'than', 'stark', 'raving'], ['user', 'thanks', 'for', 'leaving', 'the', 'dish', 'for', 'us', 'badbusiness'], ['just', 'snap', 'chatting', 'my', 'sister', 'a', 'few', 'times', 'shelovesitwhenisendthatmany'], ['user', 'home', 'page', 'at', '8', '30am', 'shows', 'dow', '51', '44', 'but', \"it's\", '102', '75', 'can', 'you', 'make', 'your', 'home', 'page', 'stats', 'more', 'real-time', 'pls', '?'], ['photo', 'abstract', 'tribal', 'bubble', 'jumpsuit', 'size', 's-xl', 'cost', '39', '99'], ['rain', 'and', 'sleet', 'hun', '?', 'yeah', 'i', 'totally', 'want', 'to', 'get', 'dress', 'and', 'go', 'to', 'work', 'sounds', 'like', 'fun', 'iwannagobacktobed'], ['my', 'professors', 'moustache', 'is', 'so', 'uneven', 'mohstash', 'would', 'be', 'ashamed', 'right', 'now'], ['best', 'christmas', 'gift', 'user', 'new', 'album'], ['my', 'life', \"won't\", 'be', 'complete', 'until', 'i', 'meet', 'user'], ['if', 'this', 'year', 'wld', 'be', 'filled', 'w', 'all', 'these', 'rainy', 'days', 'it', 'wont', 'be', 'so', 'cool', 'a', 'cool', 'way', 'to', 'start', 'e', 'year'], ['well', \"that's\", 'my', 'becky', 'in', 'london', 'with', 'her', 'nan', 'an', 'the', 'big', 'girl', 'dan', 'too', 'start', 'her', 'new', 'job', 'tomorrow', 'feelingabandoned', 'haha'], ['user', 'me', 'and', 'change', 'were', 'not', 'friends', 'i', 'still', 'need', 'time'], ['small', 'amount', 'of', 'lads', 'with', 'birds', 'nests', 'for', 'hair', 'cuts', 'ha', '3allover'], ['rolls-royce', 'as', 'envisioned', 'by', 'the', 'wonderful', 'people', 'at', 'mansory', 'rollsroyce', 'purple', 'customcar'], ['user', 'well', 'what', 'can', 'i', 'say'], ['nosebleeds', 'in', 'the', 'morning', 'are', 'my', 'favorite'], ['the', \"world's\", 'biggest', 'online', 'job', 'click', 'and', 'get', 'started', 'now', '!'], ['user', 'funny', 'thing', 'is', 'now', \"she's\", 'a', 'security', 'guard', 'at', 'fed', 'ex', 'in', 'la', 'where', 'i', 'pick', 'up', 'all', 'the', 'time'], ['pretty', 'sure', \"there's\", 'a', 'satanic', 'baby', 'in', 'the', 'apartment', 'next', 'door', 'stays', 'howling', 'not', 'crying', 'howling', 'all', 'day', 'all', 'night', 'ugh', 'killmenow'], ['losing', 'the', 'keys', 'to', 'your', 'car', 'before', 'your', 'have', 'to', 'drive', 'yourself', 'to', 'the', 'airport', 'to', 'catch', 'a', 'flight', 'is', 'awesome'], ['casual', 'stroll', 'with', 'lauralobaugh', 'rochester', 'funinthesun', 'key', 'west', 'islands', 'florida', 'u', 's', 'a'], ['i', 'love', 'how', 'user', 'can', 'stay', 'up', 'and', 'tweet', 'but', \"can't\", 'stay', 'up', 'and', 'hang', 'out', 'with', 'me', '!', 'truebro'], ['got', 'up', 'early', 'to', 'get', 'the', 'earlier', 'bus', 'and', 'i', 'miss', 'it', '!!', 'now', 'i', 'have', 'to', 'wait', 'well', 'this', 'day', 'is', 'starting', 'off', 'wonderful'], ['that', 'moment', 'when', 'you', 'have', 'to', 'go', 'to', 'the', 'bathroom', 'but', 'the', 'cleaning', 'lady', 'is', 'in', 'there', 'stillholdingit'], ['user', 'shocking'], ['the', 'downside', 'to', 'working', 'in', 'fisheries', 'and', 'conservation', 'is', 'that', 'you', 'can', 'rarely', 'afford', 'the', 'cool', 'things', 'that', 'promote', 'your', 'job'], ['love', 'people', 'that', \"don't\", 'act', 'like', 'adults'], ['i', 'adapted', 'the', 'snoopy', 'comic', 'for', 'academic', 'paper', 'submission', 'p', 'reviewer', '2', 'is', 'the', 'stuff', 'of', 'nightmares', '!'], ['user', 'user', 'what', 'does', 'pti', 'do', 'apart', 'from', 'whining', '?', 'youthiacrasy'], ['still', 'wondering', 'why', 'the', 'pop-up', 'save', 'password', 'still', 'pops', 'up', 'even', 'when', 'you', 'do', 'not', 'tick', 'keep', 'logged', 'in', 'sarcastic'], ['and', 'with', 'this', 'revelation', 'the', 'african-american', \"community's\", 'faith', 'in', 'law', 'enforcement', 'skyrockets', '!'], ['user', 'at', '2', '30am', '?', \"who's\", 'gonna', 'favourite', 'it', '?', 'an', 'owl', '?'], ['user', 'i', 'have', 'a', 'boyfriend', '!', 'hair', 'flip', 'and', 'walks', 'away'], ['throwing', 'up', 'on', 'christmas', 'morning', 'is', 'my', 'ideal', 'way', 'of', 'spending', 'it'], [\"who's\", 'eating', 'everything', 'on', 'the', 'table', 'for', 'noche', 'buena', '?'], ['user', 'user', 'shit', '!', 'i', 'better', 'shut', 'my', 'stupid', 'girly', 'mouth', 'because', 'im', 'so', 'concerned', 'about', 'what', 'men', 'might', 'think', 'of', 'me'], ['this', 'team', 'from', 'covington', 'ky', 'pretty', 'much', 'sucks', 'gosteelers'], ['unless', \"he's\", 'changed', 'user', 'user', 'user', 'user', 'user', 'user', 'user', 'user'], ['velvet', 'and', 'rhinestones', 'babydoll', 'size', 'medium', 'and', 'large', 'comes', 'with', 'softly', 'padded', 'under', 'wired', 'shelf', 'cups'], ['politics', 'is', 'not', 'my', 'cup', 'of', 'tea', 'says', 'sonakshi', 'user', 'of', 'lingaa', 'fame', 'sonakshi', 'dad', 'shatru', 'is', 'our', 'top', 'bjp', 'leader'], ['user', 'i', \"don't\", 'believe', 'you', '!!!!'], ['user', '281', 'if', 'i', 'had', 'feelings', 'you', 'would', 'have', 'hurt', 'them'], ['user', 'well', 'people', 'did', 'ask', 'where', 'would', 'have', 'been', 'without', 'mccormack', 'and', 'here', 'we', 'are'], ['user', 'annnnddddddd', 'your', 'opinion', 'is', 'irrelevant'], ['user', 'user', 'trading', 'a', 'sp', 'for', 'a', 'defense-only', 'ss', '?', 'brilliant', 'trade'], ['saturday', 'selfies', 'miss', 'you', 'guys', 'user', 'user', 'jessica101xxx', 'mark8', 'kiss', 'each', 'and', 'one'], ['today', 'should', 'be', 'fun'], ['check', 'it', 'out', '!'], ['heh', 'and', 'fat', 'too', 'shotsfired'], ['two', 'broke', 'rednecks', 'father', 'daughter', 'riffing', 'team', 'who', 'make', 'fun', 'of', 'old', 'educational', 'films', 'n', 'more'], [\"i'm\", 'seeing', 'catfish', 'while', 'i', 'search', 'for', 'a', 'fishsitter', 'for', 'my', 'goldfish', 'lovelife'], ['user', 'and', 'we', 'know', 'abt', 'the', 'goal', 'that', 'never', 'crossed', 'the', 'line', 'holierthanthou', 'henryisalegend'], ['user', 'nice', 'we', 'make', 'it', 'in', 'a', 'pot', 'with', 'butter', 'and', 'himalayan', 'salt', 'sometimes', 'with', 'infused', 'salts', 'for', 'a', 'change'], ['user', 'user', 'here', 'we', 'are', 'all', 'alone', 'you', 'and', 'me', 'privacy', 'and', 'we', 'can', 'do', 'anything', 'your', 'fantasy', 'getmetoevc'], ['stop', 'subtweeting'], ['looking', 'forward', 'to', 'new', 'year', 'd'], ['i', 'just', 'found', 'out', 'i', 'have', 'a', '13th', 'grade', 'education', 'must', 'have', 'slept', 'through', 'that', 'entire', 'year'], ['user', 'gotta', 'love', 'how', 'honest', 'kids', 'are', 'saywhattheythink'], ['pain', 'is', 'inevitable', 'suffering', 'is', 'optional', 'anonymous'], ['read', 'at', 'the', 'news', 'middle', 'east', 'updates', 'assad', 'us-led', 'airstrikes', 'serious', 'or', 'efficient'], ['while', 'politicians', 'are', 'busy', 'in', 'scuffles', 'pakarmy', 'is', 'doing', 'their', 'job', 'yet', 'maligned', 'peaceful_h', 'salute', '2', 'pakarmy'], ['is', 'it', 'ironic', 'for', 'a', 'user', 'song', 'to', 'come', 'on', 'my', 'ipod', 'after', 'a', 'user', 'song', '?!', 'selenagomez', 'justinbeiber'], ['user', 'gg', 'for', 'giving', 'us', 'amazing', 'collections', 'for', '10', 'yrs', 'in', 'fact', 'i', 'was', 'planning', 'to', 'do', 'the', 'same', 'for', 'u', 'from', 'my', 'prospictive'], ['user', 'have', 'you', 'guys', 'tried', 'unplugging', 'the', 'servers', 'waiting', '10', 'seconds', 'and', 'plugging', 'them', 'back', 'in', '?', 'psndown'], [\"here's\", 'the', 'final', 'episode', 'of', 'minecraft', 'hardcore', 'survival', 'we', 'die', 'while', 'trying', 'to', 'get', 'a', 'sustainable', 'food', 'source'], ['user', \"what's\", 'the', 'opposite', 'of', 'a', 'cheat', 'day', 'called', '?', 'because', \"that's\", 'what', 'i', 'only', 'have', 'one', 'of', 'per', 'week', 'what', 'he', 'said'], ['user', 'thats', 'not', 'weird', 'at', 'all'], ['user', 'aww', 'you', 'poor', 'thing', 'i', 'feel', 'so', 'bad', 'for', 'you', 'being', 'in', 'sunny', 'florida', 'i', \"don't\", 'know', 'how', 'you', 'can', 'handle', 'it', '!'], ['just', 'realized', 'i', \"haven't\", 'watched', 'this', 'weeks', 'episode', 'of', 'degrassi', 'i', 'eventually', 'get', 'around', 'to', 'it'], ['kimk', 'dress', 'style', '!!!', 'user', 's', 'it', 'or', '?', 'balenciaga', 'kimkardashianwest', 'kimkardashian', 'vestito', 'moda', '2014', 'go'], ['when', 'singing', 'along', 'to', 'songs', 'in', 'korean', 'and', 'there', 'is', 'a', 'part', 'in', 'english', 'i', 'sing', 'it', 'with', 'a', 'korean', 'accent', 'why'], ['user', 'continuing', 'with', 'that', 'wonderful', 'customer', 'service', '?'], ['oh', 'hello', 'flu', '!', 'thank', 'you', 'for', 'fooling', 'me', 'in', 'thinking', 'you', 'were', 'gone', '!', 'i', 'missed', 'you', 'so', 'much', '!', 'flu', 'yaay'], ['last', 'day', 'of', 'classes', 'trill', 'except', 'finals', 'whoop'], [\"can't\", 'wait', 'for', 'the', '3', '30', 'hour', 'drive', 'back', 'home', 'betarocks15'], ['user', 'part', '2', 'article', 'uexpected'], ['user', 'great', 'christmas'], ['i', \"don't\", 'think', \"it's\", 'the', 'last', 'time', 'hobbit', 'onelasttime', 'cinema', 'ov', '3d', '48hfr'], ['well', 'if', \"it's\", 'not', 'one', 'thing', \"it's\", 'another', 'but', 'hey', 'why', 'not', 'a', 'like', 'new', 'exhaust', 'pissed', 'grrrr'], ['are', 'you', 'excited', 'for', 'the', 'new', 'blackberry', 'classic', 'smartphone', '?', 'check', 'out', 'this', 'article', 'by', 'user'], ['walking', 'in', 'this', 'was', 'fun'], ['user', 'user', 'for', 'the', 'masses', 'i', 'love', 'it'], ['image', 'via', 'we', 'heart', 'it', 'boy', 'funny', 'girl', 'k', 'mad', 'ok'], ['dear', 'dr', 'diaz', 'gravity', 'does', 'not', 'exist', 'einstein', 'got', 'it', 'wrong', 'i', 'wrote', 'a', 'book', 'explaining', 'my', 'theory', 'let', 'me', 'know', 'if', 'you', 'want', 'to', 'read', 'it'], ['user', 'i', \"don't\", 'think', 'your', 'caramel', 'frappe', 'is', 'salty', 'enough', 'mcyuck', 'lostsale'], ['sooo', 'mad', 'right', 'now', 'great', 'way', 'to', 'start', 'my', 'day'], [\"don't\", 'give', 'up', 'what', 'you', 'want', 'most', 'for', 'what', 'you', 'want', 'now', 'inspiration', 'motivationalquotes', 'startup'], ['minivan', 'mom', 'ebony', 'wilkerson', 'guilty', 'by', 'reason', 'of', 'insanity', 'judge', 'a', 'florida', 'judge', 'ruled', 'friday', 'that'], ['user', 'i', 'guess', 'the', 'picture', 'will', 'answer', 'it', 'still', 'answer', '7', 'above', 'and', 'beyond', 'quiksilvergoessupersonic'], ['happy', 'stfx', 'day', '!', 'lost', 'my', 'xring', 'in', '12', 'it', 'was', 'found', '2', \"mo's\", 'later', 'glistening', 'on', 'the', '18th', 'green', 'of', 'lost', 'creek', 'golf', 'club', 'xringmiracle'], ['miss', 'skateboarding', 'and', \"it's\", 'not', 'even', 'winter', 'yet', 'skateeverydamnday', 'hoof', 'life'], ['user', 'user', 'you', 'do', 'look', 'a', 'die', 'hard', 'fan', 'of', 'his'], ['chattyman', 'never', 'fails', 'to', 'make', 'me', 'laugh', 'user', '1', 'talk', 'show', 'on', 'tv', '!', 'loveit'], ['wait', 'for', 'it', 'city-data', 'will', 'become', 'a', 'fox', 'news', 'site', 'soon', 'user', 'user', 'user', 'user'], ['really', 'looked', 'forward', 'to', 'waking', 'up', 'this', 'early', 'for', 'finals'], ['turns', 'out', 'a', 'sausage', 'butty', 'from', 'burger', 'king', 'is', 'just', 'a', 'burger', 'really', 'enjoyed', 'eating', 'that', 'at', 'half', '8', 'in', 'the', 'morning', 'feelshit'], ['user', \"y'all\", 'are', 'doing', 'a', 'great', 'job', 'at', 'keeping', 'people', 'safe'], ['they', 'bombarded', 'out', 'country', 'immigration', 'user'], ['thank', 'god', 'that', 'the', 'wait', 'for', 'an', 'appointment', 'is', 'only', 'until', 'february'], ['sorry', 'this', \"doesn't\", 'make', 'any', 'sense', 'why', 'make', 'it', 'even', 'more', 'tough', '?', \"that's\", 'going', 'to', 'produce', 'more', 'players'], ['why', 'is', 'isis', 'an', 'acronym', 'for', 'words', 'in', 'english', '?'], ['user', \"it's\", 'been', 'over', 'a', 'year', 'since', 'you', 'tweeted', 'doinitright', 'maybenextyear', 'newyearsresolution'], ['user', 'shows', 'you', 'that', 'apc', 'is', 'a', 'free', 'and', 'fair', 'party', 'run', 'by', 'intellectuals', 'and', 'this', 'is', 'what', 'we', 'call', 'democracy', 'dictatorship'], ['its', 'so', 'hard', 'to', 'choose', 'between', 'the', 'pleasure', 'and', 'the', 'pain', 'girl', 'december', 'love', 'dream', 'strong'], [\"i'll\", 'go', 'to', 'hawaii', '!', 'bye', 'bye', 'my', 'friends', '!', \"i'll\", 'be', 'back', 'hawaii', 'trip', 'with', 'myfamiry', 'because', 'girlfriend'], ['user', 'absolutely', 'love', 'this', 'song', '!', 'cantstopsinging'], ['take', 'my', 'time', 'because', 'i', 'want', 'it', 'all', 'right', '?'], ['user', \"can't\", 'wait', 'to', 'play', 'the', 'bfhardline', 'beta', 'with', 'you', 'xd', 'epic'], ['left', 'my', 'lunch', 'at', 'home', 'swansea', 'canteen', 'outdoing', 'themselves', 'with', 'this', 'generous', 'and', 'well', 'priced', 'portion', 'of', 'food'], ['we', 'hold', 'these', 'kids', 'back', 'rut340'], [\"can't\", 'believe', 'ash', 'made', 'this', 'too', 'funny', 'tolo', 'never'], ['when', 'you', 'get', 'friendzoned', 'by', 'someone', 'you', 'trying', 'to', 'friendzone', 'sigh'], ['wow', '!!!', 'really', '???', 'homework', 'in', 'the', 'weekends', '?!', 'talkingabout', 'theteachers'], ['user', 'slaying', 'in', 'igloo', \"australia's\", 'home', 'country', 'lol', 'rt', 'user', 'nicki', 'is', 'slaying', 'new', 'zealand', '!'], ['i', 'love', 'waking', 'up', 'five', 'minutes', 'before', 'i', 'have', 'to', 'be', 'at', 'school'], ['falling', 'asleep', 'to', 'the', 'sound', 'of', 'rain', 'is', 'so', 'relaxing'], ['gotta', 'love', \"emc's\", 'latest', 'feature', 'on', 'the', 'vnx', 'side'], ['user', 'everyone', 'just', 'wants', 'to', 'be', 'you', 'your', 'just', 'sooooo', 'cool'], ['my', 'life', 'on', 'a', 'daily', 'basis', 'notreally', 'lcsbeauty', 'followme', 'lblogger'], ['user', 'the', 'good', 'old', 'days', '!'], ['user', 'tried', 'to', 'cut', 'and', 'paste', 'a', 'tweet', 'from', 'sa', 'mining', 'where', 'they', 'got', 'go', 'green', 'consulting', \"it's\", 'in', 'my', 'timeline'], ['is', 'not', 'lost', 'user', 'user', 'user'], ['shawn', 'still', \"hasn't\", 'follow', 'me', 'and', \"i'm\", 'okay', 'with', 'it'], ['gotta', 'go', 'home', 'and', 'cook', 'a', 'big', 'breakfast'], ['user', 'horrible', 'day', 'in', 'cambuslang', '!', 'very', 'christmasy'], ['and', 'then', 'today', 'was', 'what', 'a', 'surprise', '!', '2of6', '6daystretch'], ['off', 'to', 'search', 'for', 'a', 'christmas', 'gift', 'for', 'my', 'dad', 'bc', 'procrastination'], ['hashtags', 'are', 'great', 'idk', 'why', 'everyone', 'stopped', 'using', 'them', 'jk', 'bye'], ['user', 'i', 'infer', 'that', 'you', 'are', 'besmirching', 'coffee', 'but', 'that', \"can't\", 'be', 'right'], ['user', 'user', 'to', 'be', 'fair', 'he', 'looks', 'like', \"he's\", 'lost', 'a', 'lot', 'of', 'weight', 'since', 'his', 'amazingly', 'successful', 'halcyon', 'leeds', 'days', '!'], ['oldfriends', 'are', 'old', 'anymore'], ['canned', 'food', 'lot', 'of', 'space', 'interiordecor', 'please', 'rt'], ['there', 'is', 'only', '1', 'race', 'human', 'so', 'i', 'dont', 'look', 'at', 'things', 'by', 'the', 'myth', 'of', 'races', 'user', 'user'], ['i', 'now', 'have', 'zero', 'resect', 'for', 'demarcus', 'cousins'], ['the', 'city', 'that', 'only', 'sleeps', 'on', 'mass', 'transit', 'naptime', 'isntitironic', 'donchathink', 'imnotsure'], ['user', 'psa', 'hey', 'jay', 'i', 'tuned', 'in', 'when', 'u', 'said', 'why', 'all', 'the', 'cocaine', 'talk', 'today', 'after', 'tweeting', 'coke', 'joke', 'saw', \"it's\", \"escobar's\", '65th'], ['user', \"it's\", 'no', 'longer', 'political', 'barackobama', 'is', 'setting', 'the', 'stage', 'for', 'all', 'out', 'race', 'war', 'that', 'is', 'his', 'only', 'way', 'he', 'can', 'succeed'], ['they', 'thought', 'i', 'was', 'gone', '!', 'these', 'vegas', 'niggas', 'gone', 'respect', 'me', 'and', 'know', 'i', 'been', 'doing', 'this', 'shit', 'too', '!', 'and', 'i'], ['bit', 'chair', 'comfy', 'mind', 'nope', 'ikea', 'decor', 'please', 'rt'], ['user', 'this', 'made', 'me', 'think', 'of', 'you', 'tfln', '330', 'i', 'need', 'vodka', 'mixed', 'w', 'a', 'bit', 'of', 'holy', 'water', 'right', 'now'], ['user', 'clever', 'you', '!'], ['when', 'someone', 'who', 'is', 'extremely', 'selfish', 'dramatically', 'wonders', 'why', 'people', 'are', 'so', 'selfish', '!'], ['femalecondoms', 'herpes', 'is', 'curable', 'it', 'can', 'be', 'managed'], ['user', 'gun', 'laws', 'will', 'fix', 'everything'], ['sexist', 'article', 'in', 'the', 'daily', 'fail', 'about', 'men', 'wasting', 'money', 'on', 'cycling', 'accompanied', 'by', 'recommendation', 'for', 'a', 'handbag', 'costing', '999'], ['user', 'looking', 'great', 'today', 'diane', \"it's\", 'not', 'fair', \"you're\", 'not', 'on', 'more', 'enough', 'diane'], ['that', 'moment', 'when', 'babyboomer', 'next', 'to', 'you', 'philosophize', 'about', 'the', 'lacking', 'communication', 'skills', 'of', 'generationy', 'newwaytocommunicate'], ['user', 'user', 'user', 'user', 'tweeted', 'this', 'at', 'me', 'yesterday'], ['fears', 'for', 'female', 'saudi', 'activist', 'as', 'detention', 'for', 'driving', 'a', 'car', 'is', 'extended', 'via', 'user'], [\"i'm\", 'not', 'usually', 'a', 'fan', 'of', 'anything', 'pumpkin', 'or', 'pumpkinspiced', 'but', 'omg', 'these', 'are', 'the', 'best', 'cookies', \"i've\"], ['people', 'in', 'this', 'school', 'seem', 'to', 'amaze', 'me'], ['we', 'spend', 'our', 'childhood', 'in', 'a', 'hurry', 'to', 'grow', 'up', 'and', 'when', 'we', 'grow', 'up', 'we', 'want', 'to', 'retain', 'our', 'childlike', 'nature', '!', 'justsaying', 'lifegoals', 'kids'], ['user', \"that's\", '4', 'steps', 'but', 'i', 'can', 'dig', 'it'], ['user', \"there's\", 'no', 'personal', 'responsibility', 'anymore', 'you', \"can't\", 'expect', 'anyone', 'to', 'think'], ['nypost', 'cameron_gray', 'oh', 'that', 'makes', 'it', 'all', 'better', '!!!'], ['san', 'diego', 'is', 'amazing', 'and', \"i'm\", 'never', 'coming', 'home'], ['user', 'user', 'how', 'can', 'you', 'even', 'keep', 'up', 'with', 'all', 'this', 'great', 'music', '?!'], ['getting', 'my', 'shit', 'together', 'in', '2015', 'like', '2015isthenewturnup', 'myboos', 'funtimes', 'makingmemories'], ['wow', 'look', 'at', 'you', 'hotshot', 'isthatajoke'], ['user', 'definitely', 'consult', 'a', 'tax', 'professional', 'on', 'that', 'one'], ['what', 'a', 'joke', 'thanks', 'for', 'the', 'detailed', 'response', 'and', 'communication', 'with', 'your', 'customers', 'user', 'user'], ['oh', 'noes', '!', 'the', 'night', 'train', 'berlin-malmö', 'runs', 'only', 'during', 'summer', '!', 'and', 'me', 'who', 'was', 'planning', 'a', 'long', 'comfortable', 'train', 'trip'], ['when', 'j', 'need', 'the', 'mailman', 'to', 'come', 'late', \"he's\", 'here', 'at', '8a', 'when', 'i', \"can't\", 'wait', 'for', 'the', 'mail', 'to', 'come', '?', '7p'], [\"don't\", 'forget', 'the', 'true', 'meaning', 'of', 'christmas'], ['page', 'found', '404'], ['i', 'just', 'swallowed', 'my', 'giant', 'lozenge', 'now', 'my', 'throat', 'actually', 'hurts', \"i'm\", 'glad', 'i', 'have', 'twitter', 'to', 'share', 'my', 'despair', 'sick'], ['user', 'not', 'always', \"they've\", 'found', 'them', 'in', '500k', 'homes'], ['like', \"tyndall's\", 'system', 'i', 'just', 'think', 'robert', 'hubbs', 'should', 'play', 'more', 'he', 'gives', 'us', 'another', 'scorer', 'and', 'a', 'consistent', '3pt', 'shooter', 'that', 'our', 'o', 'needs'], ['good', 'news', '!', 'thanks', 'to', 'the', 'aca', 'my', 'husbands', 'insurance', 'premium', 'jumped', 'up', '971', '2', 'in', 'one', 'year', '!', 'hooray', '!', 'thanksobama'], ['i', 'miss', 'the', 'days', 'when', 'all', 'my', 'close', 'friends', 'lived', 'in', 'the', 'same', 'city'], ['what', 'do', 'you', 'call', 'a', 'chinese', 'millionaire', '?'], ['because', 'standing', 'by', 'a', 'board', 'about', 'dental', 'hygiene', 'for', 'two', 'hours', 'is', 'how', 'i', 'wanted', 'to', 'spend', 'my', 'birthday'], ['user', 'right', '!', 'clearly', 'the', 'po-po', 'has', 'been', 'playing', 'too', 'much', 'call', 'of', 'duty'], ['migrains', 'throwing', 'up', 'are', 'always', 'fun'], ['user', 'we', 'are', 'here', 'to', 'fight', 'endlessly', 'and', 'change', 'the', 'system', 'atleast', 'i', 'am', 'not', 'going', 'anywhere', 'irrespective', 'of', 'result', 'ak4delhi'], ['i', 'love', '14', 'hour', 'shifts'], [\"that's\", 'always', 'a', 'great', 'way', 'to', 'boost', 'self-esteem'], ['carbon', 'everywhere', 'carbon', 'hood', 'sticker', 'strips', 'down', 'red', 'automotive', 'dope', 'cars'], ['user', 'so', 'pissed', 'at', '2k', 'rn'], ['gotta', 'baps', 'that', 'hoe', 'thou'], ['dentists', 'oh', 'the', 'joy'], ['when', 'you', 'show', 'your', 'valid', '16-25', 'railcard', 'and', 'shes', 'charges', 'you', 'full', 'price', 'anyway', 'great', 'service', 'from', 'tamworth', 'user'], ['my', 'dove', 'wrapper', 'told', 'me', 'to', 'be', 'mischievous', 'so', 'if', 'anything', 'happens', \"that's\", 'my', 'extenuating', 'external', 'attribution', 'to', 'blame', 'psych'], ['tribute', 'to', 'a', 'brave', 'elephant', 'simply', 'defending', 'his', 'family'], ['user', 'user', 'there', 'are', 'more', 'lawful', 'ways', 'the', 'lawmakers', 'whould', 'av', 'gone', 'about', 'gaining', 'entrance', 'not', 'by', 'breaking', 'the', 'law', 'kind', 'of'], ['love', 'this', 'weather'], ['user', 'kohli', 'showing', 'all', 'the', 'guts', 'of', 'scooby', 'doo', 'captaincourageous'], ['user', 'i', \"don't\", 'like', 'yellow', 'but', 'most', 'of', 'my', 'things', 'are', 'yellow', 'hi', 'kapitana', '!!!', 'nagaaral', 'kmi', 'ni', 'user', 'asdfghjkl', 'huhuhu'], ['mid', 'speech', 'christmas', 'lacrosse', 'ball', 'flattering', 'grand', 'cafe'], [\"it's\", 'nice', 'to', 'see', 'continuity', 'in', 'our', 'gender', 'struggles'], ['i', 'just', 'love', 'when', 'you', 'test', 'my', 'patience', '!'], ['user', 'my', 'ex', \"husband's\", 'autopsy', 'report', 'from', 'the', 'coroner', 'took', 'ages', 'too', 'it', 'just', 'seems', 'to', 'be', 'the', 'slow', 'machinations', 'of', 'the', 'process'], ['the', 'secret', 'of', 'change', 'is', 'to', 'focus', 'all', 'your', 'energy', 'not', 'on', 'fighting', 'the', 'old', 'but', 'on', 'building', 'the', 'new', 'source', 'unknown', 'quotes', 'qvaw'], ['gotta', 'love', 'the', 'friends', 'i', 'have', 'out', 'here', 'hahahah', 'nosuchthing'], ['opec', 'chief', 'defends', 'policy', 'says', 'group', 'to', 'try', 'to', 'ride', 'out', 'price', 'fall', 'via', 'user'], ['taking', 'over', 'the', 'mansion', 'with', 'the', 'mexicans', 'user'], ['just', 'dropped', 'my', 'new', 'single', \"it's\", 'me', \"i'm\", 'single']]\n"
     ]
    }
   ],
   "source": [
    "# Ida changed the tweets to be tokenized to only be a fraction of the training set, then adding the total tokenization of the whole irony data further down\n",
    "irony_tester = train_irony[:1000]\n",
    "\n",
    "tokens = []\n",
    "tokens_list = []\n",
    "unmatches = []\n",
    "for tweet in list(irony_tester[\"tweets\"]):\n",
    "    tokenized = tokenize_meaning(tweet)\n",
    "    tokens_list.append(tokenized[2])\n",
    "    for token in tokenized[2]:\n",
    "        tokens.append(token)\n",
    "    for un in tokenized[1]:\n",
    "        unmatches.append(un)\n",
    "    #print(tweet)\n",
    "    #print(x[0])\n",
    "\n",
    "print(tokens_list)    "
   ]
  },
  {
   "cell_type": "markdown",
   "metadata": {
    "hidden": true
   },
   "source": [
    "### Comparison with baseline tokenizer"
   ]
  },
  {
   "cell_type": "markdown",
   "metadata": {
    "hidden": true
   },
   "source": [
    "To understand how general tokenizers work, and to figure out the quality of our own tokenizers, we wanted to compare our tokenizers with a baseline tokenisation tool. Here we use the social media tokeniser called TweetTokenizer from the nltk library: https://www.nltk.org/api/nltk.tokenize.html"
   ]
  },
  {
   "cell_type": "code",
   "execution_count": null,
   "metadata": {
    "hidden": true
   },
   "outputs": [],
   "source": [
    "tknzr = TweetTokenizer()"
   ]
  },
  {
   "cell_type": "code",
   "execution_count": null,
   "metadata": {
    "hidden": true,
    "scrolled": true,
    "tags": [
     "outputPrepend"
    ]
   },
   "outputs": [],
   "source": [
    "nltk_tokens = []\n",
    "nltk_list = []\n",
    "for tweet in list(train_irony[\"tweets\"]):\n",
    "    tokenized = tknzr.tokenize(tweet)\n",
    "    nltk_list.append(tokenized)\n",
    "    for token in tokenized:\n",
    "        nltk_tokens.append(token)\n",
    "print(nltk_list)"
   ]
  },
  {
   "cell_type": "markdown",
   "metadata": {
    "hidden": true
   },
   "source": [
    "To clearly see the differences between our own tokenizer and the baseline tokenizer, we use the difflib library. As an example we only look at the five first tweets. <br>\n",
    "\"+\" means that the word is present in the output from the baseline tokenizer but not in the output from our tokenizer <br>\n",
    "\"-\" mean that the word is not present in the output from the baseline tokenizer but it is in our tokenizer"
   ]
  },
  {
   "cell_type": "code",
   "execution_count": null,
   "metadata": {
    "hidden": true,
    "scrolled": true
   },
   "outputs": [],
   "source": [
    "for i in range(5):\n",
    "    #print(tokens_list[i])\n",
    "    #print(nltk_list[i])\n",
    "    for diff in dl.unified_diff(tokens_list[i], nltk_list[i]):\n",
    "        print(diff)"
   ]
  },
  {
   "cell_type": "markdown",
   "metadata": {
    "hidden": true
   },
   "source": [
    "## 2. Characterising Your Data\n",
    "Characterising the training sets of the <i>Irony Detection</i> and the <i>Stance Detection</i> in terms of elementary corpus statistics: <br>\n",
    "<ul>\n",
    "    <li>Corpus size, vocabulary size, type/token ration <br>\n",
    "            Frequent tokens, rare tokens </li><br>\n",
    "    <li>The corpus statistics correpondense with Zipf's law </li><br>\n",
    "    <li>Differences between the datasets of the Binary Task and Multiclass Task </li><br>\n",
    "</ul>"
   ]
  },
  {
   "cell_type": "markdown",
   "metadata": {
    "hidden": true
   },
   "source": [
    "### Functions"
   ]
  },
  {
   "cell_type": "code",
   "execution_count": null,
   "metadata": {
    "hidden": true
   },
   "outputs": [],
   "source": [
    "nltk_list[0]"
   ]
  },
  {
   "cell_type": "code",
   "execution_count": null,
   "metadata": {
    "hidden": true
   },
   "outputs": [],
   "source": [
    "def vocabulary(tokens):\n",
    "    vocabulary = pd.DataFrame()\n",
    "    vocabulary_counter = cl.Counter(tokens)\n",
    "    vocabulary[\"word\"] = vocabulary_counter.keys()\n",
    "    vocabulary[\"frequency\"] = vocabulary_counter.values()\n",
    "    vocabulary = vocabulary.sort_values(by = [\"frequency\"], ascending = False)\n",
    "    \n",
    "    return vocabulary"
   ]
  },
  {
   "cell_type": "markdown",
   "metadata": {
    "hidden": true
   },
   "source": [
    "### Irony\n",
    "##### Corpus, vocabulary and token-ratio"
   ]
  },
  {
   "cell_type": "markdown",
   "metadata": {
    "hidden": true
   },
   "source": [
    "Corpus size"
   ]
  },
  {
   "cell_type": "code",
   "execution_count": null,
   "metadata": {
    "hidden": true
   },
   "outputs": [],
   "source": [
    "!wc \"../datasets/irony/train_text.txt\"\n",
    "print(\"Number of lines, words and characters in the training text file for the binary class Irony. \\n\")\n",
    "\n",
    "!wc -l \"../datasets/irony/train_labels.txt\"\n",
    "print(\"Number of lines in the training label file for the binary class Irony.\")"
   ]
  },
  {
   "cell_type": "markdown",
   "metadata": {
    "hidden": true
   },
   "source": [
    "First tokenizing all the tweets in the <i>Irony</i> class (using tokenizer function from earlier), then creating the corresponding vocabulary (see under functions) and the token count."
   ]
  },
  {
   "cell_type": "code",
   "execution_count": null,
   "metadata": {
    "hidden": true
   },
   "outputs": [],
   "source": [
    "irony_tokens = []\n",
    "irony_tokens_list = []\n",
    "irony_unmatches = []\n",
    "\n",
    "for tweet in train_irony[\"tweets\"]:\n",
    "    tokenized = tokenize_meaning(tweet)\n",
    "    irony_tokens_list.append(tokenized[2])\n",
    "    for token in tokenized[2]:\n",
    "        irony_tokens.append(token)\n",
    "    for un in tokenized[1]:\n",
    "        irony_unmatches.append(un)"
   ]
  },
  {
   "cell_type": "code",
   "execution_count": null,
   "metadata": {
    "hidden": true
   },
   "outputs": [],
   "source": [
    "irony_vocabulary = vocabulary(irony_tokens)\n",
    "print(\"Number of tokens: \", sum(irony_vocabulary[\"frequency\"]))\n",
    "print(\"Number of unique tokens: \", len(irony_vocabulary[\"frequency\"]))\n",
    "irony_vocabulary"
   ]
  },
  {
   "cell_type": "markdown",
   "metadata": {
    "hidden": true
   },
   "source": [
    "Most frequent tokens in our vocabulary and their corresponding occurences."
   ]
  },
  {
   "cell_type": "code",
   "execution_count": null,
   "metadata": {
    "hidden": true
   },
   "outputs": [],
   "source": [
    "print(list(irony_vocabulary[\"word\"])[0:10])\n",
    "print(list(irony_vocabulary[\"frequency\"])[0:10])"
   ]
  },
  {
   "cell_type": "markdown",
   "metadata": {
    "hidden": true
   },
   "source": [
    "Amount of least occuring tokens and examples hereof."
   ]
  },
  {
   "cell_type": "code",
   "execution_count": null,
   "metadata": {
    "hidden": true
   },
   "outputs": [],
   "source": [
    "for i in range(1,11):\n",
    "    print(\"Amount of tokens occurring\", i,\"time(s):\", len(irony_vocabulary[irony_vocabulary[\"frequency\"] == i]))"
   ]
  },
  {
   "cell_type": "code",
   "execution_count": null,
   "metadata": {
    "hidden": true
   },
   "outputs": [],
   "source": [
    "for i in range(1, 6):\n",
    "    print(\"5 tokens occuring\", i, \"time(s) \\n\", irony_vocabulary[\"word\"][irony_vocabulary[\"frequency\"] == i][:5], \"\\n\")"
   ]
  },
  {
   "cell_type": "markdown",
   "metadata": {
    "hidden": true
   },
   "source": [
    "Accumulating the frequency for each word in the vocabulary dataframe."
   ]
  },
  {
   "cell_type": "code",
   "execution_count": null,
   "metadata": {
    "hidden": true
   },
   "outputs": [],
   "source": [
    "accu = []\n",
    "count = 0\n",
    "for i in range(len(irony_vocabulary[\"frequency\"])):\n",
    "    count = count + list(irony_vocabulary[\"frequency\"])[i]\n",
    "    accu.append(count/len(irony_tokens))\n",
    "    \n",
    "irony_vocabulary[\"cumulative_frequency\"] = accu"
   ]
  },
  {
   "cell_type": "code",
   "execution_count": null,
   "metadata": {
    "hidden": true
   },
   "outputs": [],
   "source": [
    "irony_vocabulary[\"rank\"] = [i+1 for i in range(len(irony_vocabulary[\"word\"]))]\n",
    "irony_vocabulary"
   ]
  },
  {
   "cell_type": "markdown",
   "metadata": {
    "hidden": true
   },
   "source": [
    "Plotting the cummulative count for each token."
   ]
  },
  {
   "cell_type": "code",
   "execution_count": null,
   "metadata": {
    "hidden": true
   },
   "outputs": [],
   "source": [
    "sns.scatterplot(x = irony_vocabulary[\"rank\"], y = irony_vocabulary[\"cumulative_frequency\"]);"
   ]
  },
  {
   "cell_type": "markdown",
   "metadata": {
    "hidden": true
   },
   "source": [
    "##### Illustration of Zipf's law <br>\n",
    "\"given some corpus of natural language utterances, the frequency of any word is inversely proportional to its rank in the frequency table. Thus the most frequent word will occur approximately twice as often as the second most frequent word, three times as often as the third most frequent word.\" https://en.wikipedia.org/wiki/Zipf%27s_law"
   ]
  },
  {
   "cell_type": "code",
   "execution_count": null,
   "metadata": {
    "hidden": true
   },
   "outputs": [],
   "source": [
    "#Log-log plot for Zipf's law\n",
    "irony_vocabulary[\"log_frequency\"] = np.log(irony_vocabulary[\"frequency\"])\n",
    "irony_vocabulary['log_rank'] = np.log(irony_vocabulary[\"rank\"])\n",
    "#vocabulary"
   ]
  },
  {
   "cell_type": "markdown",
   "metadata": {
    "hidden": true
   },
   "source": [
    "By plotting the log frequency and the log rank we see an almost linear relationship between the tokens."
   ]
  },
  {
   "cell_type": "code",
   "execution_count": null,
   "metadata": {
    "hidden": true
   },
   "outputs": [],
   "source": [
    "sns.scatterplot(data = irony_vocabulary, x = \"log_rank\", y = \"log_frequency\");"
   ]
  },
  {
   "cell_type": "markdown",
   "metadata": {
    "hidden": true
   },
   "source": [
    "##### N-Grams (work in progress (rasmus))"
   ]
  },
  {
   "cell_type": "code",
   "execution_count": null,
   "metadata": {
    "hidden": true
   },
   "outputs": [],
   "source": [
    "#bigrams\n",
    "ex2 = list(nltk.bigrams(pad_both_ends(irony_tokens_list[0], n = 2)))\n",
    "print(ex2)"
   ]
  },
  {
   "cell_type": "code",
   "execution_count": null,
   "metadata": {
    "hidden": true
   },
   "outputs": [],
   "source": [
    "#everygrams\n",
    "padded_bigrams = list(pad_both_ends(irony_tokens_list[0], n=2))\n",
    "ex2 = list(everygrams(padded_bigrams, max_len=2))\n",
    "ex3 = list(everygrams(padded_bigrams, max_len=3))\n",
    "print(ex2, \"\\n\")\n",
    "print(ex3)"
   ]
  },
  {
   "cell_type": "markdown",
   "metadata": {
    "hidden": true
   },
   "source": [
    "Training a ngram model with the created tokens and a degree of n."
   ]
  },
  {
   "cell_type": "code",
   "execution_count": null,
   "metadata": {
    "hidden": true
   },
   "outputs": [],
   "source": [
    "def train_ngram(listoflistoftokens, n):\n",
    "    train, vocab = padded_everygram_pipeline(n, listoflistoftokens)\n",
    "    lm = MLE(n)\n",
    "    lm.fit(train, vocab)\n",
    "    return lm"
   ]
  },
  {
   "cell_type": "code",
   "execution_count": null,
   "metadata": {
    "hidden": true
   },
   "outputs": [],
   "source": [
    "lm2 = train_ngram(irony_tokens_list, 2)\n",
    "lm3 = train_ngram(irony_tokens_list, 3)"
   ]
  },
  {
   "cell_type": "code",
   "execution_count": null,
   "metadata": {
    "hidden": true
   },
   "outputs": [],
   "source": [
    "for i in ex3:\n",
    "    print(i)\n",
    "    print(lm3.perplexity([i]))"
   ]
  },
  {
   "cell_type": "code",
   "execution_count": null,
   "metadata": {
    "hidden": true,
    "scrolled": true
   },
   "outputs": [],
   "source": [
    "for i in ex2:\n",
    "    print(i)\n",
    "    print(lm2.perplexity([i]))"
   ]
  },
  {
   "cell_type": "code",
   "execution_count": null,
   "metadata": {
    "hidden": true
   },
   "outputs": [],
   "source": [
    "print(lm2.generate(10))\n",
    "print(lm3.generate(10))"
   ]
  },
  {
   "cell_type": "code",
   "execution_count": null,
   "metadata": {
    "hidden": true
   },
   "outputs": [],
   "source": [
    "# Trying some Kneser Ney smoothing (not going well)\n",
    "from nltk.lm.smoothing import KneserNey\n",
    "from nltk.lm import NgramCounter\n",
    "from nltk.util import ngrams\n",
    "ls = [[1,2,3,4],[1,3,3,4]]\n",
    "mx = []\n",
    "[[mx.append(num) for num in line] for line in ls]\n",
    "print(mx)\n",
    "\n",
    "text_bigrams = []\n",
    "[[text_bigrams.append(ngrams(sent, 2)) for sent in line] for line in irony_tokens_list]\n",
    "#text_bigrams = [ngrams(sent, 2) for sent in irony_tokens_list[0]]\n",
    "text_unigrams = [ngrams(sent, 1) for sent in irony_tokens_list[0]]\n",
    "#ngram_counts = NgramCounter(text_bigrams + text_unigrams)\n",
    "ngram_counts = NgramCounter(text_bigrams)\n",
    "\n",
    "words = irony_tokens_list[0]\n",
    "from nltk.lm import Vocabulary\n",
    "vocab = Vocabulary(words, unk_cutoff=2)\n",
    "\n",
    "x = KneserNey(vocab, ngram_counts)\n",
    "x.alpha_gamma(\"ppl\", irony_tokens_list[0])"
   ]
  },
  {
   "cell_type": "code",
   "execution_count": null,
   "metadata": {
    "hidden": true
   },
   "outputs": [],
   "source": [
    "# Kneser Ney with nltk - Sabrina \n",
    "# is this the right tokenized dataset to be using: irony_tokens_list?\n",
    "trigrams = [ngrams(sent, 3) for sent in irony_tokens_list]\n",
    "fdist = FreqDist([item for l in trigrams for item in l])\n",
    "kneser_ney = nltk.KneserNeyProbDist(fdist)"
   ]
  },
  {
   "cell_type": "code",
   "execution_count": null,
   "metadata": {
    "hidden": true
   },
   "outputs": [],
   "source": [
    "fdist"
   ]
  },
  {
   "cell_type": "code",
   "execution_count": null,
   "metadata": {
    "hidden": true
   },
   "outputs": [],
   "source": [
    "kneser_ney.prob(('i', 'just', 'love'))"
   ]
  },
  {
   "cell_type": "markdown",
   "metadata": {
    "hidden": true
   },
   "source": [
    "### Stance: Abortion"
   ]
  },
  {
   "cell_type": "markdown",
   "metadata": {
    "hidden": true
   },
   "source": [
    "##### Corpus size, vocabulary and token-ratio\n",
    "Corpus size"
   ]
  },
  {
   "cell_type": "code",
   "execution_count": null,
   "metadata": {
    "hidden": true
   },
   "outputs": [],
   "source": [
    "!wc \"../datasets/stance/abortion/train_text.txt\"\n",
    "print(\"Number of lines, words and characters in the training text file for the multi class Stance: Abortion. \\n\")\n",
    "\n",
    "!wc -l \"../datasets/stance/abortion/train_labels.txt\"\n",
    "print(\"Number of lines in the training label file for the multi class Stance: Abortion.\")"
   ]
  },
  {
   "cell_type": "markdown",
   "metadata": {
    "hidden": true
   },
   "source": [
    "Tokenizing the tweets of the <i>Stance: Abortion</i> class and creating the corresponding vocabulary as well as the token count."
   ]
  },
  {
   "cell_type": "code",
   "execution_count": null,
   "metadata": {
    "hidden": true
   },
   "outputs": [],
   "source": [
    "abortion_tokens = []\n",
    "abortion_tokens_list = []\n",
    "abortion_unmatches = []\n",
    "\n",
    "for tweet in train_abortion[\"tweets\"]:\n",
    "    tokenized = tokenize_meaning(tweet)\n",
    "    abortion_tokens_list.append(tokenized[2])\n",
    "    for token in tokenized[2]:\n",
    "        abortion_tokens.append(token)\n",
    "    for un in tokenized[1]:\n",
    "        abortion_unmatches.append(un)"
   ]
  },
  {
   "cell_type": "code",
   "execution_count": null,
   "metadata": {
    "hidden": true
   },
   "outputs": [],
   "source": [
    "abortion_vocabulary = vocabulary(abortion_tokens)\n",
    "print(\"Number of tokens: \", sum(abortion_vocabulary[\"frequency\"]))\n",
    "print(\"Number of unique tokens: \", len(abortion_vocabulary[\"frequency\"]))"
   ]
  },
  {
   "cell_type": "markdown",
   "metadata": {
    "hidden": true
   },
   "source": [
    "Most frequent tokens and their corresponding count in the vocabulary for the <i> Stance: Abortion </i> class."
   ]
  },
  {
   "cell_type": "code",
   "execution_count": null,
   "metadata": {
    "hidden": true
   },
   "outputs": [],
   "source": [
    "print(list(abortion_vocabulary[\"word\"])[0:10])\n",
    "print(list(abortion_vocabulary[\"frequency\"])[0:10])"
   ]
  },
  {
   "cell_type": "markdown",
   "metadata": {
    "hidden": true
   },
   "source": [
    "Amount of least occuring tokens and examples hereof."
   ]
  },
  {
   "cell_type": "code",
   "execution_count": null,
   "metadata": {
    "hidden": true
   },
   "outputs": [],
   "source": [
    "for i in range(1,11):\n",
    "    print(\"Amount of tokens occurring\", i,\"times:\", len(abortion_vocabulary[abortion_vocabulary[\"frequency\"] == i]))"
   ]
  },
  {
   "cell_type": "code",
   "execution_count": null,
   "metadata": {
    "hidden": true
   },
   "outputs": [],
   "source": [
    "for i in range(1, 6):\n",
    "    print(\"5 tokens occuring\", i, \"times \\n\", abortion_vocabulary[\"word\"][abortion_vocabulary[\"frequency\"] == i][:5], \"\\n\")"
   ]
  },
  {
   "cell_type": "markdown",
   "metadata": {
    "hidden": true
   },
   "source": [
    "Accumulating the frequency for each word in the vocabulary dataframe."
   ]
  },
  {
   "cell_type": "code",
   "execution_count": null,
   "metadata": {
    "hidden": true
   },
   "outputs": [],
   "source": [
    "accu = []\n",
    "count = 0\n",
    "for i in range(len(abortion_vocabulary[\"frequency\"])):\n",
    "    count = count + list(abortion_vocabulary[\"frequency\"])[i]\n",
    "    accu.append(count/len(abortion_tokens))\n",
    "    \n",
    "abortion_vocabulary[\"cumulative_frequency\"] = accu"
   ]
  },
  {
   "cell_type": "code",
   "execution_count": null,
   "metadata": {
    "hidden": true
   },
   "outputs": [],
   "source": [
    "abortion_vocabulary[\"rank\"] = [i+1 for i in range(len(abortion_vocabulary[\"word\"]))]\n",
    "abortion_vocabulary"
   ]
  },
  {
   "cell_type": "markdown",
   "metadata": {
    "hidden": true
   },
   "source": [
    "Plotting the cummulative count for each word."
   ]
  },
  {
   "cell_type": "code",
   "execution_count": null,
   "metadata": {
    "hidden": true
   },
   "outputs": [],
   "source": [
    "sns.scatterplot(x = abortion_vocabulary[\"rank\"], y = abortion_vocabulary[\"cumulative_frequency\"]);"
   ]
  },
  {
   "cell_type": "markdown",
   "metadata": {
    "hidden": true
   },
   "source": [
    "### Stance: Atheism"
   ]
  },
  {
   "cell_type": "markdown",
   "metadata": {
    "hidden": true
   },
   "source": [
    "Corpus size"
   ]
  },
  {
   "cell_type": "code",
   "execution_count": null,
   "metadata": {
    "hidden": true
   },
   "outputs": [],
   "source": [
    "!wc \"../datasets/stance/atheism/train_text.txt\"\n",
    "print(\"Number of lines, words and characters in the training text file for the multi class Stance: atheism. \\n\")\n",
    "\n",
    "!wc -l \"../datasets/stance/atheism/train_labels.txt\"\n",
    "print(\"Number of lines in the training label file for the multi class Stance: atheism.\")"
   ]
  },
  {
   "cell_type": "markdown",
   "metadata": {
    "hidden": true
   },
   "source": [
    "Tokenizing the tweets of the <i>Stance: Atheism</i> class and creating the corresponding vocabulary as well as the token count."
   ]
  },
  {
   "cell_type": "code",
   "execution_count": null,
   "metadata": {
    "hidden": true
   },
   "outputs": [],
   "source": [
    "atheism_tokens = []\n",
    "atheism_tokens_list = []\n",
    "atheism_unmatches = []\n",
    "for tweet in train_atheism[\"tweets\"]:\n",
    "    tokenized = tokenize_meaning(tweet)\n",
    "    atheism_tokens_list.append(tokenized[2])\n",
    "    for token in tokenized[2]:\n",
    "        atheism_tokens.append(token)\n",
    "    for un in tokenized[1]:\n",
    "        atheism_unmatches.append(un)"
   ]
  },
  {
   "cell_type": "code",
   "execution_count": null,
   "metadata": {
    "hidden": true
   },
   "outputs": [],
   "source": [
    "atheism_vocabulary = vocabulary(atheism_tokens)\n",
    "print(\"Number of tokens: \", sum(atheism_vocabulary[\"frequency\"]))\n",
    "print(\"Number of unique tokens: \", len(atheism_vocabulary[\"frequency\"]))"
   ]
  },
  {
   "cell_type": "markdown",
   "metadata": {
    "hidden": true
   },
   "source": [
    "Most frequent tokens and their corresponding count in the vocabulary for the <i> Stance: Abortion </i> class."
   ]
  },
  {
   "cell_type": "code",
   "execution_count": null,
   "metadata": {
    "hidden": true
   },
   "outputs": [],
   "source": []
  },
  {
   "cell_type": "code",
   "execution_count": null,
   "metadata": {
    "hidden": true
   },
   "outputs": [],
   "source": []
  },
  {
   "cell_type": "markdown",
   "metadata": {
    "hidden": true
   },
   "source": [
    "### Stance: Climate"
   ]
  },
  {
   "cell_type": "markdown",
   "metadata": {
    "hidden": true
   },
   "source": [
    "Corpus size"
   ]
  },
  {
   "cell_type": "code",
   "execution_count": null,
   "metadata": {
    "hidden": true
   },
   "outputs": [],
   "source": [
    "!wc \"../datasets/stance/atheism/train_text.txt\"\n",
    "print(\"Number of lines, words and characters in the training text file for the multi class Stance: Atheism. \\n\")\n",
    "\n",
    "!wc -l \"../datasets/stance/atheism/train_labels.txt\"\n",
    "print(\"Number of lines in the training label file for the multi class Stance: Atheism.\")"
   ]
  },
  {
   "cell_type": "markdown",
   "metadata": {
    "hidden": true
   },
   "source": [
    "Tokenizing the tweets of the <i>Stance: Climate</i> class and creating the corresponding vocabulary as well as the token count."
   ]
  },
  {
   "cell_type": "code",
   "execution_count": null,
   "metadata": {
    "hidden": true
   },
   "outputs": [],
   "source": [
    "climate_tokens = []\n",
    "climate_tokens_list = []\n",
    "climate_unmatches = []\n",
    "for tweet in train_climate[\"tweets\"]:\n",
    "    tokenized = tokenize_meaning(tweet)\n",
    "    climate_tokens_list.append(tokenized[2])\n",
    "    for token in tokenized[2]:\n",
    "        climate_tokens.append(token)\n",
    "    for un in tokenized[1]:\n",
    "        climate_unmatches.append(un)"
   ]
  },
  {
   "cell_type": "code",
   "execution_count": null,
   "metadata": {
    "hidden": true
   },
   "outputs": [],
   "source": [
    "climate_vocabulary = vocabulary(climate_tokens)\n",
    "print(\"Number of tokens: \", sum(climate_vocabulary[\"frequency\"]))\n",
    "print(\"Number of unique tokens: \", len(climate_vocabulary[\"frequency\"]))"
   ]
  },
  {
   "cell_type": "markdown",
   "metadata": {
    "hidden": true
   },
   "source": [
    "Most frequent tokens and their corresponding count in the vocabulary for the <i> Stance: Abortion </i> class."
   ]
  },
  {
   "cell_type": "code",
   "execution_count": null,
   "metadata": {
    "hidden": true
   },
   "outputs": [],
   "source": []
  },
  {
   "cell_type": "code",
   "execution_count": null,
   "metadata": {
    "hidden": true
   },
   "outputs": [],
   "source": []
  },
  {
   "cell_type": "markdown",
   "metadata": {
    "hidden": true
   },
   "source": [
    "### Stance: Feminist"
   ]
  },
  {
   "cell_type": "markdown",
   "metadata": {
    "hidden": true
   },
   "source": [
    "Corpus size"
   ]
  },
  {
   "cell_type": "code",
   "execution_count": null,
   "metadata": {
    "hidden": true
   },
   "outputs": [],
   "source": [
    "!wc \"../datasets/stance/feminist/train_text.txt\"\n",
    "print(\"Number of lines, words and characters in the training text file for the multi class Stance: Feminist. \\n\")\n",
    "\n",
    "!wc -l \"../datasets/stance/feminist/train_labels.txt\"\n",
    "print(\"Number of lines in the training label file for the multi class Stance: Feminist.\")"
   ]
  },
  {
   "cell_type": "markdown",
   "metadata": {
    "hidden": true
   },
   "source": [
    "Tokenizing the tweets of the <i>Stance: Feminist</i> class and creating the corresponding vocabulary as well as the token count."
   ]
  },
  {
   "cell_type": "code",
   "execution_count": null,
   "metadata": {
    "hidden": true
   },
   "outputs": [],
   "source": [
    "feminist_tokens = []\n",
    "feminist_tokens_list = []\n",
    "feminist_unmatches = []\n",
    "for tweet in train_feminist[\"tweets\"]:\n",
    "    tokenized = tokenize_meaning(tweet)\n",
    "    feminist_tokens_list.append(tokenized[2])\n",
    "    for token in tokenized[2]:\n",
    "        feminist_tokens.append(token)\n",
    "    for un in tokenized[1]:\n",
    "        feminist_unmatches.append(un)"
   ]
  },
  {
   "cell_type": "code",
   "execution_count": null,
   "metadata": {
    "hidden": true
   },
   "outputs": [],
   "source": [
    "feminist_vocabulary = vocabulary(feminist_tokens)\n",
    "print(\"Number of tokens: \", sum(feminist_vocabulary[\"frequency\"]))\n",
    "print(\"Number of unique tokens: \", len(feminist_vocabulary[\"frequency\"]))"
   ]
  },
  {
   "cell_type": "markdown",
   "metadata": {
    "hidden": true
   },
   "source": [
    "Most frequent tokens and their corresponding count in the vocabulary for the <i> Stance: Abortion </i> class."
   ]
  },
  {
   "cell_type": "code",
   "execution_count": null,
   "metadata": {
    "hidden": true
   },
   "outputs": [],
   "source": []
  },
  {
   "cell_type": "markdown",
   "metadata": {
    "hidden": true
   },
   "source": [
    "### Stance: Hillary"
   ]
  },
  {
   "cell_type": "markdown",
   "metadata": {
    "hidden": true
   },
   "source": [
    "Corpus size"
   ]
  },
  {
   "cell_type": "code",
   "execution_count": null,
   "metadata": {
    "hidden": true
   },
   "outputs": [],
   "source": [
    "!wc \"../datasets/stance/hillary/train_text.txt\"\n",
    "print(\"Number of lines, words and characters in the training text file for the multi class Stance: Hillary. \\n\")\n",
    "\n",
    "!wc -l \"../datasets/stance/hillary/train_labels.txt\"\n",
    "print(\"Number of lines in the training label file for the multi class Stance: Hillary.\")"
   ]
  },
  {
   "cell_type": "markdown",
   "metadata": {
    "hidden": true
   },
   "source": [
    "Tokenizing the tweets of the <i>Stance: Hillary</i> class and creating the corresponding vocabulary as well as the token count."
   ]
  },
  {
   "cell_type": "code",
   "execution_count": null,
   "metadata": {
    "hidden": true
   },
   "outputs": [],
   "source": [
    "hillary_tokens = []\n",
    "hillary_tokens_list = []\n",
    "hillary_unmatches = []\n",
    "\n",
    "for tweet in train_hillary[\"tweets\"]:\n",
    "    tokenized = tokenize_meaning(tweet)\n",
    "    hillary_tokens_list.append(tokenized[2])\n",
    "    for token in tokenized[2]:\n",
    "        hillary_tokens.append(token)\n",
    "    for un in tokenized[1]:\n",
    "        hillary_unmatches.append(un)"
   ]
  },
  {
   "cell_type": "code",
   "execution_count": null,
   "metadata": {
    "hidden": true
   },
   "outputs": [],
   "source": [
    "hillary_vocabulary = vocabulary(hillary_tokens)\n",
    "print(\"Number of tokens: \", sum(hillary_vocabulary[\"frequency\"]))\n",
    "print(\"Number of unique tokens: \", len(hillary_vocabulary[\"frequency\"]))"
   ]
  },
  {
   "cell_type": "markdown",
   "metadata": {
    "hidden": true
   },
   "source": [
    "Most frequent tokens and their corresponding count in the vocabulary for the <i> Stance: Abortion </i> class."
   ]
  },
  {
   "cell_type": "markdown",
   "metadata": {
    "hidden": true
   },
   "source": [
    "### Comparing datasets"
   ]
  },
  {
   "cell_type": "code",
   "execution_count": null,
   "metadata": {
    "hidden": true
   },
   "outputs": [],
   "source": []
  },
  {
   "cell_type": "markdown",
   "metadata": {
    "hidden": true
   },
   "source": [
    "## 3. Manual Annotation and Inter-Annotator Agreement"
   ]
  },
  {
   "cell_type": "markdown",
   "metadata": {
    "hidden": true
   },
   "source": [
    "Need explanation about the NLTK AnnotationTask library we are using <br>\n",
    "Research paper fpr irony detection: https://www.aclweb.org/anthology/S18-1005.pdf\n",
    "Need brief explanation about the Brat Annotation we used https://core.ac.uk/download/pdf/74589284.pdf <br>\n",
    "Need brief explantion about the kappa and pi scores. See lecture 3 for Christans explanation or if you feel really pro read this https://www.aclweb.org/anthology/J08-4004.pdf <br>"
   ]
  },
  {
   "cell_type": "code",
   "execution_count": null,
   "metadata": {
    "hidden": true
   },
   "outputs": [],
   "source": [
    "#Individual scores (just here for fun)\n",
    "for name in MAA.columns:\n",
    "    score = 0\n",
    "    for i in range(len(MAA[name])):\n",
    "        if list(MAA[name])[i] == list(MAA[\"truth\"])[i]:\n",
    "            score += 1\n",
    "    print(name, score/120)"
   ]
  },
  {
   "cell_type": "code",
   "execution_count": null,
   "metadata": {
    "hidden": true
   },
   "outputs": [],
   "source": [
    "rasmus_labels = [(\"rasmus\", i, list(MAA[\"rasmus\"])[i]) for i in range(len(list(MAA[\"rasmus\"])))]\n",
    "sabrina_labels = [(\"sabrina\", i, list(MAA[\"sabrina\"])[i]) for i in range(len(list(MAA[\"sabrina\"])))]\n",
    "ruben_labels = [(\"ruben\", i, list(MAA[\"ruben\"])[i]) for i in range(len(list(MAA[\"ruben\"])))]\n",
    "ida_labels = [(\"ida\", i, list(MAA[\"ida\"])[i]) for i in range(len(list(MAA[\"ida\"])))]\n",
    "magnus_labels = [(\"magnus\", i, list(MAA[\"magnus\"])[i]) for i in range(len(list(MAA[\"magnus\"])))]\n",
    "truth_labes = [(\"truth\", i, list(MAA[\"truth\"])[i]) for i in range(len(list(MAA[\"truth\"])))]\n",
    "\n",
    "ls = []\n",
    "\n",
    "for i in range(len(rasmus_labels)):\n",
    "    ls.append(rasmus_labels[i])\n",
    "    ls.append(sabrina_labels[i])\n",
    "    ls.append(ruben_labels[i])\n",
    "    ls.append(ida_labels[i])\n",
    "    ls.append(magnus_labels[i])\n",
    "    #ls.append(truth_labels[i])"
   ]
  },
  {
   "cell_type": "code",
   "execution_count": null,
   "metadata": {
    "hidden": true
   },
   "outputs": [],
   "source": [
    "t = AnnotationTask(data=ls)\n",
    "print(\"Average correct guesses:\", t.avg_Ao())\n",
    "print(\"Pi score:\", t.pi())\n",
    "print(\"Kappa score:\", t.kappa())"
   ]
  },
  {
   "cell_type": "markdown",
   "metadata": {
    "hidden": true
   },
   "source": [
    "discuss what phenomena in the data caused the biggest problems for inter-annotator agreement."
   ]
  },
  {
   "cell_type": "code",
   "execution_count": null,
   "metadata": {
    "hidden": true
   },
   "outputs": [],
   "source": [
    "# https://scikit-learn.org/stable/modules/generated/sklearn.metrics.confusion_matrix.html\n",
    "\n",
    "y_true = MAA[\"truth\"]\n",
    "\n",
    "for name in MAA.columns:\n",
    "    print(name, \"\\n\", confusion_matrix(y_true, MAA[name]), \"\\n\")\n",
    "\n",
    "print(\"[[\"\"non-irony labelled non-irony - non-irony labelled irony\"\"]\", \"\\n\", \"[ irony labelled non-irony - irony labelled irony]]\")"
   ]
  },
  {
   "cell_type": "markdown",
   "metadata": {},
   "source": [
    "# 4. Automatic Prediction\n",
    "---"
   ]
  },
  {
   "cell_type": "markdown",
   "metadata": {},
   "source": [
    "This section is split into two parts, Binary Classification on Irony Dataset, and Multiclass-classification on the Stance Dataset. The muliticlass-classification is also split into two parts, doing classification on a sub-stance (Atheism) and classifying whether a tweet is a specific stance with a model trained on all of the different stances at the same time. "
   ]
  },
  {
   "cell_type": "markdown",
   "metadata": {
    "heading_collapsed": true
   },
   "source": [
    "## Binary Classification on Irony Dataset"
   ]
  },
  {
   "cell_type": "markdown",
   "metadata": {
    "hidden": true
   },
   "source": [
    "### Tokenizing data"
   ]
  },
  {
   "cell_type": "markdown",
   "metadata": {
    "hidden": true
   },
   "source": [
    "Using the tokenize_meaning function from earlier to tokenize the data and converting it to be a useable datatype."
   ]
  },
  {
   "cell_type": "code",
   "execution_count": 171,
   "metadata": {
    "hidden": true
   },
   "outputs": [],
   "source": [
    "def tokenizer(file_name):\n",
    "    with open(file_name, 'r', encoding=\"utf8\") as f:\n",
    "        data = f.read().split(\"\\n\")\n",
    "        corpus = []\n",
    "        for line in data:\n",
    "            ls = tokenize_meaning(line)\n",
    "            corpus.append(ls[0])\n",
    "        \n",
    "        if corpus[-1] == \"\":\n",
    "            return corpus[:-1]\n",
    "        \n",
    "        return corpus\n",
    "\n",
    "train_corpus = tokenizer(\"../datasets/irony/train_text.txt\")\n",
    "test_corpus = tokenizer(\"../datasets/irony/test_text.txt\")\n",
    "validation_corpus = tokenizer(\"../datasets/irony/val_text.txt\")"
   ]
  },
  {
   "cell_type": "markdown",
   "metadata": {
    "hidden": true
   },
   "source": [
    "### Loading the labels"
   ]
  },
  {
   "cell_type": "code",
   "execution_count": 172,
   "metadata": {
    "hidden": true
   },
   "outputs": [],
   "source": [
    "def y_data(location):\n",
    "    y_train = []\n",
    "    for i in open(location):\n",
    "        y_train.append(int(i.replace(\"\\n\",\"\")))\n",
    "    \n",
    "    return y_train\n",
    "\n",
    "y_train = y_data(\"../datasets/irony/train_labels.txt\")\n",
    "y_test = y_data(\"../datasets/irony/test_labels.txt\")\n",
    "y_val = y_data(\"../datasets/irony/val_labels.txt\")"
   ]
  },
  {
   "cell_type": "markdown",
   "metadata": {
    "hidden": true
   },
   "source": [
    "### Creating pipeline"
   ]
  },
  {
   "cell_type": "markdown",
   "metadata": {
    "hidden": true
   },
   "source": [
    "Creating the pipeline, to make it easier to preprocess, train/fit and predict on data. Having it be a function to reduce duplicate code."
   ]
  },
  {
   "cell_type": "code",
   "execution_count": 173,
   "metadata": {
    "hidden": true,
    "scrolled": true
   },
   "outputs": [],
   "source": [
    "def model_pipeline(model):\n",
    "    return Pipeline([('vect', CountVectorizer(preprocessor = lambda x: x, tokenizer = lambda x: x\n",
    "                                             ,token_pattern=None)\n",
    "                     ), ('tfidf', TfidfTransformer()\n",
    "                        ), ('clf', model)])"
   ]
  },
  {
   "cell_type": "markdown",
   "metadata": {
    "hidden": true
   },
   "source": [
    "### Baseline model"
   ]
  },
  {
   "cell_type": "markdown",
   "metadata": {
    "hidden": true
   },
   "source": [
    "Training our baseline model on our tokenized training corpus"
   ]
  },
  {
   "cell_type": "code",
   "execution_count": 174,
   "metadata": {
    "hidden": true
   },
   "outputs": [],
   "source": [
    "LR = model_pipeline(SGDClassifier(loss='log', random_state=42)).fit(train_corpus, y_train);"
   ]
  },
  {
   "cell_type": "markdown",
   "metadata": {
    "hidden": true
   },
   "source": [
    "An accuracy_score of 0.556 is not the best."
   ]
  },
  {
   "cell_type": "code",
   "execution_count": 175,
   "metadata": {
    "hidden": true
   },
   "outputs": [
    {
     "data": {
      "text/plain": [
       "0.556020942408377"
      ]
     },
     "execution_count": 175,
     "metadata": {},
     "output_type": "execute_result"
    }
   ],
   "source": [
    "predicted = LR.predict(validation_corpus)\n",
    "accuracy_score(predicted, y_val)"
   ]
  },
  {
   "cell_type": "markdown",
   "metadata": {
    "hidden": true
   },
   "source": [
    "### Classification models different models"
   ]
  },
  {
   "cell_type": "markdown",
   "metadata": {
    "hidden": true
   },
   "source": [
    "Training different classifying models without any special tuning to see which is the best in its simplest form."
   ]
  },
  {
   "cell_type": "code",
   "execution_count": 176,
   "metadata": {
    "hidden": true
   },
   "outputs": [],
   "source": [
    "KNN = model_pipeline(KNeighborsClassifier()).fit(train_corpus, y_train)\n",
    "DTC = model_pipeline(DecisionTreeClassifier(random_state=42)).fit(train_corpus, y_train)\n",
    "RFC = model_pipeline(RandomForestClassifier(random_state=42)).fit(train_corpus, y_train)\n",
    "SV  = model_pipeline(SVC(random_state=42)).fit(train_corpus, y_train)\n",
    "NB  = model_pipeline(MultinomialNB()).fit(train_corpus,y_train)"
   ]
  },
  {
   "cell_type": "markdown",
   "metadata": {
    "hidden": true
   },
   "source": [
    "#### Comparison"
   ]
  },
  {
   "cell_type": "code",
   "execution_count": 177,
   "metadata": {
    "hidden": true
   },
   "outputs": [],
   "source": [
    "modelsc = [LR, KNN, DTC, RFC, SV, NB]\n",
    "d = [\"LogisticRegression\",\n",
    "     \"KNearestNeighbor\",\n",
    "     \"DecisionTreeClassifier\",\n",
    "     \"RandomForestClassifier\",\n",
    "     \"SupportVectorClassifier\",\n",
    "     \"NaiveBayes\"]"
   ]
  },
  {
   "cell_type": "markdown",
   "metadata": {
    "hidden": true
   },
   "source": [
    "Finding the different metrics that is useable and gives insight into how good the specific model is. Here we mainly look at accuracy_score and f1 score since recall and precision can be \"gamed\" but they can not be gamed at the same time, thus using the f1 score gives credible insight into both recall and precision and thus an overall score for the performance of the model."
   ]
  },
  {
   "cell_type": "markdown",
   "metadata": {
    "hidden": true
   },
   "source": [
    "Accuracty is the proportion of elements classified correctly:\n",
    "\n",
    "$$Accuracy = \\frac{\\text{sum of diagonal}}{\\text{total sum}}$$\n",
    "\n",
    "Accuracy can be very misleading in unbalanced datasets."
   ]
  },
  {
   "cell_type": "markdown",
   "metadata": {
    "hidden": true
   },
   "source": [
    "Precision: Out of the examples we \\textbf{predicted to be} in a certain class, how many of them are correct?\n",
    "\n",
    "$$\n",
    "Precision=\\frac{\\text{single diagonal element}}{\\text{sum of a single column} }\n",
    "$$\n"
   ]
  },
  {
   "cell_type": "markdown",
   "metadata": {
    "hidden": true
   },
   "source": [
    "Recall: Out of the examples \\textbf{that actually belong} to a certain class, how many of them did we find?\n",
    "$$\n",
    "Recall = \\frac{\\text{single diagonal element}}{\\text{sum of a single row} }\n",
    "$$"
   ]
  },
  {
   "cell_type": "markdown",
   "metadata": {
    "hidden": true
   },
   "source": [
    "F-score: Harmonic mean of Precision and Recall\n",
    "\n",
    "$$\n",
    "F_{score} = 2 \\cdot \\frac{P\\cdot R}{P+R}\n",
    "$$"
   ]
  },
  {
   "cell_type": "code",
   "execution_count": 178,
   "metadata": {
    "hidden": true
   },
   "outputs": [
    {
     "name": "stdout",
     "output_type": "stream",
     "text": [
      "LogisticRegression: \n",
      "     - accuracy score:\t   0.556020942408377\n",
      "     - recall score: \t   0.6710526315789473\n",
      "     - precision score:\t   0.5275862068965518\n",
      "     - f1 score:\t   0.5907335907335908\n",
      "\n",
      "KNearestNeighbor: \n",
      "     - accuracy score:\t   0.5267015706806283\n",
      "     - recall score: \t   0.5504385964912281\n",
      "     - precision score:\t   0.5040160642570282\n",
      "     - f1 score:\t   0.5262054507337526\n",
      "\n",
      "DecisionTreeClassifier: \n",
      "     - accuracy score:\t   0.5403141361256545\n",
      "     - recall score: \t   0.5482456140350878\n",
      "     - precision score:\t   0.5175983436853002\n",
      "     - f1 score:\t   0.5324813631522897\n",
      "\n",
      "RandomForestClassifier: \n",
      "     - accuracy score:\t   0.574869109947644\n",
      "     - recall score: \t   0.543859649122807\n",
      "     - precision score:\t   0.5560538116591929\n",
      "     - f1 score:\t   0.5498891352549888\n",
      "\n",
      "SupportVectorClassifier: \n",
      "     - accuracy score:\t   0.5539267015706806\n",
      "     - recall score: \t   0.6271929824561403\n",
      "     - precision score:\t   0.5276752767527675\n",
      "     - f1 score:\t   0.5731462925851704\n",
      "\n",
      "NaiveBayes: \n",
      "     - accuracy score:\t   0.5193717277486911\n",
      "     - recall score: \t   0.8070175438596491\n",
      "     - precision score:\t   0.4979702300405954\n",
      "     - f1 score:\t   0.6158995815899582\n",
      "\n"
     ]
    }
   ],
   "source": [
    "for idx, model in enumerate(modelsc):\n",
    "    name = d[idx]\n",
    "    predict = model.predict(validation_corpus)\n",
    "    print(str(name) + \": \")\n",
    "    print(\"     - accuracy score:\\t   {}\"  .format(accuracy_score( y_val, predict)))\n",
    "    print(\"     - recall score: \\t   {}\"   .format(recall_score(   y_val, predict)))\n",
    "    print(\"     - precision score:\\t   {}\" .format(precision_score(y_val, predict)))\n",
    "    print(\"     - f1 score:\\t   {}\"        .format(f1_score(       y_val, predict)))\n",
    "    print()"
   ]
  },
  {
   "cell_type": "markdown",
   "metadata": {
    "hidden": true
   },
   "source": [
    "Now doing cross-validation on the validation dataset and taking the mean of the cross-validation-scores, we can find the overall best models for our task."
   ]
  },
  {
   "cell_type": "code",
   "execution_count": 179,
   "metadata": {
    "hidden": true
   },
   "outputs": [
    {
     "data": {
      "image/png": "[encoded data removed]",
      "text/plain": [
       "<Figure size 1440x576 with 1 Axes>"
      ]
     },
     "metadata": {
      "needs_background": "light"
     },
     "output_type": "display_data"
    }
   ],
   "source": [
    "import seaborn as sns\n",
    "\n",
    "r = pd.DataFrame(columns=[\"MODELS\",\"R2CV\"])\n",
    "for i, model in enumerate(modelsc):\n",
    "    name = d[i]\n",
    "    R2CV = cross_val_score(model,validation_corpus,y_val,cv=2).mean()\n",
    "    result = pd.DataFrame([[name,R2CV*100]],columns=[\"MODELS\",\"R2CV\"])\n",
    "    r = r.append(result)\n",
    "\n",
    "figure = plt.figure(figsize=(20,8))\n",
    "sns.barplot(x=\"R2CV\",y=\"MODELS\",data=r,color=\"k\")\n",
    "plt.xlabel(\"Cross Val Score\")\n",
    "plt.ylabel(\"MODELS\")\n",
    "plt.xlim(0,100)\n",
    "plt.title(\"MODEL ACCURACY COMPARISON\")\n",
    "plt.show()"
   ]
  },
  {
   "cell_type": "markdown",
   "metadata": {
    "hidden": true
   },
   "source": [
    "Here we see that none of our models perform particularly well, though we still have some models performing better than others."
   ]
  },
  {
   "cell_type": "markdown",
   "metadata": {
    "hidden": true
   },
   "source": [
    "#### Tuning the best models"
   ]
  },
  {
   "cell_type": "markdown",
   "metadata": {
    "hidden": true
   },
   "source": [
    "Now we try to find the best possible combination of parameters to achieve the highest F-score."
   ]
  },
  {
   "cell_type": "code",
   "execution_count": 180,
   "metadata": {
    "hidden": true
   },
   "outputs": [],
   "source": [
    "scores = {}\n",
    "accuracyscore = {}\n",
    "recallscore = {}\n",
    "precisionscore = {}\n",
    "fscore = {}"
   ]
  },
  {
   "cell_type": "markdown",
   "metadata": {
    "hidden": true
   },
   "source": [
    "Starting with the Random Forest Classifier"
   ]
  },
  {
   "cell_type": "markdown",
   "metadata": {
    "hidden": true
   },
   "source": [
    "##### Random Forest Classifier"
   ]
  },
  {
   "cell_type": "markdown",
   "metadata": {
    "hidden": true
   },
   "source": [
    "Initializing a simple RFC model (no parameters), that can be tweaked"
   ]
  },
  {
   "cell_type": "code",
   "execution_count": 181,
   "metadata": {
    "hidden": true
   },
   "outputs": [],
   "source": [
    "RFC_noob = model_pipeline(RandomForestClassifier(random_state=42))"
   ]
  },
  {
   "cell_type": "markdown",
   "metadata": {
    "hidden": true
   },
   "source": [
    "Testing all possible combinations of chosen parameters and finding the F-score (very time consuming)"
   ]
  },
  {
   "cell_type": "code",
   "execution_count": 182,
   "metadata": {
    "hidden": true
   },
   "outputs": [],
   "source": [
    "parameters = {\"clf__n_estimators\": [100, 500, 1000, 2000],\n",
    "             \"clf__max_depth\": [3, 6, 12, 24, 48],\n",
    "             \"clf__criterion\": [\"gini\", \"entropy\"],\n",
    "             }"
   ]
  },
  {
   "cell_type": "code",
   "execution_count": 183,
   "metadata": {
    "hidden": true
   },
   "outputs": [],
   "source": [
    "gs_clf = GridSearchCV(RFC_noob, parameters, cv=2, n_jobs=-1).fit(train_corpus, y_train)"
   ]
  },
  {
   "cell_type": "code",
   "execution_count": 184,
   "metadata": {
    "hidden": true
   },
   "outputs": [],
   "source": [
    "scores[\"RFC\"] = gs_clf.best_score_"
   ]
  },
  {
   "cell_type": "code",
   "execution_count": 185,
   "metadata": {
    "hidden": true
   },
   "outputs": [
    {
     "name": "stdout",
     "output_type": "stream",
     "text": [
      "clf__criterion: 'gini'\n",
      "clf__max_depth: 12\n",
      "clf__n_estimators: 100\n"
     ]
    }
   ],
   "source": [
    "for param_name in sorted(parameters.keys()):\n",
    "    print(\"%s: %r\" % (param_name, gs_clf.best_params_[param_name]))"
   ]
  },
  {
   "cell_type": "code",
   "execution_count": 186,
   "metadata": {
    "hidden": true
   },
   "outputs": [],
   "source": [
    "RFC_tuned = Pipeline([('vect', CountVectorizer(tokenizer=lambda x: x, preprocessor= lambda x: x , token_pattern=None )\n",
    "                     ), ('tfidf', TfidfTransformer()\n",
    "                     ), ('clf', RandomForestClassifier(random_state=42, \n",
    "                                                       criterion = 'gini', \n",
    "                                                       max_depth= 12, \n",
    "                                                       n_estimators= 100))]).fit(train_corpus, y_train);"
   ]
  },
  {
   "cell_type": "code",
   "execution_count": 187,
   "metadata": {
    "hidden": true
   },
   "outputs": [],
   "source": [
    "predict = RFC_tuned.predict(validation_corpus)\n",
    "accuracyscore[\"RandomForestClassifier\"]  = accuracy_score( y_val ,predict) \n",
    "recallscore[\"RandomForestCl*assifier\"]    = recall_score(   y_val, predict)\n",
    "precisionscore[\"RandomForestClassifier\"] = precision_score(y_val, predict)\n",
    "fscore[\"RandomForestClassifier\"]         = f1_score(       y_val, predict)"
   ]
  },
  {
   "cell_type": "markdown",
   "metadata": {
    "hidden": true
   },
   "source": [
    "##### Support vector"
   ]
  },
  {
   "cell_type": "markdown",
   "metadata": {
    "hidden": true
   },
   "source": [
    "Initializing a simple Support Vector model (no parameters), that can be tweaked"
   ]
  },
  {
   "cell_type": "code",
   "execution_count": 188,
   "metadata": {
    "hidden": true
   },
   "outputs": [],
   "source": [
    "SV_noob = model_pipeline(SVC(random_state=42))"
   ]
  },
  {
   "cell_type": "markdown",
   "metadata": {
    "hidden": true
   },
   "source": [
    "Testing all possible combinations of chosen parameters and finding the F-score (very time consuming)"
   ]
  },
  {
   "cell_type": "code",
   "execution_count": 189,
   "metadata": {
    "hidden": true
   },
   "outputs": [],
   "source": [
    "parameters = {\"clf__C\": [1,3,9,27],\n",
    "              \"clf__kernel\": [\"linear\", \"poly\", \"rbf\", \"sigmoid\"],\n",
    "              \"clf__degree\": [1,3,9,27],\n",
    "             }"
   ]
  },
  {
   "cell_type": "code",
   "execution_count": 190,
   "metadata": {
    "hidden": true
   },
   "outputs": [],
   "source": [
    "gs_clf = GridSearchCV(SV_noob, parameters, cv=2, n_jobs=-1).fit(train_corpus, y_train)"
   ]
  },
  {
   "cell_type": "code",
   "execution_count": 191,
   "metadata": {
    "hidden": true
   },
   "outputs": [],
   "source": [
    "scores[\"SV\"] = gs_clf.best_score_"
   ]
  },
  {
   "cell_type": "code",
   "execution_count": 192,
   "metadata": {
    "hidden": true
   },
   "outputs": [
    {
     "name": "stdout",
     "output_type": "stream",
     "text": [
      "clf__C: 1\n",
      "clf__degree: 1\n",
      "clf__kernel: 'rbf'\n"
     ]
    }
   ],
   "source": [
    "for param_name in sorted(parameters.keys()):\n",
    "    print(\"%s: %r\" % (param_name, gs_clf.best_params_[param_name]))"
   ]
  },
  {
   "cell_type": "code",
   "execution_count": 193,
   "metadata": {
    "hidden": true
   },
   "outputs": [],
   "source": [
    "SV_tuned = Pipeline([('vect', CountVectorizer(tokenizer=lambda x: x, preprocessor= lambda x: x, token_pattern=None )\n",
    "                     ), ('tfidf', TfidfTransformer()\n",
    "                     ), ('clf', SVC(random_state=42, \n",
    "                                    C = 1, \n",
    "                                    degree= 1,\n",
    "                                    kernel=\"rbf\"))]).fit(train_corpus, y_train);"
   ]
  },
  {
   "cell_type": "code",
   "execution_count": 194,
   "metadata": {
    "hidden": true
   },
   "outputs": [],
   "source": [
    "predict = SV_tuned.predict(validation_corpus)\n",
    "accuracyscore[\"SupportVector\"]  = accuracy_score( y_val ,predict) \n",
    "recallscore[\"SupportVector\"]    = recall_score(   y_val, predict)\n",
    "precisionscore[\"SupportVector\"] = precision_score(y_val, predict)\n",
    "fscore[\"SupportVector\"]         = f1_score(       y_val, predict)"
   ]
  },
  {
   "cell_type": "markdown",
   "metadata": {
    "hidden": true
   },
   "source": [
    "##### Logistic Regression"
   ]
  },
  {
   "cell_type": "code",
   "execution_count": 195,
   "metadata": {
    "hidden": true
   },
   "outputs": [],
   "source": [
    "LR_noob = model_pipeline(SGDClassifier(loss='log', random_state=42))"
   ]
  },
  {
   "cell_type": "code",
   "execution_count": 196,
   "metadata": {
    "hidden": true
   },
   "outputs": [],
   "source": [
    "parameters = {\"clf__alpha\": [0.0001, 0.0003, 0.001, 0.003, 0.01, 0.03],\n",
    "             \"clf__penalty\": [\"l2\", \"l1\", \"elasticnet\"],\n",
    "             }"
   ]
  },
  {
   "cell_type": "code",
   "execution_count": 197,
   "metadata": {
    "hidden": true
   },
   "outputs": [],
   "source": [
    "gs_clf = GridSearchCV(LR_noob, parameters, cv=2, n_jobs=-1).fit(train_corpus, y_train)"
   ]
  },
  {
   "cell_type": "code",
   "execution_count": 198,
   "metadata": {
    "hidden": true
   },
   "outputs": [],
   "source": [
    "scores[\"LR\"] = gs_clf.best_score_"
   ]
  },
  {
   "cell_type": "code",
   "execution_count": 199,
   "metadata": {
    "hidden": true
   },
   "outputs": [
    {
     "name": "stdout",
     "output_type": "stream",
     "text": [
      "clf__alpha: 0.0003\n",
      "clf__penalty: 'l2'\n"
     ]
    }
   ],
   "source": [
    "for param_name in sorted(parameters.keys()):\n",
    "    print(\"%s: %r\" % (param_name, gs_clf.best_params_[param_name]))"
   ]
  },
  {
   "cell_type": "code",
   "execution_count": 200,
   "metadata": {
    "hidden": true
   },
   "outputs": [],
   "source": [
    "LR_tuned = Pipeline([('vect', CountVectorizer(tokenizer=lambda x: x, preprocessor= lambda x: x, token_pattern=None )\n",
    "                     ), ('tfidf', TfidfTransformer()\n",
    "                     ), ('clf', SGDClassifier(loss=\"log\", \n",
    "                                    alpha=0.0003, \n",
    "                                    penalty= \"l2\"))]).fit(train_corpus, y_train);"
   ]
  },
  {
   "cell_type": "code",
   "execution_count": 201,
   "metadata": {
    "hidden": true
   },
   "outputs": [],
   "source": [
    "predict = LR_tuned.predict(validation_corpus)\n",
    "accuracyscore[\"LogisticRegression\"]  = accuracy_score( y_val ,predict) \n",
    "recallscore[\"LogisticRegression\"]    = recall_score(   y_val, predict)\n",
    "precisionscore[\"LogisticRegression\"] = precision_score(y_val, predict)\n",
    "fscore[\"LogisticRegression\"]         = f1_score(       y_val, predict)"
   ]
  },
  {
   "cell_type": "markdown",
   "metadata": {
    "hidden": true
   },
   "source": [
    "##### Final model on the basis of the validation data"
   ]
  },
  {
   "cell_type": "code",
   "execution_count": 203,
   "metadata": {
    "hidden": true
   },
   "outputs": [
    {
     "data": {
      "image/png": "[encoded data removed]",
      "text/plain": [
       "<Figure size 1080x576 with 4 Axes>"
      ]
     },
     "metadata": {
      "needs_background": "light"
     },
     "output_type": "display_data"
    }
   ],
   "source": [
    "fig, ax = plt.subplots(2, 2, figsize=(15,8))\n",
    "ax[0,0].set_title(\"Accuracy score\")\n",
    "ax[0,1].set_title(\"F-score\")\n",
    "ax[1,0].set_title(\"Precision\")\n",
    "ax[1,1].set_title(\"Recall\")\n",
    "\n",
    "for i in accuracyscore.items():\n",
    "    ax[0,0].bar(i[0], i[1])\n",
    "    ax[0,0].set_ylim([0.4,0.6])\n",
    "\n",
    "for i in fscore.items():\n",
    "    ax[0,1].bar(i[0], i[1])\n",
    "    ax[0,1].set_ylim([0.4,0.7])\n",
    "    \n",
    "for i in precisionscore.items():\n",
    "    ax[1,0].bar(i[0], i[1])\n",
    "    ax[1,0].set_ylim([0.4,0.7])\n",
    "    \n",
    "for i in recallscore.items():\n",
    "    ax[1,1].bar(i[0], i[1])\n",
    "    ax[1,1].set_ylim([0.4,0.8])\n",
    "\n",
    "plt.tight_layout()"
   ]
  },
  {
   "cell_type": "markdown",
   "metadata": {
    "hidden": true
   },
   "source": [
    "We see that the models that we have tuned to have the highest accuracy score are all equally bad at classifying whether a given sentence is ironic.\n",
    "\n",
    "It is logical that our model is really bad at classifying text-based irony, since the group members are also very poor at classifying irony, and thus we can not expect the model to outperform us massivel, since it lacks world knowledge and general experience and the emotional aspect of understanding the users intentions. Thus perhabs combining an intention model and an irony model could increase the performance of the irony model. \n",
    "\n",
    "Final model is RandomForestClassifier, since it has an higher accuracy score"
   ]
  },
  {
   "cell_type": "markdown",
   "metadata": {
    "hidden": true
   },
   "source": [
    "##### Final model on test data metrics"
   ]
  },
  {
   "cell_type": "code",
   "execution_count": 204,
   "metadata": {
    "hidden": true
   },
   "outputs": [
    {
     "name": "stdout",
     "output_type": "stream",
     "text": [
      "Logistic Regression: \n",
      "     - accuracy score:\t   0.5535714285714286\n",
      "     - recall score: \t   0.6688102893890675\n",
      "     - precision score:\t   0.45714285714285713\n",
      "     - f1 score:\t   0.5430809399477806\n",
      "\n"
     ]
    }
   ],
   "source": [
    "model = RFC_tuned\n",
    "predict = model.predict(test_corpus)\n",
    "print(\"Logistic Regression\" + \": \")\n",
    "print(\"     - accuracy score:\\t   {}\"  .format(accuracy_score( y_test, predict)))\n",
    "print(\"     - recall score: \\t   {}\"   .format(recall_score(   y_test, predict)))\n",
    "print(\"     - precision score:\\t   {}\" .format(precision_score(y_test, predict)))\n",
    "print(\"     - f1 score:\\t   {}\"        .format(f1_score(       y_test, predict)))\n",
    "print()"
   ]
  },
  {
   "cell_type": "markdown",
   "metadata": {
    "heading_collapsed": true
   },
   "source": [
    "## Multi-Classification on Stance Dataset"
   ]
  },
  {
   "cell_type": "markdown",
   "metadata": {
    "hidden": true
   },
   "source": [
    "First Multi-classification, mapping all the different stances to a 3x5 map taking values from 0-14 and classifying on the basis of these 15 different labels."
   ]
  },
  {
   "cell_type": "markdown",
   "metadata": {
    "hidden": true
   },
   "source": [
    "### Creating the neccesery dataframes"
   ]
  },
  {
   "cell_type": "code",
   "execution_count": 205,
   "metadata": {
    "hidden": true
   },
   "outputs": [],
   "source": [
    "hillary_train  = pd.concat([train_hillary,  train_hillary_labels ], axis=1)\n",
    "abortion_train = pd.concat([train_abortion, train_abortion_labels], axis=1)\n",
    "atheism_train  = pd.concat([train_atheism,  train_atheism_labels ], axis=1)\n",
    "climate_train  = pd.concat([train_climate,  train_climate_labels ], axis=1)\n",
    "feminist_train = pd.concat([train_feminist, train_feminist_labels], axis=1)\n",
    "\n",
    "abortion_train[\"labels\"] += 3\n",
    "atheism_train[\"labels\"]  += 6\n",
    "climate_train[\"labels\"]  += 9\n",
    "feminist_train[\"labels\"] += 12"
   ]
  },
  {
   "cell_type": "code",
   "execution_count": 206,
   "metadata": {
    "hidden": true
   },
   "outputs": [],
   "source": [
    "hillary_val  = pd.concat([validation_hillary,  validation_hillary_labels ], axis=1)\n",
    "abortion_val = pd.concat([validation_abortion, validation_abortion_labels], axis=1)\n",
    "atheism_val  = pd.concat([validation_atheism,  validation_atheism_labels ], axis=1)\n",
    "climate_val  = pd.concat([validation_climate,  validation_climate_labels ], axis=1)\n",
    "feminist_val = pd.concat([validation_feminist, validation_feminist_labels], axis=1)\n",
    "\n",
    "abortion_val[\"labels\"] += 3\n",
    "atheism_val[\"labels\"]  += 6\n",
    "climate_val[\"labels\"]  += 9\n",
    "feminist_val[\"labels\"] += 12"
   ]
  },
  {
   "cell_type": "code",
   "execution_count": 207,
   "metadata": {
    "hidden": true
   },
   "outputs": [],
   "source": [
    "hillary_test  = pd.concat([test_hillary,  test_hillary_labels ], axis=1)\n",
    "abortion_test = pd.concat([test_abortion, test_abortion_labels], axis=1)\n",
    "atheism_test  = pd.concat([test_atheism,  test_atheism_labels ], axis=1)\n",
    "climate_test  = pd.concat([test_climate,  test_climate_labels ], axis=1)\n",
    "feminist_test = pd.concat([test_feminist, test_feminist_labels], axis=1)\n",
    "\n",
    "abortion_test[\"labels\"] += 3\n",
    "atheism_test[\"labels\"]  += 6\n",
    "climate_test[\"labels\"]  += 9\n",
    "feminist_test[\"labels\"] += 12"
   ]
  },
  {
   "cell_type": "code",
   "execution_count": 208,
   "metadata": {
    "hidden": true
   },
   "outputs": [],
   "source": [
    "mapping = {}\n",
    "mapping[0]  = \"none hillary\"\n",
    "mapping[1]  = \"against hillary\"\n",
    "mapping[2]  = \"favor hillary\"\n",
    "mapping[3]  = \"none abortion\"\n",
    "mapping[4]  = \"against abortion\"\n",
    "mapping[5]  = \"favor abortion\"\n",
    "mapping[6]  = \"none atheism\"\n",
    "mapping[7]  = \"against atheism\"\n",
    "mapping[8]  = \"favor atheism\"\n",
    "mapping[9]  = \"none climate\"\n",
    "mapping[10] = \"against climate\"\n",
    "mapping[11] = \"favor climate\"\n",
    "mapping[12] = \"none feminist\"\n",
    "mapping[13] = \"against feminist\"\n",
    "mapping[14] = \"favor feminist\""
   ]
  },
  {
   "cell_type": "code",
   "execution_count": 209,
   "metadata": {
    "hidden": true
   },
   "outputs": [],
   "source": [
    "combined_train = pd.concat([hillary_train, abortion_train, atheism_train, climate_train, feminist_train],  ignore_index=True)\n",
    "combined_val   = pd.concat([hillary_val,   abortion_val,   atheism_val,   climate_val,   feminist_val],    ignore_index=True)\n",
    "combined_test  = pd.concat([hillary_test,  abortion_test,  atheism_test,  climate_test,  feminist_test],   ignore_index=True)"
   ]
  },
  {
   "cell_type": "markdown",
   "metadata": {
    "hidden": true
   },
   "source": [
    "### Tokenizing our training and validation tweets"
   ]
  },
  {
   "cell_type": "code",
   "execution_count": 210,
   "metadata": {
    "hidden": true
   },
   "outputs": [],
   "source": [
    "copy_train = combined_train\n",
    "for idx, i in enumerate(copy_train[\"tweets\"]):\n",
    "    x = tokenize_meaning(i)\n",
    "    combined_train.loc[idx, [\"tweets\"]] = x[0]\n",
    "\n",
    "copy_val = combined_val\n",
    "for idx, i in enumerate(copy_val[\"tweets\"]):\n",
    "    x = tokenize_meaning(i)\n",
    "    combined_val.loc[idx, [\"tweets\"]] = x[0]\n",
    "\n",
    "copy_test = combined_test\n",
    "for idx, i in enumerate(copy_test[\"tweets\"]):\n",
    "    x = tokenize_meaning(i)\n",
    "    combined_test.loc[idx, [\"tweets\"]] = x[0]\n",
    "    \n",
    "\n",
    "combined_val   = combined_val[combined_val['labels'].notna()]\n",
    "combined_train = combined_train[combined_train[\"labels\"].notna()]\n",
    "combined_test  = combined_test[combined_test[\"labels\"].notna()]"
   ]
  },
  {
   "cell_type": "markdown",
   "metadata": {
    "hidden": true
   },
   "source": [
    "### Baseline model"
   ]
  },
  {
   "cell_type": "code",
   "execution_count": 211,
   "metadata": {
    "hidden": true
   },
   "outputs": [],
   "source": [
    "LR_multi = model_pipeline(SGDClassifier(loss='log', random_state=42)).fit(combined_train[\"tweets\"], combined_train[\"labels\"]);"
   ]
  },
  {
   "cell_type": "code",
   "execution_count": 212,
   "metadata": {
    "hidden": true
   },
   "outputs": [
    {
     "data": {
      "text/plain": [
       "0.25510204081632654"
      ]
     },
     "execution_count": 212,
     "metadata": {},
     "output_type": "execute_result"
    }
   ],
   "source": [
    "predicted = LR_multi.predict(combined_val[\"tweets\"])\n",
    "accuracy_score(predicted, combined_val[\"labels\"])"
   ]
  },
  {
   "cell_type": "markdown",
   "metadata": {
    "hidden": true
   },
   "source": [
    "### Classification models different models"
   ]
  },
  {
   "cell_type": "markdown",
   "metadata": {
    "hidden": true
   },
   "source": [
    "Training different classifying models without any special tuning to see which is the best in its simplest form."
   ]
  },
  {
   "cell_type": "code",
   "execution_count": 213,
   "metadata": {
    "hidden": true
   },
   "outputs": [],
   "source": [
    "KNN_multi = model_pipeline(KNeighborsClassifier()).fit(combined_train[\"tweets\"], combined_train[\"labels\"])\n",
    "DTC_multi = model_pipeline(DecisionTreeClassifier(random_state=42)).fit(combined_train[\"tweets\"], combined_train[\"labels\"])\n",
    "RFC_multi = model_pipeline(RandomForestClassifier(random_state=42)).fit(combined_train[\"tweets\"], combined_train[\"labels\"])\n",
    "SV_multi  = model_pipeline(SVC(random_state=42)).fit(combined_train[\"tweets\"], combined_train[\"labels\"])\n",
    "NB_multi  = model_pipeline(MultinomialNB()).fit(combined_train[\"tweets\"],combined_train[\"labels\"])"
   ]
  },
  {
   "cell_type": "code",
   "execution_count": 214,
   "metadata": {
    "hidden": true
   },
   "outputs": [],
   "source": [
    "modelsc = [LR_multi, KNN_multi, DTC_multi, RFC_multi, SV_multi, NB_multi]\n",
    "d = [\"LogisticRegression\",\n",
    "     \"KNearestNeighbor\",\n",
    "     \"DecisionTreeClassifier\",\n",
    "     \"RandomForestClassifier\",\n",
    "     \"SupportVectorClassifier\",\n",
    "     \"NaiveBayes\"]"
   ]
  },
  {
   "cell_type": "markdown",
   "metadata": {
    "hidden": true
   },
   "source": [
    "Here the precision score will be flawed since our models does not predict all labels in the dataset, i.e the NaiveBayes only predicts 5 out of the 15 different labels in our data, which makes calculating the precision score for these non-predicted labels not possible, since they have not been predicted. This is also the reason that warnings is being returned."
   ]
  },
  {
   "cell_type": "code",
   "execution_count": 215,
   "metadata": {
    "hidden": true,
    "scrolled": false
   },
   "outputs": [
    {
     "name": "stdout",
     "output_type": "stream",
     "text": [
      "LogisticRegression: \n",
      "     - classes not predicted by model: \t [5, 6, 8, 10]\n",
      "     - accuracy score:\t   0.25510204081632654\n",
      "     - recall score: \t   0.1701842959907476\n",
      "     - precision score:\t   0.21468038160547329\n",
      "     - f1 score:\t   0.1503871642522902\n",
      "\n",
      "KNearestNeighbor: \n",
      "     - classes not predicted by model: \t [10]\n",
      "     - accuracy score:\t   0.21428571428571427\n",
      "     - recall score: \t   0.1561443335636884\n",
      "     - precision score:\t   0.15882094124199392\n",
      "     - f1 score:\t   0.1458966873055521\n",
      "\n",
      "DecisionTreeClassifier: \n",
      "     - classes not predicted by model: \t [10]\n",
      "     - accuracy score:\t   0.18027210884353742\n",
      "     - recall score: \t   0.14286186439886628\n",
      "     - precision score:\t   0.13871558590856836\n",
      "     - f1 score:\t   0.13950600987034906\n",
      "\n",
      "RandomForestClassifier: \n",
      "     - classes not predicted by model: \t [6, 8, 10, 12]\n",
      "     - accuracy score:\t   0.23809523809523808\n",
      "     - recall score: \t   0.15151192893128376\n",
      "     - precision score:\t   0.2267274327352735\n",
      "     - f1 score:\t   0.1345057985064625\n",
      "\n",
      "SupportVectorClassifier: \n",
      "     - classes not predicted by model: \t [2, 3, 5, 6, 8, 9, 10, 12]\n",
      "     - accuracy score:\t   0.25170068027210885\n",
      "     - recall score: \t   0.15099524131782197\n",
      "     - precision score:\t   0.11920988077704496\n",
      "     - f1 score:\t   0.11922443333332285\n",
      "\n",
      "NaiveBayes: \n",
      "     - classes not predicted by model: \t [2, 3, 5, 6, 8, 9, 10, 11, 12, 14]\n",
      "     - accuracy score:\t   0.1870748299319728\n",
      "     - recall score: \t   0.10120685765847058\n",
      "     - precision score:\t   0.08603216684340757\n",
      "     - f1 score:\t   0.06777185697444318\n",
      "\n"
     ]
    },
    {
     "name": "stderr",
     "output_type": "stream",
     "text": [
      "C:\\Users\\Ruben PC\\anaconda3\\lib\\site-packages\\sklearn\\metrics\\_classification.py:1245: UndefinedMetricWarning: Precision is ill-defined and being set to 0.0 in labels with no predicted samples. Use `zero_division` parameter to control this behavior.\n",
      "  _warn_prf(average, modifier, msg_start, len(result))\n",
      "C:\\Users\\Ruben PC\\anaconda3\\lib\\site-packages\\sklearn\\metrics\\_classification.py:1245: UndefinedMetricWarning: Precision is ill-defined and being set to 0.0 in labels with no predicted samples. Use `zero_division` parameter to control this behavior.\n",
      "  _warn_prf(average, modifier, msg_start, len(result))\n",
      "C:\\Users\\Ruben PC\\anaconda3\\lib\\site-packages\\sklearn\\metrics\\_classification.py:1245: UndefinedMetricWarning: Precision is ill-defined and being set to 0.0 in labels with no predicted samples. Use `zero_division` parameter to control this behavior.\n",
      "  _warn_prf(average, modifier, msg_start, len(result))\n",
      "C:\\Users\\Ruben PC\\anaconda3\\lib\\site-packages\\sklearn\\metrics\\_classification.py:1245: UndefinedMetricWarning: Precision is ill-defined and being set to 0.0 in labels with no predicted samples. Use `zero_division` parameter to control this behavior.\n",
      "  _warn_prf(average, modifier, msg_start, len(result))\n",
      "C:\\Users\\Ruben PC\\anaconda3\\lib\\site-packages\\sklearn\\metrics\\_classification.py:1245: UndefinedMetricWarning: Precision is ill-defined and being set to 0.0 in labels with no predicted samples. Use `zero_division` parameter to control this behavior.\n",
      "  _warn_prf(average, modifier, msg_start, len(result))\n",
      "C:\\Users\\Ruben PC\\anaconda3\\lib\\site-packages\\sklearn\\metrics\\_classification.py:1245: UndefinedMetricWarning: Precision is ill-defined and being set to 0.0 in labels with no predicted samples. Use `zero_division` parameter to control this behavior.\n",
      "  _warn_prf(average, modifier, msg_start, len(result))\n"
     ]
    }
   ],
   "source": [
    "ls = list(range(0,15))\n",
    "for idx, model in enumerate(modelsc):\n",
    "    name = d[idx]\n",
    "    predict = model.predict(combined_val[\"tweets\"])\n",
    "    uniq, counts = np.unique(predict, return_counts=True)\n",
    "    print(str(name) + \": \")\n",
    "    temp = [item for item in ls if item not in uniq]\n",
    "    print(\"     - classes not predicted by model: \\t {}\".format(temp))\n",
    "    print(\"     - accuracy score:\\t   {}\"  .format(accuracy_score( combined_val[\"labels\"],predict)))\n",
    "    print(\"     - recall score: \\t   {}\"   .format(recall_score(   combined_val[\"labels\"], predict, average='macro')))\n",
    "    print(\"     - precision score:\\t   {}\" .format(precision_score(combined_val[\"labels\"], predict, average='macro')))\n",
    "    print(\"     - f1 score:\\t   {}\"        .format(f1_score(       combined_val[\"labels\"], predict, average='macro')))\n",
    "    print()"
   ]
  },
  {
   "cell_type": "markdown",
   "metadata": {
    "hidden": true
   },
   "source": [
    "In our validation data, we have a label that is only occuring twice in our data, which means that we can not perform cross-validation scores on it, because we simply do not have enough data to support any conclusions. This is also the reason that a lot of our classifiers is ignoring these classes with few members."
   ]
  },
  {
   "cell_type": "code",
   "execution_count": 216,
   "metadata": {
    "hidden": true
   },
   "outputs": [
    {
     "data": {
      "text/plain": [
       "1     39\n",
       "4     36\n",
       "13    33\n",
       "7     31\n",
       "11    21\n",
       "14    21\n",
       "0     18\n",
       "3     18\n",
       "9     17\n",
       "12    13\n",
       "2     12\n",
       "5     12\n",
       "6     12\n",
       "8      9\n",
       "10     2\n",
       "Name: labels, dtype: int64"
      ]
     },
     "execution_count": 216,
     "metadata": {},
     "output_type": "execute_result"
    }
   ],
   "source": [
    "combined_val[\"labels\"].value_counts()"
   ]
  },
  {
   "cell_type": "markdown",
   "metadata": {
    "hidden": true
   },
   "source": [
    "This cross validation is thus flawed since a lot of our models is ignoring a lot of the classes in our data, such as the NaiveBayes is ignoring more than half of the classes in the data, which makes it a very bad model for classifying stance, but in the cross validation it at first glance looks to have a very high score, which is very misleading"
   ]
  },
  {
   "cell_type": "code",
   "execution_count": 217,
   "metadata": {
    "hidden": true
   },
   "outputs": [
    {
     "data": {
      "image/png": "[encoded data removed]",
      "text/plain": [
       "<Figure size 1440x576 with 1 Axes>"
      ]
     },
     "metadata": {
      "needs_background": "light"
     },
     "output_type": "display_data"
    }
   ],
   "source": [
    "import seaborn as sns\n",
    "\n",
    "r = pd.DataFrame(columns=[\"MODELS\",\"R2CV\"])\n",
    "for i, model in enumerate(modelsc):\n",
    "    name = d[i]\n",
    "    R2CV = cross_val_score(model, combined_val[\"tweets\"], combined_val[\"labels\"], cv=2).mean()\n",
    "    result = pd.DataFrame([[name,R2CV*100]], columns=[\"MODELS\",\"R2CV\"])\n",
    "    r = r.append(result)\n",
    "\n",
    "figure = plt.figure(figsize=(20, 8))\n",
    "sns.barplot(x=\"R2CV\", y=\"MODELS\", data=r, color=\"k\")\n",
    "plt.xlabel(\"Cross Val Score\")\n",
    "plt.ylabel(\"MODELS\")\n",
    "plt.xlim(0, 100)\n",
    "plt.title(\"MODEL ACCURACY COMPARISON\")\n",
    "plt.show()"
   ]
  },
  {
   "cell_type": "markdown",
   "metadata": {
    "hidden": true
   },
   "source": [
    "#### Tuning the best models"
   ]
  },
  {
   "cell_type": "markdown",
   "metadata": {
    "hidden": true
   },
   "source": [
    "We then decide to try and optimize the models that actually predict most of the classes in our dataset. "
   ]
  },
  {
   "cell_type": "markdown",
   "metadata": {
    "hidden": true
   },
   "source": [
    "Now we try to find the best possible combination of parameters to achieve the highest F-score."
   ]
  },
  {
   "cell_type": "code",
   "execution_count": 227,
   "metadata": {
    "hidden": true
   },
   "outputs": [],
   "source": [
    "scores = {}\n",
    "accuracyscore = {}\n",
    "recallscore = {}\n",
    "precisionscore = {}\n",
    "fscore = {}"
   ]
  },
  {
   "cell_type": "markdown",
   "metadata": {
    "hidden": true
   },
   "source": [
    "##### Logistical Regression"
   ]
  },
  {
   "cell_type": "code",
   "execution_count": 235,
   "metadata": {
    "hidden": true
   },
   "outputs": [],
   "source": [
    "LR_noob_multi = model_pipeline(SGDClassifier(loss='log', random_state=42))"
   ]
  },
  {
   "cell_type": "code",
   "execution_count": 236,
   "metadata": {
    "hidden": true
   },
   "outputs": [],
   "source": [
    "parameters = {\"clf__alpha\": [0.0001, 0.0003, 0.001, 0.003, 0.01, 0.03],\n",
    "              \"clf__penalty\": [\"l2\", \"l1\", \"elasticnet\"],\n",
    "             }"
   ]
  },
  {
   "cell_type": "code",
   "execution_count": 237,
   "metadata": {
    "hidden": true
   },
   "outputs": [],
   "source": [
    "gs_clf = GridSearchCV(LR_noob_multi, parameters, cv=2, n_jobs=-1).fit(combined_train[\"tweets\"], combined_train[\"labels\"]);"
   ]
  },
  {
   "cell_type": "code",
   "execution_count": 238,
   "metadata": {
    "hidden": true
   },
   "outputs": [
    {
     "data": {
      "text/plain": [
       "0.266793893129771"
      ]
     },
     "execution_count": 238,
     "metadata": {},
     "output_type": "execute_result"
    }
   ],
   "source": [
    "scores[\"LR\"] = gs_clf.best_score_\n",
    "scores[\"LR\"]"
   ]
  },
  {
   "cell_type": "code",
   "execution_count": 239,
   "metadata": {
    "hidden": true
   },
   "outputs": [
    {
     "name": "stdout",
     "output_type": "stream",
     "text": [
      "clf__alpha: 0.0003\n",
      "clf__penalty: 'elasticnet'\n"
     ]
    }
   ],
   "source": [
    "for param_name in sorted(parameters.keys()):\n",
    "    print(\"%s: %r\" % (param_name, gs_clf.best_params_[param_name]))"
   ]
  },
  {
   "cell_type": "code",
   "execution_count": 240,
   "metadata": {
    "hidden": true
   },
   "outputs": [],
   "source": [
    "LR_tuned_multi = Pipeline([('vect', CountVectorizer(tokenizer=lambda x: x, preprocessor= lambda x: x, token_pattern=None )\n",
    "                     ), ('tfidf', TfidfTransformer()\n",
    "                     ), ('clf', SGDClassifier(loss=\"log\", \n",
    "                                    alpha=0.0003, \n",
    "                                    penalty= \"elasticnet\"))]).fit(combined_train[\"tweets\"], combined_train[\"labels\"]);"
   ]
  },
  {
   "cell_type": "code",
   "execution_count": 241,
   "metadata": {
    "hidden": true
   },
   "outputs": [
    {
     "name": "stdout",
     "output_type": "stream",
     "text": [
      "     - classes not predicted by model: \t [2, 3, 5, 6, 8, 9, 10, 12]\n"
     ]
    },
    {
     "name": "stderr",
     "output_type": "stream",
     "text": [
      "C:\\Users\\Ruben PC\\anaconda3\\lib\\site-packages\\sklearn\\metrics\\_classification.py:1245: UndefinedMetricWarning: Precision is ill-defined and being set to 0.0 in labels with no predicted samples. Use `zero_division` parameter to control this behavior.\n",
      "  _warn_prf(average, modifier, msg_start, len(result))\n"
     ]
    }
   ],
   "source": [
    "predict = LR_tuned_multi.predict(combined_val[\"tweets\"])\n",
    "ls = list(range(0,15))\n",
    "uniq, counts = np.unique(predict, return_counts=True)\n",
    "temp = [item for item in ls if item not in uniq]\n",
    "print(\"     - classes not predicted by model: \\t {}\".format(temp))\n",
    "accuracyscore[\"LogisticRegression\"]  = accuracy_score( combined_val[\"labels\"] , predict) \n",
    "recallscore[\"LogisticRegression\"]    = recall_score(   combined_val[\"labels\"],  predict, average=\"macro\")\n",
    "precisionscore[\"LogisticRegression\"] = precision_score(combined_val[\"labels\"],  predict, average=\"macro\")\n",
    "fscore[\"LogisticRegression\"]         = f1_score(       combined_val[\"labels\"],  predict, average=\"macro\")"
   ]
  },
  {
   "cell_type": "markdown",
   "metadata": {
    "hidden": true
   },
   "source": [
    "##### Random Forest Classifier"
   ]
  },
  {
   "cell_type": "code",
   "execution_count": 242,
   "metadata": {
    "hidden": true
   },
   "outputs": [],
   "source": [
    "RFC_noob_multi = model_pipeline(RandomForestClassifier(random_state=42))"
   ]
  },
  {
   "cell_type": "code",
   "execution_count": 243,
   "metadata": {
    "hidden": true
   },
   "outputs": [],
   "source": [
    "parameters = {\"clf__n_estimators\": [100, 500, 1000, 2000],\n",
    "             \"clf__max_depth\": [3, 6, 12, 24, 48],\n",
    "             \"clf__criterion\": [\"gini\", \"entropy\"],\n",
    "             }"
   ]
  },
  {
   "cell_type": "code",
   "execution_count": 244,
   "metadata": {
    "hidden": true
   },
   "outputs": [],
   "source": [
    "gs_clf = GridSearchCV(RFC_noob_multi, parameters, cv=2, n_jobs=-1).fit(combined_train[\"tweets\"], combined_train[\"labels\"]);"
   ]
  },
  {
   "cell_type": "code",
   "execution_count": 245,
   "metadata": {
    "hidden": true
   },
   "outputs": [],
   "source": [
    "scores[\"RFC\"] = gs_clf.best_score_"
   ]
  },
  {
   "cell_type": "code",
   "execution_count": 246,
   "metadata": {
    "hidden": true
   },
   "outputs": [
    {
     "name": "stdout",
     "output_type": "stream",
     "text": [
      "clf__criterion: 'gini'\n",
      "clf__max_depth: 48\n",
      "clf__n_estimators: 500\n"
     ]
    }
   ],
   "source": [
    "for param_name in sorted(parameters.keys()):\n",
    "    print(\"%s: %r\" % (param_name, gs_clf.best_params_[param_name]))"
   ]
  },
  {
   "cell_type": "code",
   "execution_count": 248,
   "metadata": {
    "hidden": true
   },
   "outputs": [],
   "source": [
    "RFC_tuned_multi = Pipeline([('vect', CountVectorizer(tokenizer=lambda x: x, preprocessor= lambda x: x, token_pattern=None)\n",
    "                         ), ('tfidf', TfidfTransformer()\n",
    "                         ), ('clf', RandomForestClassifier(random_state=42, \n",
    "                                                       criterion = 'gini', \n",
    "                                                       max_depth= 48, \n",
    "                                                       n_estimators= 500))]).fit(combined_train[\"tweets\"], combined_train[\"labels\"]);"
   ]
  },
  {
   "cell_type": "code",
   "execution_count": 249,
   "metadata": {
    "hidden": true
   },
   "outputs": [
    {
     "name": "stdout",
     "output_type": "stream",
     "text": [
      "classes not predicted by model: [6, 8, 10, 12]\n"
     ]
    },
    {
     "name": "stderr",
     "output_type": "stream",
     "text": [
      "C:\\Users\\Ruben PC\\anaconda3\\lib\\site-packages\\sklearn\\metrics\\_classification.py:1245: UndefinedMetricWarning: Precision is ill-defined and being set to 0.0 in labels with no predicted samples. Use `zero_division` parameter to control this behavior.\n",
      "  _warn_prf(average, modifier, msg_start, len(result))\n"
     ]
    }
   ],
   "source": [
    "predict = RFC_tuned_multi.predict(combined_val[\"tweets\"])\n",
    "ls = list(range(0,15))\n",
    "uniq, counts = np.unique(predict, return_counts=True)\n",
    "temp = [item for item in ls if item not in uniq]\n",
    "print(\"classes not predicted by model: {}\".format(temp))\n",
    "accuracyscore[\"RandomForestClassifier\"]  = accuracy_score( combined_val[\"labels\"] , predict) \n",
    "recallscore[\"RandomForestClassifier\"]    = recall_score(   combined_val[\"labels\"],  predict, average=\"macro\")\n",
    "precisionscore[\"RandomForestClassifier\"] = precision_score(combined_val[\"labels\"],  predict, average=\"macro\")\n",
    "fscore[\"RandomForestClassifier\"]         = f1_score(       combined_val[\"labels\"],  predict, average=\"macro\")"
   ]
  },
  {
   "cell_type": "markdown",
   "metadata": {
    "hidden": true
   },
   "source": [
    "##### KNearestNeighbor"
   ]
  },
  {
   "cell_type": "code",
   "execution_count": 250,
   "metadata": {
    "hidden": true
   },
   "outputs": [],
   "source": [
    "KNN_noob_multi = model_pipeline(KNeighborsClassifier())"
   ]
  },
  {
   "cell_type": "code",
   "execution_count": 251,
   "metadata": {
    "hidden": true
   },
   "outputs": [],
   "source": [
    "parameters = {\"clf__n_neighbors\": [1,3,9,27,60,120],\n",
    "             \"clf__weights\": [\"uniform\", \"distance\"],\n",
    "             \"clf__algorithm\": [\"auto\", \"ball_tree\", \"kd_tree\", \"brute\"],\n",
    "             }"
   ]
  },
  {
   "cell_type": "code",
   "execution_count": 252,
   "metadata": {
    "hidden": true
   },
   "outputs": [],
   "source": [
    "gs_clf = GridSearchCV(KNN_noob_multi, parameters, cv=2, n_jobs=-1).fit(combined_train[\"tweets\"], combined_train[\"labels\"]);"
   ]
  },
  {
   "cell_type": "code",
   "execution_count": 253,
   "metadata": {
    "hidden": true
   },
   "outputs": [],
   "source": [
    "scores[\"KNN\"] = gs_clf.best_score_"
   ]
  },
  {
   "cell_type": "code",
   "execution_count": 254,
   "metadata": {
    "hidden": true
   },
   "outputs": [
    {
     "name": "stdout",
     "output_type": "stream",
     "text": [
      "clf__algorithm: 'auto'\n",
      "clf__n_neighbors: 60\n",
      "clf__weights: 'distance'\n"
     ]
    }
   ],
   "source": [
    "for param_name in sorted(parameters.keys()):\n",
    "    print(\"%s: %r\" % (param_name, gs_clf.best_params_[param_name]))"
   ]
  },
  {
   "cell_type": "code",
   "execution_count": 255,
   "metadata": {
    "hidden": true
   },
   "outputs": [],
   "source": [
    "KNN_tuned_multi = Pipeline([('vect', CountVectorizer(tokenizer=lambda x: x, preprocessor= lambda x: x, token_pattern=None)\n",
    "                         ), ('tfidf', TfidfTransformer()\n",
    "                         ), ('clf', KNeighborsClassifier(algorithm= 'auto', \n",
    "                                                         n_neighbors=60,\n",
    "                                                         weights=\"distance\"))]).fit(combined_train[\"tweets\"],combined_train[\"labels\"])"
   ]
  },
  {
   "cell_type": "code",
   "execution_count": 256,
   "metadata": {
    "hidden": true
   },
   "outputs": [
    {
     "name": "stdout",
     "output_type": "stream",
     "text": [
      "classes not predicted by model: [5, 6, 10, 12]\n"
     ]
    },
    {
     "name": "stderr",
     "output_type": "stream",
     "text": [
      "C:\\Users\\Ruben PC\\anaconda3\\lib\\site-packages\\sklearn\\metrics\\_classification.py:1245: UndefinedMetricWarning: Precision is ill-defined and being set to 0.0 in labels with no predicted samples. Use `zero_division` parameter to control this behavior.\n",
      "  _warn_prf(average, modifier, msg_start, len(result))\n"
     ]
    }
   ],
   "source": [
    "predict = KNN_tuned_multi.predict(combined_val[\"tweets\"])\n",
    "ls = list(range(0,15))\n",
    "uniq, counts = np.unique(predict, return_counts=True)\n",
    "temp = [item for item in ls if item not in uniq]\n",
    "print(\"classes not predicted by model: {}\".format(temp))\n",
    "accuracyscore[\"KNN\"]  = accuracy_score( combined_val[\"labels\"] , predict) \n",
    "recallscore[\"KNN\"]    = recall_score(   combined_val[\"labels\"],  predict, average=\"macro\")\n",
    "precisionscore[\"KNN\"] = precision_score(combined_val[\"labels\"],  predict, average=\"macro\")\n",
    "fscore[\"KNN\"]         = f1_score(       combined_val[\"labels\"],  predict, average=\"macro\")"
   ]
  },
  {
   "cell_type": "markdown",
   "metadata": {
    "hidden": true
   },
   "source": [
    "##### Final model"
   ]
  },
  {
   "cell_type": "code",
   "execution_count": 257,
   "metadata": {
    "hidden": true
   },
   "outputs": [
    {
     "data": {
      "image/png": "[encoded data removed]",
      "text/plain": [
       "<Figure size 1080x576 with 4 Axes>"
      ]
     },
     "metadata": {
      "needs_background": "light"
     },
     "output_type": "display_data"
    }
   ],
   "source": [
    "fig, ax = plt.subplots(2, 2, figsize=(15,8))\n",
    "ax[0,0].set_title(\"Accuracy score\")\n",
    "ax[0,1].set_title(\"F-score\")\n",
    "ax[1,0].set_title(\"Precision\")\n",
    "ax[1,1].set_title(\"Recall\")\n",
    "\n",
    "for i in accuracyscore.items():\n",
    "    ax[0,0].bar(i[0], i[1])\n",
    "    ax[0,0].set_ylim([0,0.3])\n",
    "\n",
    "for i in fscore.items():\n",
    "    ax[0,1].bar(i[0], i[1])\n",
    "    ax[0,1].set_ylim([0,0.3])\n",
    "    \n",
    "for i in precisionscore.items():\n",
    "    ax[1,0].bar(i[0], i[1])\n",
    "    ax[1,0].set_ylim([0,0.3])\n",
    "    \n",
    "for i in recallscore.items():\n",
    "    ax[1,1].bar(i[0], i[1])\n",
    "    ax[1,1].set_ylim([0,0.3])\n",
    "\n",
    "plt.tight_layout()"
   ]
  },
  {
   "cell_type": "markdown",
   "metadata": {
    "hidden": true
   },
   "source": [
    "Here we see that the logistical regression is the best model for our multiclass 3x5 stance mapping. This is surprisingly high, given the difficulty of the task with this many different classes. Also if one were to randomly guess (uniformly) what the class was, the probability of getting one correct would be around $\\frac{1}{15}$ which our models are a lot better than, so our models even though they are very bad are actually better than random.\n",
    "\n",
    "Final model: Random Forest Classifier, since its metrics is the best and it actually predicts most of the classes in the data, whereas the others do not."
   ]
  },
  {
   "cell_type": "markdown",
   "metadata": {
    "hidden": true
   },
   "source": [
    "##### Final model on test data metrics"
   ]
  },
  {
   "cell_type": "code",
   "execution_count": 258,
   "metadata": {
    "hidden": true
   },
   "outputs": [
    {
     "name": "stdout",
     "output_type": "stream",
     "text": [
      "RandomForestClassifier: \n",
      "     - classes not predicted by model: \t [2, 6, 10]\n",
      "     - accuracy score:\t   0.289031224979984\n",
      "     - recall score: \t   0.14835410757668493\n",
      "     - precision score:\t   0.17882803599895294\n",
      "     - f1 score:\t   0.13158565638143294\n",
      "\n"
     ]
    },
    {
     "name": "stderr",
     "output_type": "stream",
     "text": [
      "C:\\Users\\Ruben PC\\anaconda3\\lib\\site-packages\\sklearn\\metrics\\_classification.py:1245: UndefinedMetricWarning: Precision is ill-defined and being set to 0.0 in labels with no predicted samples. Use `zero_division` parameter to control this behavior.\n",
      "  _warn_prf(average, modifier, msg_start, len(result))\n"
     ]
    }
   ],
   "source": [
    "model = RFC_tuned_multi\n",
    "predict = model.predict(combined_test[\"tweets\"])\n",
    "print(\"RandomForestClassifier\" + \": \")\n",
    "uniq, counts = np.unique(predict, return_counts=True)\n",
    "temp = [item for item in ls if item not in uniq]\n",
    "print(\"     - classes not predicted by model: \\t {}\".format(temp))\n",
    "print(\"     - accuracy score:\\t   {}\"  .format(accuracy_score( combined_test[\"labels\"], predict)))\n",
    "print(\"     - recall score: \\t   {}\"   .format(recall_score(   combined_test[\"labels\"], predict,  average=\"macro\")))\n",
    "print(\"     - precision score:\\t   {}\" .format(precision_score(combined_test[\"labels\"], predict,  average=\"macro\")))\n",
    "print(\"     - f1 score:\\t   {}\"        .format(f1_score(       combined_test[\"labels\"], predict,  average=\"macro\")))\n",
    "print()"
   ]
  },
  {
   "cell_type": "markdown",
   "metadata": {
    "hidden": true
   },
   "source": [
    "#### Checking what subjects test data it performs well on"
   ]
  },
  {
   "cell_type": "markdown",
   "metadata": {
    "hidden": true
   },
   "source": [
    "By only predicting one of the validation datasets using the multiclass 3x5 mapping, we can test what classes it performs well and poorly on."
   ]
  },
  {
   "cell_type": "markdown",
   "metadata": {
    "hidden": true
   },
   "source": [
    "Here we can not look at the precision and the recall scores, since it will take into account all of the different classes that we are not trying to predict"
   ]
  },
  {
   "cell_type": "code",
   "execution_count": 259,
   "metadata": {
    "hidden": true
   },
   "outputs": [
    {
     "name": "stdout",
     "output_type": "stream",
     "text": [
      "hillary: \n",
      "     - accuracy score:\t   0.2983050847457627\n",
      "\n",
      "abortion: \n",
      "     - accuracy score:\t   0.23214285714285715\n",
      "\n",
      "atheism: \n",
      "     - accuracy score:\t   0.36363636363636365\n",
      "\n",
      "climate: \n",
      "     - accuracy score:\t   0.10059171597633136\n",
      "\n",
      "feminist: \n",
      "     - accuracy score:\t   0.24561403508771928\n",
      "\n"
     ]
    }
   ],
   "source": [
    "ls = [hillary_test, abortion_test, atheism_test, climate_test, feminist_test]\n",
    "d = [\"hillary\", \"abortion\", \"atheism\", \"climate\", \"feminist\"]\n",
    "for idx, data in enumerate(ls):\n",
    "    name = d[idx]\n",
    "    predicted = model.predict(data[\"tweets\"])\n",
    "    print(str(name) + \": \")\n",
    "    print(\"     - accuracy score:\\t   {}\"  .format(accuracy_score(data[\"labels\"],predicted)))\n",
    "    print()"
   ]
  },
  {
   "cell_type": "markdown",
   "metadata": {
    "hidden": true
   },
   "source": [
    "Here we see that the model varies a lot on the different subject stances."
   ]
  },
  {
   "cell_type": "markdown",
   "metadata": {},
   "source": [
    "## Multi-classification on a single stance subject (Atheism)"
   ]
  },
  {
   "cell_type": "markdown",
   "metadata": {},
   "source": [
    "### Necessary Datasets"
   ]
  },
  {
   "cell_type": "code",
   "execution_count": 260,
   "metadata": {},
   "outputs": [],
   "source": [
    "atheism_train = pd.concat([train_atheism, train_atheism_labels], axis=1)\n",
    "atheism_val   = pd.concat([validation_atheism, validation_atheism_labels], axis=1)\n",
    "atheism_test  = pd.concat([test_atheism,  test_atheism_labels],  axis=1)"
   ]
  },
  {
   "cell_type": "markdown",
   "metadata": {},
   "source": [
    "### Tokenizing our training and validation tweets"
   ]
  },
  {
   "cell_type": "code",
   "execution_count": 261,
   "metadata": {},
   "outputs": [],
   "source": [
    "copy_train = atheism_train\n",
    "for idx, i in enumerate(copy_train[\"tweets\"]):\n",
    "    x = tokenize_meaning(i)\n",
    "    atheism_train.loc[idx, [\"tweets\"]] = x[0]\n",
    "\n",
    "copy_val = atheism_val\n",
    "for idx, i in enumerate(copy_val[\"tweets\"]):\n",
    "    x = tokenize_meaning(i)\n",
    "    atheism_val.loc[idx, [\"tweets\"]] = x[0]\n",
    "\n",
    "copy_test = atheism_test\n",
    "for idx, i in enumerate(copy_test[\"tweets\"]):\n",
    "    x = tokenize_meaning(i)\n",
    "    atheism_test.loc[idx, [\"tweets\"]] = x[0]"
   ]
  },
  {
   "cell_type": "markdown",
   "metadata": {},
   "source": [
    "### Baseline model"
   ]
  },
  {
   "cell_type": "code",
   "execution_count": 262,
   "metadata": {},
   "outputs": [],
   "source": [
    "LR_single = model_pipeline(SGDClassifier(loss='log', random_state=42)).fit(atheism_train[\"tweets\"], atheism_train[\"labels\"]);"
   ]
  },
  {
   "cell_type": "code",
   "execution_count": 263,
   "metadata": {},
   "outputs": [
    {
     "data": {
      "text/plain": [
       "0.7115384615384616"
      ]
     },
     "execution_count": 263,
     "metadata": {},
     "output_type": "execute_result"
    }
   ],
   "source": [
    "predicted = LR_single.predict(atheism_val[\"tweets\"])\n",
    "accuracy_score(predicted, atheism_val[\"labels\"])"
   ]
  },
  {
   "cell_type": "markdown",
   "metadata": {},
   "source": [
    "### Classification models different models"
   ]
  },
  {
   "cell_type": "markdown",
   "metadata": {},
   "source": [
    "Training different classifying models without any special tuning to see which is the best in its simplest form."
   ]
  },
  {
   "cell_type": "code",
   "execution_count": 264,
   "metadata": {},
   "outputs": [],
   "source": [
    "KNN_single = model_pipeline(KNeighborsClassifier()).fit(atheism_train[\"tweets\"], atheism_train[\"labels\"])\n",
    "DTC_single = model_pipeline(DecisionTreeClassifier(random_state=42)).fit(atheism_train[\"tweets\"], atheism_train[\"labels\"])\n",
    "RFC_single = model_pipeline(RandomForestClassifier(random_state=42)).fit(atheism_train[\"tweets\"], atheism_train[\"labels\"])\n",
    "SV_single  = model_pipeline(SVC(random_state=42)).fit(atheism_train[\"tweets\"], atheism_train[\"labels\"])\n",
    "NB_single  = model_pipeline(MultinomialNB()).fit(atheism_train[\"tweets\"],atheism_train[\"labels\"])"
   ]
  },
  {
   "cell_type": "code",
   "execution_count": 265,
   "metadata": {},
   "outputs": [],
   "source": [
    "modelsc = [LR_single, KNN_single, DTC_single, RFC_single, SV_single, NB_single]\n",
    "d = [\"LogisticRegression\",\n",
    "     \"KNearestNeighbor\",\n",
    "     \"DecisionTreeClassifier\",\n",
    "     \"RandomForestClassifier\",\n",
    "     \"SupportVectorClassifier\",\n",
    "     \"NaiveBayes\"]"
   ]
  },
  {
   "cell_type": "code",
   "execution_count": 274,
   "metadata": {},
   "outputs": [
    {
     "name": "stdout",
     "output_type": "stream",
     "text": [
      "LogisticRegression: \n",
      "     - classes not predicted by model: \t []\n",
      "     - accuracy score:\t   0.7115384615384616\n",
      "     - recall score: \t   0.5803464755077659\n",
      "     - precision score:\t   0.6797619047619047\n",
      "     - f1 score:\t   0.5982808616404308\n",
      "\n",
      "KNearestNeighbor: \n",
      "     - classes not predicted by model: \t []\n",
      "     - accuracy score:\t   0.5576923076923077\n",
      "     - recall score: \t   0.39844683393070485\n",
      "     - precision score:\t   0.4137426900584795\n",
      "     - f1 score:\t   0.3940513403429004\n",
      "\n",
      "DecisionTreeClassifier: \n",
      "     - classes not predicted by model: \t []\n",
      "     - accuracy score:\t   0.5769230769230769\n",
      "     - recall score: \t   0.4695340501792114\n",
      "     - precision score:\t   0.4804713804713805\n",
      "     - f1 score:\t   0.4718306182121972\n",
      "\n",
      "RandomForestClassifier: \n",
      "     - classes not predicted by model: \t [2]\n",
      "     - accuracy score:\t   0.5961538461538461\n",
      "     - recall score: \t   0.3503584229390681\n",
      "     - precision score:\t   0.3666666666666667\n",
      "     - f1 score:\t   0.2945326278659612\n",
      "\n",
      "SupportVectorClassifier: \n",
      "     - classes not predicted by model: \t [0, 2]\n",
      "     - accuracy score:\t   0.5961538461538461\n",
      "     - recall score: \t   0.3333333333333333\n",
      "     - precision score:\t   0.1987179487179487\n",
      "     - f1 score:\t   0.24899598393574296\n",
      "\n",
      "NaiveBayes: \n",
      "     - classes not predicted by model: \t [0, 2]\n",
      "     - accuracy score:\t   0.5961538461538461\n",
      "     - recall score: \t   0.3333333333333333\n",
      "     - precision score:\t   0.1987179487179487\n",
      "     - f1 score:\t   0.24899598393574296\n",
      "\n"
     ]
    },
    {
     "name": "stderr",
     "output_type": "stream",
     "text": [
      "C:\\Users\\Ruben PC\\anaconda3\\lib\\site-packages\\sklearn\\metrics\\_classification.py:1245: UndefinedMetricWarning: Precision is ill-defined and being set to 0.0 in labels with no predicted samples. Use `zero_division` parameter to control this behavior.\n",
      "  _warn_prf(average, modifier, msg_start, len(result))\n",
      "C:\\Users\\Ruben PC\\anaconda3\\lib\\site-packages\\sklearn\\metrics\\_classification.py:1245: UndefinedMetricWarning: Precision is ill-defined and being set to 0.0 in labels with no predicted samples. Use `zero_division` parameter to control this behavior.\n",
      "  _warn_prf(average, modifier, msg_start, len(result))\n",
      "C:\\Users\\Ruben PC\\anaconda3\\lib\\site-packages\\sklearn\\metrics\\_classification.py:1245: UndefinedMetricWarning: Precision is ill-defined and being set to 0.0 in labels with no predicted samples. Use `zero_division` parameter to control this behavior.\n",
      "  _warn_prf(average, modifier, msg_start, len(result))\n"
     ]
    }
   ],
   "source": [
    "ls = list(range(0,3))\n",
    "for idx, model in enumerate(modelsc):\n",
    "    name = d[idx]\n",
    "    predict = model.predict(atheism_val[\"tweets\"])\n",
    "    print(str(name) + \": \")\n",
    "    uniq, counts = np.unique(predict, return_counts=True)\n",
    "    temp = [item for item in ls if item not in uniq]\n",
    "    print(\"     - classes not predicted by model: \\t {}\".format(temp))\n",
    "    print(\"     - accuracy score:\\t   {}\"  .format(accuracy_score(atheism_val[\"labels\"],predict)))\n",
    "    print(\"     - recall score: \\t   {}\"   .format(recall_score(atheism_val[\"labels\"], predict,   average='macro')))\n",
    "    print(\"     - precision score:\\t   {}\" .format(precision_score(atheism_val[\"labels\"], predict, average='macro')))\n",
    "    print(\"     - f1 score:\\t   {}\"        .format(f1_score(atheism_val[\"labels\"], predict, average='macro')))\n",
    "    print()"
   ]
  },
  {
   "cell_type": "code",
   "execution_count": 275,
   "metadata": {},
   "outputs": [
    {
     "data": {
      "image/png": "[encoded data removed]",
      "text/plain": [
       "<Figure size 1440x576 with 1 Axes>"
      ]
     },
     "metadata": {
      "needs_background": "light"
     },
     "output_type": "display_data"
    }
   ],
   "source": [
    "import seaborn as sns\n",
    "r = pd.DataFrame(columns=[\"MODELS\",\"R2CV\"])\n",
    "for i, model in enumerate(modelsc):\n",
    "    name = d[i]\n",
    "    R2CV = cross_val_score(model, atheism_val[\"tweets\"], atheism_val[\"labels\"], cv=2).mean()\n",
    "    result = pd.DataFrame([[name,R2CV*100]], columns=[\"MODELS\",\"R2CV\"])\n",
    "    r = r.append(result)\n",
    "\n",
    "figure = plt.figure(figsize=(20, 8))\n",
    "sns.barplot(x=\"R2CV\", y=\"MODELS\", data=r, color=\"k\")\n",
    "plt.xlabel(\"Cross Val Score\")\n",
    "plt.ylabel(\"MODELS\")\n",
    "plt.xlim(0, 100)\n",
    "plt.title(\"MODEL ACCURACY COMPARISON\")\n",
    "plt.show()"
   ]
  },
  {
   "cell_type": "markdown",
   "metadata": {},
   "source": [
    "#### Tuning the best models"
   ]
  },
  {
   "cell_type": "code",
   "execution_count": 276,
   "metadata": {},
   "outputs": [],
   "source": [
    "scores={}\n",
    "accuracyscore = {}\n",
    "recallscore = {}\n",
    "precisionscore = {}\n",
    "fscore = {}"
   ]
  },
  {
   "cell_type": "markdown",
   "metadata": {},
   "source": [
    "##### Random Forest Classifier"
   ]
  },
  {
   "cell_type": "code",
   "execution_count": 277,
   "metadata": {},
   "outputs": [],
   "source": [
    "RFC_noob_atheism = model_pipeline(RandomForestClassifier(random_state=42))"
   ]
  },
  {
   "cell_type": "code",
   "execution_count": 278,
   "metadata": {},
   "outputs": [],
   "source": [
    "parameters = {\"clf__n_estimators\": [100, 500, 1000, 2000],\n",
    "             \"clf__max_depth\": [3, 6, 12, 24, 48],\n",
    "             \"clf__criterion\": [\"gini\", \"entropy\"],\n",
    "             }"
   ]
  },
  {
   "cell_type": "code",
   "execution_count": 279,
   "metadata": {},
   "outputs": [],
   "source": [
    "gs_clf = GridSearchCV(RFC_noob_atheism, parameters, cv=2, n_jobs=-1).fit(atheism_train[\"tweets\"], atheism_train[\"labels\"])"
   ]
  },
  {
   "cell_type": "code",
   "execution_count": 280,
   "metadata": {},
   "outputs": [],
   "source": [
    "scores[\"RFC\"] = gs_clf.best_score_"
   ]
  },
  {
   "cell_type": "code",
   "execution_count": 281,
   "metadata": {},
   "outputs": [
    {
     "name": "stdout",
     "output_type": "stream",
     "text": [
      "clf__criterion: 'gini'\n",
      "clf__max_depth: 6\n",
      "clf__n_estimators: 100\n"
     ]
    }
   ],
   "source": [
    "for param_name in sorted(parameters.keys()):\n",
    "    print(\"%s: %r\" % (param_name, gs_clf.best_params_[param_name]))"
   ]
  },
  {
   "cell_type": "code",
   "execution_count": 282,
   "metadata": {},
   "outputs": [],
   "source": [
    "RFC_tuned_atheism = Pipeline([('vect', CountVectorizer(tokenizer=lambda x: x, preprocessor= lambda x: x )\n",
    "                         ), ('tfidf', TfidfTransformer()\n",
    "                         ), ('clf', RandomForestClassifier(random_state=42, \n",
    "                                                       criterion = 'gini', \n",
    "                                                       max_depth= 6, \n",
    "                                                       n_estimators= 100))]).fit(atheism_train[\"tweets\"], atheism_train[\"labels\"])"
   ]
  },
  {
   "cell_type": "code",
   "execution_count": 283,
   "metadata": {},
   "outputs": [
    {
     "name": "stderr",
     "output_type": "stream",
     "text": [
      "C:\\Users\\Ruben PC\\anaconda3\\lib\\site-packages\\sklearn\\metrics\\_classification.py:1245: UndefinedMetricWarning: Precision is ill-defined and being set to 0.0 in labels with no predicted samples. Use `zero_division` parameter to control this behavior.\n",
      "  _warn_prf(average, modifier, msg_start, len(result))\n"
     ]
    }
   ],
   "source": [
    "predict = RFC_tuned_atheism.predict(atheism_val[\"tweets\"])\n",
    "accuracyscore[\"RandomForestClassifier\"]  = accuracy_score( atheism_val[\"labels\"] , predict) \n",
    "recallscore[\"RandomForestClassifier\"]    = recall_score(   atheism_val[\"labels\"],  predict, average=\"macro\")\n",
    "precisionscore[\"RandomForestClassifier\"] = precision_score(atheism_val[\"labels\"],  predict, average=\"macro\")\n",
    "fscore[\"RandomForestClassifier\"]         = f1_score(       atheism_val[\"labels\"],  predict, average=\"macro\")"
   ]
  },
  {
   "cell_type": "markdown",
   "metadata": {},
   "source": [
    "##### Support Vector Classifier"
   ]
  },
  {
   "cell_type": "code",
   "execution_count": 284,
   "metadata": {},
   "outputs": [],
   "source": [
    "SV_noob_atheism = model_pipeline(SVC(random_state=42))"
   ]
  },
  {
   "cell_type": "code",
   "execution_count": 285,
   "metadata": {},
   "outputs": [],
   "source": [
    "parameters = {\"clf__C\": [1,3,9,27],\n",
    "             \"clf__kernel\": [\"linear\", \"poly\", \"rbf\", \"sigmoid\"],\n",
    "             \"clf__degree\": [1,3,9,27],\n",
    "             }"
   ]
  },
  {
   "cell_type": "code",
   "execution_count": 286,
   "metadata": {},
   "outputs": [],
   "source": [
    "gs_clf = GridSearchCV(SV_noob_atheism, parameters, cv=2, n_jobs=-1).fit(atheism_train[\"tweets\"], atheism_train[\"labels\"])"
   ]
  },
  {
   "cell_type": "code",
   "execution_count": 287,
   "metadata": {},
   "outputs": [],
   "source": [
    "scores[\"SV\"] = gs_clf.best_score_"
   ]
  },
  {
   "cell_type": "code",
   "execution_count": 288,
   "metadata": {},
   "outputs": [
    {
     "name": "stdout",
     "output_type": "stream",
     "text": [
      "clf__C: 3\n",
      "clf__degree: 1\n",
      "clf__kernel: 'linear'\n"
     ]
    }
   ],
   "source": [
    "for param_name in sorted(parameters.keys()):\n",
    "    print(\"%s: %r\" % (param_name, gs_clf.best_params_[param_name]))"
   ]
  },
  {
   "cell_type": "code",
   "execution_count": 289,
   "metadata": {},
   "outputs": [],
   "source": [
    "SV_tuned_atheism = Pipeline([('vect', CountVectorizer(tokenizer=lambda x: x, preprocessor= lambda x: x, token_pattern=None )\n",
    "                     ), ('tfidf', TfidfTransformer()\n",
    "                     ), ('clf', SVC(random_state=42, \n",
    "                                    C = 3, \n",
    "                                    degree= 1,\n",
    "                                    kernel=\"linear\"))]).fit(atheism_train[\"tweets\"], atheism_train[\"labels\"])"
   ]
  },
  {
   "cell_type": "code",
   "execution_count": 290,
   "metadata": {},
   "outputs": [
    {
     "name": "stderr",
     "output_type": "stream",
     "text": [
      "C:\\Users\\Ruben PC\\anaconda3\\lib\\site-packages\\sklearn\\metrics\\_classification.py:1245: UndefinedMetricWarning: Precision is ill-defined and being set to 0.0 in labels with no predicted samples. Use `zero_division` parameter to control this behavior.\n",
      "  _warn_prf(average, modifier, msg_start, len(result))\n"
     ]
    }
   ],
   "source": [
    "predict = SV_tuned_atheism.predict(atheism_val[\"tweets\"])\n",
    "accuracyscore[\"SupportVector\"]  = accuracy_score( atheism_val[\"labels\"] , predict) \n",
    "recallscore[\"SupportVector\"]    = recall_score(   atheism_val[\"labels\"],  predict, average=\"macro\")\n",
    "precisionscore[\"SupportVector\"] = precision_score(atheism_val[\"labels\"],  predict, average=\"macro\")\n",
    "fscore[\"SupportVector\"]         = f1_score(       atheism_val[\"labels\"],  predict, average=\"macro\")"
   ]
  },
  {
   "cell_type": "markdown",
   "metadata": {},
   "source": [
    "##### Logistic Regression Classifier"
   ]
  },
  {
   "cell_type": "code",
   "execution_count": 291,
   "metadata": {},
   "outputs": [],
   "source": [
    "LR_noob_atheism = model_pipeline(SGDClassifier(loss='log', random_state=42))"
   ]
  },
  {
   "cell_type": "code",
   "execution_count": 292,
   "metadata": {},
   "outputs": [],
   "source": [
    "parameters = {\"clf__alpha\": [0.0001, 0.0003, 0.001, 0.003, 0.01, 0.03],\n",
    "              \"clf__penalty\": [\"l2\", \"l1\", \"elasticnet\"],\n",
    "             }"
   ]
  },
  {
   "cell_type": "code",
   "execution_count": 293,
   "metadata": {},
   "outputs": [],
   "source": [
    "gs_clf = GridSearchCV(LR_noob_atheism, parameters, cv=2, n_jobs=-1).fit(atheism_train[\"tweets\"], atheism_train[\"labels\"])"
   ]
  },
  {
   "cell_type": "code",
   "execution_count": 294,
   "metadata": {},
   "outputs": [],
   "source": [
    "scores[\"LR\"] = gs_clf.best_score_"
   ]
  },
  {
   "cell_type": "code",
   "execution_count": 295,
   "metadata": {},
   "outputs": [
    {
     "name": "stdout",
     "output_type": "stream",
     "text": [
      "clf__alpha: 0.003\n",
      "clf__penalty: 'l2'\n"
     ]
    }
   ],
   "source": [
    "for param_name in sorted(parameters.keys()):\n",
    "    print(\"%s: %r\" % (param_name, gs_clf.best_params_[param_name]))"
   ]
  },
  {
   "cell_type": "code",
   "execution_count": 296,
   "metadata": {},
   "outputs": [],
   "source": [
    "LR_tuned_atheism = Pipeline([('vect', CountVectorizer(tokenizer=lambda x: x, preprocessor= lambda x: x, token_pattern=None )\n",
    "                     ), ('tfidf', TfidfTransformer()\n",
    "                     ), ('clf', SGDClassifier(random_state=42, \n",
    "                                    alpha = 0.0003, \n",
    "                                    penalty=\"l2\"))]).fit(atheism_train[\"tweets\"], atheism_train[\"labels\"])"
   ]
  },
  {
   "cell_type": "code",
   "execution_count": 297,
   "metadata": {},
   "outputs": [
    {
     "name": "stderr",
     "output_type": "stream",
     "text": [
      "C:\\Users\\Ruben PC\\anaconda3\\lib\\site-packages\\sklearn\\metrics\\_classification.py:1245: UndefinedMetricWarning: Precision is ill-defined and being set to 0.0 in labels with no predicted samples. Use `zero_division` parameter to control this behavior.\n",
      "  _warn_prf(average, modifier, msg_start, len(result))\n"
     ]
    }
   ],
   "source": [
    "predict = LR_tuned_atheism.predict(atheism_val[\"tweets\"])\n",
    "accuracyscore[\"LogisticRegression\"]  = accuracy_score( atheism_val[\"labels\"] , predict) \n",
    "recallscore[\"LogisticRegression\"]    = recall_score(   atheism_val[\"labels\"],  predict, average=\"macro\")\n",
    "precisionscore[\"LogisticRegression\"] = precision_score(atheism_val[\"labels\"],  predict, average=\"macro\")\n",
    "fscore[\"LogisticRegression\"]         = f1_score(       atheism_val[\"labels\"],  predict, average=\"macro\")"
   ]
  },
  {
   "cell_type": "code",
   "execution_count": 298,
   "metadata": {},
   "outputs": [
    {
     "data": {
      "image/png": "[encoded data removed]",
      "text/plain": [
       "<Figure size 1080x576 with 4 Axes>"
      ]
     },
     "metadata": {
      "needs_background": "light"
     },
     "output_type": "display_data"
    }
   ],
   "source": [
    "fig, ax = plt.subplots(2, 2, figsize=(15,8))\n",
    "ax[0,0].set_title(\"Accuracy score\")\n",
    "ax[0,1].set_title(\"F-score\")\n",
    "ax[1,0].set_title(\"Precision\")\n",
    "ax[1,1].set_title(\"Recall\")\n",
    "\n",
    "for i in accuracyscore.items():\n",
    "    ax[0,0].bar(i[0], i[1])\n",
    "    ax[0,0].set_ylim([0,0.8])\n",
    "\n",
    "for i in fscore.items():\n",
    "    ax[0,1].bar(i[0], i[1])\n",
    "    ax[0,1].set_ylim([0,0.8])\n",
    "    \n",
    "for i in precisionscore.items():\n",
    "    ax[1,0].bar(i[0], i[1])\n",
    "    ax[1,0].set_ylim([0,0.8])\n",
    "    \n",
    "for i in recallscore.items():\n",
    "    ax[1,1].bar(i[0], i[1])\n",
    "    ax[1,1].set_ylim([0,0.8])\n",
    "\n",
    "plt.tight_layout()"
   ]
  },
  {
   "cell_type": "markdown",
   "metadata": {},
   "source": [
    "##### Final model on test data metrics"
   ]
  },
  {
   "cell_type": "code",
   "execution_count": 299,
   "metadata": {},
   "outputs": [
    {
     "name": "stdout",
     "output_type": "stream",
     "text": [
      "RandomForestClassifier: \n",
      "     - classes not predicted by model: \t []\n",
      "     - accuracy score:\t   0.7\n",
      "     - recall score: \t   0.32083333333333336\n",
      "     - precision score:\t   0.24328593996840442\n",
      "     - f1 score:\t   0.27672955974842767\n",
      "\n"
     ]
    }
   ],
   "source": [
    "ls = [0,1,2]\n",
    "model = LR_tuned_atheism\n",
    "predict = model.predict(atheism_test[\"tweets\"])\n",
    "print(\"RandomForestClassifier\" + \": \")\n",
    "uniq, counts = np.unique(predict, return_counts=True)\n",
    "temp = [item for item in ls if item not in set(uniq)]\n",
    "print(\"     - classes not predicted by model: \\t {}\".format(temp))\n",
    "print(\"     - accuracy score:\\t   {}\"  .format(accuracy_score( atheism_test[\"labels\"], predict)))\n",
    "print(\"     - recall score: \\t   {}\"   .format(recall_score(   atheism_test[\"labels\"], predict,  average=\"macro\")))\n",
    "print(\"     - precision score:\\t   {}\" .format(precision_score(atheism_test[\"labels\"], predict,  average=\"macro\")))\n",
    "print(\"     - f1 score:\\t   {}\"        .format(f1_score(       atheism_test[\"labels\"], predict,  average=\"macro\")))\n",
    "print()"
   ]
  },
  {
   "cell_type": "markdown",
   "metadata": {},
   "source": [
    "# 5. Conclusion"
   ]
  },
  {
   "cell_type": "code",
   "execution_count": null,
   "metadata": {},
   "outputs": [],
   "source": []
  },
  {
   "cell_type": "code",
   "execution_count": null,
   "metadata": {},
   "outputs": [],
   "source": []
  },
  {
   "cell_type": "code",
   "execution_count": null,
   "metadata": {},
   "outputs": [],
   "source": []
  }
 ],
 "metadata": {
  "kernelspec": {
   "display_name": "Python 3",
   "language": "python",
   "name": "python3"
  },
  "language_info": {
   "codemirror_mode": {
    "name": "ipython",
    "version": 3
   },
   "file_extension": ".py",
   "mimetype": "text/x-python",
   "name": "python",
   "nbconvert_exporter": "python",
   "pygments_lexer": "ipython3",
   "version": "3.8.8"
  },
  "latex_envs": {
   "LaTeX_envs_menu_present": true,
   "autoclose": false,
   "autocomplete": true,
   "bibliofile": "biblio.bib",
   "cite_by": "apalike",
   "current_citInitial": 1,
   "eqLabelWithNumbers": true,
   "eqNumInitial": 1,
   "hotkeys": {
    "equation": "Ctrl-E",
    "itemize": "Ctrl-I"
   },
   "labels_anchors": false,
   "latex_user_defs": false,
   "report_style_numbering": false,
   "user_envs_cfg": false
  },
  "toc": {
   "base_numbering": 1,
   "nav_menu": {},
   "number_sections": true,
   "sideBar": true,
   "skip_h1_title": false,
   "title_cell": "Table of Contents",
   "title_sidebar": "Contents",
   "toc_cell": false,
   "toc_position": {},
   "toc_section_display": true,
   "toc_window_display": false
  }
 },
 "nbformat": 4,
 "nbformat_minor": 2
}
