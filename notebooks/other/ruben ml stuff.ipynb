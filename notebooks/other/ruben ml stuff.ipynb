{
 "cells": [
  {
   "cell_type": "code",
   "execution_count": 2,
   "id": "clear-princess",
   "metadata": {},
   "outputs": [],
   "source": [
    "import pandas as pd\n",
    "import scipy\n",
    "from sklearn.ensemble import RandomForestClassifier\n",
    "from sklearn.pipeline import Pipeline\n",
    "from sklearn.feature_extraction.text import CountVectorizer\n",
    "from sklearn.feature_extraction.text import TfidfTransformer\n",
    "import re\n",
    "import numpy as np\n",
    "from sklearn.metrics import accuracy_score"
   ]
  },
  {
   "cell_type": "code",
   "execution_count": 3,
   "id": "included-newport",
   "metadata": {},
   "outputs": [],
   "source": [
    "path_text = \"../datasets/stance/{}/train_text.txt\"\n",
    "path_labels = \"../datasets/stance/{}/train_labels.txt\"\n",
    "\n",
    "text = pd.read_csv(path_text.format(\"hillary\"), names=[\"text\"], delimiter=\"\\n\")\n",
    "labels = pd.read_csv(path_labels.format(\"hillary\"), names=[\"labels\"], delimiter=\"\\n\")\n",
    "hillary = pd.concat([text, labels], axis=1)"
   ]
  },
  {
   "cell_type": "code",
   "execution_count": 4,
   "id": "impaired-class",
   "metadata": {},
   "outputs": [],
   "source": [
    "text = pd.read_csv(path_text.format(\"abortion\"), names=[\"text\"], delimiter=\"\\n\")\n",
    "labels = pd.read_csv(path_labels.format(\"abortion\"), names=[\"labels\"], delimiter=\"\\n\")\n",
    "abortion = pd.concat([text, labels], axis=1)\n",
    "abortion[\"labels\"] +=3"
   ]
  },
  {
   "cell_type": "code",
   "execution_count": 5,
   "id": "voluntary-munich",
   "metadata": {},
   "outputs": [],
   "source": [
    "text = pd.read_csv(path_text.format(\"atheism\"), names=[\"text\"], delimiter=\"\\n\")\n",
    "labels = pd.read_csv(path_labels.format(\"atheism\"), names=[\"labels\"], delimiter=\"\\n\")\n",
    "atheism = pd.concat([text, labels], axis=1)\n",
    "atheism[\"labels\"] +=6"
   ]
  },
  {
   "cell_type": "code",
   "execution_count": 6,
   "id": "minimal-toronto",
   "metadata": {},
   "outputs": [],
   "source": [
    "text = pd.read_csv(path_text.format(\"climate\"), names=[\"text\"], delimiter=\"\\n\")\n",
    "labels = pd.read_csv(path_labels.format(\"climate\"), names=[\"labels\"], delimiter=\"\\n\")\n",
    "climate = pd.concat([text, labels], axis=1)\n",
    "climate[\"labels\"] +=9"
   ]
  },
  {
   "cell_type": "code",
   "execution_count": 7,
   "id": "primary-knife",
   "metadata": {},
   "outputs": [],
   "source": [
    "text = pd.read_csv(path_text.format(\"feminist\"), names=[\"text\"], delimiter=\"\\n\")\n",
    "labels = pd.read_csv(path_labels.format(\"feminist\"), names=[\"labels\"], delimiter=\"\\n\")\n",
    "feminist = pd.concat([text, labels], axis=1)\n",
    "feminist[\"labels\"] +=12"
   ]
  },
  {
   "cell_type": "code",
   "execution_count": 8,
   "id": "breathing-collective",
   "metadata": {},
   "outputs": [],
   "source": [
    "def tokenize_meaning(line):\n",
    "    tokens = []\n",
    "    unmatchables = []\n",
    "    \n",
    "    for word in line.split():\n",
    "        if re.findall(r\"\\w+-\\w+|\\w+'\\w+|\\w+|[&?!…]+\", word) != []:\n",
    "            x = re.findall(r\"\\w+-\\w+|\\w+'\\w+|\\w+|[&?!…]+\", word)\n",
    "            for element in x:\n",
    "                if element == \"âž\" or element == \"ðŸ\":\n",
    "                    continue\n",
    "                elif element == \"&\":\n",
    "                    tokens.append(\"and\")\n",
    "                else:\n",
    "                    tokens.append(element.lower())\n",
    "\n",
    "        if re.findall(r\"\\w+-\\w+|\\w+'\\w+|\\w+|[&?!…]\", word) != [word] and re.findall(r\"[^\\w|&!?…]+\", word) != []:\n",
    "            unmatchables.append(re.findall(r\"[^\\w|!?…&]+\", word)[0])\n",
    "\n",
    "    s = \"\"\n",
    "    for token in tokens:\n",
    "        s = s + \" \" + token\n",
    "    return (s, unmatchables, tokens)"
   ]
  },
  {
   "cell_type": "code",
   "execution_count": 9,
   "id": "failing-prize",
   "metadata": {},
   "outputs": [],
   "source": [
    "val_text = \"../datasets/stance/{}/val_text.txt\"\n",
    "val_labels = \"../datasets/stance/{}/val_labels.txt\"\n",
    "\n",
    "text = pd.read_csv(val_text.format(\"hillary\"), names=[\"text\"], delimiter=\"\\n\")\n",
    "labels = pd.read_csv(val_labels.format(\"hillary\"), names=[\"labels\"], delimiter=\"\\n\")\n",
    "hillary_val = pd.concat([text, labels], axis=1)"
   ]
  },
  {
   "cell_type": "code",
   "execution_count": 11,
   "id": "excellent-rabbit",
   "metadata": {},
   "outputs": [],
   "source": [
    "text = pd.read_csv(val_text.format(\"abortion\"), names=[\"text\"], delimiter=\"\\n\")\n",
    "labels = pd.read_csv(val_labels.format(\"abortion\"), names=[\"labels\"], delimiter=\"\\n\")\n",
    "abortion_val = pd.concat([text, labels], axis=1)\n",
    "abortion_val[\"labels\"] +=3"
   ]
  },
  {
   "cell_type": "code",
   "execution_count": 12,
   "id": "understanding-landscape",
   "metadata": {},
   "outputs": [],
   "source": [
    "text = pd.read_csv(val_text.format(\"atheism\"), names=[\"text\"], delimiter=\"\\n\")\n",
    "labels = pd.read_csv(val_labels.format(\"atheism\"), names=[\"labels\"], delimiter=\"\\n\")\n",
    "atheism_val = pd.concat([text, labels], axis=1)\n",
    "atheism_val[\"labels\"] +=6"
   ]
  },
  {
   "cell_type": "code",
   "execution_count": 13,
   "id": "wicked-mapping",
   "metadata": {},
   "outputs": [],
   "source": [
    "text = pd.read_csv(val_text.format(\"climate\"), names=[\"text\"], delimiter=\"\\n\")\n",
    "labels = pd.read_csv(val_labels.format(\"climate\"), names=[\"labels\"], delimiter=\"\\n\")\n",
    "climate_val = pd.concat([text, labels], axis=1)\n",
    "climate_val[\"labels\"] +=9"
   ]
  },
  {
   "cell_type": "code",
   "execution_count": 14,
   "id": "individual-cuisine",
   "metadata": {},
   "outputs": [],
   "source": [
    "text = pd.read_csv(val_text.format(\"feminist\"), names=[\"text\"], delimiter=\"\\n\")\n",
    "labels = pd.read_csv(val_labels.format(\"feminist\"), names=[\"labels\"], delimiter=\"\\n\")\n",
    "feminist_val = pd.concat([text, labels], axis=1)\n",
    "feminist_val[\"labels\"] +=12"
   ]
  },
  {
   "cell_type": "code",
   "execution_count": 16,
   "id": "7135b1f8",
   "metadata": {},
   "outputs": [
    {
     "data": {
      "text/html": [
       "<div>\n",
       "<style scoped>\n",
       "    .dataframe tbody tr th:only-of-type {\n",
       "        vertical-align: middle;\n",
       "    }\n",
       "\n",
       "    .dataframe tbody tr th {\n",
       "        vertical-align: top;\n",
       "    }\n",
       "\n",
       "    .dataframe thead th {\n",
       "        text-align: right;\n",
       "    }\n",
       "</style>\n",
       "<table border=\"1\" class=\"dataframe\">\n",
       "  <thead>\n",
       "    <tr style=\"text-align: right;\">\n",
       "      <th></th>\n",
       "      <th>text</th>\n",
       "      <th>labels</th>\n",
       "    </tr>\n",
       "  </thead>\n",
       "  <tbody>\n",
       "    <tr>\n",
       "      <th>0</th>\n",
       "      <td>If a man demanded staff to get him an ice tea ...</td>\n",
       "      <td>1</td>\n",
       "    </tr>\n",
       "    <tr>\n",
       "      <th>1</th>\n",
       "      <td>We're out here in G-town, and where are you  #...</td>\n",
       "      <td>0</td>\n",
       "    </tr>\n",
       "    <tr>\n",
       "      <th>2</th>\n",
       "      <td>If you're not watching @user speech right now ...</td>\n",
       "      <td>2</td>\n",
       "    </tr>\n",
       "    <tr>\n",
       "      <th>3</th>\n",
       "      <td>How can she live with herself? #Benghazi #SemST</td>\n",
       "      <td>1</td>\n",
       "    </tr>\n",
       "    <tr>\n",
       "      <th>4</th>\n",
       "      <td>Jimmy Fallon music playing. Thank you .... #Do...</td>\n",
       "      <td>0</td>\n",
       "    </tr>\n",
       "    <tr>\n",
       "      <th>...</th>\n",
       "      <td>...</td>\n",
       "      <td>...</td>\n",
       "    </tr>\n",
       "    <tr>\n",
       "      <th>592</th>\n",
       "      <td>The only thing ugly is the god damn opinions o...</td>\n",
       "      <td>12</td>\n",
       "    </tr>\n",
       "    <tr>\n",
       "      <th>593</th>\n",
       "      <td>The lack intellectual integrity in a group of ...</td>\n",
       "      <td>13</td>\n",
       "    </tr>\n",
       "    <tr>\n",
       "      <th>594</th>\n",
       "      <td>What a real #Patriarchy and #RapeCulture looks...</td>\n",
       "      <td>13</td>\n",
       "    </tr>\n",
       "    <tr>\n",
       "      <th>595</th>\n",
       "      <td>Women are shamed if they don't want children, ...</td>\n",
       "      <td>14</td>\n",
       "    </tr>\n",
       "    <tr>\n",
       "      <th>596</th>\n",
       "      <td>The cutting and mutilation of my and my daught...</td>\n",
       "      <td>14</td>\n",
       "    </tr>\n",
       "  </tbody>\n",
       "</table>\n",
       "<p>2620 rows × 2 columns</p>\n",
       "</div>"
      ],
      "text/plain": [
       "                                                  text  labels\n",
       "0    If a man demanded staff to get him an ice tea ...       1\n",
       "1    We're out here in G-town, and where are you  #...       0\n",
       "2    If you're not watching @user speech right now ...       2\n",
       "3     How can she live with herself? #Benghazi #SemST        1\n",
       "4    Jimmy Fallon music playing. Thank you .... #Do...       0\n",
       "..                                                 ...     ...\n",
       "592  The only thing ugly is the god damn opinions o...      12\n",
       "593  The lack intellectual integrity in a group of ...      13\n",
       "594  What a real #Patriarchy and #RapeCulture looks...      13\n",
       "595  Women are shamed if they don't want children, ...      14\n",
       "596  The cutting and mutilation of my and my daught...      14\n",
       "\n",
       "[2620 rows x 2 columns]"
      ]
     },
     "execution_count": 16,
     "metadata": {},
     "output_type": "execute_result"
    }
   ],
   "source": [
    "combined_train"
   ]
  },
  {
   "cell_type": "code",
   "execution_count": 15,
   "id": "smart-convenience",
   "metadata": {},
   "outputs": [],
   "source": [
    "combined_train = pd.concat([hillary, abortion, atheism, climate, feminist])\n",
    "combined_val = pd.concat([hillary_val, abortion_val, atheism_val, climate_val, feminist_val])"
   ]
  },
  {
   "cell_type": "code",
   "execution_count": 129,
   "id": "third-radical",
   "metadata": {},
   "outputs": [],
   "source": [
    "stance_train_vocab = []\n",
    "stance_train_list = []\n",
    "stance_val_vocab = []\n",
    "\n",
    "for i in combined_train[\"text\"]:\n",
    "    x = tokenize_meaning(i)\n",
    "    stance_train_vocab.append(x[0])\n",
    "    stance_train_list.append(x[2])\n",
    "\n",
    "for i in combined_val[\"text\"]:\n",
    "    x = tokenize_meaning(i)\n",
    "    stance_val_vocab.append(x[0])"
   ]
  },
  {
   "cell_type": "code",
   "execution_count": 91,
   "id": "committed-syria",
   "metadata": {},
   "outputs": [],
   "source": [
    "mapping = {}\n",
    "mapping[0]  = \"none hillary\"\n",
    "mapping[1]  = \"against hillary\"\n",
    "mapping[2]  = \"favor hillary\"\n",
    "mapping[3]  = \"none abortion\"\n",
    "mapping[4]  = \"against abortion\"\n",
    "mapping[5]  = \"favor abortion\"\n",
    "mapping[6]  = \"none atheism\"\n",
    "mapping[7]  = \"against atheism\"\n",
    "mapping[8]  = \"favor atheism\"\n",
    "mapping[9]  = \"none climate\"\n",
    "mapping[10] = \"against climate\"\n",
    "mapping[11] = \"favor climate\"\n",
    "mapping[12] = \"none feminist\"\n",
    "mapping[13] = \"against feminist\"\n",
    "mapping[14] = \"favor feminist\""
   ]
  },
  {
   "cell_type": "code",
   "execution_count": 135,
   "id": "pacific-ensemble",
   "metadata": {},
   "outputs": [],
   "source": [
    "stance_forest = Pipeline([('vect', CountVectorizer(analyzer='word', ngram_range=(1, 1))), ('tfidf', TfidfTransformer()), ('clf', RandomForestClassifier())])\n",
    "stance_forest.fit(stance_train_vocab, combined_train[\"labels\"]);"
   ]
  },
  {
   "cell_type": "code",
   "execution_count": 142,
   "id": "impressive-practice",
   "metadata": {},
   "outputs": [
    {
     "data": {
      "text/plain": [
       "0.47278911564625853"
      ]
     },
     "execution_count": 142,
     "metadata": {},
     "output_type": "execute_result"
    }
   ],
   "source": [
    "predicted = stance_forest.predict(combined_val[\"text\"])\n",
    "accuracy_score(predicted, combined_val[\"labels\"])"
   ]
  },
  {
   "cell_type": "code",
   "execution_count": 159,
   "id": "involved-experience",
   "metadata": {},
   "outputs": [
    {
     "data": {
      "text/plain": [
       "1     39\n",
       "4     36\n",
       "13    33\n",
       "7     31\n",
       "11    21\n",
       "14    21\n",
       "0     18\n",
       "3     18\n",
       "9     17\n",
       "12    13\n",
       "2     12\n",
       "5     12\n",
       "6     12\n",
       "8      9\n",
       "10     2\n",
       "Name: labels, dtype: int64"
      ]
     },
     "execution_count": 159,
     "metadata": {},
     "output_type": "execute_result"
    }
   ],
   "source": [
    "combined_val[\"labels\"].value_counts()"
   ]
  },
  {
   "cell_type": "code",
   "execution_count": 153,
   "id": "declared-kitty",
   "metadata": {},
   "outputs": [
    {
     "data": {
      "text/plain": [
       "0.4492753623188406"
      ]
     },
     "execution_count": 153,
     "metadata": {},
     "output_type": "execute_result"
    }
   ],
   "source": [
    "predicted = stance_forest.predict(hillary_val[\"text\"])\n",
    "accuracy_score(predicted, hillar_val[\"labels\"])"
   ]
  },
  {
   "cell_type": "code",
   "execution_count": 154,
   "id": "focal-finnish",
   "metadata": {},
   "outputs": [
    {
     "data": {
      "text/plain": [
       "0.4696969696969697"
      ]
     },
     "execution_count": 154,
     "metadata": {},
     "output_type": "execute_result"
    }
   ],
   "source": [
    "predicted = stance_forest.predict(abortion_val[\"text\"])\n",
    "accuracy_score(predicted, abortion_val[\"labels\"])"
   ]
  },
  {
   "cell_type": "code",
   "execution_count": 155,
   "id": "timely-trout",
   "metadata": {},
   "outputs": [
    {
     "data": {
      "text/plain": [
       "0.5192307692307693"
      ]
     },
     "execution_count": 155,
     "metadata": {},
     "output_type": "execute_result"
    }
   ],
   "source": [
    "predicted = stance_forest.predict(atheism_val[\"text\"])\n",
    "accuracy_score(predicted, atheism_val[\"labels\"])"
   ]
  },
  {
   "cell_type": "code",
   "execution_count": 156,
   "id": "arranged-pitch",
   "metadata": {},
   "outputs": [
    {
     "data": {
      "text/plain": [
       "0.5"
      ]
     },
     "execution_count": 156,
     "metadata": {},
     "output_type": "execute_result"
    }
   ],
   "source": [
    "predicted = stance_forest.predict(climate_val[\"text\"])\n",
    "accuracy_score(predicted, climate_val[\"labels\"])"
   ]
  },
  {
   "cell_type": "code",
   "execution_count": 157,
   "id": "seven-bibliography",
   "metadata": {},
   "outputs": [
    {
     "data": {
      "text/plain": [
       "0.44776119402985076"
      ]
     },
     "execution_count": 157,
     "metadata": {},
     "output_type": "execute_result"
    }
   ],
   "source": [
    "predicted = stance_forest.predict(feminist_val[\"text\"])\n",
    "accuracy_score(predicted, feminist_val[\"labels\"])"
   ]
  },
  {
   "cell_type": "code",
   "execution_count": 149,
   "id": "minimal-seven",
   "metadata": {},
   "outputs": [],
   "source": [
    "hillary_train_vocab = []\n",
    "hillary_train_list = []\n",
    "hillary_val_vocab = []\n",
    "\n",
    "for i in hillary[\"text\"]:\n",
    "    x = tokenize_meaning(i)\n",
    "    hillary_train_vocab.append(x[0])\n",
    "    hillary_train_list.append(x[2])\n",
    "\n",
    "for i in hillary_val[\"text\"]:\n",
    "    x = tokenize_meaning(i)\n",
    "    hillary_val_vocab.append(x[0])"
   ]
  },
  {
   "cell_type": "code",
   "execution_count": 151,
   "id": "color-bedroom",
   "metadata": {},
   "outputs": [],
   "source": [
    "hillary_forest = Pipeline([('vect', CountVectorizer(analyzer='word', ngram_range=(1, 1))), ('tfidf', TfidfTransformer()), ('clf', RandomForestClassifier())])\n",
    "hillary_forest.fit(hillary_train_vocab, hillary[\"labels\"]);"
   ]
  },
  {
   "cell_type": "code",
   "execution_count": 152,
   "id": "normal-sigma",
   "metadata": {},
   "outputs": [
    {
     "data": {
      "text/plain": [
       "0.5797101449275363"
      ]
     },
     "execution_count": 152,
     "metadata": {},
     "output_type": "execute_result"
    }
   ],
   "source": [
    "predicted = hillary_forest.predict(hillary_val[\"text\"])\n",
    "accuracy_score(predicted, hillary_val[\"labels\"])"
   ]
  },
  {
   "cell_type": "code",
   "execution_count": null,
   "id": "literary-baseball",
   "metadata": {},
   "outputs": [],
   "source": []
  }
 ],
 "metadata": {
  "kernelspec": {
   "display_name": "Python 3",
   "language": "python",
   "name": "python3"
  },
  "language_info": {
   "codemirror_mode": {
    "name": "ipython",
    "version": 3
   },
   "file_extension": ".py",
   "mimetype": "text/x-python",
   "name": "python",
   "nbconvert_exporter": "python",
   "pygments_lexer": "ipython3",
   "version": "3.8.8"
  },
  "latex_envs": {
   "LaTeX_envs_menu_present": true,
   "autoclose": false,
   "autocomplete": true,
   "bibliofile": "biblio.bib",
   "cite_by": "apalike",
   "current_citInitial": 1,
   "eqLabelWithNumbers": true,
   "eqNumInitial": 1,
   "hotkeys": {
    "equation": "Ctrl-E",
    "itemize": "Ctrl-I"
   },
   "labels_anchors": false,
   "latex_user_defs": false,
   "report_style_numbering": false,
   "user_envs_cfg": false
  },
  "toc": {
   "base_numbering": 1,
   "nav_menu": {},
   "number_sections": true,
   "sideBar": true,
   "skip_h1_title": false,
   "title_cell": "Table of Contents",
   "title_sidebar": "Contents",
   "toc_cell": false,
   "toc_position": {},
   "toc_section_display": true,
   "toc_window_display": false
  }
 },
 "nbformat": 4,
 "nbformat_minor": 5
}
