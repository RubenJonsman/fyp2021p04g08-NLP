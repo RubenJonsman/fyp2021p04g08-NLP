{
 "cells": [
  {
   "cell_type": "code",
   "execution_count": null,
   "id": "b1e1be8e",
   "metadata": {},
   "outputs": [],
   "source": [
    "path = \"../datasets/irony/test_text.txt\""
   ]
  },
  {
   "cell_type": "code",
   "execution_count": null,
   "id": "92b4a638",
   "metadata": {},
   "outputs": [],
   "source": [
    "with open(path, 'r', encoding=\"utf8\") as f2:\n",
    "    data = f2.read()"
   ]
  },
  {
   "cell_type": "code",
   "execution_count": null,
   "id": "4b674ff8",
   "metadata": {},
   "outputs": [],
   "source": [
    "import re\n",
    "\n",
    "line = data[:200]\n",
    "\n",
    "# Initialise lists\n",
    "tokens = []\n",
    "unmatchable = []\n",
    "\n",
    "# Compile patterns for speedup\n",
    "token_pat = re.compile(r'\\w+')\n",
    "skippable_pat = re.compile(r'\\s+')  # typically spaces\n",
    "\n",
    "# As long as there's any material left...\n",
    "while line:\n",
    "    # Try finding a skippable token delimiter first.\n",
    "    skippable_match = re.search(skippable_pat, line)\n",
    "    if skippable_match and skippable_match.start() == 0:\n",
    "        # If there is one at the beginning of the line, just skip it.\n",
    "        line = line[skippable_match.end():]\n",
    "    else:\n",
    "        # Else try finding a real token.\n",
    "        token_match = re.search(token_pat, line)\n",
    "        if token_match and token_match.start() == 0:\n",
    "            # If there is one at the beginning of the line, tokenise it.\n",
    "            tokens.append(line[:token_match.end()])\n",
    "            line = line[token_match.end():]\n",
    "        else:\n",
    "            # Else there is unmatchable material here.\n",
    "            # It ends where a skippable or token match starts, or at the end of the line.\n",
    "            unmatchable_end = len(line)\n",
    "            if skippable_match:\n",
    "                unmatchable_end = skippable_match.start()\n",
    "            if token_match:\n",
    "                unmatchable_end = min(unmatchable_end, token_match.start())\n",
    "            # Add it to unmatchable and discard from line.\n",
    "            unmatchable.append(line[:unmatchable_end])\n",
    "            line = line[unmatchable_end:]"
   ]
  },
  {
   "cell_type": "code",
   "execution_count": null,
   "id": "460119d4",
   "metadata": {},
   "outputs": [],
   "source": [
    "#data = data.split(\"\\n\")"
   ]
  },
  {
   "cell_type": "code",
   "execution_count": null,
   "id": "02db4bf6",
   "metadata": {},
   "outputs": [],
   "source": [
    "data[:5]"
   ]
  },
  {
   "cell_type": "markdown",
   "id": "4f6ca498",
   "metadata": {},
   "source": [
    "- Only words \n",
    "- Only @\n",
    "- Only # \n",
    "- Only Non-words\n",
    "- Only Uppercase letters\n",
    "- "
   ]
  },
  {
   "cell_type": "code",
   "execution_count": null,
   "id": "9d406624",
   "metadata": {},
   "outputs": [],
   "source": [
    "tokens"
   ]
  },
  {
   "cell_type": "code",
   "execution_count": null,
   "id": "4a8553f5",
   "metadata": {},
   "outputs": [],
   "source": [
    "unmatchable"
   ]
  },
  {
   "cell_type": "code",
   "execution_count": null,
   "id": "317011e6",
   "metadata": {
    "scrolled": false
   },
   "outputs": [],
   "source": [
    "data[:10]"
   ]
  },
  {
   "cell_type": "markdown",
   "id": "a16f2cb5",
   "metadata": {},
   "source": [
    "Interesting tokenizers\n",
    "- Only #\n",
    "- Only Non-words\n",
    "- Only Uppercase letters\n",
    "- Only emojis"
   ]
  },
  {
   "cell_type": "markdown",
   "id": "94b267bd",
   "metadata": {},
   "source": [
    "Ideal tokenizer\n",
    "\n",
    "- Keep words\n",
    "- keep #\n",
    "- keep punctuation\n",
    "- remove emojis\n",
    "- keep %\n",
    "- keep numbers"
   ]
  },
  {
   "cell_type": "markdown",
   "id": "f4cf54f0",
   "metadata": {},
   "source": [
    "- Ida     # hastag\n",
    "- Magnus  # uppercase\n",
    "- Rasmus  # ideal tokenizer\n",
    "- Sabrina # Non-words\n",
    "- Ruben   # emoji, ideal"
   ]
  },
  {
   "cell_type": "code",
   "execution_count": null,
   "id": "56deea8f",
   "metadata": {},
   "outputs": [],
   "source": [
    "import re\n",
    "line = data[:200]\n",
    "\n",
    "# Initialise lists\n",
    "tokens = []\n",
    "unmatchable = []\n",
    "\n",
    "# Compile patterns for speedup\n",
    "token_pat = re.compile(r'\\w+')\n",
    "skippable_pat = re.compile(r'\\s+')  # typically spaces\n",
    "\n",
    "# As long as there's any material left...\n",
    "while line:\n",
    "    # Try finding a skippable token delimiter first.\n",
    "    skippable_match = re.search(skippable_pat, line)\n",
    "    if skippable_match and skippable_match.start() == 0:\n",
    "        # If there is one at the beginning of the line, just skip it.\n",
    "        line = line[skippable_match.end():]\n",
    "    else:\n",
    "        # Else try finding a real token.\n",
    "        token_match = re.search(token_pat, line)\n",
    "        if token_match and token_match.start() == 0:\n",
    "            # If there is one at the beginning of the line, tokenise it.\n",
    "            tokens.append(line[:token_match.end()])\n",
    "            line = line[token_match.end():]\n",
    "        else:\n",
    "            # Else there is unmatchable material here.\n",
    "            # It ends where a skippable or token match starts, or at the end of the line.\n",
    "            unmatchable_end = len(line)\n",
    "            if skippable_match:\n",
    "                unmatchable_end = skippable_match.start()\n",
    "            if token_match:\n",
    "                unmatchable_end = min(unmatchable_end, token_match.start())\n",
    "            # Add it to unmatchable and discard from line.\n",
    "            unmatchable.append(line[:unmatchable_end])\n",
    "            line = line[unmatchable_end:]"
   ]
  },
  {
   "cell_type": "code",
   "execution_count": null,
   "id": "b147dc9d",
   "metadata": {},
   "outputs": [],
   "source": [
    "data"
   ]
  },
  {
   "cell_type": "code",
   "execution_count": null,
   "id": "c1c1ee9c",
   "metadata": {},
   "outputs": [],
   "source": [
    "import emoji\n",
    "def extract_emojis(s):\n",
    "    return ''.join(c for c in s if c in emoji.UNICODE_EMOJI)"
   ]
  },
  {
   "cell_type": "code",
   "execution_count": null,
   "id": "8f8dab66",
   "metadata": {},
   "outputs": [],
   "source": [
    "text =\"🤔 🙈 me así, se 😌 ds 💕👭👙 hello 👩🏾‍🎓 emoji hello 👨‍👩‍👦‍👦 how are 😊 you today🙅🏽🙅🏽\"\n",
    "extract_emojis(text)"
   ]
  },
  {
   "cell_type": "code",
   "execution_count": null,
   "id": "0875a194",
   "metadata": {},
   "outputs": [],
   "source": [
    "emoji.UNICODE_EMOJI"
   ]
  },
  {
   "cell_type": "code",
   "execution_count": null,
   "id": "35a91a35",
   "metadata": {},
   "outputs": [],
   "source": []
  },
  {
   "cell_type": "code",
   "execution_count": null,
   "id": "93cbff77",
   "metadata": {},
   "outputs": [],
   "source": []
  },
  {
   "cell_type": "code",
   "execution_count": null,
   "id": "ed5de6c3",
   "metadata": {},
   "outputs": [],
   "source": []
  },
  {
   "cell_type": "code",
   "execution_count": null,
   "id": "a6d10e0c",
   "metadata": {},
   "outputs": [],
   "source": [
    "import collections\n",
    "import nltk.tokenize\n",
    "import numpy\n",
    "import pandas\n",
    "import pickle\n",
    "import seaborn\n",
    "import matplotlib.pyplot as plt"
   ]
  },
  {
   "cell_type": "markdown",
   "id": "49b429a5",
   "metadata": {},
   "source": [
    "# 1. Remove a subset of about 5000 sentences from the news commentary dataset to be used for evaluation. For the TweetEval datasets, you can use the standard training/validation split."
   ]
  },
  {
   "cell_type": "code",
   "execution_count": null,
   "id": "0da3bc30",
   "metadata": {},
   "outputs": [],
   "source": [
    "tok = nltk.tokenize.TreebankWordTokenizer()\n",
    "location = \"../datasets/irony/train_text.txt\"\n",
    "with open(location, 'r', encoding=\"utf8\") as f:\n",
    "    data = f.read().split(\"\\n\")\n",
    "    hold_out = data[:500]\n",
    "    data = data[500: 5000]"
   ]
  },
  {
   "cell_type": "markdown",
   "id": "bf866e52",
   "metadata": {},
   "source": [
    "# 2. Load and tokenise your datasets so that, for each of the corpora, you get a list of sentences, each sentence represented by a list of tokens. Use the same tokeniser for all datasets."
   ]
  },
  {
   "cell_type": "code",
   "execution_count": null,
   "id": "24459840",
   "metadata": {},
   "outputs": [],
   "source": [
    "corpus = []\n",
    "for line in data:\n",
    "    smth = []\n",
    "    for t in tok.tokenize(line):\n",
    "        smth.append(t)\n",
    "            \n",
    "    corpus.append(smth)"
   ]
  },
  {
   "cell_type": "code",
   "execution_count": null,
   "id": "de65aea0",
   "metadata": {},
   "outputs": [],
   "source": [
    "data"
   ]
  },
  {
   "cell_type": "code",
   "execution_count": null,
   "id": "4f47a3b7",
   "metadata": {},
   "outputs": [],
   "source": [
    "corpus[0:25]"
   ]
  },
  {
   "cell_type": "markdown",
   "id": "87d8a884",
   "metadata": {
    "heading_collapsed": true
   },
   "source": [
    "# 3. Follow the instructions at\n",
    "http://www.nltk.org/api/nltk.lm.html#module-nltk.lm\n",
    "to train maximum-likelihood language models of varying orders (e.g., n=2..6) for\n",
    "each of your corpora. Make a note of the size of the n-gram lists for each\n",
    "n-gram order. You might also plot them."
   ]
  },
  {
   "cell_type": "code",
   "execution_count": null,
   "id": "a652425e",
   "metadata": {
    "hidden": true
   },
   "outputs": [],
   "source": [
    "from nltk.util import bigrams\n",
    "list(bigrams(corpus[0]))"
   ]
  },
  {
   "cell_type": "code",
   "execution_count": null,
   "id": "d1e1dc12",
   "metadata": {
    "hidden": true
   },
   "outputs": [],
   "source": [
    "from nltk.util import pad_sequence\n",
    "list(pad_sequence(corpus[0],pad_left=True,left_pad_symbol=\"<s>\",pad_right=True,right_pad_symbol=\"</s>\",n=2))"
   ]
  },
  {
   "cell_type": "code",
   "execution_count": null,
   "id": "09f25ab0",
   "metadata": {
    "hidden": true
   },
   "outputs": [],
   "source": [
    "from nltk.lm.preprocessing import pad_both_ends\n",
    "list(pad_both_ends(corpus[0], n=2))"
   ]
  },
  {
   "cell_type": "code",
   "execution_count": null,
   "id": "e48c2195",
   "metadata": {
    "hidden": true
   },
   "outputs": [],
   "source": [
    "list(bigrams(pad_both_ends(corpus[0], n=2)))"
   ]
  },
  {
   "cell_type": "code",
   "execution_count": null,
   "id": "1484dfc7",
   "metadata": {
    "hidden": true
   },
   "outputs": [],
   "source": [
    "from nltk.util import everygrams"
   ]
  },
  {
   "cell_type": "code",
   "execution_count": null,
   "id": "2c5d7def",
   "metadata": {
    "hidden": true
   },
   "outputs": [],
   "source": [
    "padded_bigrams = list(pad_both_ends(corpus[0], n=2))\n",
    "list(everygrams(padded_bigrams, max_len=2))"
   ]
  },
  {
   "cell_type": "code",
   "execution_count": null,
   "id": "c5089b9b",
   "metadata": {
    "hidden": true
   },
   "outputs": [],
   "source": [
    "from nltk.lm.preprocessing import flatten\n",
    "text = corpus\n",
    "list(flatten(pad_both_ends(sent, n=2) for sent in text))"
   ]
  },
  {
   "cell_type": "code",
   "execution_count": null,
   "id": "11f9ee51",
   "metadata": {
    "hidden": true
   },
   "outputs": [],
   "source": [
    "from nltk.lm.preprocessing import padded_everygram_pipeline\n",
    "train, vocab = padded_everygram_pipeline(2, text)"
   ]
  },
  {
   "cell_type": "code",
   "execution_count": null,
   "id": "6ec59342",
   "metadata": {
    "hidden": true
   },
   "outputs": [],
   "source": [
    "from nltk.lm import MLE\n",
    "lm = MLE(2)"
   ]
  },
  {
   "cell_type": "code",
   "execution_count": null,
   "id": "f0312b6b",
   "metadata": {
    "hidden": true
   },
   "outputs": [],
   "source": [
    "len(lm.vocab)"
   ]
  },
  {
   "cell_type": "code",
   "execution_count": null,
   "id": "6999fe78",
   "metadata": {
    "hidden": true
   },
   "outputs": [],
   "source": [
    "lm.fit(train, vocab)\n",
    "print(lm.vocab)\n",
    "len(lm.vocab)"
   ]
  },
  {
   "cell_type": "code",
   "execution_count": null,
   "id": "e1f0c43c",
   "metadata": {
    "hidden": true
   },
   "outputs": [],
   "source": [
    "print(lm.vocab.lookup(text[0]))\n",
    "\n",
    "print(lm.vocab.lookup([\"aliens\", \"from\", \"Mars\"]))\n"
   ]
  },
  {
   "cell_type": "code",
   "execution_count": null,
   "id": "5c1a074d",
   "metadata": {
    "hidden": true
   },
   "outputs": [],
   "source": [
    "print(lm.counts)"
   ]
  },
  {
   "cell_type": "code",
   "execution_count": null,
   "id": "fed6332f",
   "metadata": {
    "hidden": true
   },
   "outputs": [],
   "source": [
    "lm.counts['a']"
   ]
  },
  {
   "cell_type": "code",
   "execution_count": null,
   "id": "443cb11d",
   "metadata": {
    "hidden": true
   },
   "outputs": [],
   "source": [
    "lm.counts[['a']]['b']"
   ]
  },
  {
   "cell_type": "code",
   "execution_count": null,
   "id": "fcdcb130",
   "metadata": {
    "hidden": true
   },
   "outputs": [],
   "source": [
    "lm.score(\"a\")"
   ]
  },
  {
   "cell_type": "code",
   "execution_count": null,
   "id": "4ec941f1",
   "metadata": {
    "hidden": true
   },
   "outputs": [],
   "source": [
    "lm.score(\"<UNK>\") == lm.score(\"aliens\")"
   ]
  },
  {
   "cell_type": "code",
   "execution_count": null,
   "id": "5ca4a0bf",
   "metadata": {
    "hidden": true
   },
   "outputs": [],
   "source": [
    "lm.score(\"b\", [\"a\"])"
   ]
  },
  {
   "cell_type": "code",
   "execution_count": null,
   "id": "944aba38",
   "metadata": {
    "hidden": true
   },
   "outputs": [],
   "source": [
    "lm.logscore(\"a\")"
   ]
  },
  {
   "cell_type": "code",
   "execution_count": null,
   "id": "691927b1",
   "metadata": {
    "hidden": true
   },
   "outputs": [],
   "source": [
    "test = [(\"Comeback\", 'Strategy'), ('for', 'Europe')]\n",
    "print(lm.entropy(test))\n",
    "print(lm.perplexity(test))"
   ]
  },
  {
   "cell_type": "code",
   "execution_count": null,
   "id": "8484f5c9",
   "metadata": {
    "hidden": true
   },
   "outputs": [],
   "source": [
    "lm.generate(1, random_seed=3)"
   ]
  },
  {
   "cell_type": "code",
   "execution_count": null,
   "id": "d580b28c",
   "metadata": {
    "hidden": true
   },
   "outputs": [],
   "source": [
    "lm.generate(5, random_seed=3)"
   ]
  },
  {
   "cell_type": "code",
   "execution_count": null,
   "id": "760baf3f",
   "metadata": {
    "hidden": true
   },
   "outputs": [],
   "source": [
    "lm.generate(5, text_seed=['c'], random_seed=3)"
   ]
  },
  {
   "cell_type": "markdown",
   "id": "863ddd72",
   "metadata": {
    "hidden": true
   },
   "source": [
    "## different sizes"
   ]
  },
  {
   "cell_type": "code",
   "execution_count": null,
   "id": "83eba25e",
   "metadata": {
    "hidden": true
   },
   "outputs": [],
   "source": [
    "ls = {}\n",
    "models = {}\n",
    "for i in range(1,6):\n",
    "    train, vocab = padded_everygram_pipeline(i, text)\n",
    "    lm = MLE(i)\n",
    "    lm.fit(train, vocab)\n",
    "    print(lm.vocab)\n",
    "    models[i] = lm\n",
    "    ls[\"n-gram order = {} vocabulary size\".format(i)] = len(lm.vocab)"
   ]
  },
  {
   "cell_type": "code",
   "execution_count": null,
   "id": "7e52b508",
   "metadata": {
    "hidden": true
   },
   "outputs": [],
   "source": [
    "ls"
   ]
  },
  {
   "cell_type": "code",
   "execution_count": null,
   "id": "abfcc266",
   "metadata": {
    "hidden": true
   },
   "outputs": [],
   "source": [
    "models"
   ]
  },
  {
   "cell_type": "code",
   "execution_count": null,
   "id": "29b5b371",
   "metadata": {
    "hidden": true
   },
   "outputs": [],
   "source": [
    "import matplotlib.pyplot as plt\n",
    "fig, ax = plt.subplots(figsize=(9, 3))\n",
    "ax.bar(ls.keys(), ls.values())\n",
    "plt.tight_layout()"
   ]
  },
  {
   "cell_type": "markdown",
   "id": "34f059cc",
   "metadata": {
    "heading_collapsed": true
   },
   "source": [
    "# Frequency plots"
   ]
  },
  {
   "cell_type": "code",
   "execution_count": null,
   "id": "4708a2f4",
   "metadata": {
    "hidden": true
   },
   "outputs": [],
   "source": [
    "new_corpus = []\n",
    "for i in corpus:\n",
    "    for j in i:\n",
    "        new_corpus.append(j)"
   ]
  },
  {
   "cell_type": "code",
   "execution_count": null,
   "id": "27ac77c6",
   "metadata": {
    "hidden": true
   },
   "outputs": [],
   "source": [
    "voc = collections.Counter(new_corpus)\n",
    "frq = pandas.DataFrame(voc.most_common(), columns=['token', 'frequency'])"
   ]
  },
  {
   "cell_type": "code",
   "execution_count": null,
   "id": "15428f18",
   "metadata": {
    "hidden": true
   },
   "outputs": [],
   "source": [
    "frq"
   ]
  },
  {
   "cell_type": "code",
   "execution_count": null,
   "id": "4ca7cd39",
   "metadata": {
    "hidden": true
   },
   "outputs": [],
   "source": [
    "frq['idx'] = frq.index + 1"
   ]
  },
  {
   "cell_type": "code",
   "execution_count": null,
   "id": "31e13c7c",
   "metadata": {
    "hidden": true
   },
   "outputs": [],
   "source": [
    "frq['norm_freq'] = frq.frequency / len(corpus)"
   ]
  },
  {
   "cell_type": "code",
   "execution_count": null,
   "id": "a051cac0",
   "metadata": {
    "hidden": true
   },
   "outputs": [],
   "source": [
    "frq['cumul_frq'] = frq.norm_freq.cumsum()"
   ]
  },
  {
   "cell_type": "code",
   "execution_count": null,
   "id": "90ac17b1",
   "metadata": {
    "hidden": true
   },
   "outputs": [],
   "source": [
    "frq"
   ]
  },
  {
   "cell_type": "code",
   "execution_count": null,
   "id": "dc708665",
   "metadata": {
    "hidden": true
   },
   "outputs": [],
   "source": [
    "seaborn.set_theme(style='whitegrid')"
   ]
  },
  {
   "cell_type": "code",
   "execution_count": null,
   "id": "8aeaba21",
   "metadata": {
    "hidden": true
   },
   "outputs": [],
   "source": [
    "seaborn.relplot(x='idx', y='cumul_frq', data=frq)\n",
    "plt.show()"
   ]
  },
  {
   "cell_type": "code",
   "execution_count": null,
   "id": "b48b96e9",
   "metadata": {
    "hidden": true
   },
   "outputs": [],
   "source": [
    "seaborn.relplot(x='idx', y='cumul_frq', data=frq[:10000], kind='line')\n",
    "plt.show()"
   ]
  },
  {
   "cell_type": "code",
   "execution_count": null,
   "id": "c3cd771a",
   "metadata": {
    "hidden": true
   },
   "outputs": [],
   "source": [
    "frq['log_frq'] = numpy.log(frq.frequency)\n",
    "frq['log_rank'] = numpy.log(frq.frequency.rank(ascending=False))\n",
    "seaborn.relplot(x='log_rank', y='log_frq', data=frq)\n",
    "plt.show()\n"
   ]
  },
  {
   "cell_type": "markdown",
   "id": "950a5727",
   "metadata": {},
   "source": [
    "# IMPORTANT: We will want to compare perplexities across different corpora. This only produces meaningful results if all the models use exactly the same vocabulary. To ensure that, create a vocabulary from the largest of your datasets and use it for ALL the corpora."
   ]
  },
  {
   "cell_type": "markdown",
   "id": "a1b68148",
   "metadata": {
    "heading_collapsed": true
   },
   "source": [
    "# 4. Use the lm.generate function to generate some example text from each of your models and compare."
   ]
  },
  {
   "cell_type": "code",
   "execution_count": null,
   "id": "a2e8abca",
   "metadata": {
    "hidden": true
   },
   "outputs": [],
   "source": [
    "models[1].generate(10)"
   ]
  },
  {
   "cell_type": "code",
   "execution_count": null,
   "id": "3fbeda8c",
   "metadata": {
    "hidden": true
   },
   "outputs": [],
   "source": [
    "models[1].generate(10)"
   ]
  },
  {
   "cell_type": "markdown",
   "id": "17709e78",
   "metadata": {
    "heading_collapsed": true
   },
   "source": [
    "# 5. Use lm.score and lm.logscore to calculate the scores of a couple of n-grams you find in the texts with the different models. Try 1 or 2 n-grams with all function words and 1 or 2 n-grams that contain specific content words or names."
   ]
  },
  {
   "cell_type": "code",
   "execution_count": null,
   "id": "640db87e",
   "metadata": {
    "hidden": true
   },
   "outputs": [],
   "source": [
    "gen = models[1].generate(1)\n",
    "print(gen)\n",
    "print(models[1].score(gen))\n",
    "print(models[1].logscore(gen))"
   ]
  },
  {
   "cell_type": "code",
   "execution_count": null,
   "id": "7c7e8220",
   "metadata": {
    "hidden": true
   },
   "outputs": [],
   "source": [
    "print(models[1].score(gen))\n",
    "print(models[1].logscore(gen))"
   ]
  },
  {
   "cell_type": "code",
   "execution_count": null,
   "id": "05c7c0bd",
   "metadata": {
    "hidden": true
   },
   "outputs": [],
   "source": [
    "asd = hold_out[0]\n",
    "print(asd)\n",
    "print(models[2].score(asd))"
   ]
  },
  {
   "cell_type": "code",
   "execution_count": null,
   "id": "1171b69e",
   "metadata": {
    "hidden": true
   },
   "outputs": [],
   "source": [
    "models[1].perplexity(\"Gold\")"
   ]
  },
  {
   "cell_type": "markdown",
   "id": "5100711c",
   "metadata": {
    "heading_collapsed": true
   },
   "source": [
    "# Use the lm.perplexity function to compute the perplexity of the validation sets from each dataset with each of the language models and compare. Keep in mind that LOWER perplexity is BETTER."
   ]
  },
  {
   "cell_type": "code",
   "execution_count": null,
   "id": "eb3c2c02",
   "metadata": {
    "hidden": true
   },
   "outputs": [],
   "source": [
    "hold_out_corpus = []\n",
    "for line in hold_out:\n",
    "    smth = []\n",
    "    for t in tok.tokenize(line):\n",
    "        smth.append(t)\n",
    "            \n",
    "    hold_out_corpus.append(smth)"
   ]
  },
  {
   "cell_type": "code",
   "execution_count": null,
   "id": "68099934",
   "metadata": {
    "hidden": true
   },
   "outputs": [],
   "source": [
    "list(bigrams(hold_out_corpus[0]))"
   ]
  },
  {
   "cell_type": "code",
   "execution_count": null,
   "id": "c75d07d3",
   "metadata": {
    "hidden": true
   },
   "outputs": [],
   "source": []
  },
  {
   "cell_type": "code",
   "execution_count": null,
   "id": "8296adb6",
   "metadata": {
    "hidden": true
   },
   "outputs": [],
   "source": []
  },
  {
   "cell_type": "code",
   "execution_count": null,
   "id": "2e7d0bbe",
   "metadata": {
    "hidden": true
   },
   "outputs": [],
   "source": []
  },
  {
   "cell_type": "code",
   "execution_count": null,
   "id": "8e3b0e00",
   "metadata": {
    "hidden": true
   },
   "outputs": [],
   "source": []
  },
  {
   "cell_type": "code",
   "execution_count": null,
   "id": "0aca7353",
   "metadata": {
    "hidden": true
   },
   "outputs": [],
   "source": []
  },
  {
   "cell_type": "code",
   "execution_count": null,
   "id": "5a2a719c",
   "metadata": {
    "hidden": true
   },
   "outputs": [],
   "source": []
  },
  {
   "cell_type": "markdown",
   "id": "82c342e2",
   "metadata": {
    "heading_collapsed": true
   },
   "source": [
    "# Annotations"
   ]
  },
  {
   "cell_type": "code",
   "execution_count": null,
   "id": "cd0031cf",
   "metadata": {
    "hidden": true
   },
   "outputs": [],
   "source": []
  },
  {
   "cell_type": "code",
   "execution_count": null,
   "id": "a7ebebff",
   "metadata": {
    "hidden": true
   },
   "outputs": [],
   "source": [
    "from nltk.metrics.agreement import AnnotationTask\n",
    "import pandas as pd"
   ]
  },
  {
   "cell_type": "code",
   "execution_count": null,
   "id": "7bee26a7",
   "metadata": {
    "hidden": true
   },
   "outputs": [],
   "source": [
    "ruben = pd.read_csv(\"../datasets/annotations/annotations_ruben.csv\",names=[\"Ruben\"])"
   ]
  },
  {
   "cell_type": "code",
   "execution_count": null,
   "id": "bf519fc3",
   "metadata": {
    "hidden": true
   },
   "outputs": [],
   "source": [
    "rasmus = pd.read_csv(\"../datasets/annotations/annotations_rasmus.csv\", names=[\"Rasmus\"])"
   ]
  },
  {
   "cell_type": "code",
   "execution_count": null,
   "id": "207510e5",
   "metadata": {
    "hidden": true
   },
   "outputs": [],
   "source": [
    "sabrina = pd.read_csv(\"../datasets/annotations/annotations_sabrina.csv\", names=[\"Sabrina\"])"
   ]
  },
  {
   "cell_type": "code",
   "execution_count": null,
   "id": "351e6e0e",
   "metadata": {
    "hidden": true
   },
   "outputs": [],
   "source": [
    "ida = pd.read_csv(\"../datasets/annotations/annotations_ida.csv\", names=[\"Ida\"])"
   ]
  },
  {
   "cell_type": "code",
   "execution_count": null,
   "id": "748081d5",
   "metadata": {
    "hidden": true
   },
   "outputs": [],
   "source": [
    "true = pd.read_csv(\"../datasets/annotations/iaa_labels.txt\", names=[\"True\"])"
   ]
  },
  {
   "cell_type": "code",
   "execution_count": null,
   "id": "eb4fd234",
   "metadata": {
    "hidden": true
   },
   "outputs": [],
   "source": [
    "from sklearn.metrics import confusion_matrix"
   ]
  },
  {
   "cell_type": "code",
   "execution_count": null,
   "id": "327d4bf8",
   "metadata": {
    "hidden": true
   },
   "outputs": [],
   "source": [
    "confusion_matrix(ruben, true)"
   ]
  },
  {
   "cell_type": "code",
   "execution_count": null,
   "id": "2dc9f04f",
   "metadata": {
    "hidden": true
   },
   "outputs": [],
   "source": [
    "confusion_matrix(rasmus, true)"
   ]
  },
  {
   "cell_type": "code",
   "execution_count": null,
   "id": "46a3f8ea",
   "metadata": {
    "hidden": true
   },
   "outputs": [],
   "source": [
    "confusion_matrix(sabrina, true)"
   ]
  },
  {
   "cell_type": "code",
   "execution_count": null,
   "id": "d9f63c10",
   "metadata": {
    "hidden": true
   },
   "outputs": [],
   "source": [
    "confusion_matrix(ida, true)"
   ]
  },
  {
   "cell_type": "code",
   "execution_count": null,
   "id": "0d765964",
   "metadata": {
    "hidden": true
   },
   "outputs": [],
   "source": [
    "confusion_matrix(true, true)"
   ]
  },
  {
   "cell_type": "code",
   "execution_count": null,
   "id": "fd43c680",
   "metadata": {
    "hidden": true
   },
   "outputs": [],
   "source": [
    "from sklearn.metrics import accuracy_score"
   ]
  },
  {
   "cell_type": "code",
   "execution_count": null,
   "id": "240062c4",
   "metadata": {
    "hidden": true
   },
   "outputs": [],
   "source": [
    "accuracy_score(ruben, true)"
   ]
  },
  {
   "cell_type": "code",
   "execution_count": null,
   "id": "b33c6dd4",
   "metadata": {
    "hidden": true
   },
   "outputs": [],
   "source": [
    "accuracy_score(rasmus, true)"
   ]
  },
  {
   "cell_type": "code",
   "execution_count": null,
   "id": "c8ac2596",
   "metadata": {
    "hidden": true
   },
   "outputs": [],
   "source": [
    "accuracy_score(ida, true)"
   ]
  },
  {
   "cell_type": "code",
   "execution_count": null,
   "id": "0fc85718",
   "metadata": {
    "hidden": true
   },
   "outputs": [],
   "source": [
    "accuracy_score(sabrina, true)"
   ]
  },
  {
   "cell_type": "code",
   "execution_count": null,
   "id": "49a77a0c",
   "metadata": {
    "hidden": true
   },
   "outputs": [],
   "source": [
    "accuracy_score(true, true)"
   ]
  },
  {
   "cell_type": "code",
   "execution_count": null,
   "id": "cc35e0ba",
   "metadata": {
    "hidden": true
   },
   "outputs": [],
   "source": [
    "from sklearn.metrics import cohen_kappa_score"
   ]
  },
  {
   "cell_type": "code",
   "execution_count": null,
   "id": "671fc8b8",
   "metadata": {
    "hidden": true
   },
   "outputs": [],
   "source": [
    "ls = []"
   ]
  },
  {
   "cell_type": "code",
   "execution_count": null,
   "id": "bb54cffb",
   "metadata": {
    "hidden": true
   },
   "outputs": [],
   "source": [
    "ls.append(cohen_kappa_score(rasmus, true))"
   ]
  },
  {
   "cell_type": "code",
   "execution_count": null,
   "id": "b7d68ada",
   "metadata": {
    "hidden": true
   },
   "outputs": [],
   "source": [
    "ls.append(cohen_kappa_score(ruben, true))"
   ]
  },
  {
   "cell_type": "code",
   "execution_count": null,
   "id": "ad56f69a",
   "metadata": {
    "hidden": true
   },
   "outputs": [],
   "source": [
    "ls.append(cohen_kappa_score(sabrina, true))"
   ]
  },
  {
   "cell_type": "code",
   "execution_count": null,
   "id": "09fbd671",
   "metadata": {
    "hidden": true
   },
   "outputs": [],
   "source": [
    "ls.append(cohen_kappa_score(ida, true))"
   ]
  },
  {
   "cell_type": "code",
   "execution_count": null,
   "id": "1d566f72",
   "metadata": {
    "hidden": true
   },
   "outputs": [],
   "source": [
    "import numpy as np\n",
    "np.mean(ls)"
   ]
  },
  {
   "cell_type": "code",
   "execution_count": null,
   "id": "e8e2d309",
   "metadata": {
    "hidden": true
   },
   "outputs": [],
   "source": [
    "ls.append(cohen_kappa_score(true, true))"
   ]
  },
  {
   "cell_type": "code",
   "execution_count": null,
   "id": "3b3263f4",
   "metadata": {
    "hidden": true
   },
   "outputs": [],
   "source": []
  },
  {
   "cell_type": "code",
   "execution_count": null,
   "id": "250e9d3c",
   "metadata": {
    "hidden": true
   },
   "outputs": [],
   "source": []
  },
  {
   "cell_type": "code",
   "execution_count": null,
   "id": "c9ab842f",
   "metadata": {
    "hidden": true
   },
   "outputs": [],
   "source": []
  },
  {
   "cell_type": "code",
   "execution_count": null,
   "id": "d8c57a18",
   "metadata": {
    "hidden": true
   },
   "outputs": [],
   "source": []
  },
  {
   "cell_type": "markdown",
   "id": "e5be5035",
   "metadata": {},
   "source": [
    "# Imports"
   ]
  },
  {
   "cell_type": "code",
   "execution_count": 2,
   "id": "f4cda3ec",
   "metadata": {},
   "outputs": [],
   "source": [
    "import nltk.tokenize\n",
    "import pandas as pd\n",
    "import numpy as np\n",
    "import matplotlib.pyplot as plt\n",
    "import statsmodels.api as sm\n",
    "import missingno as msno\n",
    "from sklearn.decomposition import PCA\n",
    "from sklearn.neighbors import LocalOutlierFactor\n",
    "from scipy.stats.stats import pearsonr\n",
    "from sklearn.model_selection import train_test_split, cross_val_score, cross_val_predict\n",
    "from sklearn.tree import DecisionTreeClassifier\n",
    "from sklearn.neighbors import KNeighborsClassifier\n",
    "from sklearn.svm import SVR\n",
    "from sklearn.neural_network import MLPClassifier\n",
    "from sklearn import linear_model\n",
    "from sklearn.ensemble import RandomForestClassifier\n",
    "from sklearn.ensemble import  GradientBoostingClassifier\n",
    "from sklearn.naive_bayes import GaussianNB\n",
    "from sklearn.svm import SVC\n",
    "from sklearn.discriminant_analysis import LinearDiscriminantAnalysis\n",
    "from sklearn.metrics import confusion_matrix, accuracy_score, classification_report, roc_auc_score, roc_curve, recall_score, precision_score, f1_score\n",
    "from sklearn.linear_model import SGDClassifier\n",
    "from sklearn.model_selection import GridSearchCV\n",
    "from sklearn.feature_extraction.text import CountVectorizer\n",
    "from sklearn.feature_extraction.text import TfidfTransformer\n",
    "from sklearn.pipeline import Pipeline\n",
    "from sklearn.naive_bayes import MultinomialNB\n",
    "from sklearn.ensemble import GradientBoostingClassifier\n",
    "\n",
    "import warnings\n",
    "warnings.filterwarnings('ignore')"
   ]
  },
  {
   "cell_type": "code",
   "execution_count": 3,
   "id": "84bd4c93",
   "metadata": {},
   "outputs": [],
   "source": [
    "PATHS = {}\n",
    "\n",
    "#Path to the irony datasets\n",
    "PATHS[\"irony\"] = \"../datasets/irony/{}.txt\"\n",
    "\n",
    "#Path to the stance datasets\n",
    "PATHS[\"stance\"] = \"../datasets/stance/{}.txt\"\n",
    "\n",
    "#Path to our manual annotation answers\n",
    "PATHS[\"MMA\"] = \"../datasets/annotations/annotations_{}.csv\""
   ]
  },
  {
   "cell_type": "markdown",
   "id": "b7f6fce6",
   "metadata": {},
   "source": [
    "# Binary Classification on Irony Dataset"
   ]
  },
  {
   "cell_type": "markdown",
   "id": "1c3da304",
   "metadata": {},
   "source": [
    "## Tokenizing data"
   ]
  },
  {
   "cell_type": "code",
   "execution_count": 4,
   "id": "0e4f5de2",
   "metadata": {
    "code_folding": []
   },
   "outputs": [],
   "source": [
    "def tokenizer(file_name):\n",
    "    tok = nltk.tokenize.TreebankWordTokenizer()\n",
    "    \n",
    "    with open(file_name, 'r', encoding=\"utf8\") as f:\n",
    "        data = f.read().split(\"\\n\")\n",
    "    \n",
    "    # tokenizes data, output: list of lists (sublist = sentence)\n",
    "    corpus = [[t for t in tok.tokenize(line)] for line in data ] \n",
    "    \n",
    "    # converts tokenized data to be a list of strings.\n",
    "    corpus_list = [\" \".join(sentence) for sentence in corpus]\n",
    "    \n",
    "    if corpus_list[-1] == \"\":\n",
    "        del corpus_list[-1]\n",
    "    \n",
    "    return corpus_list\n",
    "\n",
    "train_corpus = tokenizer(\"../datasets/irony/train_text.txt\")\n",
    "test_corpus = tokenizer(\"../datasets/irony/test_text.txt\")\n",
    "validation_corpus = tokenizer(\"../datasets/irony/val_text.txt\")"
   ]
  },
  {
   "cell_type": "markdown",
   "id": "c5626911",
   "metadata": {},
   "source": [
    "### Loading the train labels"
   ]
  },
  {
   "cell_type": "code",
   "execution_count": 6,
   "id": "f5762a30",
   "metadata": {},
   "outputs": [],
   "source": [
    "def y_data(location):\n",
    "    y_train = []\n",
    "    for i in open(location):\n",
    "        y_train.append(i.replace(\"\\n\",\"\"))\n",
    "    return y_train\n",
    "\n",
    "y_train = y_data(\"../datasets/irony/train_labels.txt\")\n",
    "y_test = y_data(\"../datasets/irony/test_labels.txt\")\n",
    "y_val = y_data(\"../datasets/irony/val_labels.txt\")"
   ]
  },
  {
   "cell_type": "markdown",
   "id": "b445704d",
   "metadata": {},
   "source": [
    "## Preprocessing"
   ]
  },
  {
   "cell_type": "code",
   "execution_count": 8,
   "id": "e3edc04f",
   "metadata": {},
   "outputs": [],
   "source": [
    "def PPD_pipeline():\n",
    "    asd = Pipeline([('vect', CountVectorizer()), ('tfidf', TfidfTransformer())])\n",
    "    return asd"
   ]
  },
  {
   "cell_type": "code",
   "execution_count": 9,
   "id": "ae3db747",
   "metadata": {},
   "outputs": [],
   "source": [
    "preprocessing = PPD_pipeline().fit(train_corpus, y_train)"
   ]
  },
  {
   "cell_type": "markdown",
   "id": "cd8c6146",
   "metadata": {},
   "source": [
    "## Creating pipeline"
   ]
  },
  {
   "cell_type": "code",
   "execution_count": 10,
   "id": "be441ba8",
   "metadata": {},
   "outputs": [],
   "source": [
    "def model_pipeline(model):\n",
    "    clf = Pipeline([('vect', CountVectorizer()), ('tfidf', TfidfTransformer()), ('clf', model)])\n",
    "    return clf"
   ]
  },
  {
   "cell_type": "markdown",
   "id": "11548ec5",
   "metadata": {},
   "source": [
    "## Baseline model"
   ]
  },
  {
   "cell_type": "code",
   "execution_count": 14,
   "id": "879368c0",
   "metadata": {},
   "outputs": [],
   "source": [
    "LR = model_pipeline(SGDClassifier(loss='log', random_state=42)).fit(train_corpus, y_train);"
   ]
  },
  {
   "cell_type": "code",
   "execution_count": 15,
   "id": "66b193ba",
   "metadata": {},
   "outputs": [
    {
     "data": {
      "text/plain": [
       "0.6352040816326531"
      ]
     },
     "execution_count": 15,
     "metadata": {},
     "output_type": "execute_result"
    }
   ],
   "source": [
    "predicted = LR.predict(test_corpus)\n",
    "accuracy_score(predicted, y_test)"
   ]
  },
  {
   "cell_type": "markdown",
   "id": "56fba7d6",
   "metadata": {},
   "source": [
    "## Classification models different models"
   ]
  },
  {
   "cell_type": "code",
   "execution_count": 16,
   "id": "a3523f66",
   "metadata": {},
   "outputs": [],
   "source": [
    "KNN = model_pipeline(KNeighborsClassifier()).fit(train_corpus, y_train)\n",
    "DTC = model_pipeline(DecisionTreeClassifier(random_state=42)).fit(train_corpus, y_train)\n",
    "RFC = model_pipeline(RandomForestClassifier(random_state=42)).fit(train_corpus, y_train)\n",
    "SV  = model_pipeline(SVC(random_state=42)).fit(train_corpus, y_train)\n",
    "NB  = model_pipeline(MultinomialNB()).fit(train_corpus,y_train)"
   ]
  },
  {
   "cell_type": "markdown",
   "id": "ec236c2d",
   "metadata": {},
   "source": [
    "### Comparison"
   ]
  },
  {
   "cell_type": "code",
   "execution_count": 17,
   "id": "3f609785",
   "metadata": {},
   "outputs": [],
   "source": [
    "modelsc = [LR, KNN, DTC, RFC, SV, NB]\n",
    "d = [\"LogisticRegression\",\n",
    "     \"KNearestNeighbor\",\n",
    "     \"DecisionTreeClassifier\",\n",
    "     \"RandomForestClassifier\",\n",
    "     \"SupportVectorClassifier\",\n",
    "     \"NaiveBayes\"]"
   ]
  },
  {
   "cell_type": "code",
   "execution_count": 18,
   "id": "8ed609c3",
   "metadata": {},
   "outputs": [
    {
     "name": "stdout",
     "output_type": "stream",
     "text": [
      "LogisticRegression: \n",
      "     - accuracy score:\t   0.6352040816326531\n",
      "     - roc accuracy score: 0.6222374798610497\n",
      "     - recall score: \t   0.5594855305466238\n",
      "     - precision score:\t   0.5386996904024768\n",
      "     - f1 score:\t   0.5488958990536278\n",
      "\n",
      "KNearestNeighbor: \n",
      "     - accuracy score:\t   0.6147959183673469\n",
      "     - roc accuracy score: 0.6080773335689958\n",
      "     - recall score: \t   0.5755627009646302\n",
      "     - precision score:\t   0.5128939828080229\n",
      "     - f1 score:\t   0.5424242424242425\n",
      "\n",
      "DecisionTreeClassifier: \n",
      "     - accuracy score:\t   0.5471938775510204\n",
      "     - roc accuracy score: 0.5382860988559036\n",
      "     - recall score: \t   0.49517684887459806\n",
      "     - precision score:\t   0.4375\n",
      "     - f1 score:\t   0.4645550527903469\n",
      "\n",
      "RandomForestClassifier: \n",
      "     - accuracy score:\t   0.625\n",
      "     - roc accuracy score: 0.6121289164734913\n",
      "     - recall score: \t   0.5498392282958199\n",
      "     - precision score:\t   0.5261538461538462\n",
      "     - f1 score:\t   0.5377358490566038\n",
      "\n",
      "SupportVectorClassifier: \n",
      "     - accuracy score:\t   0.6415816326530612\n",
      "     - roc accuracy score: 0.6308266996594223\n",
      "     - recall score: \t   0.5787781350482315\n",
      "     - precision score:\t   0.5454545454545454\n",
      "     - f1 score:\t   0.5616224648985959\n",
      "\n",
      "NaiveBayes: \n",
      "     - accuracy score:\t   0.6505102040816326\n",
      "     - roc accuracy score: 0.6652073717055397\n",
      "     - recall score: \t   0.7363344051446945\n",
      "     - precision score:\t   0.5439429928741093\n",
      "     - f1 score:\t   0.6256830601092896\n",
      "\n"
     ]
    }
   ],
   "source": [
    "for idx, model in enumerate(modelsc):\n",
    "    name = d[idx]\n",
    "    predict = model.predict(test_corpus)\n",
    "    print(str(name) + \": \")\n",
    "    print(\"     - accuracy score:\\t   {}\".format( accuracy_score(y_test,predict)))\n",
    "    print(\"     - roc accuracy score: {}\".format(roc_auc_score(y_test, predict)))\n",
    "    print(\"     - recall score: \\t   {}\".format(recall_score(y_test, predict,  pos_label=\"1\")))\n",
    "    print(\"     - precision score:\\t   {}\".format(precision_score(y_test, predict,  pos_label=\"1\")))\n",
    "    print(\"     - f1 score:\\t   {}\".format(f1_score(y_test, predict,  pos_label=\"1\")))\n",
    "    print()"
   ]
  },
  {
   "cell_type": "code",
   "execution_count": 19,
   "id": "c6105c6b",
   "metadata": {},
   "outputs": [
    {
     "data": {
      "image/png": "[encoded data removed]",
      "text/plain": [
       "<Figure size 1440x576 with 1 Axes>"
      ]
     },
     "metadata": {
      "needs_background": "light"
     },
     "output_type": "display_data"
    }
   ],
   "source": [
    "import seaborn as sns\n",
    "\n",
    "r = pd.DataFrame(columns=[\"MODELS\",\"R2CV\"])\n",
    "for i, model in enumerate(modelsc):\n",
    "    name = d[i]\n",
    "    R2CV = cross_val_score(model,validation_corpus,y_val,cv=10).mean()\n",
    "    result = pd.DataFrame([[name,R2CV*100]],columns=[\"MODELS\",\"R2CV\"])\n",
    "    r = r.append(result)\n",
    "\n",
    "figure = plt.figure(figsize=(20,8))\n",
    "sns.barplot(x=\"R2CV\",y=\"MODELS\",data=r,color=\"k\")\n",
    "plt.xlabel(\"Cross Val Score\")\n",
    "plt.ylabel(\"MODELS\")\n",
    "plt.xlim(0,100)\n",
    "plt.title(\"MODEL ACCURACY COMPARISON\")\n",
    "plt.show()"
   ]
  },
  {
   "cell_type": "markdown",
   "id": "087a2c80",
   "metadata": {},
   "source": [
    "## Tuning the best models"
   ]
  },
  {
   "cell_type": "code",
   "execution_count": 20,
   "id": "a20cb6d1",
   "metadata": {},
   "outputs": [],
   "source": [
    "scores = {}"
   ]
  },
  {
   "cell_type": "markdown",
   "id": "0d70b699",
   "metadata": {},
   "source": [
    "### Random Forest Classifier"
   ]
  },
  {
   "cell_type": "code",
   "execution_count": 21,
   "id": "ed0d2a41",
   "metadata": {},
   "outputs": [],
   "source": [
    "RFC_noob = model_pipeline(RandomForestClassifier(random_state=42))"
   ]
  },
  {
   "cell_type": "code",
   "execution_count": 197,
   "id": "e9208789",
   "metadata": {},
   "outputs": [],
   "source": [
    "parameters = {\"clf__n_estimators\": [100, 500, 1000, 2000],\n",
    "             \"clf__max_depth\": [3, 6, 12, 24, 48],\n",
    "             \"clf__criterion\": [\"gini\", \"entropy\"],\n",
    "             \"vect__tokenizer\":[None, lambda x:x]}"
   ]
  },
  {
   "cell_type": "code",
   "execution_count": 198,
   "id": "d0ad9385",
   "metadata": {},
   "outputs": [],
   "source": [
    "gs_clf = GridSearchCV(RFC_noob, parameters, cv=2, n_jobs=-1).fit(train_corpus, y_train)"
   ]
  },
  {
   "cell_type": "code",
   "execution_count": 199,
   "id": "dfc7a7f0",
   "metadata": {},
   "outputs": [],
   "source": [
    "scores[\"RFC\"] = gs_clf.best_score_"
   ]
  },
  {
   "cell_type": "code",
   "execution_count": 200,
   "id": "6d624367",
   "metadata": {},
   "outputs": [
    {
     "name": "stdout",
     "output_type": "stream",
     "text": [
      "clf__criterion: 'gini'\n",
      "clf__max_depth: 48\n",
      "clf__n_estimators: 500\n",
      "vect__tokenizer: <function <lambda> at 0x000001AF5B5CB670>\n"
     ]
    }
   ],
   "source": [
    "for param_name in sorted(parameters.keys()):\n",
    "    print(\"%s: %r\" % (param_name, gs_clf.best_params_[param_name]))"
   ]
  },
  {
   "cell_type": "code",
   "execution_count": 201,
   "id": "57f941fa",
   "metadata": {},
   "outputs": [],
   "source": [
    "RFC_tuned = model_pipeline(RandomForestClassifier(random_state=42, criterion = 'entropy', max_depth= 24, min_samples_split = 2, n_estimators= 500)).fit(train_corpus, y_train)"
   ]
  },
  {
   "cell_type": "markdown",
   "id": "f36807bb",
   "metadata": {},
   "source": [
    "### Support vector"
   ]
  },
  {
   "cell_type": "code",
   "execution_count": 202,
   "id": "5f205084",
   "metadata": {},
   "outputs": [],
   "source": [
    "SV_noob = model_pipeline(SVC(random_state=42))"
   ]
  },
  {
   "cell_type": "code",
   "execution_count": 203,
   "id": "c43f43fb",
   "metadata": {},
   "outputs": [],
   "source": [
    "parameters = {\"clf__C\": [1,3,9,27],\n",
    "             \"clf__kernel\": [\"linear\", \"poly\", \"rbf\", \"sigmoid\", \"precomputed\"],\n",
    "             \"clf__degree\": [1,3,9,27],\n",
    "             \"vect__tokenizer\":[None, lambda x:x]}"
   ]
  },
  {
   "cell_type": "code",
   "execution_count": 204,
   "id": "51af6a38",
   "metadata": {},
   "outputs": [],
   "source": [
    "gs_clf = GridSearchCV(SV_noob, parameters, cv=2, n_jobs=-1).fit(train_corpus, y_train)"
   ]
  },
  {
   "cell_type": "code",
   "execution_count": 205,
   "id": "1f19998e",
   "metadata": {},
   "outputs": [],
   "source": [
    "scores[\"SV\"] = gs_clf.best_score_"
   ]
  },
  {
   "cell_type": "code",
   "execution_count": 206,
   "id": "0c02500d",
   "metadata": {},
   "outputs": [
    {
     "name": "stdout",
     "output_type": "stream",
     "text": [
      "clf__C: 1\n",
      "clf__degree: 3\n",
      "clf__kernel: 'poly'\n",
      "vect__tokenizer: <function <lambda> at 0x000001AF5B155670>\n"
     ]
    }
   ],
   "source": [
    "for param_name in sorted(parameters.keys()):\n",
    "    print(\"%s: %r\" % (param_name, gs_clf.best_params_[param_name]))"
   ]
  },
  {
   "cell_type": "code",
   "execution_count": 207,
   "id": "f30ca1ac",
   "metadata": {},
   "outputs": [],
   "source": [
    "SV_tuned = model_pipeline(SVC(random_state=42, C=1, degree=3, kernel=\"poly\"))"
   ]
  },
  {
   "cell_type": "markdown",
   "id": "2fffa4c3",
   "metadata": {},
   "source": [
    "### Logistic Regression"
   ]
  },
  {
   "cell_type": "code",
   "execution_count": 208,
   "id": "0f211a56",
   "metadata": {},
   "outputs": [],
   "source": [
    "LR_noob = model_pipeline(SGDClassifier(loss='log', random_state=42))"
   ]
  },
  {
   "cell_type": "code",
   "execution_count": 209,
   "id": "97ecc316",
   "metadata": {},
   "outputs": [],
   "source": [
    "parameters = {\"clf__alpha\": [0.0001, 0.0003, 0.001, 0.003, 0.01, 0.03],\n",
    "             \"clf__penalty\": [\"l2\", \"l1\", \"elasticnet\"],\n",
    "             \"vect__tokenizer\":[None, lambda x:x]}"
   ]
  },
  {
   "cell_type": "code",
   "execution_count": 210,
   "id": "2844e8b0",
   "metadata": {},
   "outputs": [],
   "source": [
    "gs_clf = GridSearchCV(LR_noob, parameters, cv=2, n_jobs=-1).fit(train_corpus, y_train)"
   ]
  },
  {
   "cell_type": "code",
   "execution_count": 211,
   "id": "b66ea068",
   "metadata": {},
   "outputs": [],
   "source": [
    "scores[\"LR\"] = gs_clf.best_score_"
   ]
  },
  {
   "cell_type": "code",
   "execution_count": 212,
   "id": "747307cf",
   "metadata": {},
   "outputs": [
    {
     "name": "stdout",
     "output_type": "stream",
     "text": [
      "clf__alpha: 0.0001\n",
      "clf__penalty: 'l1'\n",
      "vect__tokenizer: <function <lambda> at 0x000001AF5B1558B0>\n"
     ]
    }
   ],
   "source": [
    "for param_name in sorted(parameters.keys()):\n",
    "    print(\"%s: %r\" % (param_name, gs_clf.best_params_[param_name]))"
   ]
  },
  {
   "cell_type": "code",
   "execution_count": 213,
   "id": "8af05970",
   "metadata": {},
   "outputs": [],
   "source": [
    "SV_tuned = model_pipeline(SGDClassifier(loss='log', alpha=0.0001, penalty = \"l1\", random_state=42))"
   ]
  },
  {
   "cell_type": "markdown",
   "id": "066157db",
   "metadata": {},
   "source": [
    "## Final model"
   ]
  },
  {
   "cell_type": "code",
   "execution_count": 218,
   "id": "fae409fe",
   "metadata": {},
   "outputs": [
    {
     "data": {
      "image/png": "[encoded data removed]",
      "text/plain": [
       "<Figure size 432x288 with 1 Axes>"
      ]
     },
     "metadata": {
      "needs_background": "light"
     },
     "output_type": "display_data"
    }
   ],
   "source": [
    "fig, ax = plt.subplots()\n",
    "ax.bar(scores.keys(), scores.values())\n",
    "plt.ylim([0.6, 0.65]);"
   ]
  },
  {
   "cell_type": "markdown",
   "id": "3ffd9e4d",
   "metadata": {},
   "source": [
    "We see that the models that we have tuned to have the highest accuracy score are all equally bad at classifying whether a given sentence is ironic.\n",
    "\n",
    "It is logical that our model is really bad at classifying text-based irony, since the group members are also very poor at classifying irony, and thus we can not expect the model to outperform us massivel, since it lacks world knowledge and general experience and the emotional aspect of understanding the users intentions. Thus perhabs combining an intention model and an irony model could increase the performance of the irony model.  "
   ]
  },
  {
   "cell_type": "markdown",
   "id": "58b08e97",
   "metadata": {},
   "source": [
    "# Multiclass classification"
   ]
  },
  {
   "cell_type": "code",
   "execution_count": 221,
   "id": "d999394f",
   "metadata": {},
   "outputs": [
    {
     "data": {
      "text/html": [
       "<div>\n",
       "<style scoped>\n",
       "    .dataframe tbody tr th:only-of-type {\n",
       "        vertical-align: middle;\n",
       "    }\n",
       "\n",
       "    .dataframe tbody tr th {\n",
       "        vertical-align: top;\n",
       "    }\n",
       "\n",
       "    .dataframe thead th {\n",
       "        text-align: right;\n",
       "    }\n",
       "</style>\n",
       "<table border=\"1\" class=\"dataframe\">\n",
       "  <thead>\n",
       "    <tr style=\"text-align: right;\">\n",
       "      <th></th>\n",
       "      <th>0</th>\n",
       "      <th>1</th>\n",
       "    </tr>\n",
       "  </thead>\n",
       "  <tbody>\n",
       "    <tr>\n",
       "      <th>0</th>\n",
       "      <td>0</td>\n",
       "      <td>none</td>\n",
       "    </tr>\n",
       "    <tr>\n",
       "      <th>1</th>\n",
       "      <td>1</td>\n",
       "      <td>against</td>\n",
       "    </tr>\n",
       "    <tr>\n",
       "      <th>2</th>\n",
       "      <td>2</td>\n",
       "      <td>favor</td>\n",
       "    </tr>\n",
       "  </tbody>\n",
       "</table>\n",
       "</div>"
      ],
      "text/plain": [
       "   0        1\n",
       "0  0     none\n",
       "1  1  against\n",
       "2  2    favor"
      ]
     },
     "execution_count": 221,
     "metadata": {},
     "output_type": "execute_result"
    }
   ],
   "source": [
    "labels_stance = pd.read_csv(PATHS[\"stance\"].format(\"mapping\"), delimiter = \"\\t\", header = None)"
   ]
  },
  {
   "cell_type": "code",
   "execution_count": 222,
   "id": "90ad71e6",
   "metadata": {},
   "outputs": [],
   "source": [
    "train_abortion = pd.read_csv(PATHS[\"stance\"].format(\"/abortion/train_text\"), delimiter = \"\\n\", header = None, names = [\"tweets\"])\n",
    "train_abortion_labels = pd.read_csv(PATHS[\"stance\"].format(\"/abortion/train_labels\"), delimiter = \"\\n\", header = None)\n",
    "test_abortion = pd.read_csv(PATHS[\"stance\"].format(\"/abortion/test_text\"), delimiter = \"\\n\", header = None, names = [\"tweets\"])\n",
    "train_abortion_labels = pd.read_csv(PATHS[\"stance\"].format(\"/abortion/train_labels\"), delimiter = \"\\n\", header = None)\n",
    "validation_abortion = pd.read_csv(PATHS[\"stance\"].format(\"/abortion/val_text\"), delimiter = \"\\n\", header = None, names = [\"tweets\"])\n",
    "train_abortion_labels = pd.read_csv(PATHS[\"stance\"].format(\"/abortion/train_labels\"), delimiter = \"\\n\", header = None)"
   ]
  },
  {
   "cell_type": "code",
   "execution_count": 227,
   "id": "0cedec0b",
   "metadata": {},
   "outputs": [],
   "source": [
    "abortion_train_corpus = tokenizer(PATHS[\"stance\"].format(\"/abortion/train_text\"))\n",
    "climate_train_corpus = tokenizer(PATHS[\"stance\"].format(\"/climate/train_text\"))\n",
    "feminist_train_corpus = tokenizer(PATHS[\"stance\"].format(\"/feminist/train_text\"))\n",
    "hillary_train_corpus = tokenizer(PATHS[\"stance\"].format(\"/hillary/train_text\"))\n",
    "\n",
    "abortion_val_corpus = tokenizer(PATHS[\"stance\"].format(\"/abortion/val_text\"))\n",
    "climate_val_corpus = tokenizer(PATHS[\"stance\"].format(\"/climate/val_text\"))\n",
    "feminist_val_corpus = tokenizer(PATHS[\"stance\"].format(\"/feminist/val_text\"))\n",
    "hillary_val_corpus = tokenizer(PATHS[\"stance\"].format(\"/hillary/val_text\"))\n",
    "\n",
    "abortion_test_corpus = tokenizer(PATHS[\"stance\"].format(\"/abortion/test_text\"))\n",
    "climate_test_corpus = tokenizer(PATHS[\"stance\"].format(\"/climate/test_text\"))\n",
    "feminist_test_corpus = tokenizer(PATHS[\"stance\"].format(\"/feminist/test_text\"))\n",
    "hillary_test_corpus = tokenizer(PATHS[\"stance\"].format(\"/hillary/test_text\"))"
   ]
  },
  {
   "cell_type": "code",
   "execution_count": 229,
   "id": "0bd7f5d8",
   "metadata": {},
   "outputs": [],
   "source": [
    "y_abortion_test = y_data(PATHS[\"stance\"].format(\"/abortion/train_labels\"))\n",
    "y_climate_test = y_data(PATHS[\"stance\"].format(\"/climate/train_labels\"))\n",
    "y_feminist_test = y_data(PATHS[\"stance\"].format(\"/feminist/train_labels\"))\n",
    "y_hillary_test = y_data(PATHS[\"stance\"].format(\"/hillary/train_labels\"))\n",
    "\n",
    "y_abortion_test = y_data(PATHS[\"stance\"].format(\"/abortion/test_labels\"))\n",
    "y_climate_test = y_data(PATHS[\"stance\"].format(\"/climate/test_labels\"))\n",
    "y_feminist_test = y_data(PATHS[\"stance\"].format(\"/feminist/test_labels\"))\n",
    "y_hillary_test = y_data(PATHS[\"stance\"].format(\"/hillary/test_labels\"))\n",
    "\n",
    "y_abortion_test = y_data(PATHS[\"stance\"].format(\"/abortion/test_labels\"))\n",
    "y_climate_test = y_data(PATHS[\"stance\"].format(\"/climate/test_labels\"))\n",
    "y_feminist_test = y_data(PATHS[\"stance\"].format(\"/feminist/test_labels\"))\n",
    "y_hillary_test = y_data(PATHS[\"stance\"].format(\"/hillary/test_labels\"))\n",
    "\n",
    "y_abortion_test = y_data(PATHS[\"stance\"].format(\"/abortion/val_labels\"))\n",
    "y_climate_test = y_data(PATHS[\"stance\"].format(\"/climate/val_labels\"))\n",
    "y_feminist_test = y_data(PATHS[\"stance\"].format(\"/feminist/val_labels\"))\n",
    "y_hillary_test = y_data(PATHS[\"stance\"].format(\"/hillary/val_labels\"))"
   ]
  },
  {
   "cell_type": "markdown",
   "id": "184c3ba1",
   "metadata": {},
   "source": [
    "## Merging stance datasets into one dataset"
   ]
  },
  {
   "cell_type": "code",
   "execution_count": 234,
   "id": "3ef043b3",
   "metadata": {},
   "outputs": [],
   "source": [
    "train_corpus = abortion_train_corpus\n",
    "train_corpus.append(climate_train_corpus)\n",
    "train_corpus.append(feminist_train_corpus)\n",
    "train_corpus.append(hillary_train_corpus)"
   ]
  },
  {
   "cell_type": "code",
   "execution_count": 236,
   "id": "d0e47254",
   "metadata": {},
   "outputs": [],
   "source": [
    "test_corpus = abortion_test_corpus\n",
    "test_corpus.append(climate_test_corpus)\n",
    "test_corpus.append(feminist_test_corpus)\n",
    "test_corpus.append(hillary_test_corpus)"
   ]
  },
  {
   "cell_type": "code",
   "execution_count": 237,
   "id": "2ad6b6fa",
   "metadata": {},
   "outputs": [],
   "source": [
    "val_corpus = abortion_val_corpus\n",
    "val_corpus.append(climate_val_corpus)\n",
    "val_corpus.append(feminist_val_corpus)\n",
    "val_corpus.append(hillary_val_corpus)"
   ]
  },
  {
   "cell_type": "code",
   "execution_count": 238,
   "id": "5e8eb1f7",
   "metadata": {},
   "outputs": [
    {
     "data": {
      "text/plain": [
       "['0',\n",
       " '1',\n",
       " '1',\n",
       " '0',\n",
       " '1',\n",
       " '2',\n",
       " '1',\n",
       " '0',\n",
       " '1',\n",
       " '2',\n",
       " '1',\n",
       " '2',\n",
       " '1',\n",
       " '0',\n",
       " '2',\n",
       " '0',\n",
       " '2',\n",
       " '2',\n",
       " '1',\n",
       " '0',\n",
       " '2',\n",
       " '1',\n",
       " '1',\n",
       " '1',\n",
       " '1',\n",
       " '1',\n",
       " '1',\n",
       " '1',\n",
       " '0',\n",
       " '1',\n",
       " '1',\n",
       " '0',\n",
       " '0',\n",
       " '0',\n",
       " '1',\n",
       " '0',\n",
       " '2',\n",
       " '2',\n",
       " '1',\n",
       " '1',\n",
       " '0',\n",
       " '0',\n",
       " '1',\n",
       " '1',\n",
       " '1',\n",
       " '1',\n",
       " '0',\n",
       " '1',\n",
       " '1',\n",
       " '1',\n",
       " '1',\n",
       " '2',\n",
       " '1',\n",
       " '1',\n",
       " '0',\n",
       " '1',\n",
       " '0',\n",
       " '0',\n",
       " '1',\n",
       " '1',\n",
       " '1',\n",
       " '1',\n",
       " '2',\n",
       " '1',\n",
       " '2',\n",
       " '0']"
      ]
     },
     "execution_count": 238,
     "metadata": {},
     "output_type": "execute_result"
    }
   ],
   "source": [
    "y_abortion_test"
   ]
  },
  {
   "cell_type": "code",
   "execution_count": null,
   "id": "7e202361",
   "metadata": {},
   "outputs": [],
   "source": []
  },
  {
   "cell_type": "code",
   "execution_count": null,
   "id": "7ad8b49c",
   "metadata": {},
   "outputs": [],
   "source": []
  },
  {
   "cell_type": "markdown",
   "id": "57eff1ce",
   "metadata": {},
   "source": [
    "## Creating models"
   ]
  },
  {
   "cell_type": "code",
   "execution_count": null,
   "id": "a8953261",
   "metadata": {},
   "outputs": [],
   "source": []
  }
 ],
 "metadata": {
  "kernelspec": {
   "display_name": "Python 3",
   "language": "python",
   "name": "python3"
  },
  "language_info": {
   "codemirror_mode": {
    "name": "ipython",
    "version": 3
   },
   "file_extension": ".py",
   "mimetype": "text/x-python",
   "name": "python",
   "nbconvert_exporter": "python",
   "pygments_lexer": "ipython3",
   "version": "3.8.8"
  },
  "latex_envs": {
   "LaTeX_envs_menu_present": true,
   "autoclose": false,
   "autocomplete": true,
   "bibliofile": "biblio.bib",
   "cite_by": "apalike",
   "current_citInitial": 1,
   "eqLabelWithNumbers": true,
   "eqNumInitial": 1,
   "hotkeys": {
    "equation": "Ctrl-E",
    "itemize": "Ctrl-I"
   },
   "labels_anchors": false,
   "latex_user_defs": false,
   "report_style_numbering": false,
   "user_envs_cfg": false
  },
  "toc": {
   "base_numbering": 1,
   "nav_menu": {},
   "number_sections": true,
   "sideBar": true,
   "skip_h1_title": false,
   "title_cell": "Table of Contents",
   "title_sidebar": "Contents",
   "toc_cell": false,
   "toc_position": {},
   "toc_section_display": true,
   "toc_window_display": false
  }
 },
 "nbformat": 4,
 "nbformat_minor": 5
}
